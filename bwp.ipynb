{
 "cells": [
  {
   "cell_type": "markdown",
   "metadata": {},
   "source": [
    "#### Physics 112: Section 1: Professor Holzapfel \n",
    "#### HW3, Computational problem 1 \n",
    "#### Biased Random Walk\n",
    "Copyright 2021 by the Regents of the University of California. All rights reserved.\n"
   ]
  },
  {
   "cell_type": "markdown",
   "metadata": {},
   "source": [
    "To gain some deeper understanding of the random walk in one dimendsion, particularly when the probability of steps in different directions is not equal, it is illuminating to simulate it."
   ]
  },
  {
   "cell_type": "markdown",
   "metadata": {},
   "source": [
    "Start by importing the necessary python numerical and statistics libraries:"
   ]
  },
  {
   "cell_type": "code",
   "execution_count": 2,
   "metadata": {},
   "outputs": [],
   "source": [
    "import numpy as np\n",
    "import scipy.stats as st\n",
    "import matplotlib.pyplot as plt\n"
   ]
  },
  {
   "cell_type": "markdown",
   "metadata": {},
   "source": [
    "We start by generating sequences of N steps, +1 or -1, for our random walker to take. Because we are trying to sample a probability distribution with discrete support {-1, 1}, one convenient implementation is to use the numpy random.choice() function. \n",
    "\n",
    "#### a) Use this function in the cell below to produce a list of  $N=10000$ steps of +1 or -1 with equal probability. This list details a specific trajectory of a random walker where the probability of steps to the left and right are equal. You do not need to print the sequence, however, you should determine the sum and mean. The sum of this sequence is the final displacement at the conclusion of the random walk of $N$ steps. Input your answer in the cell below."
   ]
  },
  {
   "cell_type": "code",
   "execution_count": 3,
   "metadata": {},
   "outputs": [
    {
     "output_type": "stream",
     "name": "stdout",
     "text": [
      "-18 -0.0018\n"
     ]
    }
   ],
   "source": [
    "#a) Solution\n",
    "\n",
    "random = np.random.default_rng().choice\n",
    "N = 10000   # length of list\n",
    "L = []      # list to be generated \n",
    "choices = [-1,1]\n",
    "for i in range(N):\n",
    "    L.append(random(choices))\n",
    "\n",
    "print(sum(L), sum(L)/N)\n",
    "\n",
    "\n"
   ]
  },
  {
   "source": [
    "You will notice in the documentation for numpy.random.choice() that you have the ability to alter the probability of stepping +1 to be different from p=0.5. Changing this value from 0.5 is identical to the problem of the biased coin toss that you solved in HW1. Set the probability of step of $-1$ to $(1-p)$ and set of $+1$ to $p$.\n",
    "#### b) Produce another sequence of 10000 steps with $p=0.25$ and determine the sum and mean of the sequence.\n"
   ],
   "cell_type": "markdown",
   "metadata": {}
  },
  {
   "cell_type": "code",
   "execution_count": 4,
   "metadata": {},
   "outputs": [
    {
     "output_type": "stream",
     "name": "stdout",
     "text": [
      "-5014 -0.5014\n"
     ]
    }
   ],
   "source": [
    "#b) Solution\n",
    "p = .25\n",
    "probabilities =  [1-p, p]    # probabiliy for each item(-1,1)\n",
    "\n",
    "L_b = []\n",
    "\n",
    "for i in range(N):\n",
    "    L_b.append(random(choices, p = probabilities))\n",
    "\n",
    "print(sum(L_b), sum(L_b)/N)\n"
   ]
  },
  {
   "cell_type": "markdown",
   "metadata": {},
   "source": [
    "We are interested in the distribution of final displacements after different sequences of steps. To determine the distribution of net displacements after N steps, we repeatedly generate trajectories to find the frequency with which our random walker ends up at various displacements from the origin. \n",
    "\n",
    "#### c) Write a function Trajectories(M, N, p)  to repeat the generation of $M$ trajectories each with $N$ steps, where each step has a probability p of $+1$ and $(1-p)$ of $-1$. This function should output an array of M integers representing where the random walker ends up for each trial."
   ]
  },
  {
   "cell_type": "code",
   "execution_count": 5,
   "metadata": {},
   "outputs": [
    {
     "output_type": "stream",
     "name": "stdout",
     "text": [
      "10\n"
     ]
    }
   ],
   "source": [
    "#c) Solution\n",
    "\n",
    "\n",
    "\n",
    "def Trajectories(M, N, p):\n",
    "    # generate a total of M trajectories, with each having N steps, each step having probability [1-p,p]\n",
    "    # output: array of M integers with each representing the final location after N steps\n",
    "    ans = []\n",
    "    for i in range(M):\n",
    "        ans.append(\n",
    "            sum(random([-1,1], N, p=[1-p,p]))\n",
    "        )\n",
    "    return ans\n",
    "\n",
    "    \n",
    "\n",
    "\n",
    "print(len(Trajectories(10, 10000, 0.25)))\n",
    "\n",
    "\n",
    "\n",
    "\n",
    "\n",
    "# def gen(N, p):\n",
    "#         # generate an individual trajectory with the specified choices and probabilities for each choice\n",
    "#         L = []\n",
    "#         for i in range(N):\n",
    "#             L.append(random(choices, p = [1-p, p]))\n",
    "#         return L\n",
    "\n",
    "#     for i in range(M):\n",
    "#         arr.append(sum(gen(N,p)))\n",
    "#     return arr\n",
    "\n"
   ]
  },
  {
   "cell_type": "markdown",
   "metadata": {},
   "source": [
    "#### d) Generate $M=1000$ sequences of  $N=10000$ steps with $p=0.5$. Create a histogram of the final results. Use $\\sim 50$ bins for the histogram and scale the x axis to include the full range of results for the final trajectories. This histogram represents the relative probability of ending up at a given displacement after N steps."
   ]
  },
  {
   "cell_type": "code",
   "execution_count": 6,
   "metadata": {},
   "outputs": [
    {
     "output_type": "display_data",
     "data": {
      "text/plain": "<Figure size 432x288 with 1 Axes>",
      "image/svg+xml": "<?xml version=\"1.0\" encoding=\"utf-8\" standalone=\"no\"?>\n<!DOCTYPE svg PUBLIC \"-//W3C//DTD SVG 1.1//EN\"\n  \"http://www.w3.org/Graphics/SVG/1.1/DTD/svg11.dtd\">\n<!-- Created with matplotlib (https://matplotlib.org/) -->\n<svg height=\"248.518125pt\" version=\"1.1\" viewBox=\"0 0 372.696336 248.518125\" width=\"372.696336pt\" xmlns=\"http://www.w3.org/2000/svg\" xmlns:xlink=\"http://www.w3.org/1999/xlink\">\n <metadata>\n  <rdf:RDF xmlns:cc=\"http://creativecommons.org/ns#\" xmlns:dc=\"http://purl.org/dc/elements/1.1/\" xmlns:rdf=\"http://www.w3.org/1999/02/22-rdf-syntax-ns#\">\n   <cc:Work>\n    <dc:type rdf:resource=\"http://purl.org/dc/dcmitype/StillImage\"/>\n    <dc:date>2021-02-14T16:36:40.269162</dc:date>\n    <dc:format>image/svg+xml</dc:format>\n    <dc:creator>\n     <cc:Agent>\n      <dc:title>Matplotlib v3.3.2, https://matplotlib.org/</dc:title>\n     </cc:Agent>\n    </dc:creator>\n   </cc:Work>\n  </rdf:RDF>\n </metadata>\n <defs>\n  <style type=\"text/css\">*{stroke-linecap:butt;stroke-linejoin:round;}</style>\n </defs>\n <g id=\"figure_1\">\n  <g id=\"patch_1\">\n   <path d=\"M -0 248.518125 \nL 372.696336 248.518125 \nL 372.696336 0 \nL -0 0 \nz\n\" style=\"fill:none;\"/>\n  </g>\n  <g id=\"axes_1\">\n   <g id=\"patch_2\">\n    <path d=\"M 26.925 224.64 \nL 361.725 224.64 \nL 361.725 7.2 \nL 26.925 7.2 \nz\n\" style=\"fill:#ffffff;\"/>\n   </g>\n   <g id=\"patch_3\">\n    <path clip-path=\"url(#p8f7853322c)\" d=\"M 42.143182 224.64 \nL 48.230455 224.64 \nL 48.230455 213.546122 \nL 42.143182 213.546122 \nz\n\" style=\"fill:#1f77b4;\"/>\n   </g>\n   <g id=\"patch_4\">\n    <path clip-path=\"url(#p8f7853322c)\" d=\"M 48.230455 224.64 \nL 54.317727 224.64 \nL 54.317727 224.64 \nL 48.230455 224.64 \nz\n\" style=\"fill:#1f77b4;\"/>\n   </g>\n   <g id=\"patch_5\">\n    <path clip-path=\"url(#p8f7853322c)\" d=\"M 54.317727 224.64 \nL 60.405 224.64 \nL 60.405 213.546122 \nL 54.317727 213.546122 \nz\n\" style=\"fill:#1f77b4;\"/>\n   </g>\n   <g id=\"patch_6\">\n    <path clip-path=\"url(#p8f7853322c)\" d=\"M 60.405 224.64 \nL 66.492273 224.64 \nL 66.492273 217.244082 \nL 60.405 217.244082 \nz\n\" style=\"fill:#1f77b4;\"/>\n   </g>\n   <g id=\"patch_7\">\n    <path clip-path=\"url(#p8f7853322c)\" d=\"M 66.492273 224.64 \nL 72.579545 224.64 \nL 72.579545 217.244082 \nL 66.492273 217.244082 \nz\n\" style=\"fill:#1f77b4;\"/>\n   </g>\n   <g id=\"patch_8\">\n    <path clip-path=\"url(#p8f7853322c)\" d=\"M 72.579545 224.64 \nL 78.666818 224.64 \nL 78.666818 213.546122 \nL 72.579545 213.546122 \nz\n\" style=\"fill:#1f77b4;\"/>\n   </g>\n   <g id=\"patch_9\">\n    <path clip-path=\"url(#p8f7853322c)\" d=\"M 78.666818 224.64 \nL 84.754091 224.64 \nL 84.754091 217.244082 \nL 78.666818 217.244082 \nz\n\" style=\"fill:#1f77b4;\"/>\n   </g>\n   <g id=\"patch_10\">\n    <path clip-path=\"url(#p8f7853322c)\" d=\"M 84.754091 224.64 \nL 90.841364 224.64 \nL 90.841364 209.848163 \nL 84.754091 209.848163 \nz\n\" style=\"fill:#1f77b4;\"/>\n   </g>\n   <g id=\"patch_11\">\n    <path clip-path=\"url(#p8f7853322c)\" d=\"M 90.841364 224.64 \nL 96.928636 224.64 \nL 96.928636 195.056327 \nL 90.841364 195.056327 \nz\n\" style=\"fill:#1f77b4;\"/>\n   </g>\n   <g id=\"patch_12\">\n    <path clip-path=\"url(#p8f7853322c)\" d=\"M 96.928636 224.64 \nL 103.015909 224.64 \nL 103.015909 187.660408 \nL 96.928636 187.660408 \nz\n\" style=\"fill:#1f77b4;\"/>\n   </g>\n   <g id=\"patch_13\">\n    <path clip-path=\"url(#p8f7853322c)\" d=\"M 103.015909 224.64 \nL 109.103182 224.64 \nL 109.103182 172.868571 \nL 103.015909 172.868571 \nz\n\" style=\"fill:#1f77b4;\"/>\n   </g>\n   <g id=\"patch_14\">\n    <path clip-path=\"url(#p8f7853322c)\" d=\"M 109.103182 224.64 \nL 115.190455 224.64 \nL 115.190455 183.962449 \nL 109.103182 183.962449 \nz\n\" style=\"fill:#1f77b4;\"/>\n   </g>\n   <g id=\"patch_15\">\n    <path clip-path=\"url(#p8f7853322c)\" d=\"M 115.190455 224.64 \nL 121.277727 224.64 \nL 121.277727 176.566531 \nL 115.190455 176.566531 \nz\n\" style=\"fill:#1f77b4;\"/>\n   </g>\n   <g id=\"patch_16\">\n    <path clip-path=\"url(#p8f7853322c)\" d=\"M 121.277727 224.64 \nL 127.365 224.64 \nL 127.365 176.566531 \nL 121.277727 176.566531 \nz\n\" style=\"fill:#1f77b4;\"/>\n   </g>\n   <g id=\"patch_17\">\n    <path clip-path=\"url(#p8f7853322c)\" d=\"M 127.365 224.64 \nL 133.452273 224.64 \nL 133.452273 150.680816 \nL 127.365 150.680816 \nz\n\" style=\"fill:#1f77b4;\"/>\n   </g>\n   <g id=\"patch_18\">\n    <path clip-path=\"url(#p8f7853322c)\" d=\"M 133.452273 224.64 \nL 139.539545 224.64 \nL 139.539545 121.097143 \nL 133.452273 121.097143 \nz\n\" style=\"fill:#1f77b4;\"/>\n   </g>\n   <g id=\"patch_19\">\n    <path clip-path=\"url(#p8f7853322c)\" d=\"M 139.539545 224.64 \nL 145.626818 224.64 \nL 145.626818 113.701224 \nL 139.539545 113.701224 \nz\n\" style=\"fill:#1f77b4;\"/>\n   </g>\n   <g id=\"patch_20\">\n    <path clip-path=\"url(#p8f7853322c)\" d=\"M 145.626818 224.64 \nL 151.714091 224.64 \nL 151.714091 128.493061 \nL 145.626818 128.493061 \nz\n\" style=\"fill:#1f77b4;\"/>\n   </g>\n   <g id=\"patch_21\">\n    <path clip-path=\"url(#p8f7853322c)\" d=\"M 151.714091 224.64 \nL 157.801364 224.64 \nL 157.801364 84.117551 \nL 151.714091 84.117551 \nz\n\" style=\"fill:#1f77b4;\"/>\n   </g>\n   <g id=\"patch_22\">\n    <path clip-path=\"url(#p8f7853322c)\" d=\"M 157.801364 224.64 \nL 163.888636 224.64 \nL 163.888636 124.795102 \nL 157.801364 124.795102 \nz\n\" style=\"fill:#1f77b4;\"/>\n   </g>\n   <g id=\"patch_23\">\n    <path clip-path=\"url(#p8f7853322c)\" d=\"M 163.888636 224.64 \nL 169.975909 224.64 \nL 169.975909 113.701224 \nL 163.888636 113.701224 \nz\n\" style=\"fill:#1f77b4;\"/>\n   </g>\n   <g id=\"patch_24\">\n    <path clip-path=\"url(#p8f7853322c)\" d=\"M 169.975909 224.64 \nL 176.063182 224.64 \nL 176.063182 17.554286 \nL 169.975909 17.554286 \nz\n\" style=\"fill:#1f77b4;\"/>\n   </g>\n   <g id=\"patch_25\">\n    <path clip-path=\"url(#p8f7853322c)\" d=\"M 176.063182 224.64 \nL 182.150455 224.64 \nL 182.150455 28.648163 \nL 176.063182 28.648163 \nz\n\" style=\"fill:#1f77b4;\"/>\n   </g>\n   <g id=\"patch_26\">\n    <path clip-path=\"url(#p8f7853322c)\" d=\"M 182.150455 224.64 \nL 188.237727 224.64 \nL 188.237727 91.513469 \nL 182.150455 91.513469 \nz\n\" style=\"fill:#1f77b4;\"/>\n   </g>\n   <g id=\"patch_27\">\n    <path clip-path=\"url(#p8f7853322c)\" d=\"M 188.237727 224.64 \nL 194.325 224.64 \nL 194.325 65.627755 \nL 188.237727 65.627755 \nz\n\" style=\"fill:#1f77b4;\"/>\n   </g>\n   <g id=\"patch_28\">\n    <path clip-path=\"url(#p8f7853322c)\" d=\"M 194.325 224.64 \nL 200.412273 224.64 \nL 200.412273 43.44 \nL 194.325 43.44 \nz\n\" style=\"fill:#1f77b4;\"/>\n   </g>\n   <g id=\"patch_29\">\n    <path clip-path=\"url(#p8f7853322c)\" d=\"M 200.412273 224.64 \nL 206.499545 224.64 \nL 206.499545 21.252245 \nL 200.412273 21.252245 \nz\n\" style=\"fill:#1f77b4;\"/>\n   </g>\n   <g id=\"patch_30\">\n    <path clip-path=\"url(#p8f7853322c)\" d=\"M 206.499545 224.64 \nL 212.586818 224.64 \nL 212.586818 95.211429 \nL 206.499545 95.211429 \nz\n\" style=\"fill:#1f77b4;\"/>\n   </g>\n   <g id=\"patch_31\">\n    <path clip-path=\"url(#p8f7853322c)\" d=\"M 212.586818 224.64 \nL 218.674091 224.64 \nL 218.674091 43.44 \nL 212.586818 43.44 \nz\n\" style=\"fill:#1f77b4;\"/>\n   </g>\n   <g id=\"patch_32\">\n    <path clip-path=\"url(#p8f7853322c)\" d=\"M 218.674091 224.64 \nL 224.761364 224.64 \nL 224.761364 84.117551 \nL 218.674091 84.117551 \nz\n\" style=\"fill:#1f77b4;\"/>\n   </g>\n   <g id=\"patch_33\">\n    <path clip-path=\"url(#p8f7853322c)\" d=\"M 224.761364 224.64 \nL 230.848636 224.64 \nL 230.848636 80.419592 \nL 224.761364 80.419592 \nz\n\" style=\"fill:#1f77b4;\"/>\n   </g>\n   <g id=\"patch_34\">\n    <path clip-path=\"url(#p8f7853322c)\" d=\"M 230.848636 224.64 \nL 236.935909 224.64 \nL 236.935909 102.607347 \nL 230.848636 102.607347 \nz\n\" style=\"fill:#1f77b4;\"/>\n   </g>\n   <g id=\"patch_35\">\n    <path clip-path=\"url(#p8f7853322c)\" d=\"M 236.935909 224.64 \nL 243.023182 224.64 \nL 243.023182 139.586939 \nL 236.935909 139.586939 \nz\n\" style=\"fill:#1f77b4;\"/>\n   </g>\n   <g id=\"patch_36\">\n    <path clip-path=\"url(#p8f7853322c)\" d=\"M 243.023182 224.64 \nL 249.110455 224.64 \nL 249.110455 73.023673 \nL 243.023182 73.023673 \nz\n\" style=\"fill:#1f77b4;\"/>\n   </g>\n   <g id=\"patch_37\">\n    <path clip-path=\"url(#p8f7853322c)\" d=\"M 249.110455 224.64 \nL 255.197727 224.64 \nL 255.197727 154.378776 \nL 249.110455 154.378776 \nz\n\" style=\"fill:#1f77b4;\"/>\n   </g>\n   <g id=\"patch_38\">\n    <path clip-path=\"url(#p8f7853322c)\" d=\"M 255.197727 224.64 \nL 261.285 224.64 \nL 261.285 98.909388 \nL 255.197727 98.909388 \nz\n\" style=\"fill:#1f77b4;\"/>\n   </g>\n   <g id=\"patch_39\">\n    <path clip-path=\"url(#p8f7853322c)\" d=\"M 261.285 224.64 \nL 267.372273 224.64 \nL 267.372273 121.097143 \nL 261.285 121.097143 \nz\n\" style=\"fill:#1f77b4;\"/>\n   </g>\n   <g id=\"patch_40\">\n    <path clip-path=\"url(#p8f7853322c)\" d=\"M 267.372273 224.64 \nL 273.459545 224.64 \nL 273.459545 176.566531 \nL 267.372273 176.566531 \nz\n\" style=\"fill:#1f77b4;\"/>\n   </g>\n   <g id=\"patch_41\">\n    <path clip-path=\"url(#p8f7853322c)\" d=\"M 273.459545 224.64 \nL 279.546818 224.64 \nL 279.546818 180.26449 \nL 273.459545 180.26449 \nz\n\" style=\"fill:#1f77b4;\"/>\n   </g>\n   <g id=\"patch_42\">\n    <path clip-path=\"url(#p8f7853322c)\" d=\"M 279.546818 224.64 \nL 285.634091 224.64 \nL 285.634091 180.26449 \nL 279.546818 180.26449 \nz\n\" style=\"fill:#1f77b4;\"/>\n   </g>\n   <g id=\"patch_43\">\n    <path clip-path=\"url(#p8f7853322c)\" d=\"M 285.634091 224.64 \nL 291.721364 224.64 \nL 291.721364 172.868571 \nL 285.634091 172.868571 \nz\n\" style=\"fill:#1f77b4;\"/>\n   </g>\n   <g id=\"patch_44\">\n    <path clip-path=\"url(#p8f7853322c)\" d=\"M 291.721364 224.64 \nL 297.808636 224.64 \nL 297.808636 180.26449 \nL 291.721364 180.26449 \nz\n\" style=\"fill:#1f77b4;\"/>\n   </g>\n   <g id=\"patch_45\">\n    <path clip-path=\"url(#p8f7853322c)\" d=\"M 297.808636 224.64 \nL 303.895909 224.64 \nL 303.895909 209.848163 \nL 297.808636 209.848163 \nz\n\" style=\"fill:#1f77b4;\"/>\n   </g>\n   <g id=\"patch_46\">\n    <path clip-path=\"url(#p8f7853322c)\" d=\"M 303.895909 224.64 \nL 309.983182 224.64 \nL 309.983182 213.546122 \nL 303.895909 213.546122 \nz\n\" style=\"fill:#1f77b4;\"/>\n   </g>\n   <g id=\"patch_47\">\n    <path clip-path=\"url(#p8f7853322c)\" d=\"M 309.983182 224.64 \nL 316.070455 224.64 \nL 316.070455 209.848163 \nL 309.983182 209.848163 \nz\n\" style=\"fill:#1f77b4;\"/>\n   </g>\n   <g id=\"patch_48\">\n    <path clip-path=\"url(#p8f7853322c)\" d=\"M 316.070455 224.64 \nL 322.157727 224.64 \nL 322.157727 217.244082 \nL 316.070455 217.244082 \nz\n\" style=\"fill:#1f77b4;\"/>\n   </g>\n   <g id=\"patch_49\">\n    <path clip-path=\"url(#p8f7853322c)\" d=\"M 322.157727 224.64 \nL 328.245 224.64 \nL 328.245 213.546122 \nL 322.157727 213.546122 \nz\n\" style=\"fill:#1f77b4;\"/>\n   </g>\n   <g id=\"patch_50\">\n    <path clip-path=\"url(#p8f7853322c)\" d=\"M 328.245 224.64 \nL 334.332273 224.64 \nL 334.332273 224.64 \nL 328.245 224.64 \nz\n\" style=\"fill:#1f77b4;\"/>\n   </g>\n   <g id=\"patch_51\">\n    <path clip-path=\"url(#p8f7853322c)\" d=\"M 334.332273 224.64 \nL 340.419545 224.64 \nL 340.419545 220.942041 \nL 334.332273 220.942041 \nz\n\" style=\"fill:#1f77b4;\"/>\n   </g>\n   <g id=\"patch_52\">\n    <path clip-path=\"url(#p8f7853322c)\" d=\"M 340.419545 224.64 \nL 346.506818 224.64 \nL 346.506818 217.244082 \nL 340.419545 217.244082 \nz\n\" style=\"fill:#1f77b4;\"/>\n   </g>\n   <g id=\"matplotlib.axis_1\">\n    <g id=\"xtick_1\">\n     <g id=\"line2d_1\">\n      <defs>\n       <path d=\"M 0 0 \nL 0 3.5 \n\" id=\"m30a6d1915c\" style=\"stroke:#000000;stroke-width:0.8;\"/>\n      </defs>\n      <g>\n       <use style=\"stroke:#000000;stroke-width:0.8;\" x=\"41.093652\" xlink:href=\"#m30a6d1915c\" y=\"224.64\"/>\n      </g>\n     </g>\n     <g id=\"text_1\">\n      <!-- −300 -->\n      <g transform=\"translate(27.360058 239.238437)scale(0.1 -0.1)\">\n       <defs>\n        <path d=\"M 10.59375 35.5 \nL 73.1875 35.5 \nL 73.1875 27.203125 \nL 10.59375 27.203125 \nz\n\" id=\"DejaVuSans-8722\"/>\n        <path d=\"M 40.578125 39.3125 \nQ 47.65625 37.796875 51.625 33 \nQ 55.609375 28.21875 55.609375 21.1875 \nQ 55.609375 10.40625 48.1875 4.484375 \nQ 40.765625 -1.421875 27.09375 -1.421875 \nQ 22.515625 -1.421875 17.65625 -0.515625 \nQ 12.796875 0.390625 7.625 2.203125 \nL 7.625 11.71875 \nQ 11.71875 9.328125 16.59375 8.109375 \nQ 21.484375 6.890625 26.8125 6.890625 \nQ 36.078125 6.890625 40.9375 10.546875 \nQ 45.796875 14.203125 45.796875 21.1875 \nQ 45.796875 27.640625 41.28125 31.265625 \nQ 36.765625 34.90625 28.71875 34.90625 \nL 20.21875 34.90625 \nL 20.21875 43.015625 \nL 29.109375 43.015625 \nQ 36.375 43.015625 40.234375 45.921875 \nQ 44.09375 48.828125 44.09375 54.296875 \nQ 44.09375 59.90625 40.109375 62.90625 \nQ 36.140625 65.921875 28.71875 65.921875 \nQ 24.65625 65.921875 20.015625 65.03125 \nQ 15.375 64.15625 9.8125 62.3125 \nL 9.8125 71.09375 \nQ 15.4375 72.65625 20.34375 73.4375 \nQ 25.25 74.21875 29.59375 74.21875 \nQ 40.828125 74.21875 47.359375 69.109375 \nQ 53.90625 64.015625 53.90625 55.328125 \nQ 53.90625 49.265625 50.4375 45.09375 \nQ 46.96875 40.921875 40.578125 39.3125 \nz\n\" id=\"DejaVuSans-51\"/>\n        <path d=\"M 31.78125 66.40625 \nQ 24.171875 66.40625 20.328125 58.90625 \nQ 16.5 51.421875 16.5 36.375 \nQ 16.5 21.390625 20.328125 13.890625 \nQ 24.171875 6.390625 31.78125 6.390625 \nQ 39.453125 6.390625 43.28125 13.890625 \nQ 47.125 21.390625 47.125 36.375 \nQ 47.125 51.421875 43.28125 58.90625 \nQ 39.453125 66.40625 31.78125 66.40625 \nz\nM 31.78125 74.21875 \nQ 44.046875 74.21875 50.515625 64.515625 \nQ 56.984375 54.828125 56.984375 36.375 \nQ 56.984375 17.96875 50.515625 8.265625 \nQ 44.046875 -1.421875 31.78125 -1.421875 \nQ 19.53125 -1.421875 13.0625 8.265625 \nQ 6.59375 17.96875 6.59375 36.375 \nQ 6.59375 54.828125 13.0625 64.515625 \nQ 19.53125 74.21875 31.78125 74.21875 \nz\n\" id=\"DejaVuSans-48\"/>\n       </defs>\n       <use xlink:href=\"#DejaVuSans-8722\"/>\n       <use x=\"83.789062\" xlink:href=\"#DejaVuSans-51\"/>\n       <use x=\"147.412109\" xlink:href=\"#DejaVuSans-48\"/>\n       <use x=\"211.035156\" xlink:href=\"#DejaVuSans-48\"/>\n      </g>\n     </g>\n    </g>\n    <g id=\"xtick_2\">\n     <g id=\"line2d_2\">\n      <g>\n       <use style=\"stroke:#000000;stroke-width:0.8;\" x=\"93.570141\" xlink:href=\"#m30a6d1915c\" y=\"224.64\"/>\n      </g>\n     </g>\n     <g id=\"text_2\">\n      <!-- −200 -->\n      <g transform=\"translate(79.836547 239.238437)scale(0.1 -0.1)\">\n       <defs>\n        <path d=\"M 19.1875 8.296875 \nL 53.609375 8.296875 \nL 53.609375 0 \nL 7.328125 0 \nL 7.328125 8.296875 \nQ 12.9375 14.109375 22.625 23.890625 \nQ 32.328125 33.6875 34.8125 36.53125 \nQ 39.546875 41.84375 41.421875 45.53125 \nQ 43.3125 49.21875 43.3125 52.78125 \nQ 43.3125 58.59375 39.234375 62.25 \nQ 35.15625 65.921875 28.609375 65.921875 \nQ 23.96875 65.921875 18.8125 64.3125 \nQ 13.671875 62.703125 7.8125 59.421875 \nL 7.8125 69.390625 \nQ 13.765625 71.78125 18.9375 73 \nQ 24.125 74.21875 28.421875 74.21875 \nQ 39.75 74.21875 46.484375 68.546875 \nQ 53.21875 62.890625 53.21875 53.421875 \nQ 53.21875 48.921875 51.53125 44.890625 \nQ 49.859375 40.875 45.40625 35.40625 \nQ 44.1875 33.984375 37.640625 27.21875 \nQ 31.109375 20.453125 19.1875 8.296875 \nz\n\" id=\"DejaVuSans-50\"/>\n       </defs>\n       <use xlink:href=\"#DejaVuSans-8722\"/>\n       <use x=\"83.789062\" xlink:href=\"#DejaVuSans-50\"/>\n       <use x=\"147.412109\" xlink:href=\"#DejaVuSans-48\"/>\n       <use x=\"211.035156\" xlink:href=\"#DejaVuSans-48\"/>\n      </g>\n     </g>\n    </g>\n    <g id=\"xtick_3\">\n     <g id=\"line2d_3\">\n      <g>\n       <use style=\"stroke:#000000;stroke-width:0.8;\" x=\"146.04663\" xlink:href=\"#m30a6d1915c\" y=\"224.64\"/>\n      </g>\n     </g>\n     <g id=\"text_3\">\n      <!-- −100 -->\n      <g transform=\"translate(132.313036 239.238437)scale(0.1 -0.1)\">\n       <defs>\n        <path d=\"M 12.40625 8.296875 \nL 28.515625 8.296875 \nL 28.515625 63.921875 \nL 10.984375 60.40625 \nL 10.984375 69.390625 \nL 28.421875 72.90625 \nL 38.28125 72.90625 \nL 38.28125 8.296875 \nL 54.390625 8.296875 \nL 54.390625 0 \nL 12.40625 0 \nz\n\" id=\"DejaVuSans-49\"/>\n       </defs>\n       <use xlink:href=\"#DejaVuSans-8722\"/>\n       <use x=\"83.789062\" xlink:href=\"#DejaVuSans-49\"/>\n       <use x=\"147.412109\" xlink:href=\"#DejaVuSans-48\"/>\n       <use x=\"211.035156\" xlink:href=\"#DejaVuSans-48\"/>\n      </g>\n     </g>\n    </g>\n    <g id=\"xtick_4\">\n     <g id=\"line2d_4\">\n      <g>\n       <use style=\"stroke:#000000;stroke-width:0.8;\" x=\"198.523119\" xlink:href=\"#m30a6d1915c\" y=\"224.64\"/>\n      </g>\n     </g>\n     <g id=\"text_4\">\n      <!-- 0 -->\n      <g transform=\"translate(195.341869 239.238437)scale(0.1 -0.1)\">\n       <use xlink:href=\"#DejaVuSans-48\"/>\n      </g>\n     </g>\n    </g>\n    <g id=\"xtick_5\">\n     <g id=\"line2d_5\">\n      <g>\n       <use style=\"stroke:#000000;stroke-width:0.8;\" x=\"250.999608\" xlink:href=\"#m30a6d1915c\" y=\"224.64\"/>\n      </g>\n     </g>\n     <g id=\"text_5\">\n      <!-- 100 -->\n      <g transform=\"translate(241.455858 239.238437)scale(0.1 -0.1)\">\n       <use xlink:href=\"#DejaVuSans-49\"/>\n       <use x=\"63.623047\" xlink:href=\"#DejaVuSans-48\"/>\n       <use x=\"127.246094\" xlink:href=\"#DejaVuSans-48\"/>\n      </g>\n     </g>\n    </g>\n    <g id=\"xtick_6\">\n     <g id=\"line2d_6\">\n      <g>\n       <use style=\"stroke:#000000;stroke-width:0.8;\" x=\"303.476097\" xlink:href=\"#m30a6d1915c\" y=\"224.64\"/>\n      </g>\n     </g>\n     <g id=\"text_6\">\n      <!-- 200 -->\n      <g transform=\"translate(293.932347 239.238437)scale(0.1 -0.1)\">\n       <use xlink:href=\"#DejaVuSans-50\"/>\n       <use x=\"63.623047\" xlink:href=\"#DejaVuSans-48\"/>\n       <use x=\"127.246094\" xlink:href=\"#DejaVuSans-48\"/>\n      </g>\n     </g>\n    </g>\n    <g id=\"xtick_7\">\n     <g id=\"line2d_7\">\n      <g>\n       <use style=\"stroke:#000000;stroke-width:0.8;\" x=\"355.952586\" xlink:href=\"#m30a6d1915c\" y=\"224.64\"/>\n      </g>\n     </g>\n     <g id=\"text_7\">\n      <!-- 300 -->\n      <g transform=\"translate(346.408836 239.238437)scale(0.1 -0.1)\">\n       <use xlink:href=\"#DejaVuSans-51\"/>\n       <use x=\"63.623047\" xlink:href=\"#DejaVuSans-48\"/>\n       <use x=\"127.246094\" xlink:href=\"#DejaVuSans-48\"/>\n      </g>\n     </g>\n    </g>\n   </g>\n   <g id=\"matplotlib.axis_2\">\n    <g id=\"ytick_1\">\n     <g id=\"line2d_8\">\n      <defs>\n       <path d=\"M 0 0 \nL -3.5 0 \n\" id=\"mf7e103ab04\" style=\"stroke:#000000;stroke-width:0.8;\"/>\n      </defs>\n      <g>\n       <use style=\"stroke:#000000;stroke-width:0.8;\" x=\"26.925\" xlink:href=\"#mf7e103ab04\" y=\"224.64\"/>\n      </g>\n     </g>\n     <g id=\"text_8\">\n      <!-- 0 -->\n      <g transform=\"translate(13.5625 228.439219)scale(0.1 -0.1)\">\n       <use xlink:href=\"#DejaVuSans-48\"/>\n      </g>\n     </g>\n    </g>\n    <g id=\"ytick_2\">\n     <g id=\"line2d_9\">\n      <g>\n       <use style=\"stroke:#000000;stroke-width:0.8;\" x=\"26.925\" xlink:href=\"#mf7e103ab04\" y=\"187.660408\"/>\n      </g>\n     </g>\n     <g id=\"text_9\">\n      <!-- 10 -->\n      <g transform=\"translate(7.2 191.459627)scale(0.1 -0.1)\">\n       <use xlink:href=\"#DejaVuSans-49\"/>\n       <use x=\"63.623047\" xlink:href=\"#DejaVuSans-48\"/>\n      </g>\n     </g>\n    </g>\n    <g id=\"ytick_3\">\n     <g id=\"line2d_10\">\n      <g>\n       <use style=\"stroke:#000000;stroke-width:0.8;\" x=\"26.925\" xlink:href=\"#mf7e103ab04\" y=\"150.680816\"/>\n      </g>\n     </g>\n     <g id=\"text_10\">\n      <!-- 20 -->\n      <g transform=\"translate(7.2 154.480035)scale(0.1 -0.1)\">\n       <use xlink:href=\"#DejaVuSans-50\"/>\n       <use x=\"63.623047\" xlink:href=\"#DejaVuSans-48\"/>\n      </g>\n     </g>\n    </g>\n    <g id=\"ytick_4\">\n     <g id=\"line2d_11\">\n      <g>\n       <use style=\"stroke:#000000;stroke-width:0.8;\" x=\"26.925\" xlink:href=\"#mf7e103ab04\" y=\"113.701224\"/>\n      </g>\n     </g>\n     <g id=\"text_11\">\n      <!-- 30 -->\n      <g transform=\"translate(7.2 117.500443)scale(0.1 -0.1)\">\n       <use xlink:href=\"#DejaVuSans-51\"/>\n       <use x=\"63.623047\" xlink:href=\"#DejaVuSans-48\"/>\n      </g>\n     </g>\n    </g>\n    <g id=\"ytick_5\">\n     <g id=\"line2d_12\">\n      <g>\n       <use style=\"stroke:#000000;stroke-width:0.8;\" x=\"26.925\" xlink:href=\"#mf7e103ab04\" y=\"76.721633\"/>\n      </g>\n     </g>\n     <g id=\"text_12\">\n      <!-- 40 -->\n      <g transform=\"translate(7.2 80.520851)scale(0.1 -0.1)\">\n       <defs>\n        <path d=\"M 37.796875 64.3125 \nL 12.890625 25.390625 \nL 37.796875 25.390625 \nz\nM 35.203125 72.90625 \nL 47.609375 72.90625 \nL 47.609375 25.390625 \nL 58.015625 25.390625 \nL 58.015625 17.1875 \nL 47.609375 17.1875 \nL 47.609375 0 \nL 37.796875 0 \nL 37.796875 17.1875 \nL 4.890625 17.1875 \nL 4.890625 26.703125 \nz\n\" id=\"DejaVuSans-52\"/>\n       </defs>\n       <use xlink:href=\"#DejaVuSans-52\"/>\n       <use x=\"63.623047\" xlink:href=\"#DejaVuSans-48\"/>\n      </g>\n     </g>\n    </g>\n    <g id=\"ytick_6\">\n     <g id=\"line2d_13\">\n      <g>\n       <use style=\"stroke:#000000;stroke-width:0.8;\" x=\"26.925\" xlink:href=\"#mf7e103ab04\" y=\"39.742041\"/>\n      </g>\n     </g>\n     <g id=\"text_13\">\n      <!-- 50 -->\n      <g transform=\"translate(7.2 43.54126)scale(0.1 -0.1)\">\n       <defs>\n        <path d=\"M 10.796875 72.90625 \nL 49.515625 72.90625 \nL 49.515625 64.59375 \nL 19.828125 64.59375 \nL 19.828125 46.734375 \nQ 21.96875 47.46875 24.109375 47.828125 \nQ 26.265625 48.1875 28.421875 48.1875 \nQ 40.625 48.1875 47.75 41.5 \nQ 54.890625 34.8125 54.890625 23.390625 \nQ 54.890625 11.625 47.5625 5.09375 \nQ 40.234375 -1.421875 26.90625 -1.421875 \nQ 22.3125 -1.421875 17.546875 -0.640625 \nQ 12.796875 0.140625 7.71875 1.703125 \nL 7.71875 11.625 \nQ 12.109375 9.234375 16.796875 8.0625 \nQ 21.484375 6.890625 26.703125 6.890625 \nQ 35.15625 6.890625 40.078125 11.328125 \nQ 45.015625 15.765625 45.015625 23.390625 \nQ 45.015625 31 40.078125 35.4375 \nQ 35.15625 39.890625 26.703125 39.890625 \nQ 22.75 39.890625 18.8125 39.015625 \nQ 14.890625 38.140625 10.796875 36.28125 \nz\n\" id=\"DejaVuSans-53\"/>\n       </defs>\n       <use xlink:href=\"#DejaVuSans-53\"/>\n       <use x=\"63.623047\" xlink:href=\"#DejaVuSans-48\"/>\n      </g>\n     </g>\n    </g>\n   </g>\n   <g id=\"patch_53\">\n    <path d=\"M 26.925 224.64 \nL 26.925 7.2 \n\" style=\"fill:none;stroke:#000000;stroke-linecap:square;stroke-linejoin:miter;stroke-width:0.8;\"/>\n   </g>\n   <g id=\"patch_54\">\n    <path d=\"M 361.725 224.64 \nL 361.725 7.2 \n\" style=\"fill:none;stroke:#000000;stroke-linecap:square;stroke-linejoin:miter;stroke-width:0.8;\"/>\n   </g>\n   <g id=\"patch_55\">\n    <path d=\"M 26.925 224.64 \nL 361.725 224.64 \n\" style=\"fill:none;stroke:#000000;stroke-linecap:square;stroke-linejoin:miter;stroke-width:0.8;\"/>\n   </g>\n   <g id=\"patch_56\">\n    <path d=\"M 26.925 7.2 \nL 361.725 7.2 \n\" style=\"fill:none;stroke:#000000;stroke-linecap:square;stroke-linejoin:miter;stroke-width:0.8;\"/>\n   </g>\n  </g>\n </g>\n <defs>\n  <clipPath id=\"p8f7853322c\">\n   <rect height=\"217.44\" width=\"334.8\" x=\"26.925\" y=\"7.2\"/>\n  </clipPath>\n </defs>\n</svg>\n",
      "image/png": "[encoded data removed]"
     },
     "metadata": {
      "needs_background": "light"
     }
    },
    {
     "output_type": "stream",
     "name": "stdout",
     "text": [
      "1000\n"
     ]
    }
   ],
   "source": [
    "#d) Solution\n",
    "bin_count,M,N,p = 50,1000,10000,0.5\n",
    "trajectory_final_positions = np.array(Trajectories(M,N,p))\n",
    "\n",
    "plt.hist(trajectory_final_positions, bins = bin_count)\n",
    "plt.show()\n",
    "\n",
    "\n",
    "print(len(trajectory_final_positions))\n",
    "\n"
   ]
  },
  {
   "source": [
    "#### e) Compute the mean and variance of this distribution"
   ],
   "cell_type": "code",
   "metadata": {},
   "execution_count": null,
   "outputs": []
  },
  {
   "cell_type": "code",
   "execution_count": null,
   "metadata": {},
   "outputs": [],
   "source": [
    "#e) Solution"
   ]
  },
  {
   "cell_type": "code",
   "execution_count": 7,
   "metadata": {
    "scrolled": false
   },
   "outputs": [
    {
     "output_type": "stream",
     "name": "stdout",
     "text": [
      "-3.26\n9761.1404\n"
     ]
    }
   ],
   "source": [
    "#e) Solution\n",
    "print(np.mean(trajectory_final_positions))\n",
    "print(np.var(trajectory_final_positions))"
   ]
  },
  {
   "cell_type": "markdown",
   "metadata": {},
   "source": [
    "#### f) Repeat the creation of the histogram of displacemnts and the calculation of the mean and variance for the case where $p=0.25$. Keep the number of trials $M=1000$ and number of steps $N=10000$."
   ]
  },
  {
   "cell_type": "code",
   "execution_count": 8,
   "metadata": {},
   "outputs": [
    {
     "output_type": "display_data",
     "data": {
      "text/plain": "<Figure size 432x288 with 1 Axes>",
      "image/svg+xml": "<?xml version=\"1.0\" encoding=\"utf-8\" standalone=\"no\"?>\n<!DOCTYPE svg PUBLIC \"-//W3C//DTD SVG 1.1//EN\"\n  \"http://www.w3.org/Graphics/SVG/1.1/DTD/svg11.dtd\">\n<!-- Created with matplotlib (https://matplotlib.org/) -->\n<svg height=\"248.518125pt\" version=\"1.1\" viewBox=\"0 0 368.925 248.518125\" width=\"368.925pt\" xmlns=\"http://www.w3.org/2000/svg\" xmlns:xlink=\"http://www.w3.org/1999/xlink\">\n <metadata>\n  <rdf:RDF xmlns:cc=\"http://creativecommons.org/ns#\" xmlns:dc=\"http://purl.org/dc/elements/1.1/\" xmlns:rdf=\"http://www.w3.org/1999/02/22-rdf-syntax-ns#\">\n   <cc:Work>\n    <dc:type rdf:resource=\"http://purl.org/dc/dcmitype/StillImage\"/>\n    <dc:date>2021-02-14T16:36:49.519884</dc:date>\n    <dc:format>image/svg+xml</dc:format>\n    <dc:creator>\n     <cc:Agent>\n      <dc:title>Matplotlib v3.3.2, https://matplotlib.org/</dc:title>\n     </cc:Agent>\n    </dc:creator>\n   </cc:Work>\n  </rdf:RDF>\n </metadata>\n <defs>\n  <style type=\"text/css\">*{stroke-linecap:butt;stroke-linejoin:round;}</style>\n </defs>\n <g id=\"figure_1\">\n  <g id=\"patch_1\">\n   <path d=\"M -0 248.518125 \nL 368.925 248.518125 \nL 368.925 0 \nL -0 0 \nz\n\" style=\"fill:none;\"/>\n  </g>\n  <g id=\"axes_1\">\n   <g id=\"patch_2\">\n    <path d=\"M 26.925 224.64 \nL 361.725 224.64 \nL 361.725 7.2 \nL 26.925 7.2 \nz\n\" style=\"fill:#ffffff;\"/>\n   </g>\n   <g id=\"patch_3\">\n    <path clip-path=\"url(#p66c78c166c)\" d=\"M 42.143182 224.64 \nL 48.230455 224.64 \nL 48.230455 218.168571 \nL 42.143182 218.168571 \nz\n\" style=\"fill:#1f77b4;\"/>\n   </g>\n   <g id=\"patch_4\">\n    <path clip-path=\"url(#p66c78c166c)\" d=\"M 48.230455 224.64 \nL 54.317727 224.64 \nL 54.317727 224.64 \nL 48.230455 224.64 \nz\n\" style=\"fill:#1f77b4;\"/>\n   </g>\n   <g id=\"patch_5\">\n    <path clip-path=\"url(#p66c78c166c)\" d=\"M 54.317727 224.64 \nL 60.405 224.64 \nL 60.405 224.64 \nL 54.317727 224.64 \nz\n\" style=\"fill:#1f77b4;\"/>\n   </g>\n   <g id=\"patch_6\">\n    <path clip-path=\"url(#p66c78c166c)\" d=\"M 60.405 224.64 \nL 66.492273 224.64 \nL 66.492273 214.932857 \nL 60.405 214.932857 \nz\n\" style=\"fill:#1f77b4;\"/>\n   </g>\n   <g id=\"patch_7\">\n    <path clip-path=\"url(#p66c78c166c)\" d=\"M 66.492273 224.64 \nL 72.579545 224.64 \nL 72.579545 221.404286 \nL 66.492273 221.404286 \nz\n\" style=\"fill:#1f77b4;\"/>\n   </g>\n   <g id=\"patch_8\">\n    <path clip-path=\"url(#p66c78c166c)\" d=\"M 72.579545 224.64 \nL 78.666818 224.64 \nL 78.666818 214.932857 \nL 72.579545 214.932857 \nz\n\" style=\"fill:#1f77b4;\"/>\n   </g>\n   <g id=\"patch_9\">\n    <path clip-path=\"url(#p66c78c166c)\" d=\"M 78.666818 224.64 \nL 84.754091 224.64 \nL 84.754091 214.932857 \nL 78.666818 214.932857 \nz\n\" style=\"fill:#1f77b4;\"/>\n   </g>\n   <g id=\"patch_10\">\n    <path clip-path=\"url(#p66c78c166c)\" d=\"M 84.754091 224.64 \nL 90.841364 224.64 \nL 90.841364 214.932857 \nL 84.754091 214.932857 \nz\n\" style=\"fill:#1f77b4;\"/>\n   </g>\n   <g id=\"patch_11\">\n    <path clip-path=\"url(#p66c78c166c)\" d=\"M 90.841364 224.64 \nL 96.928636 224.64 \nL 96.928636 195.518571 \nL 90.841364 195.518571 \nz\n\" style=\"fill:#1f77b4;\"/>\n   </g>\n   <g id=\"patch_12\">\n    <path clip-path=\"url(#p66c78c166c)\" d=\"M 96.928636 224.64 \nL 103.015909 224.64 \nL 103.015909 205.225714 \nL 96.928636 205.225714 \nz\n\" style=\"fill:#1f77b4;\"/>\n   </g>\n   <g id=\"patch_13\">\n    <path clip-path=\"url(#p66c78c166c)\" d=\"M 103.015909 224.64 \nL 109.103182 224.64 \nL 109.103182 198.754286 \nL 103.015909 198.754286 \nz\n\" style=\"fill:#1f77b4;\"/>\n   </g>\n   <g id=\"patch_14\">\n    <path clip-path=\"url(#p66c78c166c)\" d=\"M 109.103182 224.64 \nL 115.190455 224.64 \nL 115.190455 189.047143 \nL 109.103182 189.047143 \nz\n\" style=\"fill:#1f77b4;\"/>\n   </g>\n   <g id=\"patch_15\">\n    <path clip-path=\"url(#p66c78c166c)\" d=\"M 115.190455 224.64 \nL 121.277727 224.64 \nL 121.277727 189.047143 \nL 115.190455 189.047143 \nz\n\" style=\"fill:#1f77b4;\"/>\n   </g>\n   <g id=\"patch_16\">\n    <path clip-path=\"url(#p66c78c166c)\" d=\"M 121.277727 224.64 \nL 127.365 224.64 \nL 127.365 166.397143 \nL 121.277727 166.397143 \nz\n\" style=\"fill:#1f77b4;\"/>\n   </g>\n   <g id=\"patch_17\">\n    <path clip-path=\"url(#p66c78c166c)\" d=\"M 127.365 224.64 \nL 133.452273 224.64 \nL 133.452273 153.454286 \nL 127.365 153.454286 \nz\n\" style=\"fill:#1f77b4;\"/>\n   </g>\n   <g id=\"patch_18\">\n    <path clip-path=\"url(#p66c78c166c)\" d=\"M 133.452273 224.64 \nL 139.539545 224.64 \nL 139.539545 124.332857 \nL 133.452273 124.332857 \nz\n\" style=\"fill:#1f77b4;\"/>\n   </g>\n   <g id=\"patch_19\">\n    <path clip-path=\"url(#p66c78c166c)\" d=\"M 139.539545 224.64 \nL 145.626818 224.64 \nL 145.626818 121.097143 \nL 139.539545 121.097143 \nz\n\" style=\"fill:#1f77b4;\"/>\n   </g>\n   <g id=\"patch_20\">\n    <path clip-path=\"url(#p66c78c166c)\" d=\"M 145.626818 224.64 \nL 151.714091 224.64 \nL 151.714091 114.625714 \nL 145.626818 114.625714 \nz\n\" style=\"fill:#1f77b4;\"/>\n   </g>\n   <g id=\"patch_21\">\n    <path clip-path=\"url(#p66c78c166c)\" d=\"M 151.714091 224.64 \nL 157.801364 224.64 \nL 157.801364 85.504286 \nL 151.714091 85.504286 \nz\n\" style=\"fill:#1f77b4;\"/>\n   </g>\n   <g id=\"patch_22\">\n    <path clip-path=\"url(#p66c78c166c)\" d=\"M 157.801364 224.64 \nL 163.888636 224.64 \nL 163.888636 53.147143 \nL 157.801364 53.147143 \nz\n\" style=\"fill:#1f77b4;\"/>\n   </g>\n   <g id=\"patch_23\">\n    <path clip-path=\"url(#p66c78c166c)\" d=\"M 163.888636 224.64 \nL 169.975909 224.64 \nL 169.975909 69.325714 \nL 163.888636 69.325714 \nz\n\" style=\"fill:#1f77b4;\"/>\n   </g>\n   <g id=\"patch_24\">\n    <path clip-path=\"url(#p66c78c166c)\" d=\"M 169.975909 224.64 \nL 176.063182 224.64 \nL 176.063182 98.447143 \nL 169.975909 98.447143 \nz\n\" style=\"fill:#1f77b4;\"/>\n   </g>\n   <g id=\"patch_25\">\n    <path clip-path=\"url(#p66c78c166c)\" d=\"M 176.063182 224.64 \nL 182.150455 224.64 \nL 182.150455 56.382857 \nL 176.063182 56.382857 \nz\n\" style=\"fill:#1f77b4;\"/>\n   </g>\n   <g id=\"patch_26\">\n    <path clip-path=\"url(#p66c78c166c)\" d=\"M 182.150455 224.64 \nL 188.237727 224.64 \nL 188.237727 17.554286 \nL 182.150455 17.554286 \nz\n\" style=\"fill:#1f77b4;\"/>\n   </g>\n   <g id=\"patch_27\">\n    <path clip-path=\"url(#p66c78c166c)\" d=\"M 188.237727 224.64 \nL 194.325 224.64 \nL 194.325 36.968571 \nL 188.237727 36.968571 \nz\n\" style=\"fill:#1f77b4;\"/>\n   </g>\n   <g id=\"patch_28\">\n    <path clip-path=\"url(#p66c78c166c)\" d=\"M 194.325 224.64 \nL 200.412273 224.64 \nL 200.412273 30.497143 \nL 194.325 30.497143 \nz\n\" style=\"fill:#1f77b4;\"/>\n   </g>\n   <g id=\"patch_29\">\n    <path clip-path=\"url(#p66c78c166c)\" d=\"M 200.412273 224.64 \nL 206.499545 224.64 \nL 206.499545 56.382857 \nL 200.412273 56.382857 \nz\n\" style=\"fill:#1f77b4;\"/>\n   </g>\n   <g id=\"patch_30\">\n    <path clip-path=\"url(#p66c78c166c)\" d=\"M 206.499545 224.64 \nL 212.586818 224.64 \nL 212.586818 69.325714 \nL 206.499545 69.325714 \nz\n\" style=\"fill:#1f77b4;\"/>\n   </g>\n   <g id=\"patch_31\">\n    <path clip-path=\"url(#p66c78c166c)\" d=\"M 212.586818 224.64 \nL 218.674091 224.64 \nL 218.674091 114.625714 \nL 212.586818 114.625714 \nz\n\" style=\"fill:#1f77b4;\"/>\n   </g>\n   <g id=\"patch_32\">\n    <path clip-path=\"url(#p66c78c166c)\" d=\"M 218.674091 224.64 \nL 224.761364 224.64 \nL 224.761364 79.032857 \nL 218.674091 79.032857 \nz\n\" style=\"fill:#1f77b4;\"/>\n   </g>\n   <g id=\"patch_33\">\n    <path clip-path=\"url(#p66c78c166c)\" d=\"M 224.761364 224.64 \nL 230.848636 224.64 \nL 230.848636 121.097143 \nL 224.761364 121.097143 \nz\n\" style=\"fill:#1f77b4;\"/>\n   </g>\n   <g id=\"patch_34\">\n    <path clip-path=\"url(#p66c78c166c)\" d=\"M 230.848636 224.64 \nL 236.935909 224.64 \nL 236.935909 108.154286 \nL 230.848636 108.154286 \nz\n\" style=\"fill:#1f77b4;\"/>\n   </g>\n   <g id=\"patch_35\">\n    <path clip-path=\"url(#p66c78c166c)\" d=\"M 236.935909 224.64 \nL 243.023182 224.64 \nL 243.023182 130.804286 \nL 236.935909 130.804286 \nz\n\" style=\"fill:#1f77b4;\"/>\n   </g>\n   <g id=\"patch_36\">\n    <path clip-path=\"url(#p66c78c166c)\" d=\"M 243.023182 224.64 \nL 249.110455 224.64 \nL 249.110455 88.74 \nL 243.023182 88.74 \nz\n\" style=\"fill:#1f77b4;\"/>\n   </g>\n   <g id=\"patch_37\">\n    <path clip-path=\"url(#p66c78c166c)\" d=\"M 249.110455 224.64 \nL 255.197727 224.64 \nL 255.197727 172.868571 \nL 249.110455 172.868571 \nz\n\" style=\"fill:#1f77b4;\"/>\n   </g>\n   <g id=\"patch_38\">\n    <path clip-path=\"url(#p66c78c166c)\" d=\"M 255.197727 224.64 \nL 261.285 224.64 \nL 261.285 185.811429 \nL 255.197727 185.811429 \nz\n\" style=\"fill:#1f77b4;\"/>\n   </g>\n   <g id=\"patch_39\">\n    <path clip-path=\"url(#p66c78c166c)\" d=\"M 261.285 224.64 \nL 267.372273 224.64 \nL 267.372273 192.282857 \nL 261.285 192.282857 \nz\n\" style=\"fill:#1f77b4;\"/>\n   </g>\n   <g id=\"patch_40\">\n    <path clip-path=\"url(#p66c78c166c)\" d=\"M 267.372273 224.64 \nL 273.459545 224.64 \nL 273.459545 195.518571 \nL 267.372273 195.518571 \nz\n\" style=\"fill:#1f77b4;\"/>\n   </g>\n   <g id=\"patch_41\">\n    <path clip-path=\"url(#p66c78c166c)\" d=\"M 273.459545 224.64 \nL 279.546818 224.64 \nL 279.546818 208.461429 \nL 273.459545 208.461429 \nz\n\" style=\"fill:#1f77b4;\"/>\n   </g>\n   <g id=\"patch_42\">\n    <path clip-path=\"url(#p66c78c166c)\" d=\"M 279.546818 224.64 \nL 285.634091 224.64 \nL 285.634091 208.461429 \nL 279.546818 208.461429 \nz\n\" style=\"fill:#1f77b4;\"/>\n   </g>\n   <g id=\"patch_43\">\n    <path clip-path=\"url(#p66c78c166c)\" d=\"M 285.634091 224.64 \nL 291.721364 224.64 \nL 291.721364 214.932857 \nL 285.634091 214.932857 \nz\n\" style=\"fill:#1f77b4;\"/>\n   </g>\n   <g id=\"patch_44\">\n    <path clip-path=\"url(#p66c78c166c)\" d=\"M 291.721364 224.64 \nL 297.808636 224.64 \nL 297.808636 218.168571 \nL 291.721364 218.168571 \nz\n\" style=\"fill:#1f77b4;\"/>\n   </g>\n   <g id=\"patch_45\">\n    <path clip-path=\"url(#p66c78c166c)\" d=\"M 297.808636 224.64 \nL 303.895909 224.64 \nL 303.895909 214.932857 \nL 297.808636 214.932857 \nz\n\" style=\"fill:#1f77b4;\"/>\n   </g>\n   <g id=\"patch_46\">\n    <path clip-path=\"url(#p66c78c166c)\" d=\"M 303.895909 224.64 \nL 309.983182 224.64 \nL 309.983182 218.168571 \nL 303.895909 218.168571 \nz\n\" style=\"fill:#1f77b4;\"/>\n   </g>\n   <g id=\"patch_47\">\n    <path clip-path=\"url(#p66c78c166c)\" d=\"M 309.983182 224.64 \nL 316.070455 224.64 \nL 316.070455 224.64 \nL 309.983182 224.64 \nz\n\" style=\"fill:#1f77b4;\"/>\n   </g>\n   <g id=\"patch_48\">\n    <path clip-path=\"url(#p66c78c166c)\" d=\"M 316.070455 224.64 \nL 322.157727 224.64 \nL 322.157727 224.64 \nL 316.070455 224.64 \nz\n\" style=\"fill:#1f77b4;\"/>\n   </g>\n   <g id=\"patch_49\">\n    <path clip-path=\"url(#p66c78c166c)\" d=\"M 322.157727 224.64 \nL 328.245 224.64 \nL 328.245 224.64 \nL 322.157727 224.64 \nz\n\" style=\"fill:#1f77b4;\"/>\n   </g>\n   <g id=\"patch_50\">\n    <path clip-path=\"url(#p66c78c166c)\" d=\"M 328.245 224.64 \nL 334.332273 224.64 \nL 334.332273 224.64 \nL 328.245 224.64 \nz\n\" style=\"fill:#1f77b4;\"/>\n   </g>\n   <g id=\"patch_51\">\n    <path clip-path=\"url(#p66c78c166c)\" d=\"M 334.332273 224.64 \nL 340.419545 224.64 \nL 340.419545 224.64 \nL 334.332273 224.64 \nz\n\" style=\"fill:#1f77b4;\"/>\n   </g>\n   <g id=\"patch_52\">\n    <path clip-path=\"url(#p66c78c166c)\" d=\"M 340.419545 224.64 \nL 346.506818 224.64 \nL 346.506818 221.404286 \nL 340.419545 221.404286 \nz\n\" style=\"fill:#1f77b4;\"/>\n   </g>\n   <g id=\"matplotlib.axis_1\">\n    <g id=\"xtick_1\">\n     <g id=\"line2d_1\">\n      <defs>\n       <path d=\"M 0 0 \nL 0 3.5 \n\" id=\"m6adcf03dce\" style=\"stroke:#000000;stroke-width:0.8;\"/>\n      </defs>\n      <g>\n       <use style=\"stroke:#000000;stroke-width:0.8;\" x=\"40.134181\" xlink:href=\"#m6adcf03dce\" y=\"224.64\"/>\n      </g>\n     </g>\n     <g id=\"text_1\">\n      <!-- −5300 -->\n      <g transform=\"translate(23.219337 239.238437)scale(0.1 -0.1)\">\n       <defs>\n        <path d=\"M 10.59375 35.5 \nL 73.1875 35.5 \nL 73.1875 27.203125 \nL 10.59375 27.203125 \nz\n\" id=\"DejaVuSans-8722\"/>\n        <path d=\"M 10.796875 72.90625 \nL 49.515625 72.90625 \nL 49.515625 64.59375 \nL 19.828125 64.59375 \nL 19.828125 46.734375 \nQ 21.96875 47.46875 24.109375 47.828125 \nQ 26.265625 48.1875 28.421875 48.1875 \nQ 40.625 48.1875 47.75 41.5 \nQ 54.890625 34.8125 54.890625 23.390625 \nQ 54.890625 11.625 47.5625 5.09375 \nQ 40.234375 -1.421875 26.90625 -1.421875 \nQ 22.3125 -1.421875 17.546875 -0.640625 \nQ 12.796875 0.140625 7.71875 1.703125 \nL 7.71875 11.625 \nQ 12.109375 9.234375 16.796875 8.0625 \nQ 21.484375 6.890625 26.703125 6.890625 \nQ 35.15625 6.890625 40.078125 11.328125 \nQ 45.015625 15.765625 45.015625 23.390625 \nQ 45.015625 31 40.078125 35.4375 \nQ 35.15625 39.890625 26.703125 39.890625 \nQ 22.75 39.890625 18.8125 39.015625 \nQ 14.890625 38.140625 10.796875 36.28125 \nz\n\" id=\"DejaVuSans-53\"/>\n        <path d=\"M 40.578125 39.3125 \nQ 47.65625 37.796875 51.625 33 \nQ 55.609375 28.21875 55.609375 21.1875 \nQ 55.609375 10.40625 48.1875 4.484375 \nQ 40.765625 -1.421875 27.09375 -1.421875 \nQ 22.515625 -1.421875 17.65625 -0.515625 \nQ 12.796875 0.390625 7.625 2.203125 \nL 7.625 11.71875 \nQ 11.71875 9.328125 16.59375 8.109375 \nQ 21.484375 6.890625 26.8125 6.890625 \nQ 36.078125 6.890625 40.9375 10.546875 \nQ 45.796875 14.203125 45.796875 21.1875 \nQ 45.796875 27.640625 41.28125 31.265625 \nQ 36.765625 34.90625 28.71875 34.90625 \nL 20.21875 34.90625 \nL 20.21875 43.015625 \nL 29.109375 43.015625 \nQ 36.375 43.015625 40.234375 45.921875 \nQ 44.09375 48.828125 44.09375 54.296875 \nQ 44.09375 59.90625 40.109375 62.90625 \nQ 36.140625 65.921875 28.71875 65.921875 \nQ 24.65625 65.921875 20.015625 65.03125 \nQ 15.375 64.15625 9.8125 62.3125 \nL 9.8125 71.09375 \nQ 15.4375 72.65625 20.34375 73.4375 \nQ 25.25 74.21875 29.59375 74.21875 \nQ 40.828125 74.21875 47.359375 69.109375 \nQ 53.90625 64.015625 53.90625 55.328125 \nQ 53.90625 49.265625 50.4375 45.09375 \nQ 46.96875 40.921875 40.578125 39.3125 \nz\n\" id=\"DejaVuSans-51\"/>\n        <path d=\"M 31.78125 66.40625 \nQ 24.171875 66.40625 20.328125 58.90625 \nQ 16.5 51.421875 16.5 36.375 \nQ 16.5 21.390625 20.328125 13.890625 \nQ 24.171875 6.390625 31.78125 6.390625 \nQ 39.453125 6.390625 43.28125 13.890625 \nQ 47.125 21.390625 47.125 36.375 \nQ 47.125 51.421875 43.28125 58.90625 \nQ 39.453125 66.40625 31.78125 66.40625 \nz\nM 31.78125 74.21875 \nQ 44.046875 74.21875 50.515625 64.515625 \nQ 56.984375 54.828125 56.984375 36.375 \nQ 56.984375 17.96875 50.515625 8.265625 \nQ 44.046875 -1.421875 31.78125 -1.421875 \nQ 19.53125 -1.421875 13.0625 8.265625 \nQ 6.59375 17.96875 6.59375 36.375 \nQ 6.59375 54.828125 13.0625 64.515625 \nQ 19.53125 74.21875 31.78125 74.21875 \nz\n\" id=\"DejaVuSans-48\"/>\n       </defs>\n       <use xlink:href=\"#DejaVuSans-8722\"/>\n       <use x=\"83.789062\" xlink:href=\"#DejaVuSans-53\"/>\n       <use x=\"147.412109\" xlink:href=\"#DejaVuSans-51\"/>\n       <use x=\"211.035156\" xlink:href=\"#DejaVuSans-48\"/>\n       <use x=\"274.658203\" xlink:href=\"#DejaVuSans-48\"/>\n      </g>\n     </g>\n    </g>\n    <g id=\"xtick_2\">\n     <g id=\"line2d_2\">\n      <g>\n       <use style=\"stroke:#000000;stroke-width:0.8;\" x=\"90.359203\" xlink:href=\"#m6adcf03dce\" y=\"224.64\"/>\n      </g>\n     </g>\n     <g id=\"text_2\">\n      <!-- −5200 -->\n      <g transform=\"translate(73.44436 239.238437)scale(0.1 -0.1)\">\n       <defs>\n        <path d=\"M 19.1875 8.296875 \nL 53.609375 8.296875 \nL 53.609375 0 \nL 7.328125 0 \nL 7.328125 8.296875 \nQ 12.9375 14.109375 22.625 23.890625 \nQ 32.328125 33.6875 34.8125 36.53125 \nQ 39.546875 41.84375 41.421875 45.53125 \nQ 43.3125 49.21875 43.3125 52.78125 \nQ 43.3125 58.59375 39.234375 62.25 \nQ 35.15625 65.921875 28.609375 65.921875 \nQ 23.96875 65.921875 18.8125 64.3125 \nQ 13.671875 62.703125 7.8125 59.421875 \nL 7.8125 69.390625 \nQ 13.765625 71.78125 18.9375 73 \nQ 24.125 74.21875 28.421875 74.21875 \nQ 39.75 74.21875 46.484375 68.546875 \nQ 53.21875 62.890625 53.21875 53.421875 \nQ 53.21875 48.921875 51.53125 44.890625 \nQ 49.859375 40.875 45.40625 35.40625 \nQ 44.1875 33.984375 37.640625 27.21875 \nQ 31.109375 20.453125 19.1875 8.296875 \nz\n\" id=\"DejaVuSans-50\"/>\n       </defs>\n       <use xlink:href=\"#DejaVuSans-8722\"/>\n       <use x=\"83.789062\" xlink:href=\"#DejaVuSans-53\"/>\n       <use x=\"147.412109\" xlink:href=\"#DejaVuSans-50\"/>\n       <use x=\"211.035156\" xlink:href=\"#DejaVuSans-48\"/>\n       <use x=\"274.658203\" xlink:href=\"#DejaVuSans-48\"/>\n      </g>\n     </g>\n    </g>\n    <g id=\"xtick_3\">\n     <g id=\"line2d_3\">\n      <g>\n       <use style=\"stroke:#000000;stroke-width:0.8;\" x=\"140.584226\" xlink:href=\"#m6adcf03dce\" y=\"224.64\"/>\n      </g>\n     </g>\n     <g id=\"text_3\">\n      <!-- −5100 -->\n      <g transform=\"translate(123.669382 239.238437)scale(0.1 -0.1)\">\n       <defs>\n        <path d=\"M 12.40625 8.296875 \nL 28.515625 8.296875 \nL 28.515625 63.921875 \nL 10.984375 60.40625 \nL 10.984375 69.390625 \nL 28.421875 72.90625 \nL 38.28125 72.90625 \nL 38.28125 8.296875 \nL 54.390625 8.296875 \nL 54.390625 0 \nL 12.40625 0 \nz\n\" id=\"DejaVuSans-49\"/>\n       </defs>\n       <use xlink:href=\"#DejaVuSans-8722\"/>\n       <use x=\"83.789062\" xlink:href=\"#DejaVuSans-53\"/>\n       <use x=\"147.412109\" xlink:href=\"#DejaVuSans-49\"/>\n       <use x=\"211.035156\" xlink:href=\"#DejaVuSans-48\"/>\n       <use x=\"274.658203\" xlink:href=\"#DejaVuSans-48\"/>\n      </g>\n     </g>\n    </g>\n    <g id=\"xtick_4\">\n     <g id=\"line2d_4\">\n      <g>\n       <use style=\"stroke:#000000;stroke-width:0.8;\" x=\"190.809248\" xlink:href=\"#m6adcf03dce\" y=\"224.64\"/>\n      </g>\n     </g>\n     <g id=\"text_4\">\n      <!-- −5000 -->\n      <g transform=\"translate(173.894405 239.238437)scale(0.1 -0.1)\">\n       <use xlink:href=\"#DejaVuSans-8722\"/>\n       <use x=\"83.789062\" xlink:href=\"#DejaVuSans-53\"/>\n       <use x=\"147.412109\" xlink:href=\"#DejaVuSans-48\"/>\n       <use x=\"211.035156\" xlink:href=\"#DejaVuSans-48\"/>\n       <use x=\"274.658203\" xlink:href=\"#DejaVuSans-48\"/>\n      </g>\n     </g>\n    </g>\n    <g id=\"xtick_5\">\n     <g id=\"line2d_5\">\n      <g>\n       <use style=\"stroke:#000000;stroke-width:0.8;\" x=\"241.034271\" xlink:href=\"#m6adcf03dce\" y=\"224.64\"/>\n      </g>\n     </g>\n     <g id=\"text_5\">\n      <!-- −4900 -->\n      <g transform=\"translate(224.119427 239.238437)scale(0.1 -0.1)\">\n       <defs>\n        <path d=\"M 37.796875 64.3125 \nL 12.890625 25.390625 \nL 37.796875 25.390625 \nz\nM 35.203125 72.90625 \nL 47.609375 72.90625 \nL 47.609375 25.390625 \nL 58.015625 25.390625 \nL 58.015625 17.1875 \nL 47.609375 17.1875 \nL 47.609375 0 \nL 37.796875 0 \nL 37.796875 17.1875 \nL 4.890625 17.1875 \nL 4.890625 26.703125 \nz\n\" id=\"DejaVuSans-52\"/>\n        <path d=\"M 10.984375 1.515625 \nL 10.984375 10.5 \nQ 14.703125 8.734375 18.5 7.8125 \nQ 22.3125 6.890625 25.984375 6.890625 \nQ 35.75 6.890625 40.890625 13.453125 \nQ 46.046875 20.015625 46.78125 33.40625 \nQ 43.953125 29.203125 39.59375 26.953125 \nQ 35.25 24.703125 29.984375 24.703125 \nQ 19.046875 24.703125 12.671875 31.3125 \nQ 6.296875 37.9375 6.296875 49.421875 \nQ 6.296875 60.640625 12.9375 67.421875 \nQ 19.578125 74.21875 30.609375 74.21875 \nQ 43.265625 74.21875 49.921875 64.515625 \nQ 56.59375 54.828125 56.59375 36.375 \nQ 56.59375 19.140625 48.40625 8.859375 \nQ 40.234375 -1.421875 26.421875 -1.421875 \nQ 22.703125 -1.421875 18.890625 -0.6875 \nQ 15.09375 0.046875 10.984375 1.515625 \nz\nM 30.609375 32.421875 \nQ 37.25 32.421875 41.125 36.953125 \nQ 45.015625 41.5 45.015625 49.421875 \nQ 45.015625 57.28125 41.125 61.84375 \nQ 37.25 66.40625 30.609375 66.40625 \nQ 23.96875 66.40625 20.09375 61.84375 \nQ 16.21875 57.28125 16.21875 49.421875 \nQ 16.21875 41.5 20.09375 36.953125 \nQ 23.96875 32.421875 30.609375 32.421875 \nz\n\" id=\"DejaVuSans-57\"/>\n       </defs>\n       <use xlink:href=\"#DejaVuSans-8722\"/>\n       <use x=\"83.789062\" xlink:href=\"#DejaVuSans-52\"/>\n       <use x=\"147.412109\" xlink:href=\"#DejaVuSans-57\"/>\n       <use x=\"211.035156\" xlink:href=\"#DejaVuSans-48\"/>\n       <use x=\"274.658203\" xlink:href=\"#DejaVuSans-48\"/>\n      </g>\n     </g>\n    </g>\n    <g id=\"xtick_6\">\n     <g id=\"line2d_6\">\n      <g>\n       <use style=\"stroke:#000000;stroke-width:0.8;\" x=\"291.259293\" xlink:href=\"#m6adcf03dce\" y=\"224.64\"/>\n      </g>\n     </g>\n     <g id=\"text_6\">\n      <!-- −4800 -->\n      <g transform=\"translate(274.34445 239.238437)scale(0.1 -0.1)\">\n       <defs>\n        <path d=\"M 31.78125 34.625 \nQ 24.75 34.625 20.71875 30.859375 \nQ 16.703125 27.09375 16.703125 20.515625 \nQ 16.703125 13.921875 20.71875 10.15625 \nQ 24.75 6.390625 31.78125 6.390625 \nQ 38.8125 6.390625 42.859375 10.171875 \nQ 46.921875 13.96875 46.921875 20.515625 \nQ 46.921875 27.09375 42.890625 30.859375 \nQ 38.875 34.625 31.78125 34.625 \nz\nM 21.921875 38.8125 \nQ 15.578125 40.375 12.03125 44.71875 \nQ 8.5 49.078125 8.5 55.328125 \nQ 8.5 64.0625 14.71875 69.140625 \nQ 20.953125 74.21875 31.78125 74.21875 \nQ 42.671875 74.21875 48.875 69.140625 \nQ 55.078125 64.0625 55.078125 55.328125 \nQ 55.078125 49.078125 51.53125 44.71875 \nQ 48 40.375 41.703125 38.8125 \nQ 48.828125 37.15625 52.796875 32.3125 \nQ 56.78125 27.484375 56.78125 20.515625 \nQ 56.78125 9.90625 50.3125 4.234375 \nQ 43.84375 -1.421875 31.78125 -1.421875 \nQ 19.734375 -1.421875 13.25 4.234375 \nQ 6.78125 9.90625 6.78125 20.515625 \nQ 6.78125 27.484375 10.78125 32.3125 \nQ 14.796875 37.15625 21.921875 38.8125 \nz\nM 18.3125 54.390625 \nQ 18.3125 48.734375 21.84375 45.5625 \nQ 25.390625 42.390625 31.78125 42.390625 \nQ 38.140625 42.390625 41.71875 45.5625 \nQ 45.3125 48.734375 45.3125 54.390625 \nQ 45.3125 60.0625 41.71875 63.234375 \nQ 38.140625 66.40625 31.78125 66.40625 \nQ 25.390625 66.40625 21.84375 63.234375 \nQ 18.3125 60.0625 18.3125 54.390625 \nz\n\" id=\"DejaVuSans-56\"/>\n       </defs>\n       <use xlink:href=\"#DejaVuSans-8722\"/>\n       <use x=\"83.789062\" xlink:href=\"#DejaVuSans-52\"/>\n       <use x=\"147.412109\" xlink:href=\"#DejaVuSans-56\"/>\n       <use x=\"211.035156\" xlink:href=\"#DejaVuSans-48\"/>\n       <use x=\"274.658203\" xlink:href=\"#DejaVuSans-48\"/>\n      </g>\n     </g>\n    </g>\n    <g id=\"xtick_7\">\n     <g id=\"line2d_7\">\n      <g>\n       <use style=\"stroke:#000000;stroke-width:0.8;\" x=\"341.484316\" xlink:href=\"#m6adcf03dce\" y=\"224.64\"/>\n      </g>\n     </g>\n     <g id=\"text_7\">\n      <!-- −4700 -->\n      <g transform=\"translate(324.569472 239.238437)scale(0.1 -0.1)\">\n       <defs>\n        <path d=\"M 8.203125 72.90625 \nL 55.078125 72.90625 \nL 55.078125 68.703125 \nL 28.609375 0 \nL 18.3125 0 \nL 43.21875 64.59375 \nL 8.203125 64.59375 \nz\n\" id=\"DejaVuSans-55\"/>\n       </defs>\n       <use xlink:href=\"#DejaVuSans-8722\"/>\n       <use x=\"83.789062\" xlink:href=\"#DejaVuSans-52\"/>\n       <use x=\"147.412109\" xlink:href=\"#DejaVuSans-55\"/>\n       <use x=\"211.035156\" xlink:href=\"#DejaVuSans-48\"/>\n       <use x=\"274.658203\" xlink:href=\"#DejaVuSans-48\"/>\n      </g>\n     </g>\n    </g>\n   </g>\n   <g id=\"matplotlib.axis_2\">\n    <g id=\"ytick_1\">\n     <g id=\"line2d_8\">\n      <defs>\n       <path d=\"M 0 0 \nL -3.5 0 \n\" id=\"mfbd5633672\" style=\"stroke:#000000;stroke-width:0.8;\"/>\n      </defs>\n      <g>\n       <use style=\"stroke:#000000;stroke-width:0.8;\" x=\"26.925\" xlink:href=\"#mfbd5633672\" y=\"224.64\"/>\n      </g>\n     </g>\n     <g id=\"text_8\">\n      <!-- 0 -->\n      <g transform=\"translate(13.5625 228.439219)scale(0.1 -0.1)\">\n       <use xlink:href=\"#DejaVuSans-48\"/>\n      </g>\n     </g>\n    </g>\n    <g id=\"ytick_2\">\n     <g id=\"line2d_9\">\n      <g>\n       <use style=\"stroke:#000000;stroke-width:0.8;\" x=\"26.925\" xlink:href=\"#mfbd5633672\" y=\"192.282857\"/>\n      </g>\n     </g>\n     <g id=\"text_9\">\n      <!-- 10 -->\n      <g transform=\"translate(7.2 196.082076)scale(0.1 -0.1)\">\n       <use xlink:href=\"#DejaVuSans-49\"/>\n       <use x=\"63.623047\" xlink:href=\"#DejaVuSans-48\"/>\n      </g>\n     </g>\n    </g>\n    <g id=\"ytick_3\">\n     <g id=\"line2d_10\">\n      <g>\n       <use style=\"stroke:#000000;stroke-width:0.8;\" x=\"26.925\" xlink:href=\"#mfbd5633672\" y=\"159.925714\"/>\n      </g>\n     </g>\n     <g id=\"text_10\">\n      <!-- 20 -->\n      <g transform=\"translate(7.2 163.724933)scale(0.1 -0.1)\">\n       <use xlink:href=\"#DejaVuSans-50\"/>\n       <use x=\"63.623047\" xlink:href=\"#DejaVuSans-48\"/>\n      </g>\n     </g>\n    </g>\n    <g id=\"ytick_4\">\n     <g id=\"line2d_11\">\n      <g>\n       <use style=\"stroke:#000000;stroke-width:0.8;\" x=\"26.925\" xlink:href=\"#mfbd5633672\" y=\"127.568571\"/>\n      </g>\n     </g>\n     <g id=\"text_11\">\n      <!-- 30 -->\n      <g transform=\"translate(7.2 131.36779)scale(0.1 -0.1)\">\n       <use xlink:href=\"#DejaVuSans-51\"/>\n       <use x=\"63.623047\" xlink:href=\"#DejaVuSans-48\"/>\n      </g>\n     </g>\n    </g>\n    <g id=\"ytick_5\">\n     <g id=\"line2d_12\">\n      <g>\n       <use style=\"stroke:#000000;stroke-width:0.8;\" x=\"26.925\" xlink:href=\"#mfbd5633672\" y=\"95.211429\"/>\n      </g>\n     </g>\n     <g id=\"text_12\">\n      <!-- 40 -->\n      <g transform=\"translate(7.2 99.010647)scale(0.1 -0.1)\">\n       <use xlink:href=\"#DejaVuSans-52\"/>\n       <use x=\"63.623047\" xlink:href=\"#DejaVuSans-48\"/>\n      </g>\n     </g>\n    </g>\n    <g id=\"ytick_6\">\n     <g id=\"line2d_13\">\n      <g>\n       <use style=\"stroke:#000000;stroke-width:0.8;\" x=\"26.925\" xlink:href=\"#mfbd5633672\" y=\"62.854286\"/>\n      </g>\n     </g>\n     <g id=\"text_13\">\n      <!-- 50 -->\n      <g transform=\"translate(7.2 66.653504)scale(0.1 -0.1)\">\n       <use xlink:href=\"#DejaVuSans-53\"/>\n       <use x=\"63.623047\" xlink:href=\"#DejaVuSans-48\"/>\n      </g>\n     </g>\n    </g>\n    <g id=\"ytick_7\">\n     <g id=\"line2d_14\">\n      <g>\n       <use style=\"stroke:#000000;stroke-width:0.8;\" x=\"26.925\" xlink:href=\"#mfbd5633672\" y=\"30.497143\"/>\n      </g>\n     </g>\n     <g id=\"text_14\">\n      <!-- 60 -->\n      <g transform=\"translate(7.2 34.296362)scale(0.1 -0.1)\">\n       <defs>\n        <path d=\"M 33.015625 40.375 \nQ 26.375 40.375 22.484375 35.828125 \nQ 18.609375 31.296875 18.609375 23.390625 \nQ 18.609375 15.53125 22.484375 10.953125 \nQ 26.375 6.390625 33.015625 6.390625 \nQ 39.65625 6.390625 43.53125 10.953125 \nQ 47.40625 15.53125 47.40625 23.390625 \nQ 47.40625 31.296875 43.53125 35.828125 \nQ 39.65625 40.375 33.015625 40.375 \nz\nM 52.59375 71.296875 \nL 52.59375 62.3125 \nQ 48.875 64.0625 45.09375 64.984375 \nQ 41.3125 65.921875 37.59375 65.921875 \nQ 27.828125 65.921875 22.671875 59.328125 \nQ 17.53125 52.734375 16.796875 39.40625 \nQ 19.671875 43.65625 24.015625 45.921875 \nQ 28.375 48.1875 33.59375 48.1875 \nQ 44.578125 48.1875 50.953125 41.515625 \nQ 57.328125 34.859375 57.328125 23.390625 \nQ 57.328125 12.15625 50.6875 5.359375 \nQ 44.046875 -1.421875 33.015625 -1.421875 \nQ 20.359375 -1.421875 13.671875 8.265625 \nQ 6.984375 17.96875 6.984375 36.375 \nQ 6.984375 53.65625 15.1875 63.9375 \nQ 23.390625 74.21875 37.203125 74.21875 \nQ 40.921875 74.21875 44.703125 73.484375 \nQ 48.484375 72.75 52.59375 71.296875 \nz\n\" id=\"DejaVuSans-54\"/>\n       </defs>\n       <use xlink:href=\"#DejaVuSans-54\"/>\n       <use x=\"63.623047\" xlink:href=\"#DejaVuSans-48\"/>\n      </g>\n     </g>\n    </g>\n   </g>\n   <g id=\"patch_53\">\n    <path d=\"M 26.925 224.64 \nL 26.925 7.2 \n\" style=\"fill:none;stroke:#000000;stroke-linecap:square;stroke-linejoin:miter;stroke-width:0.8;\"/>\n   </g>\n   <g id=\"patch_54\">\n    <path d=\"M 361.725 224.64 \nL 361.725 7.2 \n\" style=\"fill:none;stroke:#000000;stroke-linecap:square;stroke-linejoin:miter;stroke-width:0.8;\"/>\n   </g>\n   <g id=\"patch_55\">\n    <path d=\"M 26.925 224.64 \nL 361.725 224.64 \n\" style=\"fill:none;stroke:#000000;stroke-linecap:square;stroke-linejoin:miter;stroke-width:0.8;\"/>\n   </g>\n   <g id=\"patch_56\">\n    <path d=\"M 26.925 7.2 \nL 361.725 7.2 \n\" style=\"fill:none;stroke:#000000;stroke-linecap:square;stroke-linejoin:miter;stroke-width:0.8;\"/>\n   </g>\n  </g>\n </g>\n <defs>\n  <clipPath id=\"p66c78c166c\">\n   <rect height=\"217.44\" width=\"334.8\" x=\"26.925\" y=\"7.2\"/>\n  </clipPath>\n </defs>\n</svg>\n",
      "image/png": "[encoded data removed]"
     },
     "metadata": {
      "needs_background": "light"
     }
    },
    {
     "output_type": "stream",
     "name": "stdout",
     "text": [
      "-5005.252\n7555.392496000001\n"
     ]
    }
   ],
   "source": [
    "#f) Solution\n",
    "trajectory_final_positions = np.array(Trajectories(M,N,0.25))\n",
    "\n",
    "plt.hist(trajectory_final_positions, bins = bin_count, )\n",
    "plt.show()\n",
    "\n",
    "print(np.mean(trajectory_final_positions))\n",
    "print(np.var(trajectory_final_positions))\n",
    "\n"
   ]
  },
  {
   "cell_type": "markdown",
   "metadata": {},
   "source": [
    "Compare the mean and variance for different values of N and p. Your results should compare well with the analytical expressions found in your treatment of the biased coin toss in HW1, where $p$ is the probability of stepping in the $+1$ direction"
   ]
  },
  {
   "cell_type": "markdown",
   "metadata": {},
   "source": [
    "$$\\mathrm{Mean} = N(2p-1) \\qquad \\mathrm{Variance} = 4Np(1-p).$$"
   ]
  },
  {
   "cell_type": "markdown",
   "metadata": {},
   "source": [
    "Recall that the binomial distribution describing this problem is:\n",
    "$$P(N, r) = \\binom{N}{r} p^r (1-p)^{N-r},$$\n",
    "where $r$ is number of +1 steps in the trajectory. Rewrite this in terms of the net displacement $x = r - (N-r)$. We can then compare this analytical result to our numerical result by overplotting the binomial distribution with the results of our simulations."
   ]
  },
  {
   "cell_type": "markdown",
   "metadata": {},
   "source": [
    "#### g) Overplot the exact biased binomial distribution over the histogram of ending distances. The function scipy.stats.binom.pmf can be used to compute this directly. Explore values of $p = 0.25, 0.5, 0.75$ and show that the binomial distribution describes the data and that the measured mean and vairance agree with the expectations from the binomial distribution. Keep the number of trials $M=1000$ and number of steps $N=10000$."
   ]
  },
  {
   "cell_type": "code",
   "execution_count": 51,
   "metadata": {},
   "outputs": [
    {
     "output_type": "stream",
     "name": "stdout",
     "text": [
      "x range:  -354 326\n",
      "here 5000 -4.830986538981961\n",
      "y range:  -11.097468939253304 -4.830986538981961\n"
     ]
    },
    {
     "output_type": "display_data",
     "data": {
      "text/plain": "<Figure size 432x288 with 1 Axes>",
      "image/svg+xml": "<?xml version=\"1.0\" encoding=\"utf-8\" standalone=\"no\"?>\n<!DOCTYPE svg PUBLIC \"-//W3C//DTD SVG 1.1//EN\"\n  \"http://www.w3.org/Graphics/SVG/1.1/DTD/svg11.dtd\">\n<!-- Created with matplotlib (https://matplotlib.org/) -->\n<svg height=\"248.518125pt\" version=\"1.1\" viewBox=\"0 0 362.5625 248.518125\" width=\"362.5625pt\" xmlns=\"http://www.w3.org/2000/svg\" xmlns:xlink=\"http://www.w3.org/1999/xlink\">\n <metadata>\n  <rdf:RDF xmlns:cc=\"http://creativecommons.org/ns#\" xmlns:dc=\"http://purl.org/dc/elements/1.1/\" xmlns:rdf=\"http://www.w3.org/1999/02/22-rdf-syntax-ns#\">\n   <cc:Work>\n    <dc:type rdf:resource=\"http://purl.org/dc/dcmitype/StillImage\"/>\n    <dc:date>2021-02-14T17:40:20.518288</dc:date>\n    <dc:format>image/svg+xml</dc:format>\n    <dc:creator>\n     <cc:Agent>\n      <dc:title>Matplotlib v3.3.2, https://matplotlib.org/</dc:title>\n     </cc:Agent>\n    </dc:creator>\n   </cc:Work>\n  </rdf:RDF>\n </metadata>\n <defs>\n  <style type=\"text/css\">*{stroke-linecap:butt;stroke-linejoin:round;}</style>\n </defs>\n <g id=\"figure_1\">\n  <g id=\"patch_1\">\n   <path d=\"M 0 248.518125 \nL 362.5625 248.518125 \nL 362.5625 0 \nL 0 0 \nz\n\" style=\"fill:none;\"/>\n  </g>\n  <g id=\"axes_1\">\n   <g id=\"patch_2\">\n    <path d=\"M 20.5625 224.64 \nL 355.3625 224.64 \nL 355.3625 7.2 \nL 20.5625 7.2 \nz\n\" style=\"fill:#ffffff;\"/>\n   </g>\n   <g id=\"patch_3\">\n    <path clip-path=\"url(#p64bbcbc2c6)\" d=\"M 35.780682 224.64 \nL 36.145626 224.64 \nL 36.145626 224.246766 \nL 35.780682 224.246766 \nz\n\" style=\"fill:#1f77b4;\"/>\n   </g>\n   <g id=\"patch_4\">\n    <path clip-path=\"url(#p64bbcbc2c6)\" d=\"M 41.984737 224.64 \nL 42.349681 224.64 \nL 42.349681 224.000714 \nL 41.984737 224.000714 \nz\n\" style=\"fill:#1f77b4;\"/>\n   </g>\n   <g id=\"patch_5\">\n    <path clip-path=\"url(#p64bbcbc2c6)\" d=\"M 48.188792 224.64 \nL 48.553736 224.64 \nL 48.553736 223.620897 \nL 48.188792 223.620897 \nz\n\" style=\"fill:#1f77b4;\"/>\n   </g>\n   <g id=\"patch_6\">\n    <path clip-path=\"url(#p64bbcbc2c6)\" d=\"M 54.392847 224.64 \nL 54.757791 224.64 \nL 54.757791 223.14367 \nL 54.392847 223.14367 \nz\n\" style=\"fill:#1f77b4;\"/>\n   </g>\n   <g id=\"patch_7\">\n    <path clip-path=\"url(#p64bbcbc2c6)\" d=\"M 60.596902 224.64 \nL 60.961846 224.64 \nL 60.961846 222.340003 \nL 60.596902 222.340003 \nz\n\" style=\"fill:#1f77b4;\"/>\n   </g>\n   <g id=\"patch_8\">\n    <path clip-path=\"url(#p64bbcbc2c6)\" d=\"M 66.800957 224.64 \nL 67.165901 224.64 \nL 67.165901 221.173366 \nL 66.800957 221.173366 \nz\n\" style=\"fill:#1f77b4;\"/>\n   </g>\n   <g id=\"patch_9\">\n    <path clip-path=\"url(#p64bbcbc2c6)\" d=\"M 73.005011 224.64 \nL 73.369956 224.64 \nL 73.369956 219.516455 \nL 73.005011 219.516455 \nz\n\" style=\"fill:#1f77b4;\"/>\n   </g>\n   <g id=\"patch_10\">\n    <path clip-path=\"url(#p64bbcbc2c6)\" d=\"M 79.209066 224.64 \nL 79.574011 224.64 \nL 79.574011 217.214676 \nL 79.209066 217.214676 \nz\n\" style=\"fill:#1f77b4;\"/>\n   </g>\n   <g id=\"patch_11\">\n    <path clip-path=\"url(#p64bbcbc2c6)\" d=\"M 85.413121 224.64 \nL 85.778066 224.64 \nL 85.778066 214.592436 \nL 85.413121 214.592436 \nz\n\" style=\"fill:#1f77b4;\"/>\n   </g>\n   <g id=\"patch_12\">\n    <path clip-path=\"url(#p64bbcbc2c6)\" d=\"M 91.617176 224.64 \nL 91.982121 224.64 \nL 91.982121 210.599297 \nL 91.617176 210.599297 \nz\n\" style=\"fill:#1f77b4;\"/>\n   </g>\n   <g id=\"patch_13\">\n    <path clip-path=\"url(#p64bbcbc2c6)\" d=\"M 97.821231 224.64 \nL 98.186176 224.64 \nL 98.186176 205.400178 \nL 97.821231 205.400178 \nz\n\" style=\"fill:#1f77b4;\"/>\n   </g>\n   <g id=\"patch_14\">\n    <path clip-path=\"url(#p64bbcbc2c6)\" d=\"M 104.025286 224.64 \nL 104.390231 224.64 \nL 104.390231 198.787778 \nL 104.025286 198.787778 \nz\n\" style=\"fill:#1f77b4;\"/>\n   </g>\n   <g id=\"patch_15\">\n    <path clip-path=\"url(#p64bbcbc2c6)\" d=\"M 110.229341 224.64 \nL 110.594285 224.64 \nL 110.594285 190.577241 \nL 110.229341 190.577241 \nz\n\" style=\"fill:#1f77b4;\"/>\n   </g>\n   <g id=\"patch_16\">\n    <path clip-path=\"url(#p64bbcbc2c6)\" d=\"M 116.433396 224.64 \nL 116.79834 224.64 \nL 116.79834 182.161097 \nL 116.433396 182.161097 \nz\n\" style=\"fill:#1f77b4;\"/>\n   </g>\n   <g id=\"patch_17\">\n    <path clip-path=\"url(#p64bbcbc2c6)\" d=\"M 122.637451 224.64 \nL 123.002395 224.64 \nL 123.002395 170.671152 \nL 122.637451 170.671152 \nz\n\" style=\"fill:#1f77b4;\"/>\n   </g>\n   <g id=\"patch_18\">\n    <path clip-path=\"url(#p64bbcbc2c6)\" d=\"M 128.841506 224.64 \nL 129.20645 224.64 \nL 129.20645 157.404384 \nL 128.841506 157.404384 \nz\n\" style=\"fill:#1f77b4;\"/>\n   </g>\n   <g id=\"patch_19\">\n    <path clip-path=\"url(#p64bbcbc2c6)\" d=\"M 135.045561 224.64 \nL 135.410505 224.64 \nL 135.410505 142.502329 \nL 135.045561 142.502329 \nz\n\" style=\"fill:#1f77b4;\"/>\n   </g>\n   <g id=\"patch_20\">\n    <path clip-path=\"url(#p64bbcbc2c6)\" d=\"M 141.249616 224.64 \nL 141.61456 224.64 \nL 141.61456 126.245123 \nL 141.249616 126.245123 \nz\n\" style=\"fill:#1f77b4;\"/>\n   </g>\n   <g id=\"patch_21\">\n    <path clip-path=\"url(#p64bbcbc2c6)\" d=\"M 147.453671 224.64 \nL 147.818615 224.64 \nL 147.818615 111.550325 \nL 147.453671 111.550325 \nz\n\" style=\"fill:#1f77b4;\"/>\n   </g>\n   <g id=\"patch_22\">\n    <path clip-path=\"url(#p64bbcbc2c6)\" d=\"M 153.657726 224.64 \nL 154.02267 224.64 \nL 154.02267 94.009623 \nL 153.657726 94.009623 \nz\n\" style=\"fill:#1f77b4;\"/>\n   </g>\n   <g id=\"patch_23\">\n    <path clip-path=\"url(#p64bbcbc2c6)\" d=\"M 159.861781 224.64 \nL 160.226725 224.64 \nL 160.226725 76.676942 \nL 159.861781 76.676942 \nz\n\" style=\"fill:#1f77b4;\"/>\n   </g>\n   <g id=\"patch_24\">\n    <path clip-path=\"url(#p64bbcbc2c6)\" d=\"M 166.065836 224.64 \nL 166.43078 224.64 \nL 166.43078 60.29726 \nL 166.065836 60.29726 \nz\n\" style=\"fill:#1f77b4;\"/>\n   </g>\n   <g id=\"patch_25\">\n    <path clip-path=\"url(#p64bbcbc2c6)\" d=\"M 172.26989 224.64 \nL 172.634835 224.64 \nL 172.634835 45.647008 \nL 172.26989 45.647008 \nz\n\" style=\"fill:#1f77b4;\"/>\n   </g>\n   <g id=\"patch_26\">\n    <path clip-path=\"url(#p64bbcbc2c6)\" d=\"M 178.473945 224.64 \nL 178.83889 224.64 \nL 178.83889 35.035306 \nL 178.473945 35.035306 \nz\n\" style=\"fill:#1f77b4;\"/>\n   </g>\n   <g id=\"patch_27\">\n    <path clip-path=\"url(#p64bbcbc2c6)\" d=\"M 184.678 224.64 \nL 185.042945 224.64 \nL 185.042945 25.514226 \nL 184.678 25.514226 \nz\n\" style=\"fill:#1f77b4;\"/>\n   </g>\n   <g id=\"patch_28\">\n    <path clip-path=\"url(#p64bbcbc2c6)\" d=\"M 190.882055 224.64 \nL 191.247 224.64 \nL 191.247 19.573614 \nL 190.882055 19.573614 \nz\n\" style=\"fill:#1f77b4;\"/>\n   </g>\n   <g id=\"patch_29\">\n    <path clip-path=\"url(#p64bbcbc2c6)\" d=\"M 197.08611 224.64 \nL 197.451055 224.64 \nL 197.451055 17.554286 \nL 197.08611 17.554286 \nz\n\" style=\"fill:#1f77b4;\"/>\n   </g>\n   <g id=\"patch_30\">\n    <path clip-path=\"url(#p64bbcbc2c6)\" d=\"M 203.290165 224.64 \nL 203.65511 224.64 \nL 203.65511 19.573614 \nL 203.290165 19.573614 \nz\n\" style=\"fill:#1f77b4;\"/>\n   </g>\n   <g id=\"patch_31\">\n    <path clip-path=\"url(#p64bbcbc2c6)\" d=\"M 209.49422 224.64 \nL 209.859164 224.64 \nL 209.859164 24.436144 \nL 209.49422 24.436144 \nz\n\" style=\"fill:#1f77b4;\"/>\n   </g>\n   <g id=\"patch_32\">\n    <path clip-path=\"url(#p64bbcbc2c6)\" d=\"M 215.698275 224.64 \nL 216.063219 224.64 \nL 216.063219 33.474304 \nL 215.698275 33.474304 \nz\n\" style=\"fill:#1f77b4;\"/>\n   </g>\n   <g id=\"patch_33\">\n    <path clip-path=\"url(#p64bbcbc2c6)\" d=\"M 221.90233 224.64 \nL 222.267274 224.64 \nL 222.267274 45.647008 \nL 221.90233 45.647008 \nz\n\" style=\"fill:#1f77b4;\"/>\n   </g>\n   <g id=\"patch_34\">\n    <path clip-path=\"url(#p64bbcbc2c6)\" d=\"M 228.106385 224.64 \nL 228.471329 224.64 \nL 228.471329 60.29726 \nL 228.106385 60.29726 \nz\n\" style=\"fill:#1f77b4;\"/>\n   </g>\n   <g id=\"patch_35\">\n    <path clip-path=\"url(#p64bbcbc2c6)\" d=\"M 234.31044 224.64 \nL 234.675384 224.64 \nL 234.675384 76.676942 \nL 234.31044 76.676942 \nz\n\" style=\"fill:#1f77b4;\"/>\n   </g>\n   <g id=\"patch_36\">\n    <path clip-path=\"url(#p64bbcbc2c6)\" d=\"M 240.514495 224.64 \nL 240.879439 224.64 \nL 240.879439 91.504094 \nL 240.514495 91.504094 \nz\n\" style=\"fill:#1f77b4;\"/>\n   </g>\n   <g id=\"patch_37\">\n    <path clip-path=\"url(#p64bbcbc2c6)\" d=\"M 246.71855 224.64 \nL 247.083494 224.64 \nL 247.083494 109.058054 \nL 246.71855 109.058054 \nz\n\" style=\"fill:#1f77b4;\"/>\n   </g>\n   <g id=\"patch_38\">\n    <path clip-path=\"url(#p64bbcbc2c6)\" d=\"M 252.922605 224.64 \nL 253.287549 224.64 \nL 253.287549 126.245123 \nL 252.922605 126.245123 \nz\n\" style=\"fill:#1f77b4;\"/>\n   </g>\n   <g id=\"patch_39\">\n    <path clip-path=\"url(#p64bbcbc2c6)\" d=\"M 259.12666 224.64 \nL 259.491604 224.64 \nL 259.491604 142.502329 \nL 259.12666 142.502329 \nz\n\" style=\"fill:#1f77b4;\"/>\n   </g>\n   <g id=\"patch_40\">\n    <path clip-path=\"url(#p64bbcbc2c6)\" d=\"M 265.330715 224.64 \nL 265.695659 224.64 \nL 265.695659 157.404384 \nL 265.330715 157.404384 \nz\n\" style=\"fill:#1f77b4;\"/>\n   </g>\n   <g id=\"patch_41\">\n    <path clip-path=\"url(#p64bbcbc2c6)\" d=\"M 271.534769 224.64 \nL 271.899714 224.64 \nL 271.899714 168.882796 \nL 271.534769 168.882796 \nz\n\" style=\"fill:#1f77b4;\"/>\n   </g>\n   <g id=\"patch_42\">\n    <path clip-path=\"url(#p64bbcbc2c6)\" d=\"M 277.738824 224.64 \nL 278.103769 224.64 \nL 278.103769 180.630404 \nL 277.738824 180.630404 \nz\n\" style=\"fill:#1f77b4;\"/>\n   </g>\n   <g id=\"patch_43\">\n    <path clip-path=\"url(#p64bbcbc2c6)\" d=\"M 283.942879 224.64 \nL 284.307824 224.64 \nL 284.307824 190.577241 \nL 283.942879 190.577241 \nz\n\" style=\"fill:#1f77b4;\"/>\n   </g>\n   <g id=\"patch_44\">\n    <path clip-path=\"url(#p64bbcbc2c6)\" d=\"M 290.146934 224.64 \nL 290.511879 224.64 \nL 290.511879 198.787778 \nL 290.146934 198.787778 \nz\n\" style=\"fill:#1f77b4;\"/>\n   </g>\n   <g id=\"patch_45\">\n    <path clip-path=\"url(#p64bbcbc2c6)\" d=\"M 296.350989 224.64 \nL 296.715934 224.64 \nL 296.715934 205.400178 \nL 296.350989 205.400178 \nz\n\" style=\"fill:#1f77b4;\"/>\n   </g>\n   <g id=\"patch_46\">\n    <path clip-path=\"url(#p64bbcbc2c6)\" d=\"M 302.555044 224.64 \nL 302.919989 224.64 \nL 302.919989 209.935345 \nL 302.555044 209.935345 \nz\n\" style=\"fill:#1f77b4;\"/>\n   </g>\n   <g id=\"patch_47\">\n    <path clip-path=\"url(#p64bbcbc2c6)\" d=\"M 308.759099 224.64 \nL 309.124043 224.64 \nL 309.124043 214.087792 \nL 308.759099 214.087792 \nz\n\" style=\"fill:#1f77b4;\"/>\n   </g>\n   <g id=\"patch_48\">\n    <path clip-path=\"url(#p64bbcbc2c6)\" d=\"M 314.963154 224.64 \nL 315.328098 224.64 \nL 315.328098 217.214676 \nL 314.963154 217.214676 \nz\n\" style=\"fill:#1f77b4;\"/>\n   </g>\n   <g id=\"patch_49\">\n    <path clip-path=\"url(#p64bbcbc2c6)\" d=\"M 321.167209 224.64 \nL 321.532153 224.64 \nL 321.532153 219.516455 \nL 321.167209 219.516455 \nz\n\" style=\"fill:#1f77b4;\"/>\n   </g>\n   <g id=\"patch_50\">\n    <path clip-path=\"url(#p64bbcbc2c6)\" d=\"M 327.371264 224.64 \nL 327.736208 224.64 \nL 327.736208 221.173366 \nL 327.371264 221.173366 \nz\n\" style=\"fill:#1f77b4;\"/>\n   </g>\n   <g id=\"patch_51\">\n    <path clip-path=\"url(#p64bbcbc2c6)\" d=\"M 333.575319 224.64 \nL 333.940263 224.64 \nL 333.940263 222.198239 \nL 333.575319 222.198239 \nz\n\" style=\"fill:#1f77b4;\"/>\n   </g>\n   <g id=\"patch_52\">\n    <path clip-path=\"url(#p64bbcbc2c6)\" d=\"M 339.779374 224.64 \nL 340.144318 224.64 \nL 340.144318 223.046983 \nL 339.779374 223.046983 \nz\n\" style=\"fill:#1f77b4;\"/>\n   </g>\n   <g id=\"matplotlib.axis_1\">\n    <g id=\"xtick_1\">\n     <g id=\"line2d_1\">\n      <defs>\n       <path d=\"M 0 0 \nL 0 3.5 \n\" id=\"me9d515b3c5\" style=\"stroke:#000000;stroke-width:0.8;\"/>\n      </defs>\n      <g>\n       <use style=\"stroke:#000000;stroke-width:0.8;\" x=\"60.596902\" xlink:href=\"#me9d515b3c5\" y=\"224.64\"/>\n      </g>\n     </g>\n     <g id=\"text_1\">\n      <!-- −300 -->\n      <g transform=\"translate(46.863308 239.238437)scale(0.1 -0.1)\">\n       <defs>\n        <path d=\"M 10.59375 35.5 \nL 73.1875 35.5 \nL 73.1875 27.203125 \nL 10.59375 27.203125 \nz\n\" id=\"DejaVuSans-8722\"/>\n        <path d=\"M 40.578125 39.3125 \nQ 47.65625 37.796875 51.625 33 \nQ 55.609375 28.21875 55.609375 21.1875 \nQ 55.609375 10.40625 48.1875 4.484375 \nQ 40.765625 -1.421875 27.09375 -1.421875 \nQ 22.515625 -1.421875 17.65625 -0.515625 \nQ 12.796875 0.390625 7.625 2.203125 \nL 7.625 11.71875 \nQ 11.71875 9.328125 16.59375 8.109375 \nQ 21.484375 6.890625 26.8125 6.890625 \nQ 36.078125 6.890625 40.9375 10.546875 \nQ 45.796875 14.203125 45.796875 21.1875 \nQ 45.796875 27.640625 41.28125 31.265625 \nQ 36.765625 34.90625 28.71875 34.90625 \nL 20.21875 34.90625 \nL 20.21875 43.015625 \nL 29.109375 43.015625 \nQ 36.375 43.015625 40.234375 45.921875 \nQ 44.09375 48.828125 44.09375 54.296875 \nQ 44.09375 59.90625 40.109375 62.90625 \nQ 36.140625 65.921875 28.71875 65.921875 \nQ 24.65625 65.921875 20.015625 65.03125 \nQ 15.375 64.15625 9.8125 62.3125 \nL 9.8125 71.09375 \nQ 15.4375 72.65625 20.34375 73.4375 \nQ 25.25 74.21875 29.59375 74.21875 \nQ 40.828125 74.21875 47.359375 69.109375 \nQ 53.90625 64.015625 53.90625 55.328125 \nQ 53.90625 49.265625 50.4375 45.09375 \nQ 46.96875 40.921875 40.578125 39.3125 \nz\n\" id=\"DejaVuSans-51\"/>\n        <path d=\"M 31.78125 66.40625 \nQ 24.171875 66.40625 20.328125 58.90625 \nQ 16.5 51.421875 16.5 36.375 \nQ 16.5 21.390625 20.328125 13.890625 \nQ 24.171875 6.390625 31.78125 6.390625 \nQ 39.453125 6.390625 43.28125 13.890625 \nQ 47.125 21.390625 47.125 36.375 \nQ 47.125 51.421875 43.28125 58.90625 \nQ 39.453125 66.40625 31.78125 66.40625 \nz\nM 31.78125 74.21875 \nQ 44.046875 74.21875 50.515625 64.515625 \nQ 56.984375 54.828125 56.984375 36.375 \nQ 56.984375 17.96875 50.515625 8.265625 \nQ 44.046875 -1.421875 31.78125 -1.421875 \nQ 19.53125 -1.421875 13.0625 8.265625 \nQ 6.59375 17.96875 6.59375 36.375 \nQ 6.59375 54.828125 13.0625 64.515625 \nQ 19.53125 74.21875 31.78125 74.21875 \nz\n\" id=\"DejaVuSans-48\"/>\n       </defs>\n       <use xlink:href=\"#DejaVuSans-8722\"/>\n       <use x=\"83.789062\" xlink:href=\"#DejaVuSans-51\"/>\n       <use x=\"147.412109\" xlink:href=\"#DejaVuSans-48\"/>\n       <use x=\"211.035156\" xlink:href=\"#DejaVuSans-48\"/>\n      </g>\n     </g>\n    </g>\n    <g id=\"xtick_2\">\n     <g id=\"line2d_2\">\n      <g>\n       <use style=\"stroke:#000000;stroke-width:0.8;\" x=\"106.214953\" xlink:href=\"#me9d515b3c5\" y=\"224.64\"/>\n      </g>\n     </g>\n     <g id=\"text_2\">\n      <!-- −200 -->\n      <g transform=\"translate(92.481359 239.238437)scale(0.1 -0.1)\">\n       <defs>\n        <path d=\"M 19.1875 8.296875 \nL 53.609375 8.296875 \nL 53.609375 0 \nL 7.328125 0 \nL 7.328125 8.296875 \nQ 12.9375 14.109375 22.625 23.890625 \nQ 32.328125 33.6875 34.8125 36.53125 \nQ 39.546875 41.84375 41.421875 45.53125 \nQ 43.3125 49.21875 43.3125 52.78125 \nQ 43.3125 58.59375 39.234375 62.25 \nQ 35.15625 65.921875 28.609375 65.921875 \nQ 23.96875 65.921875 18.8125 64.3125 \nQ 13.671875 62.703125 7.8125 59.421875 \nL 7.8125 69.390625 \nQ 13.765625 71.78125 18.9375 73 \nQ 24.125 74.21875 28.421875 74.21875 \nQ 39.75 74.21875 46.484375 68.546875 \nQ 53.21875 62.890625 53.21875 53.421875 \nQ 53.21875 48.921875 51.53125 44.890625 \nQ 49.859375 40.875 45.40625 35.40625 \nQ 44.1875 33.984375 37.640625 27.21875 \nQ 31.109375 20.453125 19.1875 8.296875 \nz\n\" id=\"DejaVuSans-50\"/>\n       </defs>\n       <use xlink:href=\"#DejaVuSans-8722\"/>\n       <use x=\"83.789062\" xlink:href=\"#DejaVuSans-50\"/>\n       <use x=\"147.412109\" xlink:href=\"#DejaVuSans-48\"/>\n       <use x=\"211.035156\" xlink:href=\"#DejaVuSans-48\"/>\n      </g>\n     </g>\n    </g>\n    <g id=\"xtick_3\">\n     <g id=\"line2d_3\">\n      <g>\n       <use style=\"stroke:#000000;stroke-width:0.8;\" x=\"151.833004\" xlink:href=\"#me9d515b3c5\" y=\"224.64\"/>\n      </g>\n     </g>\n     <g id=\"text_3\">\n      <!-- −100 -->\n      <g transform=\"translate(138.09941 239.238437)scale(0.1 -0.1)\">\n       <defs>\n        <path d=\"M 12.40625 8.296875 \nL 28.515625 8.296875 \nL 28.515625 63.921875 \nL 10.984375 60.40625 \nL 10.984375 69.390625 \nL 28.421875 72.90625 \nL 38.28125 72.90625 \nL 38.28125 8.296875 \nL 54.390625 8.296875 \nL 54.390625 0 \nL 12.40625 0 \nz\n\" id=\"DejaVuSans-49\"/>\n       </defs>\n       <use xlink:href=\"#DejaVuSans-8722\"/>\n       <use x=\"83.789062\" xlink:href=\"#DejaVuSans-49\"/>\n       <use x=\"147.412109\" xlink:href=\"#DejaVuSans-48\"/>\n       <use x=\"211.035156\" xlink:href=\"#DejaVuSans-48\"/>\n      </g>\n     </g>\n    </g>\n    <g id=\"xtick_4\">\n     <g id=\"line2d_4\">\n      <g>\n       <use style=\"stroke:#000000;stroke-width:0.8;\" x=\"197.451055\" xlink:href=\"#me9d515b3c5\" y=\"224.64\"/>\n      </g>\n     </g>\n     <g id=\"text_4\">\n      <!-- 0 -->\n      <g transform=\"translate(194.269805 239.238437)scale(0.1 -0.1)\">\n       <use xlink:href=\"#DejaVuSans-48\"/>\n      </g>\n     </g>\n    </g>\n    <g id=\"xtick_5\">\n     <g id=\"line2d_5\">\n      <g>\n       <use style=\"stroke:#000000;stroke-width:0.8;\" x=\"243.069106\" xlink:href=\"#me9d515b3c5\" y=\"224.64\"/>\n      </g>\n     </g>\n     <g id=\"text_5\">\n      <!-- 100 -->\n      <g transform=\"translate(233.525356 239.238437)scale(0.1 -0.1)\">\n       <use xlink:href=\"#DejaVuSans-49\"/>\n       <use x=\"63.623047\" xlink:href=\"#DejaVuSans-48\"/>\n       <use x=\"127.246094\" xlink:href=\"#DejaVuSans-48\"/>\n      </g>\n     </g>\n    </g>\n    <g id=\"xtick_6\">\n     <g id=\"line2d_6\">\n      <g>\n       <use style=\"stroke:#000000;stroke-width:0.8;\" x=\"288.687157\" xlink:href=\"#me9d515b3c5\" y=\"224.64\"/>\n      </g>\n     </g>\n     <g id=\"text_6\">\n      <!-- 200 -->\n      <g transform=\"translate(279.143407 239.238437)scale(0.1 -0.1)\">\n       <use xlink:href=\"#DejaVuSans-50\"/>\n       <use x=\"63.623047\" xlink:href=\"#DejaVuSans-48\"/>\n       <use x=\"127.246094\" xlink:href=\"#DejaVuSans-48\"/>\n      </g>\n     </g>\n    </g>\n    <g id=\"xtick_7\">\n     <g id=\"line2d_7\">\n      <g>\n       <use style=\"stroke:#000000;stroke-width:0.8;\" x=\"334.305208\" xlink:href=\"#me9d515b3c5\" y=\"224.64\"/>\n      </g>\n     </g>\n     <g id=\"text_7\">\n      <!-- 300 -->\n      <g transform=\"translate(324.761458 239.238437)scale(0.1 -0.1)\">\n       <use xlink:href=\"#DejaVuSans-51\"/>\n       <use x=\"63.623047\" xlink:href=\"#DejaVuSans-48\"/>\n       <use x=\"127.246094\" xlink:href=\"#DejaVuSans-48\"/>\n      </g>\n     </g>\n    </g>\n   </g>\n   <g id=\"matplotlib.axis_2\">\n    <g id=\"ytick_1\">\n     <g id=\"line2d_8\">\n      <defs>\n       <path d=\"M 0 0 \nL -3.5 0 \n\" id=\"m8d19a5968b\" style=\"stroke:#000000;stroke-width:0.8;\"/>\n      </defs>\n      <g>\n       <use style=\"stroke:#000000;stroke-width:0.8;\" x=\"20.5625\" xlink:href=\"#m8d19a5968b\" y=\"224.64\"/>\n      </g>\n     </g>\n     <g id=\"text_8\">\n      <!-- 0 -->\n      <g transform=\"translate(7.2 228.439219)scale(0.1 -0.1)\">\n       <use xlink:href=\"#DejaVuSans-48\"/>\n      </g>\n     </g>\n    </g>\n    <g id=\"ytick_2\">\n     <g id=\"line2d_9\">\n      <g>\n       <use style=\"stroke:#000000;stroke-width:0.8;\" x=\"20.5625\" xlink:href=\"#m8d19a5968b\" y=\"198.685006\"/>\n      </g>\n     </g>\n     <g id=\"text_9\">\n      <!-- 1 -->\n      <g transform=\"translate(7.2 202.484225)scale(0.1 -0.1)\">\n       <use xlink:href=\"#DejaVuSans-49\"/>\n      </g>\n     </g>\n    </g>\n    <g id=\"ytick_3\">\n     <g id=\"line2d_10\">\n      <g>\n       <use style=\"stroke:#000000;stroke-width:0.8;\" x=\"20.5625\" xlink:href=\"#m8d19a5968b\" y=\"172.730012\"/>\n      </g>\n     </g>\n     <g id=\"text_10\">\n      <!-- 2 -->\n      <g transform=\"translate(7.2 176.52923)scale(0.1 -0.1)\">\n       <use xlink:href=\"#DejaVuSans-50\"/>\n      </g>\n     </g>\n    </g>\n    <g id=\"ytick_4\">\n     <g id=\"line2d_11\">\n      <g>\n       <use style=\"stroke:#000000;stroke-width:0.8;\" x=\"20.5625\" xlink:href=\"#m8d19a5968b\" y=\"146.775017\"/>\n      </g>\n     </g>\n     <g id=\"text_11\">\n      <!-- 3 -->\n      <g transform=\"translate(7.2 150.574236)scale(0.1 -0.1)\">\n       <use xlink:href=\"#DejaVuSans-51\"/>\n      </g>\n     </g>\n    </g>\n    <g id=\"ytick_5\">\n     <g id=\"line2d_12\">\n      <g>\n       <use style=\"stroke:#000000;stroke-width:0.8;\" x=\"20.5625\" xlink:href=\"#m8d19a5968b\" y=\"120.820023\"/>\n      </g>\n     </g>\n     <g id=\"text_12\">\n      <!-- 4 -->\n      <g transform=\"translate(7.2 124.619242)scale(0.1 -0.1)\">\n       <defs>\n        <path d=\"M 37.796875 64.3125 \nL 12.890625 25.390625 \nL 37.796875 25.390625 \nz\nM 35.203125 72.90625 \nL 47.609375 72.90625 \nL 47.609375 25.390625 \nL 58.015625 25.390625 \nL 58.015625 17.1875 \nL 47.609375 17.1875 \nL 47.609375 0 \nL 37.796875 0 \nL 37.796875 17.1875 \nL 4.890625 17.1875 \nL 4.890625 26.703125 \nz\n\" id=\"DejaVuSans-52\"/>\n       </defs>\n       <use xlink:href=\"#DejaVuSans-52\"/>\n      </g>\n     </g>\n    </g>\n    <g id=\"ytick_6\">\n     <g id=\"line2d_13\">\n      <g>\n       <use style=\"stroke:#000000;stroke-width:0.8;\" x=\"20.5625\" xlink:href=\"#m8d19a5968b\" y=\"94.865029\"/>\n      </g>\n     </g>\n     <g id=\"text_13\">\n      <!-- 5 -->\n      <g transform=\"translate(7.2 98.664248)scale(0.1 -0.1)\">\n       <defs>\n        <path d=\"M 10.796875 72.90625 \nL 49.515625 72.90625 \nL 49.515625 64.59375 \nL 19.828125 64.59375 \nL 19.828125 46.734375 \nQ 21.96875 47.46875 24.109375 47.828125 \nQ 26.265625 48.1875 28.421875 48.1875 \nQ 40.625 48.1875 47.75 41.5 \nQ 54.890625 34.8125 54.890625 23.390625 \nQ 54.890625 11.625 47.5625 5.09375 \nQ 40.234375 -1.421875 26.90625 -1.421875 \nQ 22.3125 -1.421875 17.546875 -0.640625 \nQ 12.796875 0.140625 7.71875 1.703125 \nL 7.71875 11.625 \nQ 12.109375 9.234375 16.796875 8.0625 \nQ 21.484375 6.890625 26.703125 6.890625 \nQ 35.15625 6.890625 40.078125 11.328125 \nQ 45.015625 15.765625 45.015625 23.390625 \nQ 45.015625 31 40.078125 35.4375 \nQ 35.15625 39.890625 26.703125 39.890625 \nQ 22.75 39.890625 18.8125 39.015625 \nQ 14.890625 38.140625 10.796875 36.28125 \nz\n\" id=\"DejaVuSans-53\"/>\n       </defs>\n       <use xlink:href=\"#DejaVuSans-53\"/>\n      </g>\n     </g>\n    </g>\n    <g id=\"ytick_7\">\n     <g id=\"line2d_14\">\n      <g>\n       <use style=\"stroke:#000000;stroke-width:0.8;\" x=\"20.5625\" xlink:href=\"#m8d19a5968b\" y=\"68.910035\"/>\n      </g>\n     </g>\n     <g id=\"text_14\">\n      <!-- 6 -->\n      <g transform=\"translate(7.2 72.709253)scale(0.1 -0.1)\">\n       <defs>\n        <path d=\"M 33.015625 40.375 \nQ 26.375 40.375 22.484375 35.828125 \nQ 18.609375 31.296875 18.609375 23.390625 \nQ 18.609375 15.53125 22.484375 10.953125 \nQ 26.375 6.390625 33.015625 6.390625 \nQ 39.65625 6.390625 43.53125 10.953125 \nQ 47.40625 15.53125 47.40625 23.390625 \nQ 47.40625 31.296875 43.53125 35.828125 \nQ 39.65625 40.375 33.015625 40.375 \nz\nM 52.59375 71.296875 \nL 52.59375 62.3125 \nQ 48.875 64.0625 45.09375 64.984375 \nQ 41.3125 65.921875 37.59375 65.921875 \nQ 27.828125 65.921875 22.671875 59.328125 \nQ 17.53125 52.734375 16.796875 39.40625 \nQ 19.671875 43.65625 24.015625 45.921875 \nQ 28.375 48.1875 33.59375 48.1875 \nQ 44.578125 48.1875 50.953125 41.515625 \nQ 57.328125 34.859375 57.328125 23.390625 \nQ 57.328125 12.15625 50.6875 5.359375 \nQ 44.046875 -1.421875 33.015625 -1.421875 \nQ 20.359375 -1.421875 13.671875 8.265625 \nQ 6.984375 17.96875 6.984375 36.375 \nQ 6.984375 53.65625 15.1875 63.9375 \nQ 23.390625 74.21875 37.203125 74.21875 \nQ 40.921875 74.21875 44.703125 73.484375 \nQ 48.484375 72.75 52.59375 71.296875 \nz\n\" id=\"DejaVuSans-54\"/>\n       </defs>\n       <use xlink:href=\"#DejaVuSans-54\"/>\n      </g>\n     </g>\n    </g>\n    <g id=\"ytick_8\">\n     <g id=\"line2d_15\">\n      <g>\n       <use style=\"stroke:#000000;stroke-width:0.8;\" x=\"20.5625\" xlink:href=\"#m8d19a5968b\" y=\"42.955041\"/>\n      </g>\n     </g>\n     <g id=\"text_15\">\n      <!-- 7 -->\n      <g transform=\"translate(7.2 46.754259)scale(0.1 -0.1)\">\n       <defs>\n        <path d=\"M 8.203125 72.90625 \nL 55.078125 72.90625 \nL 55.078125 68.703125 \nL 28.609375 0 \nL 18.3125 0 \nL 43.21875 64.59375 \nL 8.203125 64.59375 \nz\n\" id=\"DejaVuSans-55\"/>\n       </defs>\n       <use xlink:href=\"#DejaVuSans-55\"/>\n      </g>\n     </g>\n    </g>\n    <g id=\"ytick_9\">\n     <g id=\"line2d_16\">\n      <g>\n       <use style=\"stroke:#000000;stroke-width:0.8;\" x=\"20.5625\" xlink:href=\"#m8d19a5968b\" y=\"17.000046\"/>\n      </g>\n     </g>\n     <g id=\"text_16\">\n      <!-- 8 -->\n      <g transform=\"translate(7.2 20.799265)scale(0.1 -0.1)\">\n       <defs>\n        <path d=\"M 31.78125 34.625 \nQ 24.75 34.625 20.71875 30.859375 \nQ 16.703125 27.09375 16.703125 20.515625 \nQ 16.703125 13.921875 20.71875 10.15625 \nQ 24.75 6.390625 31.78125 6.390625 \nQ 38.8125 6.390625 42.859375 10.171875 \nQ 46.921875 13.96875 46.921875 20.515625 \nQ 46.921875 27.09375 42.890625 30.859375 \nQ 38.875 34.625 31.78125 34.625 \nz\nM 21.921875 38.8125 \nQ 15.578125 40.375 12.03125 44.71875 \nQ 8.5 49.078125 8.5 55.328125 \nQ 8.5 64.0625 14.71875 69.140625 \nQ 20.953125 74.21875 31.78125 74.21875 \nQ 42.671875 74.21875 48.875 69.140625 \nQ 55.078125 64.0625 55.078125 55.328125 \nQ 55.078125 49.078125 51.53125 44.71875 \nQ 48 40.375 41.703125 38.8125 \nQ 48.828125 37.15625 52.796875 32.3125 \nQ 56.78125 27.484375 56.78125 20.515625 \nQ 56.78125 9.90625 50.3125 4.234375 \nQ 43.84375 -1.421875 31.78125 -1.421875 \nQ 19.734375 -1.421875 13.25 4.234375 \nQ 6.78125 9.90625 6.78125 20.515625 \nQ 6.78125 27.484375 10.78125 32.3125 \nQ 14.796875 37.15625 21.921875 38.8125 \nz\nM 18.3125 54.390625 \nQ 18.3125 48.734375 21.84375 45.5625 \nQ 25.390625 42.390625 31.78125 42.390625 \nQ 38.140625 42.390625 41.71875 45.5625 \nQ 45.3125 48.734375 45.3125 54.390625 \nQ 45.3125 60.0625 41.71875 63.234375 \nQ 38.140625 66.40625 31.78125 66.40625 \nQ 25.390625 66.40625 21.84375 63.234375 \nQ 18.3125 60.0625 18.3125 54.390625 \nz\n\" id=\"DejaVuSans-56\"/>\n       </defs>\n       <use xlink:href=\"#DejaVuSans-56\"/>\n      </g>\n     </g>\n    </g>\n   </g>\n   <g id=\"patch_53\">\n    <path d=\"M 20.5625 224.64 \nL 20.5625 7.2 \n\" style=\"fill:none;stroke:#000000;stroke-linecap:square;stroke-linejoin:miter;stroke-width:0.8;\"/>\n   </g>\n   <g id=\"patch_54\">\n    <path d=\"M 355.3625 224.64 \nL 355.3625 7.2 \n\" style=\"fill:none;stroke:#000000;stroke-linecap:square;stroke-linejoin:miter;stroke-width:0.8;\"/>\n   </g>\n   <g id=\"patch_55\">\n    <path d=\"M 20.5625 224.64 \nL 355.3625 224.64 \n\" style=\"fill:none;stroke:#000000;stroke-linecap:square;stroke-linejoin:miter;stroke-width:0.8;\"/>\n   </g>\n   <g id=\"patch_56\">\n    <path d=\"M 20.5625 7.2 \nL 355.3625 7.2 \n\" style=\"fill:none;stroke:#000000;stroke-linecap:square;stroke-linejoin:miter;stroke-width:0.8;\"/>\n   </g>\n  </g>\n </g>\n <defs>\n  <clipPath id=\"p64bbcbc2c6\">\n   <rect height=\"217.44\" width=\"334.8\" x=\"20.5625\" y=\"7.2\"/>\n  </clipPath>\n </defs>\n</svg>\n",
      "image/png": "[encoded data removed]"
     },
     "metadata": {
      "needs_background": "light"
     }
    }
   ],
   "source": [
    "#g) Solution\n",
    "p = 0.5\n",
    "trajectory_final_positions = np.array(Trajectories(M,N,p))\n",
    "_min, _max = min(trajectory_final_positions), max(trajectory_final_positions)\n",
    "x = np.arange(_min, _max, step = (_max-_min)/bin_count)\n",
    "r = [0.5*(i+N) for i in x]\n",
    "\n",
    "print(\"x range: \", _min, _max)\n",
    "def pmf(N,r,p):\n",
    "    r = round(r)\n",
    "    def logFactorial(n):\n",
    "        ans = 0\n",
    "        for i in range(1, n+1):\n",
    "            ans += np.log(i)\n",
    "        return ans\n",
    "\n",
    "    def logPower(base, exp):\n",
    "        return exp * np.log(base)\n",
    "\n",
    "    return logFactorial(N) - logFactorial(r) - logFactorial(N-r) + logPower(p, r) + logPower(1-p, N-r)\n",
    "\n",
    "print(\"here 5000\" , pmf(N, 5000, p))\n",
    "\n",
    "y = [pmf(N, i, p) for i in r]\n",
    "\n",
    "\n",
    "\n",
    "\n",
    "\n",
    "print(\"y range: \", min(y), max(y))\n",
    "plt.bar(x,[M * np.exp(i) for i in y])\n",
    "\n",
    "\n",
    "# plt.hist(trajectory_final_positions, bins = bin_count, )\n",
    "plt.show()\n",
    "\n",
    "\n",
    "    \n",
    "# st.binom.pmf(2371, N, 10*p)\n",
    "\n",
    "\n",
    "# bins = np.linspace(_min, _max, bin_count)\n",
    "# plt.hist()\n",
    "# plt.show()\n",
    "\n",
    "\n",
    "\n",
    "\n",
    "\n",
    "\n"
   ]
  },
  {
   "cell_type": "code",
   "execution_count": null,
   "metadata": {},
   "outputs": [],
   "source": []
  },
  {
   "cell_type": "code",
   "execution_count": null,
   "metadata": {},
   "outputs": [],
   "source": []
  }
 ],
 "metadata": {
  "anaconda-cloud": {},
  "history": [
   {
    "code": "trials = 10000\nsteps = 1000\nprobR = 0.25 #Probability of a +1 (or right) step\nsamps = sampleTrajectories(trials, steps, prob=probR)",
    "id": "ed1ea916255e450e89375eb40e312fe5",
    "idx": 5,
    "time": "2021-02-09T01:30:01.922Z",
    "type": "execution"
   },
   {
    "id": "ed1ea916255e450e89375eb40e312fe5",
    "time": "2021-02-09T01:30:02.065Z",
    "type": "completion"
   },
   {
    "code": "import numpy as np\nimport scipy.stats as st\nimport matplotlib.pyplot as plt",
    "id": "e74988113d194d328e5c2c538ffe9284",
    "idx": 0,
    "time": "2021-02-09T01:30:09.585Z",
    "type": "execution"
   },
   {
    "id": "e74988113d194d328e5c2c538ffe9284",
    "time": "2021-02-09T01:30:10.434Z",
    "type": "completion"
   },
   {
    "code": "np.random.choice([-1,1], size=7)",
    "id": "e3f92094badc4d81a7a03780c0686ba1",
    "idx": 2,
    "time": "2021-02-09T01:30:10.871Z",
    "type": "execution"
   },
   {
    "id": "e3f92094badc4d81a7a03780c0686ba1",
    "time": "2021-02-09T01:30:10.934Z",
    "type": "completion"
   },
   {
    "code": "#Function that samples M number of trajectories, with N number of steps per trial\n#Inputs: Number of trials, number of steps per trial\n#Outputs: List of locations (integers) where the random walker stops at the end of all N steps of each trial\ndef sampleTrajectories(num_trials, num_steps, prob=0.5):\n    vals = np.zeros(num_trials, dtype=int)\n    for i in range(num_trials):\n        vals[i] = sum(np.random.choice([-1,1], p=[1-prob, prob], size=num_steps))\n    return vals",
    "id": "35751fd4a6d94a28a045573580711d3c",
    "idx": 4,
    "time": "2021-02-09T01:30:12.581Z",
    "type": "execution"
   },
   {
    "id": "35751fd4a6d94a28a045573580711d3c",
    "time": "2021-02-09T01:30:12.638Z",
    "type": "completion"
   },
   {
    "code": "trials = 10000\nsteps = 1000\nprobR = 0.25 #Probability of a +1 (or right) step\nsamps = sampleTrajectories(trials, steps, prob=probR)",
    "id": "ed1ea916255e450e89375eb40e312fe5",
    "idx": 5,
    "time": "2021-02-09T01:30:13.542Z",
    "type": "execution"
   },
   {
    "id": "ed1ea916255e450e89375eb40e312fe5",
    "time": "2021-02-09T01:30:16.691Z",
    "type": "completion"
   },
   {
    "code": "print(np.mean(samps))\nprint(np.var(samps))",
    "id": "0a938262ef8945de87ba231a17544de2",
    "idx": 7,
    "time": "2021-02-09T01:30:25.440Z",
    "type": "execution"
   },
   {
    "id": "0a938262ef8945de87ba231a17544de2",
    "time": "2021-02-09T01:30:25.522Z",
    "type": "completion"
   },
   {
    "code": "test_N = [250, 500, 750, 1000, 1250, 1500]\nvarns = np.zeros(len(test_N))\nfor i in range(len(test_N)):\n    varns[i] = np.var(sampleTrajectories(trials, test_N[i]))",
    "id": "1df029d0b48845d7863c05accf839d60",
    "idx": 9,
    "time": "2021-02-09T01:30:36.551Z",
    "type": "execution"
   },
   {
    "code": "fig, ax = plt.subplots()\n\nax.plot(test_N, varns, 'ro', ms=8)\nax.set_ylabel(\"Variance\")\nax.set_xlabel(\"Steps\")\nplt.show()\nplt.close()",
    "id": "6c522274b1e740a183176a4cfb47f8a1",
    "idx": 10,
    "time": "2021-02-09T01:30:43.031Z",
    "type": "execution"
   },
   {
    "id": "1df029d0b48845d7863c05accf839d60",
    "time": "2021-02-09T01:30:53.488Z",
    "type": "completion"
   },
   {
    "id": "6c522274b1e740a183176a4cfb47f8a1",
    "time": "2021-02-09T01:30:53.727Z",
    "type": "completion"
   },
   {
    "code": "test_N = [250, 500, 750, 1000, 1250, 1500]\nvarns = np.zeros(len(test_N))\nfor i in range(len(test_N)):\n    varns[i] = np.var(sampleTrajectories(trials, test_N[i], probR))",
    "id": "1df029d0b48845d7863c05accf839d60",
    "idx": 9,
    "time": "2021-02-09T01:31:31.741Z",
    "type": "execution"
   },
   {
    "code": "fig, ax = plt.subplots()\n\nax.plot(test_N, varns, 'ro', ms=8)\nax.set_ylabel(\"Variance\")\nax.set_xlabel(\"Steps\")\nplt.show()\nplt.close()",
    "id": "6c522274b1e740a183176a4cfb47f8a1",
    "idx": 10,
    "time": "2021-02-09T01:31:37.291Z",
    "type": "execution"
   },
   {
    "id": "1df029d0b48845d7863c05accf839d60",
    "time": "2021-02-09T01:31:47.663Z",
    "type": "completion"
   },
   {
    "id": "6c522274b1e740a183176a4cfb47f8a1",
    "time": "2021-02-09T01:31:47.830Z",
    "type": "completion"
   },
   {
    "code": "coeffs = np.polyfit(test_N, varns, 1)\nfit = np.poly1d(coeffs)\nprint(fit)\n\nfig, ax = plt.subplots()\nax.plot(test_N, varns, 'ro', ms=8)\nax.plot(test_N, fit(test_N), 'b-')\nax.set_ylabel(\"Variance\")\nax.set_xlabel(\"Steps\")\nplt.show()\nplt.close()",
    "id": "4b1e2002b9e0492ca116cf7c3131d276",
    "idx": 12,
    "time": "2021-02-09T01:32:04.228Z",
    "type": "execution"
   },
   {
    "id": "4b1e2002b9e0492ca116cf7c3131d276",
    "time": "2021-02-09T01:32:04.524Z",
    "type": "completion"
   },
   {
    "code": "trials = 10000\nsteps = 1000\nprobR = 0.5 #Probability of a +1 (or right) step\nsamps = sampleTrajectories(trials, steps, prob=probR)",
    "id": "ed1ea916255e450e89375eb40e312fe5",
    "idx": 5,
    "time": "2021-02-09T01:33:44.529Z",
    "type": "execution"
   },
   {
    "code": "print(np.mean(samps))\nprint(np.var(samps))",
    "id": "0a938262ef8945de87ba231a17544de2",
    "idx": 7,
    "time": "2021-02-09T01:33:45.856Z",
    "type": "execution"
   },
   {
    "id": "ed1ea916255e450e89375eb40e312fe5",
    "time": "2021-02-09T01:33:48.272Z",
    "type": "completion"
   },
   {
    "id": "0a938262ef8945de87ba231a17544de2",
    "time": "2021-02-09T01:33:48.277Z",
    "type": "completion"
   },
   {
    "code": "print(np.mean(samps))\nprint(np.var(samps))",
    "id": "0a938262ef8945de87ba231a17544de2",
    "idx": 7,
    "time": "2021-02-09T01:34:02.244Z",
    "type": "execution"
   },
   {
    "id": "0a938262ef8945de87ba231a17544de2",
    "time": "2021-02-09T01:34:02.302Z",
    "type": "completion"
   },
   {
    "code": "trials = 10000\nsteps = 1000\nprobR = 0.5 #Probability of a +1 (or right) step\nsamps = sampleTrajectories(trials, steps, prob=probR)",
    "id": "ed1ea916255e450e89375eb40e312fe5",
    "idx": 5,
    "time": "2021-02-09T01:34:05.989Z",
    "type": "execution"
   },
   {
    "code": "print(np.mean(samps))\nprint(np.var(samps))",
    "id": "0a938262ef8945de87ba231a17544de2",
    "idx": 7,
    "time": "2021-02-09T01:34:07.520Z",
    "type": "execution"
   },
   {
    "id": "ed1ea916255e450e89375eb40e312fe5",
    "time": "2021-02-09T01:34:09.250Z",
    "type": "completion"
   },
   {
    "id": "0a938262ef8945de87ba231a17544de2",
    "time": "2021-02-09T01:34:09.267Z",
    "type": "completion"
   },
   {
    "code": "trials = 10000\nsteps = 1000\nprobR = 0.25 #Probability of a +1 (or right) step\nsamps = sampleTrajectories(trials, steps, prob=probR)",
    "id": "ed1ea916255e450e89375eb40e312fe5",
    "idx": 5,
    "time": "2021-02-09T01:34:29.778Z",
    "type": "execution"
   },
   {
    "code": "print(np.mean(samps))\nprint(np.var(samps))",
    "id": "0a938262ef8945de87ba231a17544de2",
    "idx": 7,
    "time": "2021-02-09T01:34:32.161Z",
    "type": "execution"
   },
   {
    "id": "ed1ea916255e450e89375eb40e312fe5",
    "time": "2021-02-09T01:34:32.870Z",
    "type": "completion"
   },
   {
    "id": "0a938262ef8945de87ba231a17544de2",
    "time": "2021-02-09T01:34:32.874Z",
    "type": "completion"
   },
   {
    "code": "test_N = [250, 500, 750, 1000, 1250, 1500]\nvarns = np.zeros(len(test_N))\nfor i in range(len(test_N)):\n    varns[i] = np.var(sampleTrajectories(trials, test_N[i], probR))",
    "id": "1df029d0b48845d7863c05accf839d60",
    "idx": 9,
    "time": "2021-02-09T01:34:40.554Z",
    "type": "execution"
   },
   {
    "code": "fig, ax = plt.subplots()\n\nax.plot(test_N, varns, 'ro', ms=8)\nax.set_ylabel(\"Variance\")\nax.set_xlabel(\"Steps\")\nplt.show()\nplt.close()",
    "id": "6c522274b1e740a183176a4cfb47f8a1",
    "idx": 10,
    "time": "2021-02-09T01:34:47.452Z",
    "type": "execution"
   },
   {
    "id": "1df029d0b48845d7863c05accf839d60",
    "time": "2021-02-09T01:34:57.553Z",
    "type": "completion"
   },
   {
    "id": "6c522274b1e740a183176a4cfb47f8a1",
    "time": "2021-02-09T01:34:57.714Z",
    "type": "completion"
   },
   {
    "code": "print(np.mean(samps))\nprint(np.var(samps))",
    "id": "0a938262ef8945de87ba231a17544de2",
    "idx": 7,
    "time": "2021-02-09T01:38:02.250Z",
    "type": "execution"
   },
   {
    "id": "0a938262ef8945de87ba231a17544de2",
    "time": "2021-02-09T01:38:02.309Z",
    "type": "completion"
   },
   {
    "code": "test_N = [250, 500, 750, 1000, 1250, 1500]\nvarns = np.zeros(len(test_N))\nfor i in range(len(test_N)):\n    varns[i] = np.var(sampleTrajectories(trials, test_N[i], probR))",
    "id": "1df029d0b48845d7863c05accf839d60",
    "idx": 9,
    "time": "2021-02-09T01:38:04.688Z",
    "type": "execution"
   },
   {
    "code": "fig, ax = plt.subplots()\n\nax.plot(test_N, varns, 'ro', ms=8)\nax.set_ylabel(\"Variance\")\nax.set_xlabel(\"Steps\")\nplt.show()\nplt.close()",
    "id": "6c522274b1e740a183176a4cfb47f8a1",
    "idx": 10,
    "time": "2021-02-09T01:38:07.400Z",
    "type": "execution"
   },
   {
    "id": "1df029d0b48845d7863c05accf839d60",
    "time": "2021-02-09T01:38:20.958Z",
    "type": "completion"
   },
   {
    "id": "6c522274b1e740a183176a4cfb47f8a1",
    "time": "2021-02-09T01:38:21.136Z",
    "type": "completion"
   },
   {
    "code": "coeffs = np.polyfit(test_N, varns, 1)\nfit = np.poly1d(coeffs)\nprint(fit)\n\nfig, ax = plt.subplots()\nax.plot(test_N, varns, 'ro', ms=8)\nax.plot(test_N, fit(test_N), 'b-')\nax.set_ylabel(\"Variance\")\nax.set_xlabel(\"Steps\")\nplt.show()\nplt.close()",
    "id": "4b1e2002b9e0492ca116cf7c3131d276",
    "idx": 12,
    "time": "2021-02-09T01:38:22.238Z",
    "type": "execution"
   },
   {
    "id": "4b1e2002b9e0492ca116cf7c3131d276",
    "time": "2021-02-09T01:38:22.508Z",
    "type": "completion"
   },
   {
    "code": "trials = 10000\nsteps = 1000\nprobR = 0.5 #Probability of a +1 (or right) step\nsamps = sampleTrajectories(trials, steps, prob=probR)",
    "id": "ed1ea916255e450e89375eb40e312fe5",
    "idx": 5,
    "time": "2021-02-09T01:38:56.292Z",
    "type": "execution"
   },
   {
    "code": "print(np.mean(samps))\nprint(np.var(samps))",
    "id": "0a938262ef8945de87ba231a17544de2",
    "idx": 7,
    "time": "2021-02-09T01:38:57.652Z",
    "type": "execution"
   },
   {
    "id": "ed1ea916255e450e89375eb40e312fe5",
    "time": "2021-02-09T01:38:59.685Z",
    "type": "completion"
   },
   {
    "id": "0a938262ef8945de87ba231a17544de2",
    "time": "2021-02-09T01:38:59.690Z",
    "type": "completion"
   },
   {
    "code": "test_N = [250, 500, 750, 1000, 1250, 1500]\nvarns = np.zeros(len(test_N))\nfor i in range(len(test_N)):\n    varns[i] = np.var(sampleTrajectories(trials, test_N[i], probR))",
    "id": "1df029d0b48845d7863c05accf839d60",
    "idx": 9,
    "time": "2021-02-09T01:39:03.684Z",
    "type": "execution"
   },
   {
    "code": "fig, ax = plt.subplots()\n\nax.plot(test_N, varns, 'ro', ms=8)\nax.set_ylabel(\"Variance\")\nax.set_xlabel(\"Steps\")\nplt.show()\nplt.close()",
    "id": "6c522274b1e740a183176a4cfb47f8a1",
    "idx": 10,
    "time": "2021-02-09T01:39:06.895Z",
    "type": "execution"
   },
   {
    "code": "coeffs = np.polyfit(test_N, varns, 1)\nfit = np.poly1d(coeffs)\nprint(fit)\n\nfig, ax = plt.subplots()\nax.plot(test_N, varns, 'ro', ms=8)\nax.plot(test_N, fit(test_N), 'b-')\nax.set_ylabel(\"Variance\")\nax.set_xlabel(\"Steps\")\nplt.show()\nplt.close()",
    "id": "4b1e2002b9e0492ca116cf7c3131d276",
    "idx": 12,
    "time": "2021-02-09T01:39:16.328Z",
    "type": "execution"
   },
   {
    "id": "1df029d0b48845d7863c05accf839d60",
    "time": "2021-02-09T01:39:20.190Z",
    "type": "completion"
   },
   {
    "id": "6c522274b1e740a183176a4cfb47f8a1",
    "time": "2021-02-09T01:39:20.372Z",
    "type": "completion"
   },
   {
    "id": "4b1e2002b9e0492ca116cf7c3131d276",
    "time": "2021-02-09T01:39:20.623Z",
    "type": "completion"
   },
   {
    "code": "#Function that samples M number of trajectories, stopping when a walker reaches a distance z away from the origin\n#Inputs: Number of trials, distance to the edge\n#Outputs: List of integers for the number of steps taken until reaching a distance z\ndef sampleEscapeTraj(trials, z):\n    escSteps = np.zeros(trials)\n    for i in range(trials):\n        stepNum = 0\n        curPos = 0\n        while abs(curPos)!=z:\n            curPos += np.random.choice([-1, 1])\n            stepNum += 1\n        escSteps[i] = stepNum\n    return escSteps",
    "id": "15ec0e12d37c4fd4853576687a4634d6",
    "idx": 19,
    "time": "2021-02-09T01:51:21.702Z",
    "type": "execution"
   },
   {
    "id": "15ec0e12d37c4fd4853576687a4634d6",
    "time": "2021-02-09T01:51:21.769Z",
    "type": "completion"
   },
   {
    "code": "trials = 1000\nz = 100\nescSamps = sampleEscapeTraj(trials, z)",
    "id": "aeae959941cb46f88eda981eecda3f8c",
    "idx": 20,
    "time": "2021-02-09T01:51:23.460Z",
    "type": "execution"
   },
   {
    "code": "fig, ax = plt.subplots()\n\nnum_bins = 30\nn, bins, patches = ax.hist(escSamps, num_bins)\nax.set_ylabel(\"Counts\")\nax.set_xlabel(\"Steps to $z$\")\nplt.show()\nplt.close()",
    "id": "3b825f4c6bc84ef881373ab7d428b1ef",
    "idx": 22,
    "time": "2021-02-09T01:51:30.970Z",
    "type": "execution"
   },
   {
    "code": "trials = 10\nz = 100\nescSamps = sampleEscapeTraj(trials, z)",
    "id": "aeae959941cb46f88eda981eecda3f8c",
    "idx": 20,
    "time": "2021-02-09T01:52:36.293Z",
    "type": "execution"
   },
   {
    "id": "3b825f4c6bc84ef881373ab7d428b1ef",
    "time": "2021-02-09T01:52:38.658Z",
    "type": "completion"
   },
   {
    "id": "aeae959941cb46f88eda981eecda3f8c",
    "time": "2021-02-09T01:52:39.560Z",
    "type": "completion"
   },
   {
    "id": "aeae959941cb46f88eda981eecda3f8c",
    "time": "2021-02-09T01:52:39.560Z",
    "type": "completion"
   },
   {
    "code": "fig, ax = plt.subplots()\n\nnum_bins = 30\nn, bins, patches = ax.hist(escSamps, num_bins)\nax.set_ylabel(\"Counts\")\nax.set_xlabel(\"Steps to $z$\")\nplt.show()\nplt.close()",
    "id": "3b825f4c6bc84ef881373ab7d428b1ef",
    "idx": 22,
    "time": "2021-02-09T01:52:59.832Z",
    "type": "execution"
   },
   {
    "id": "3b825f4c6bc84ef881373ab7d428b1ef",
    "time": "2021-02-09T01:53:00.150Z",
    "type": "completion"
   },
   {
    "code": "trials = 1000\nz = 100\nescSamps = sampleEscapeTraj(trials, z)",
    "id": "aeae959941cb46f88eda981eecda3f8c",
    "idx": 20,
    "time": "2021-02-09T01:53:12.336Z",
    "type": "execution"
   },
   {
    "code": "fig, ax = plt.subplots()\n\nnum_bins = 30\nn, bins, patches = ax.hist(escSamps, num_bins)\nax.set_ylabel(\"Counts\")\nax.set_xlabel(\"Steps to $z$\")\nplt.show()\nplt.close()",
    "id": "3b825f4c6bc84ef881373ab7d428b1ef",
    "idx": 22,
    "time": "2021-02-09T01:53:14.360Z",
    "type": "execution"
   },
   {
    "code": "fig, ax = plt.subplots()\n\nnum_bins = 30\nn, bins, patches = ax.hist(escSamps, num_bins)\nax.set_ylabel(\"Counts\")\nax.set_xlabel(\"Steps to $z$\")\nplt.show()\nplt.close()",
    "id": "3b825f4c6bc84ef881373ab7d428b1ef",
    "idx": 22,
    "time": "2021-02-09T01:54:13.290Z",
    "type": "execution"
   },
   {
    "id": "aeae959941cb46f88eda981eecda3f8c",
    "time": "2021-02-09T01:54:26.902Z",
    "type": "completion"
   },
   {
    "id": "3b825f4c6bc84ef881373ab7d428b1ef",
    "time": "2021-02-09T01:54:27.439Z",
    "type": "completion"
   },
   {
    "id": "3b825f4c6bc84ef881373ab7d428b1ef",
    "time": "2021-02-09T01:54:27.440Z",
    "type": "completion"
   },
   {
    "code": "trials = 100\nz = 100\nescSamps = sampleEscapeTraj(trials, z)",
    "id": "aeae959941cb46f88eda981eecda3f8c",
    "idx": 20,
    "time": "2021-02-09T01:57:01.564Z",
    "type": "execution"
   },
   {
    "code": "fig, ax = plt.subplots()\n\nnum_bins = 30\nn, bins, patches = ax.hist(escSamps, num_bins)\nax.set_ylabel(\"Counts\")\nax.set_xlabel(\"Steps to $z$\")\nplt.show()\nplt.close()",
    "id": "3b825f4c6bc84ef881373ab7d428b1ef",
    "idx": 22,
    "time": "2021-02-09T01:57:04.931Z",
    "type": "execution"
   },
   {
    "id": "aeae959941cb46f88eda981eecda3f8c",
    "time": "2021-02-09T01:57:09.777Z",
    "type": "completion"
   },
   {
    "id": "3b825f4c6bc84ef881373ab7d428b1ef",
    "time": "2021-02-09T01:57:10.034Z",
    "type": "completion"
   },
   {
    "code": "print(np.mean(escSamps))",
    "id": "baa5fd01ae63480f8a258a85ab03b3a6",
    "idx": 25,
    "time": "2021-02-09T02:03:58.605Z",
    "type": "execution"
   },
   {
    "id": "baa5fd01ae63480f8a258a85ab03b3a6",
    "time": "2021-02-09T02:03:58.684Z",
    "type": "completion"
   },
   {
    "code": "trials = 100\nz = 100\nescSamps = sampleEscapeTraj(trials, z)",
    "id": "aeae959941cb46f88eda981eecda3f8c",
    "idx": 20,
    "time": "2021-02-09T02:04:29.505Z",
    "type": "execution"
   },
   {
    "code": "fig, ax = plt.subplots()\n\nnum_bins = 30\nn, bins, patches = ax.hist(escSamps, num_bins)\nax.set_ylabel(\"Counts\")\nax.set_xlabel(\"Steps to $z$\")\nplt.show()\nplt.close()",
    "id": "3b825f4c6bc84ef881373ab7d428b1ef",
    "idx": 22,
    "time": "2021-02-09T02:04:31.033Z",
    "type": "execution"
   },
   {
    "code": "print(np.mean(escSamps))",
    "id": "baa5fd01ae63480f8a258a85ab03b3a6",
    "idx": 24,
    "time": "2021-02-09T02:04:35.360Z",
    "type": "execution"
   },
   {
    "id": "aeae959941cb46f88eda981eecda3f8c",
    "time": "2021-02-09T02:04:40.599Z",
    "type": "completion"
   },
   {
    "id": "3b825f4c6bc84ef881373ab7d428b1ef",
    "time": "2021-02-09T02:04:40.616Z",
    "type": "completion"
   },
   {
    "id": "baa5fd01ae63480f8a258a85ab03b3a6",
    "time": "2021-02-09T02:04:40.639Z",
    "type": "completion"
   },
   {
    "code": "#Function that samples M number of trajectories, stopping when a walker reaches a distance z away from the origin\n#Inputs: Number of trials, distance to the edge\n#Outputs: List of integers for the number of steps taken until reaching a distance z\ndef sampleEscapeTraj(trials, z):\n    escSteps = np.zeros(trials)\n    for i in range(trials):\n        stepNum = 0\n        curPos = 0\n        while abs(curPos)!=z:\n            curPos += np.random.choice([-1, 1])\n            stepNum += 1\n        escSteps[i] = stepNum\n    return escSteps",
    "id": "15ec0e12d37c4fd4853576687a4634d6",
    "idx": 19,
    "time": "2021-02-09T02:04:54.970Z",
    "type": "execution"
   },
   {
    "id": "15ec0e12d37c4fd4853576687a4634d6",
    "time": "2021-02-09T02:04:55.027Z",
    "type": "completion"
   },
   {
    "code": "trials = 100\nz = 100\nescSamps = sampleEscapeTraj(trials, z)",
    "id": "aeae959941cb46f88eda981eecda3f8c",
    "idx": 20,
    "time": "2021-02-09T02:04:55.648Z",
    "type": "execution"
   },
   {
    "code": "fig, ax = plt.subplots()\n\nnum_bins = 30\nn, bins, patches = ax.hist(escSamps, num_bins)\nax.set_ylabel(\"Counts\")\nax.set_xlabel(\"Steps to $z$\")\nplt.show()\nplt.close()",
    "id": "3b825f4c6bc84ef881373ab7d428b1ef",
    "idx": 22,
    "time": "2021-02-09T02:04:57.636Z",
    "type": "execution"
   },
   {
    "code": "print(np.mean(escSamps))",
    "id": "baa5fd01ae63480f8a258a85ab03b3a6",
    "idx": 24,
    "time": "2021-02-09T02:05:00.970Z",
    "type": "execution"
   },
   {
    "id": "aeae959941cb46f88eda981eecda3f8c",
    "time": "2021-02-09T02:05:02.664Z",
    "type": "completion"
   },
   {
    "id": "3b825f4c6bc84ef881373ab7d428b1ef",
    "time": "2021-02-09T02:05:02.984Z",
    "type": "completion"
   },
   {
    "id": "baa5fd01ae63480f8a258a85ab03b3a6",
    "time": "2021-02-09T02:05:02.989Z",
    "type": "completion"
   },
   {
    "code": "trials = 100\nz = 10\nescSamps = sampleEscapeTraj(trials, z)",
    "id": "aeae959941cb46f88eda981eecda3f8c",
    "idx": 20,
    "time": "2021-02-09T02:05:21.597Z",
    "type": "execution"
   },
   {
    "id": "aeae959941cb46f88eda981eecda3f8c",
    "time": "2021-02-09T02:05:21.736Z",
    "type": "completion"
   },
   {
    "code": "fig, ax = plt.subplots()\n\nnum_bins = 30\nn, bins, patches = ax.hist(escSamps, num_bins)\nax.set_ylabel(\"Counts\")\nax.set_xlabel(\"Steps to $z$\")\nplt.show()\nplt.close()",
    "id": "3b825f4c6bc84ef881373ab7d428b1ef",
    "idx": 22,
    "time": "2021-02-09T02:05:23.783Z",
    "type": "execution"
   },
   {
    "id": "3b825f4c6bc84ef881373ab7d428b1ef",
    "time": "2021-02-09T02:05:24.104Z",
    "type": "completion"
   },
   {
    "code": "print(np.mean(escSamps))",
    "id": "baa5fd01ae63480f8a258a85ab03b3a6",
    "idx": 24,
    "time": "2021-02-09T02:05:27.109Z",
    "type": "execution"
   },
   {
    "id": "baa5fd01ae63480f8a258a85ab03b3a6",
    "time": "2021-02-09T02:05:27.193Z",
    "type": "completion"
   },
   {
    "code": "trials = 100\nz = 200\nescSamps = sampleEscapeTraj(trials, z)",
    "id": "aeae959941cb46f88eda981eecda3f8c",
    "idx": 20,
    "time": "2021-02-09T02:06:07.793Z",
    "type": "execution"
   },
   {
    "code": "fig, ax = plt.subplots()\n\nnum_bins = 30\nn, bins, patches = ax.hist(escSamps, num_bins)\nax.set_ylabel(\"Counts\")\nax.set_xlabel(\"Steps to $z$\")\nplt.show()\nplt.close()",
    "id": "3b825f4c6bc84ef881373ab7d428b1ef",
    "idx": 22,
    "time": "2021-02-09T02:06:10.129Z",
    "type": "execution"
   },
   {
    "code": "print(np.mean(escSamps))",
    "id": "baa5fd01ae63480f8a258a85ab03b3a6",
    "idx": 24,
    "time": "2021-02-09T02:06:12.528Z",
    "type": "execution"
   },
   {
    "code": "test_z = [2, 4, 6, 8, 10, 12, 14, 16, 18, 20]\nmeanEsc = np.zeros(len(test_z))\nfor i in range(len(test_z)):\n    meanEsc[i] = np.mean(sampleEscapeTraj(trials, test_z[i]))",
    "id": "c92d1ee6507c4d8289dac35e4a0892bc",
    "idx": 26,
    "time": "2021-02-09T02:06:31.617Z",
    "type": "execution"
   },
   {
    "id": "aeae959941cb46f88eda981eecda3f8c",
    "time": "2021-02-09T02:06:35.859Z",
    "type": "completion"
   },
   {
    "id": "3b825f4c6bc84ef881373ab7d428b1ef",
    "time": "2021-02-09T02:06:36.131Z",
    "type": "completion"
   },
   {
    "id": "baa5fd01ae63480f8a258a85ab03b3a6",
    "time": "2021-02-09T02:06:36.173Z",
    "type": "completion"
   },
   {
    "id": "c92d1ee6507c4d8289dac35e4a0892bc",
    "time": "2021-02-09T02:06:37.283Z",
    "type": "completion"
   },
   {
    "code": "trials = 100\nz = 100\nescSamps = sampleEscapeTraj(trials, z)",
    "id": "aeae959941cb46f88eda981eecda3f8c",
    "idx": 20,
    "time": "2021-02-09T02:06:49.179Z",
    "type": "execution"
   },
   {
    "code": "fig, ax = plt.subplots()\n\nnum_bins = 30\nn, bins, patches = ax.hist(escSamps, num_bins)\nax.set_ylabel(\"Counts\")\nax.set_xlabel(\"Steps to $z$\")\nplt.show()\nplt.close()",
    "id": "3b825f4c6bc84ef881373ab7d428b1ef",
    "idx": 22,
    "time": "2021-02-09T02:06:54.323Z",
    "type": "execution"
   },
   {
    "code": "print(np.mean(escSamps))",
    "id": "baa5fd01ae63480f8a258a85ab03b3a6",
    "idx": 24,
    "time": "2021-02-09T02:06:56.754Z",
    "type": "execution"
   },
   {
    "id": "aeae959941cb46f88eda981eecda3f8c",
    "time": "2021-02-09T02:06:56.806Z",
    "type": "completion"
   },
   {
    "id": "3b825f4c6bc84ef881373ab7d428b1ef",
    "time": "2021-02-09T02:06:57.093Z",
    "type": "completion"
   },
   {
    "id": "baa5fd01ae63480f8a258a85ab03b3a6",
    "time": "2021-02-09T02:06:57.133Z",
    "type": "completion"
   },
   {
    "code": "trials = 1000\nz = 10\nescSamps = sampleEscapeTraj(trials, z)",
    "id": "aeae959941cb46f88eda981eecda3f8c",
    "idx": 20,
    "time": "2021-02-09T02:07:29.289Z",
    "type": "execution"
   },
   {
    "id": "aeae959941cb46f88eda981eecda3f8c",
    "time": "2021-02-09T02:07:30.070Z",
    "type": "completion"
   },
   {
    "code": "fig, ax = plt.subplots()\n\nnum_bins = 30\nn, bins, patches = ax.hist(escSamps, num_bins)\nax.set_ylabel(\"Counts\")\nax.set_xlabel(\"Steps to $z$\")\nplt.show()\nplt.close()",
    "id": "3b825f4c6bc84ef881373ab7d428b1ef",
    "idx": 22,
    "time": "2021-02-09T02:07:33.907Z",
    "type": "execution"
   },
   {
    "id": "3b825f4c6bc84ef881373ab7d428b1ef",
    "time": "2021-02-09T02:07:34.226Z",
    "type": "completion"
   },
   {
    "code": "trials = 5000\nz = 10\nescSamps = sampleEscapeTraj(trials, z)",
    "id": "aeae959941cb46f88eda981eecda3f8c",
    "idx": 20,
    "time": "2021-02-09T02:08:15.314Z",
    "type": "execution"
   },
   {
    "code": "fig, ax = plt.subplots()\n\nnum_bins = 30\nn, bins, patches = ax.hist(escSamps, num_bins)\nax.set_ylabel(\"Counts\")\nax.set_xlabel(\"Steps to $z$\")\nplt.show()\nplt.close()",
    "id": "3b825f4c6bc84ef881373ab7d428b1ef",
    "idx": 22,
    "time": "2021-02-09T02:08:17.515Z",
    "type": "execution"
   },
   {
    "id": "aeae959941cb46f88eda981eecda3f8c",
    "time": "2021-02-09T02:08:19.080Z",
    "type": "completion"
   },
   {
    "id": "3b825f4c6bc84ef881373ab7d428b1ef",
    "time": "2021-02-09T02:08:19.339Z",
    "type": "completion"
   },
   {
    "code": "print(np.mean(escSamps))",
    "id": "baa5fd01ae63480f8a258a85ab03b3a6",
    "idx": 24,
    "time": "2021-02-09T02:08:23.273Z",
    "type": "execution"
   },
   {
    "id": "baa5fd01ae63480f8a258a85ab03b3a6",
    "time": "2021-02-09T02:08:23.342Z",
    "type": "completion"
   },
   {
    "code": "#Function that samples M number of trajectories, stopping when a walker reaches a distance r away from the origin\n#Inputs: Number of trials, distance to the edge\n#Outputs: List of integers for the number of steps taken until reaching a distance r\n#In each time interval there is a random step of length $1/\\sqrt{3}$ \ndef sampleEscapeTraj(trials, z):\n    escSteps = np.zeros(trials)\n    for i in range(trials):\n        stepNum = 0\n        curPos = 0\n        while abs(curPos)!=z:\n            curPos += np.random.choice([-1, 1])\n            stepNum += 1\n        escSteps[i] = stepNum\n    return escSteps",
    "id": "47e5c7c23c6a438d9c20d1ff91ddf749",
    "idx": 31,
    "time": "2021-02-09T03:34:43.602Z",
    "type": "execution"
   },
   {
    "id": "47e5c7c23c6a438d9c20d1ff91ddf749",
    "time": "2021-02-09T03:34:43.711Z",
    "type": "completion"
   },
   {
    "code": "#Function that samples M number of trajectories, stopping when a walker reaches a distance r away from the origin\n#Inputs: Number of trials, distance to the edge\n#Outputs: List of integers for the number of steps taken until reaching a distance r\n#In each time interval there is a random step of length 1/sqrt(3) in x,y,and z. \ndef sampleEscapeTraj(trials, r):\n    rescSteps = np.zeros(trials)\n    for i in range(trials):\n        stepNum = 0\n        x = 0\n        y = 0 \n        z = 0\n        while (x**2+y**2+z**2 < r**2):\n            x += np.random.choice([-1, 1])/sqrt(3)\n            y += np.random.choice([-1, 1])/sqrt(3)\n            z += np.random.choice([-1, 1])/sqrt(3)\n            stepNum += 1\n        rescSteps[i] = stepNum\n    return rescSteps",
    "id": "47e5c7c23c6a438d9c20d1ff91ddf749",
    "idx": 31,
    "time": "2021-02-09T03:43:39.297Z",
    "type": "execution"
   },
   {
    "id": "47e5c7c23c6a438d9c20d1ff91ddf749",
    "time": "2021-02-09T03:43:39.374Z",
    "type": "completion"
   },
   {
    "code": "trials = 5000\nr = 10\nrescSamps = sampleEscapeTraj(trials, r)",
    "id": "d1ba13e6c95440088cb794bf560b6454",
    "idx": 32,
    "time": "2021-02-09T03:43:40.604Z",
    "type": "execution"
   },
   {
    "id": "d1ba13e6c95440088cb794bf560b6454",
    "time": "2021-02-09T03:43:40.746Z",
    "type": "completion"
   },
   {
    "code": "#Function that samples M number of trajectories, stopping when a walker reaches a distance r away from the origin\n#Inputs: Number of trials, distance to the edge\n#Outputs: List of integers for the number of steps taken until reaching a distance r\n#In each time interval there is a random step of length 1/sqrt(3) in x,y,and z. \ndef sampleEscapeTraj(trials, r):\n    rescSteps = np.zeros(trials)\n    for i in range(trials):\n        stepNum = 0\n        x = 0\n        y = 0 \n        z = 0\n        while (x**2+y**2+z**2 < r**2):\n            x += np.random.choice([-1, 1])/np.sqrt(3)\n            y += np.random.choice([-1, 1])/np.sqrt(3)\n            z += np.random.choice([-1, 1])/np.sqrt(3)\n            stepNum += 1\n        rescSteps[i] = stepNum\n    return rescSteps",
    "id": "47e5c7c23c6a438d9c20d1ff91ddf749",
    "idx": 31,
    "time": "2021-02-09T03:44:51.331Z",
    "type": "execution"
   },
   {
    "id": "47e5c7c23c6a438d9c20d1ff91ddf749",
    "time": "2021-02-09T03:44:51.404Z",
    "type": "completion"
   },
   {
    "code": "#Function that samples M number of trajectories, stopping when a walker reaches a distance r away from the origin\n#Inputs: Number of trials, distance to the edge\n#Outputs: List of integers for the number of steps taken until reaching a distance r\n#In each time interval there is a random step of length 1/sqrt(3) in x,y,and z. \ndef sampleEscapeTraj(trials, r):\n    rescSteps = np.zeros(trials)\n    for i in range(trials):\n        stepNum = 0\n        x = 0\n        y = 0 \n        z = 0\n        while (x**2+y**2+z**2 < r**2):\n            x += np.random.choice([-1, 1])/np.sqrt(3)\n            y += np.random.choice([-1, 1])/np.sqrt(3)\n            z += np.random.choice([-1, 1])/np.sqrt(3)\n            stepNum += 1\n        rescSteps[i] = stepNum\n    return rescSteps",
    "id": "47e5c7c23c6a438d9c20d1ff91ddf749",
    "idx": 31,
    "time": "2021-02-09T03:44:55.317Z",
    "type": "execution"
   },
   {
    "id": "47e5c7c23c6a438d9c20d1ff91ddf749",
    "time": "2021-02-09T03:44:55.376Z",
    "type": "completion"
   },
   {
    "code": "import numpy as np\nimport scipy.stats as st\nimport matplotlib.pyplot as plt",
    "id": "f7e5311ff87248e3a891b84c9742bab7",
    "idx": 0,
    "time": "2021-02-09T03:45:05.803Z",
    "type": "execution"
   },
   {
    "id": "f7e5311ff87248e3a891b84c9742bab7",
    "time": "2021-02-09T03:45:06.697Z",
    "type": "completion"
   },
   {
    "code": "#Function that samples M number of trajectories, stopping when a walker reaches a distance r away from the origin\n#Inputs: Number of trials, distance to the edge\n#Outputs: List of integers for the number of steps taken until reaching a distance r\n#In each time interval there is a random step of length 1/sqrt(3) in x,y,and z. \ndef sampleEscapeTraj(trials, r):\n    rescSteps = np.zeros(trials)\n    for i in range(trials):\n        stepNum = 0\n        x = 0\n        y = 0 \n        z = 0\n        while (x**2+y**2+z**2 < r**2):\n            x += np.random.choice([-1, 1])/np.sqrt(3)\n            y += np.random.choice([-1, 1])/np.sqrt(3)\n            z += np.random.choice([-1, 1])/np.sqrt(3)\n            stepNum += 1\n        rescSteps[i] = stepNum\n    return rescSteps",
    "id": "47e5c7c23c6a438d9c20d1ff91ddf749",
    "idx": 31,
    "time": "2021-02-09T03:45:12.894Z",
    "type": "execution"
   },
   {
    "id": "47e5c7c23c6a438d9c20d1ff91ddf749",
    "time": "2021-02-09T03:45:12.954Z",
    "type": "completion"
   },
   {
    "code": "#Function that samples M number of trajectories, stopping when a walker reaches a distance r away from the origin\n#Inputs: Number of trials, distance to the edge\n#Outputs: List of integers for the number of steps taken until reaching a distance r\n#In each time interval there is a random step of length 1/sqrt(3) in x,y,and z. \ndef sampleEscapeTraj(trials, r):\n    rescSteps = np.zeros(trials)\n    for i in range(trials):\n        stepNum = 0\n        x = 0\n        y = 0 \n        z = 0\n        while (x**2+y**2+z**2 < r**2):\n            x += np.random.choice([-1, 1])/np.sqrt(3)\n            y += np.random.choice([-1, 1])/np.sqrt(3)\n            z += np.random.choice([-1, 1])/np.sqrt(3)\n            stepNum += 1\n        rescSteps[i] = stepNum\n    return rescSteps",
    "id": "47e5c7c23c6a438d9c20d1ff91ddf749",
    "idx": 31,
    "time": "2021-02-09T03:45:22.125Z",
    "type": "execution"
   },
   {
    "id": "47e5c7c23c6a438d9c20d1ff91ddf749",
    "time": "2021-02-09T03:45:22.186Z",
    "type": "completion"
   },
   {
    "code": "trials = 5000\nr = 10\nrescSamps = sampleEscapeTraj(trials, r)",
    "id": "d1ba13e6c95440088cb794bf560b6454",
    "idx": 32,
    "time": "2021-02-09T03:45:23.443Z",
    "type": "execution"
   },
   {
    "code": "fig, ax = plt.subplots()\n\nnum_bins = 30\nn, bins, patches = ax.hist(rescSamps, num_bins)\nax.set_ylabel(\"Counts\")\nax.set_xlabel(\"Steps to $r$\")\nplt.show()\nplt.close()",
    "id": "402226077bb041b593a014d60ad09015",
    "idx": 33,
    "time": "2021-02-09T03:45:25.472Z",
    "type": "execution"
   },
   {
    "id": "d1ba13e6c95440088cb794bf560b6454",
    "time": "2021-02-09T03:45:45.783Z",
    "type": "completion"
   },
   {
    "id": "402226077bb041b593a014d60ad09015",
    "time": "2021-02-09T03:45:46.231Z",
    "type": "completion"
   },
   {
    "code": "print(np.mean(escSamps))",
    "id": "ae7484e2e2184d948918bd6a5b3918dd",
    "idx": 34,
    "time": "2021-02-09T03:45:56.995Z",
    "type": "execution"
   },
   {
    "id": "ae7484e2e2184d948918bd6a5b3918dd",
    "time": "2021-02-09T03:45:57.134Z",
    "type": "completion"
   },
   {
    "code": "print(np.mean(rescSamps))",
    "id": "ae7484e2e2184d948918bd6a5b3918dd",
    "idx": 34,
    "time": "2021-02-09T03:46:05.705Z",
    "type": "execution"
   },
   {
    "id": "ae7484e2e2184d948918bd6a5b3918dd",
    "time": "2021-02-09T03:46:05.775Z",
    "type": "completion"
   },
   {
    "code": "trials = 1000\nr = 10\nrescSamps = sampleEscapeTraj(trials, r)",
    "id": "d1ba13e6c95440088cb794bf560b6454",
    "idx": 32,
    "time": "2021-02-09T03:46:43.963Z",
    "type": "execution"
   },
   {
    "code": "fig, ax = plt.subplots()\n\nnum_bins = 30\nn, bins, patches = ax.hist(rescSamps, num_bins)\nax.set_ylabel(\"Counts\")\nax.set_xlabel(\"Steps to $r$\")\nplt.show()\nplt.close()",
    "id": "402226077bb041b593a014d60ad09015",
    "idx": 33,
    "time": "2021-02-09T03:46:46.561Z",
    "type": "execution"
   },
   {
    "id": "d1ba13e6c95440088cb794bf560b6454",
    "time": "2021-02-09T03:46:48.291Z",
    "type": "completion"
   },
   {
    "id": "402226077bb041b593a014d60ad09015",
    "time": "2021-02-09T03:46:48.554Z",
    "type": "completion"
   },
   {
    "code": "print(np.mean(rescSamps))",
    "id": "ae7484e2e2184d948918bd6a5b3918dd",
    "idx": 34,
    "time": "2021-02-09T03:46:49.679Z",
    "type": "execution"
   },
   {
    "id": "ae7484e2e2184d948918bd6a5b3918dd",
    "time": "2021-02-09T03:46:49.736Z",
    "type": "completion"
   },
   {
    "code": "trials = 1000\nr = 20\nrescSamps = sampleEscapeTraj(trials, r)",
    "id": "d1ba13e6c95440088cb794bf560b6454",
    "idx": 32,
    "time": "2021-02-09T03:47:05.309Z",
    "type": "execution"
   },
   {
    "code": "fig, ax = plt.subplots()\n\nnum_bins = 30\nn, bins, patches = ax.hist(rescSamps, num_bins)\nax.set_ylabel(\"Counts\")\nax.set_xlabel(\"Steps to $r$\")\nplt.show()\nplt.close()",
    "id": "402226077bb041b593a014d60ad09015",
    "idx": 33,
    "time": "2021-02-09T03:47:06.518Z",
    "type": "execution"
   },
   {
    "code": "print(np.mean(rescSamps))",
    "id": "ae7484e2e2184d948918bd6a5b3918dd",
    "idx": 34,
    "time": "2021-02-09T03:47:09.820Z",
    "type": "execution"
   },
   {
    "id": "d1ba13e6c95440088cb794bf560b6454",
    "time": "2021-02-09T03:47:24.527Z",
    "type": "completion"
   },
   {
    "id": "402226077bb041b593a014d60ad09015",
    "time": "2021-02-09T03:47:24.807Z",
    "type": "completion"
   },
   {
    "id": "ae7484e2e2184d948918bd6a5b3918dd",
    "time": "2021-02-09T03:47:24.837Z",
    "type": "completion"
   },
   {
    "code": "#Function that samples M number of trajectories, stopping when a walker reaches a distance r away from the origin\n#Inputs: Number of trials, distance to the edge\n#Outputs: List of integers for the number of steps taken until reaching a distance r\n#In each time interval there is a random step of length 1/sqrt(3) in x,y,and z. \ndef sampleEscapeTraj(trials, r):\n    rescSteps = np.zeros(trials)\n    for i in range(trials):\n        stepNum = 0\n        x = 0\n        y = 0 \n        z = 0\n        while ((x**2+y**2+z**2) < r**2):\n            x += np.random.choice([-1, 1])/np.sqrt(3)\n            y += np.random.choice([-1, 1])/np.sqrt(3)\n            z += np.random.choice([-1, 1])/np.sqrt(3)\n            stepNum += 1\n        rescSteps[i] = stepNum\n    return rescSteps",
    "id": "47e5c7c23c6a438d9c20d1ff91ddf749",
    "idx": 31,
    "time": "2021-02-09T03:48:32.701Z",
    "type": "execution"
   },
   {
    "id": "47e5c7c23c6a438d9c20d1ff91ddf749",
    "time": "2021-02-09T03:48:32.772Z",
    "type": "completion"
   },
   {
    "code": "trials = 1000\nr = 4\nrescSamps = sampleEscapeTraj(trials, r)",
    "id": "d1ba13e6c95440088cb794bf560b6454",
    "idx": 32,
    "time": "2021-02-09T03:48:33.607Z",
    "type": "execution"
   },
   {
    "id": "d1ba13e6c95440088cb794bf560b6454",
    "time": "2021-02-09T03:48:34.392Z",
    "type": "completion"
   },
   {
    "code": "fig, ax = plt.subplots()\n\nnum_bins = 30\nn, bins, patches = ax.hist(rescSamps, num_bins)\nax.set_ylabel(\"Counts\")\nax.set_xlabel(\"Steps to $r$\")\nplt.show()\nplt.close()",
    "id": "402226077bb041b593a014d60ad09015",
    "idx": 33,
    "time": "2021-02-09T03:48:35.926Z",
    "type": "execution"
   },
   {
    "id": "402226077bb041b593a014d60ad09015",
    "time": "2021-02-09T03:48:36.261Z",
    "type": "completion"
   },
   {
    "code": "print(np.mean(rescSamps))",
    "id": "ae7484e2e2184d948918bd6a5b3918dd",
    "idx": 34,
    "time": "2021-02-09T03:48:42.322Z",
    "type": "execution"
   },
   {
    "id": "ae7484e2e2184d948918bd6a5b3918dd",
    "time": "2021-02-09T03:48:43.158Z",
    "type": "completion"
   },
   {
    "code": "print(np.median(resecSamps))",
    "id": "4bc60c843f2d4b0a98d0875ccea38a94",
    "idx": 35,
    "time": "2021-02-09T03:49:46.793Z",
    "type": "execution"
   },
   {
    "id": "4bc60c843f2d4b0a98d0875ccea38a94",
    "time": "2021-02-09T03:49:46.863Z",
    "type": "completion"
   },
   {
    "code": "print(np.median(rescSamps))",
    "id": "4bc60c843f2d4b0a98d0875ccea38a94",
    "idx": 35,
    "time": "2021-02-09T03:50:02.676Z",
    "type": "execution"
   },
   {
    "id": "4bc60c843f2d4b0a98d0875ccea38a94",
    "time": "2021-02-09T03:50:02.736Z",
    "type": "completion"
   },
   {
    "code": "trials = 1000\nr = 10\nrescSamps = sampleEscapeTraj(trials, r)",
    "id": "d1ba13e6c95440088cb794bf560b6454",
    "idx": 32,
    "time": "2021-02-09T03:51:21.868Z",
    "type": "execution"
   },
   {
    "code": "fig, ax = plt.subplots()\n\nnum_bins = 30\nn, bins, patches = ax.hist(rescSamps, num_bins)\nax.set_ylabel(\"Counts\")\nax.set_xlabel(\"Steps to $r$\")\nplt.show()\nplt.close()",
    "id": "402226077bb041b593a014d60ad09015",
    "idx": 33,
    "time": "2021-02-09T03:51:23.719Z",
    "type": "execution"
   },
   {
    "code": "print(np.mean(rescSamps))",
    "id": "ae7484e2e2184d948918bd6a5b3918dd",
    "idx": 34,
    "time": "2021-02-09T03:51:24.902Z",
    "type": "execution"
   },
   {
    "code": "print(np.median(rescSamps))",
    "id": "4bc60c843f2d4b0a98d0875ccea38a94",
    "idx": 35,
    "time": "2021-02-09T03:51:25.746Z",
    "type": "execution"
   },
   {
    "id": "d1ba13e6c95440088cb794bf560b6454",
    "time": "2021-02-09T03:51:26.233Z",
    "type": "completion"
   },
   {
    "id": "402226077bb041b593a014d60ad09015",
    "time": "2021-02-09T03:51:26.506Z",
    "type": "completion"
   },
   {
    "id": "ae7484e2e2184d948918bd6a5b3918dd",
    "time": "2021-02-09T03:51:26.539Z",
    "type": "completion"
   },
   {
    "id": "4bc60c843f2d4b0a98d0875ccea38a94",
    "time": "2021-02-09T03:51:26.542Z",
    "type": "completion"
   },
   {
    "code": "print(np.mean(escSamps))\nprint(np.median(escSamps))",
    "id": "baa5fd01ae63480f8a258a85ab03b3a6",
    "idx": 24,
    "time": "2021-02-09T03:53:25.038Z",
    "type": "execution"
   },
   {
    "id": "baa5fd01ae63480f8a258a85ab03b3a6",
    "time": "2021-02-09T03:53:25.203Z",
    "type": "completion"
   },
   {
    "code": "#Function that samples M number of trajectories, stopping when a walker reaches a distance z away from the origin\n#Inputs: Number of trials, distance to the edge\n#Outputs: List of integers for the number of steps taken until reaching a distance z\ndef sampleEscapeTraj(trials, z):\n    escSteps = np.zeros(trials)\n    for i in range(trials):\n        stepNum = 0\n        curPos = 0\n        while abs(curPos)!=z:\n            curPos += np.random.choice([-1, 1])\n            stepNum += 1\n        escSteps[i] = stepNum\n    return escSteps",
    "id": "15ec0e12d37c4fd4853576687a4634d6",
    "idx": 19,
    "time": "2021-02-09T03:53:46.813Z",
    "type": "execution"
   },
   {
    "id": "15ec0e12d37c4fd4853576687a4634d6",
    "time": "2021-02-09T03:53:46.981Z",
    "type": "completion"
   },
   {
    "code": "trials = 5000\nz = 10\nescSamps = sampleEscapeTraj(trials, z)",
    "id": "aeae959941cb46f88eda981eecda3f8c",
    "idx": 20,
    "time": "2021-02-09T03:53:47.584Z",
    "type": "execution"
   },
   {
    "code": "fig, ax = plt.subplots()\n\nnum_bins = 30\nn, bins, patches = ax.hist(escSamps, num_bins)\nax.set_ylabel(\"Counts\")\nax.set_xlabel(\"Steps to $z$\")\nplt.show()\nplt.close()",
    "id": "3b825f4c6bc84ef881373ab7d428b1ef",
    "idx": 22,
    "time": "2021-02-09T03:53:50.192Z",
    "type": "execution"
   },
   {
    "id": "aeae959941cb46f88eda981eecda3f8c",
    "time": "2021-02-09T03:53:51.091Z",
    "type": "completion"
   },
   {
    "id": "3b825f4c6bc84ef881373ab7d428b1ef",
    "time": "2021-02-09T03:53:51.420Z",
    "type": "completion"
   },
   {
    "code": "print(np.mean(escSamps))\nprint(np.median(escSamps))",
    "id": "baa5fd01ae63480f8a258a85ab03b3a6",
    "idx": 24,
    "time": "2021-02-09T03:53:53.757Z",
    "type": "execution"
   },
   {
    "id": "baa5fd01ae63480f8a258a85ab03b3a6",
    "time": "2021-02-09T03:53:53.851Z",
    "type": "completion"
   },
   {
    "code": "fig, ax = plt.subplots()\n\nnum_bins = 50\nn, bins, patches = ax.hist(samps, num_bins)\nx = np.arange(np.min(samps), np.max(samps), 2)\nx_range = np.max(samps) -np.min(samps)\nax.plot(x, (x_range/(2*num_bins))*trials*st.binom.pmf((x+steps)/2, steps, probR, loc=0), 'r-', label='Binomial p.d.f.')\nax.set_ylabel(\"Counts\")\nax.set_xlabel(\"Net Displacement\")\nax.legend()\nplt.show()\nplt.close()",
    "id": "e4ed722ab85b407d963938656f3f3238",
    "idx": 9,
    "time": "2021-02-09T04:06:17.032Z",
    "type": "execution"
   },
   {
    "id": "e4ed722ab85b407d963938656f3f3238",
    "time": "2021-02-09T04:06:17.289Z",
    "type": "completion"
   },
   {
    "code": "print(np.mean(samps))\nprint(np.var(samps))",
    "id": "abc9e4886268418e8bf43fcf55ececf0",
    "idx": 10,
    "time": "2021-02-09T04:06:18.703Z",
    "type": "execution"
   },
   {
    "id": "abc9e4886268418e8bf43fcf55ececf0",
    "time": "2021-02-09T04:06:18.793Z",
    "type": "completion"
   },
   {
    "code": "trials = 10000\nsteps = 1000\nprobR = 0.5 #Probability of a +1 (or right) step\nsamps = sampleTrajectories(trials, steps, prob=probR)",
    "id": "c6c2c3f41355440a8c288473860c15b5",
    "idx": 5,
    "time": "2021-02-09T04:06:37.437Z",
    "type": "execution"
   },
   {
    "id": "c6c2c3f41355440a8c288473860c15b5",
    "time": "2021-02-09T04:06:37.504Z",
    "type": "completion"
   },
   {
    "code": "#Function that samples M number of trajectories, with N number of steps per trial\n#Inputs: Number of trials, number of steps per trial\n#Outputs: List of locations (integers) where the random walker stops at the end of all N steps of each trial\ndef sampleTrajectories(num_trials, num_steps, prob=0.5):\n    vals = np.zeros(num_trials, dtype=int)\n    for i in range(num_trials):\n        vals[i] = sum(np.random.choice([-1,1], p=[1-prob, prob], size=num_steps))\n    return vals",
    "id": "8bafbfe49d044c62877a5ae7b9df7451",
    "idx": 4,
    "time": "2021-02-09T04:06:47.863Z",
    "type": "execution"
   },
   {
    "id": "8bafbfe49d044c62877a5ae7b9df7451",
    "time": "2021-02-09T04:06:47.924Z",
    "type": "completion"
   },
   {
    "code": "trials = 10000\nsteps = 1000\nprobR = 0.5 #Probability of a +1 (or right) step\nsamps = sampleTrajectories(trials, steps, prob=probR)",
    "id": "c6c2c3f41355440a8c288473860c15b5",
    "idx": 5,
    "time": "2021-02-09T04:06:49.414Z",
    "type": "execution"
   },
   {
    "id": "c6c2c3f41355440a8c288473860c15b5",
    "time": "2021-02-09T04:06:52.958Z",
    "type": "completion"
   },
   {
    "code": "We can plot the resulting distribution of ending distances.",
    "id": "8361d3729801407db7ea928c041b179e",
    "idx": 8,
    "time": "2021-02-09T04:06:59.041Z",
    "type": "execution"
   },
   {
    "id": "8361d3729801407db7ea928c041b179e",
    "time": "2021-02-09T04:06:59.120Z",
    "type": "completion"
   },
   {
    "code": "fig, ax = plt.subplots()\n\nnum_bins = 50\nn, bins, patches = ax.hist(samps, num_bins)\nx = np.arange(np.min(samps), np.max(samps), 2)\nx_range = np.max(samps) -np.min(samps)\nax.plot(x, (x_range/(2*num_bins))*trials*st.binom.pmf((x+steps)/2, steps, probR, loc=0), 'r-', label='Binomial p.d.f.')\nax.set_ylabel(\"Counts\")\nax.set_xlabel(\"Net Displacement\")\nax.legend()\nplt.show()\nplt.close()",
    "id": "e4ed722ab85b407d963938656f3f3238",
    "idx": 9,
    "time": "2021-02-09T04:07:00.679Z",
    "type": "execution"
   },
   {
    "id": "e4ed722ab85b407d963938656f3f3238",
    "time": "2021-02-09T04:07:01.199Z",
    "type": "completion"
   },
   {
    "code": "trials = 10000\nsteps = 1000\nprobR = 0.25 #Probability of a +1 (or right) step\nsamps = sampleTrajectories(trials, steps, prob=probR)",
    "id": "c6c2c3f41355440a8c288473860c15b5",
    "idx": 5,
    "time": "2021-02-09T04:07:45.131Z",
    "type": "execution"
   },
   {
    "id": "c6c2c3f41355440a8c288473860c15b5",
    "time": "2021-02-09T04:07:48.867Z",
    "type": "completion"
   },
   {
    "code": "trials = 10000\nsteps = 1000\nprobR = 0.25 #Probability of a +1 (or right) step\nsamps = sampleTrajectories(trials, steps, prob=probR)",
    "id": "c6c2c3f41355440a8c288473860c15b5",
    "idx": 5,
    "time": "2021-02-09T04:07:54.100Z",
    "type": "execution"
   },
   {
    "code": "We can plot the resulting distribution of ending distances.",
    "id": "8361d3729801407db7ea928c041b179e",
    "idx": 8,
    "time": "2021-02-09T04:07:56.069Z",
    "type": "execution"
   },
   {
    "code": "fig, ax = plt.subplots()\n\nnum_bins = 50\nn, bins, patches = ax.hist(samps, num_bins)\nx = np.arange(np.min(samps), np.max(samps), 2)\nx_range = np.max(samps) -np.min(samps)\nax.plot(x, (x_range/(2*num_bins))*trials*st.binom.pmf((x+steps)/2, steps, probR, loc=0), 'r-', label='Binomial p.d.f.')\nax.set_ylabel(\"Counts\")\nax.set_xlabel(\"Net Displacement\")\nax.legend()\nplt.show()\nplt.close()",
    "id": "e4ed722ab85b407d963938656f3f3238",
    "idx": 9,
    "time": "2021-02-09T04:07:57.013Z",
    "type": "execution"
   },
   {
    "id": "c6c2c3f41355440a8c288473860c15b5",
    "time": "2021-02-09T04:07:57.349Z",
    "type": "completion"
   },
   {
    "id": "8361d3729801407db7ea928c041b179e",
    "time": "2021-02-09T04:07:57.355Z",
    "type": "completion"
   },
   {
    "id": "e4ed722ab85b407d963938656f3f3238",
    "time": "2021-02-09T04:07:57.357Z",
    "type": "completion"
   },
   {
    "code": "print(np.mean(samps))\nprint(np.var(samps))",
    "id": "abc9e4886268418e8bf43fcf55ececf0",
    "idx": 10,
    "time": "2021-02-09T04:08:06.923Z",
    "type": "execution"
   },
   {
    "id": "abc9e4886268418e8bf43fcf55ececf0",
    "time": "2021-02-09T04:08:06.994Z",
    "type": "completion"
   },
   {
    "code": "fig, ax = plt.subplots()\n\nnum_bins = 50\nn, bins, patches = ax.hist(samps, num_bins)\nx = np.arange(np.min(samps), np.max(samps), 2)\nx_range = np.max(samps) -np.min(samps)\nax.plot(x, (x_range/(2*num_bins))*trials*st.binom.pmf((x+steps)/2, steps, probR, loc=0), 'r-', label='Binomial p.d.f.')\nax.set_ylabel(\"Counts\")\nax.set_xlabel(\"Net Displacement\")\nax.legend()\nplt.show()\nplt.close()",
    "id": "e4ed722ab85b407d963938656f3f3238",
    "idx": 9,
    "time": "2021-02-09T04:08:17.719Z",
    "type": "execution"
   },
   {
    "id": "e4ed722ab85b407d963938656f3f3238",
    "time": "2021-02-09T04:08:18.190Z",
    "type": "completion"
   },
   {
    "code": "fig, ax = plt.subplots()\n\nnum_bins = 50\nn, bins, patches = ax.hist(samps, num_bins)\nx = np.arange(np.min(samps), np.max(samps), 2)\nx_range = np.max(samps) -np.min(samps)\n#ax.plot(x, (x_range/(2*num_bins))*trials*st.binom.pmf((x+steps)/2, steps, probR, loc=0), 'r-', label='Binomial p.d.f.')\nax.set_ylabel(\"Counts\")\nax.set_xlabel(\"Net Displacement\")\nax.legend()\nplt.show()\nplt.close()",
    "id": "e4ed722ab85b407d963938656f3f3238",
    "idx": 7,
    "time": "2021-02-09T04:23:41.372Z",
    "type": "execution"
   },
   {
    "id": "e4ed722ab85b407d963938656f3f3238",
    "time": "2021-02-09T04:23:41.776Z",
    "type": "completion"
   },
   {
    "code": "fig, ax = plt.subplots()\n\nnum_bins = 50\nn, bins, patches = ax.hist(samps, num_bins)\nx = np.arange(np.min(samps), np.max(samps), 2)\nx_range = np.max(samps) -np.min(samps)\n#ax.plot(x, (x_range/(2*num_bins))*trials*st.binom.pmf((x+steps)/2, steps, probR, loc=0), 'r-', label='Binomial p.d.f.')\nax.set_ylabel(\"Counts\")\nax.set_xlabel(\"Net Displacement\")\n#ax.legend()\nplt.show()\nplt.close()",
    "id": "e4ed722ab85b407d963938656f3f3238",
    "idx": 7,
    "time": "2021-02-09T04:24:23.258Z",
    "type": "execution"
   },
   {
    "id": "e4ed722ab85b407d963938656f3f3238",
    "time": "2021-02-09T04:24:23.619Z",
    "type": "completion"
   },
   {
    "code": "trials = 10000\nsteps = 100\nprobR = 0.25 #Probability of a +1 (or right) step\nsamps = sampleTrajectories(trials, steps, prob=probR)",
    "id": "c6c2c3f41355440a8c288473860c15b5",
    "idx": 5,
    "time": "2021-02-09T04:24:46.050Z",
    "type": "execution"
   },
   {
    "id": "c6c2c3f41355440a8c288473860c15b5",
    "time": "2021-02-09T04:24:47.000Z",
    "type": "completion"
   },
   {
    "code": "fig, ax = plt.subplots()\n\nnum_bins = 50\nn, bins, patches = ax.hist(samps, num_bins)\nx = np.arange(np.min(samps), np.max(samps), 2)\nx_range = np.max(samps) -np.min(samps)\n#ax.plot(x, (x_range/(2*num_bins))*trials*st.binom.pmf((x+steps)/2, steps, probR, loc=0), 'r-', label='Binomial p.d.f.')\nax.set_ylabel(\"Counts\")\nax.set_xlabel(\"Net Displacement\")\n#ax.legend()\nplt.show()\nplt.close()",
    "id": "e4ed722ab85b407d963938656f3f3238",
    "idx": 7,
    "time": "2021-02-09T04:24:49.400Z",
    "type": "execution"
   },
   {
    "id": "e4ed722ab85b407d963938656f3f3238",
    "time": "2021-02-09T04:24:49.769Z",
    "type": "completion"
   },
   {
    "code": "trials = 10000\nsteps = 1000\nprobR = 0.25 #Probability of a +1 (or right) step\nsamps = sampleTrajectories(trials, steps, prob=probR)",
    "id": "c6c2c3f41355440a8c288473860c15b5",
    "idx": 5,
    "time": "2021-02-09T04:25:07.802Z",
    "type": "execution"
   },
   {
    "code": "fig, ax = plt.subplots()\n\nnum_bins = 50\nn, bins, patches = ax.hist(samps, num_bins)\nx = np.arange(np.min(samps), np.max(samps), 2)\nx_range = np.max(samps) -np.min(samps)\n#ax.plot(x, (x_range/(2*num_bins))*trials*st.binom.pmf((x+steps)/2, steps, probR, loc=0), 'r-', label='Binomial p.d.f.')\nax.set_ylabel(\"Counts\")\nax.set_xlabel(\"Net Displacement\")\n#ax.legend()\nplt.show()\nplt.close()",
    "id": "e4ed722ab85b407d963938656f3f3238",
    "idx": 7,
    "time": "2021-02-09T04:25:10.650Z",
    "type": "execution"
   },
   {
    "id": "c6c2c3f41355440a8c288473860c15b5",
    "time": "2021-02-09T04:25:11.093Z",
    "type": "completion"
   },
   {
    "id": "e4ed722ab85b407d963938656f3f3238",
    "time": "2021-02-09T04:25:11.419Z",
    "type": "completion"
   },
   {
    "code": "print(np.mean(samps))\nprint(np.var(samps))",
    "id": "abc9e4886268418e8bf43fcf55ececf0",
    "idx": 9,
    "time": "2021-02-09T04:25:14.753Z",
    "type": "execution"
   },
   {
    "id": "abc9e4886268418e8bf43fcf55ececf0",
    "time": "2021-02-09T04:25:14.848Z",
    "type": "completion"
   },
   {
    "code": "#Function that samples M number of trajectories, with N number of steps per trial\n#Inputs: Number of trials, number of steps per trial\n#Outputs: List of locations (integers) where the random walker stops at the end of all N steps of each trial\ndef sampleTrajectories(num_trials, num_steps, prob=0.5):\n    vals = np.zeros(num_trials, dtype=int)\n    for i in range(num_trials):\n        vals[i] = sum(np.random.choice([-1,1], p=[1-prob, prob], size=num_steps))\n    return vals",
    "id": "8bafbfe49d044c62877a5ae7b9df7451",
    "idx": 4,
    "time": "2021-02-09T04:25:32.330Z",
    "type": "execution"
   },
   {
    "id": "8bafbfe49d044c62877a5ae7b9df7451",
    "time": "2021-02-09T04:25:32.414Z",
    "type": "completion"
   },
   {
    "code": "trials = 10000\nsteps = 1000\nprobR = 0.25 #Probability of a +1 (or right) step\nsamps = sampleTrajectories(trials, steps, prob=probR)",
    "id": "c6c2c3f41355440a8c288473860c15b5",
    "idx": 5,
    "time": "2021-02-09T04:25:32.977Z",
    "type": "execution"
   },
   {
    "code": "fig, ax = plt.subplots()\n\nnum_bins = 50\nn, bins, patches = ax.hist(samps, num_bins)\nx = np.arange(np.min(samps), np.max(samps), 2)\nx_range = np.max(samps) -np.min(samps)\n#ax.plot(x, (x_range/(2*num_bins))*trials*st.binom.pmf((x+steps)/2, steps, probR, loc=0), 'r-', label='Binomial p.d.f.')\nax.set_ylabel(\"Counts\")\nax.set_xlabel(\"Net Displacement\")\n#ax.legend()\nplt.show()\nplt.close()",
    "id": "e4ed722ab85b407d963938656f3f3238",
    "idx": 7,
    "time": "2021-02-09T04:25:34.521Z",
    "type": "execution"
   },
   {
    "id": "c6c2c3f41355440a8c288473860c15b5",
    "time": "2021-02-09T04:25:36.608Z",
    "type": "completion"
   },
   {
    "id": "e4ed722ab85b407d963938656f3f3238",
    "time": "2021-02-09T04:25:37.002Z",
    "type": "completion"
   },
   {
    "code": "#Function that samples M number of trajectories, with N number of steps per trial\n#Inputs: Number of trials, number of steps per trial\n#Outputs: List of locations (integers) where the random walker stops at the end of all N steps of each trial\ndef sampleTrajectories(num_trials, num_steps, prob=0.5):\n    vals = np.zeros(num_trials, dtype=int)\n    for i in range(num_trials):\n        vals[i] = sum(np.random.choice([-1,1], p=[1-prob, prob], size=num_steps))\n    return vals",
    "id": "8bafbfe49d044c62877a5ae7b9df7451",
    "idx": 4,
    "time": "2021-02-09T04:25:48.607Z",
    "type": "execution"
   },
   {
    "id": "8bafbfe49d044c62877a5ae7b9df7451",
    "time": "2021-02-09T04:25:48.667Z",
    "type": "completion"
   },
   {
    "code": "trials = 10000\nsteps = 1000\nprobR = 0.25 #Probability of a +1 (or right) step\nsamps = sampleTrajectories(trials, steps, prob=probR)",
    "id": "c6c2c3f41355440a8c288473860c15b5",
    "idx": 5,
    "time": "2021-02-09T04:25:49.393Z",
    "type": "execution"
   },
   {
    "code": "fig, ax = plt.subplots()\n\nnum_bins = 50\nn, bins, patches = ax.hist(samps, num_bins)\nx = np.arange(np.min(samps), np.max(samps), 2)\nx_range = np.max(samps) -np.min(samps)\n#ax.plot(x, (x_range/(2*num_bins))*trials*st.binom.pmf((x+steps)/2, steps, probR, loc=0), 'r-', label='Binomial p.d.f.')\nax.set_ylabel(\"Counts\")\nax.set_xlabel(\"Net Displacement\")\n#ax.legend()\nplt.show()\nplt.close()",
    "id": "e4ed722ab85b407d963938656f3f3238",
    "idx": 7,
    "time": "2021-02-09T04:25:51.407Z",
    "type": "execution"
   },
   {
    "id": "c6c2c3f41355440a8c288473860c15b5",
    "time": "2021-02-09T04:25:54.771Z",
    "type": "completion"
   },
   {
    "id": "e4ed722ab85b407d963938656f3f3238",
    "time": "2021-02-09T04:25:54.777Z",
    "type": "completion"
   },
   {
    "code": "trials = 10000\nsteps = 100\nprobR = 0.25 #Probability of a +1 (or right) step\nsamps = sampleTrajectories(trials, steps, prob=probR)",
    "id": "c6c2c3f41355440a8c288473860c15b5",
    "idx": 5,
    "time": "2021-02-09T04:26:29.183Z",
    "type": "execution"
   },
   {
    "id": "c6c2c3f41355440a8c288473860c15b5",
    "time": "2021-02-09T04:26:30.230Z",
    "type": "completion"
   },
   {
    "code": "fig, ax = plt.subplots()\n\nnum_bins = 50\nn, bins, patches = ax.hist(samps, num_bins)\nx = np.arange(np.min(samps), np.max(samps), 2)\nx_range = np.max(samps) -np.min(samps)\n#ax.plot(x, (x_range/(2*num_bins))*trials*st.binom.pmf((x+steps)/2, steps, probR, loc=0), 'r-', label='Binomial p.d.f.')\nax.set_ylabel(\"Counts\")\nax.set_xlabel(\"Net Displacement\")\n#ax.legend()\nplt.show()\nplt.close()",
    "id": "e4ed722ab85b407d963938656f3f3238",
    "idx": 7,
    "time": "2021-02-09T04:26:31.683Z",
    "type": "execution"
   },
   {
    "id": "e4ed722ab85b407d963938656f3f3238",
    "time": "2021-02-09T04:26:32.043Z",
    "type": "completion"
   },
   {
    "code": "fig, ax = plt.subplots()\n\nnum_bins = 50\nn, bins, patches = ax.hist(samps, num_bins)\nx = np.arange(np.min(samps), np.max(samps), 4)\nx_range = np.max(samps) -np.min(samps)\n#ax.plot(x, (x_range/(2*num_bins))*trials*st.binom.pmf((x+steps)/2, steps, probR, loc=0), 'r-', label='Binomial p.d.f.')\nax.set_ylabel(\"Counts\")\nax.set_xlabel(\"Net Displacement\")\n#ax.legend()\nplt.show()\nplt.close()",
    "id": "e4ed722ab85b407d963938656f3f3238",
    "idx": 7,
    "time": "2021-02-09T04:26:48.289Z",
    "type": "execution"
   },
   {
    "id": "e4ed722ab85b407d963938656f3f3238",
    "time": "2021-02-09T04:26:48.643Z",
    "type": "completion"
   },
   {
    "code": "fig, ax = plt.subplots()\n\nnum_bins = 50\nn, bins, patches = ax.hist(samps, num_bins)\nx = np.arange(np.min(samps), np.max(samps), 6)\nx_range = np.max(samps) -np.min(samps)\n#ax.plot(x, (x_range/(2*num_bins))*trials*st.binom.pmf((x+steps)/2, steps, probR, loc=0), 'r-', label='Binomial p.d.f.')\nax.set_ylabel(\"Counts\")\nax.set_xlabel(\"Net Displacement\")\n#ax.legend()\nplt.show()\nplt.close()",
    "id": "e4ed722ab85b407d963938656f3f3238",
    "idx": 7,
    "time": "2021-02-09T04:27:02.016Z",
    "type": "execution"
   },
   {
    "id": "e4ed722ab85b407d963938656f3f3238",
    "time": "2021-02-09T04:27:02.382Z",
    "type": "completion"
   },
   {
    "code": "fig, ax = plt.subplots()\n\nnum_bins = 20\nn, bins, patches = ax.hist(samps, num_bins)\nx = np.arange(np.min(samps), np.max(samps), 2)\nx_range = np.max(samps) -np.min(samps)\n#ax.plot(x, (x_range/(2*num_bins))*trials*st.binom.pmf((x+steps)/2, steps, probR, loc=0), 'r-', label='Binomial p.d.f.')\nax.set_ylabel(\"Counts\")\nax.set_xlabel(\"Net Displacement\")\n#ax.legend()\nplt.show()\nplt.close()",
    "id": "e4ed722ab85b407d963938656f3f3238",
    "idx": 7,
    "time": "2021-02-09T04:27:17.060Z",
    "type": "execution"
   },
   {
    "id": "e4ed722ab85b407d963938656f3f3238",
    "time": "2021-02-09T04:27:17.374Z",
    "type": "completion"
   },
   {
    "code": "fig, ax = plt.subplots()\n\nnum_bins = 50\nn, bins, patches = ax.hist(samps, num_bins)\nx = np.arange(np.min(samps), np.max(samps), 2)\nx_range = np.max(samps) -np.min(samps)\n#ax.plot(x, (x_range/(2*num_bins))*trials*st.binom.pmf((x+steps)/2, steps, probR, loc=0), 'r-', label='Binomial p.d.f.')\nax.set_ylabel(\"Counts\")\nax.set_xlabel(\"Net Displacement\")\n#ax.legend()\nplt.show()\nplt.close()",
    "id": "e4ed722ab85b407d963938656f3f3238",
    "idx": 7,
    "time": "2021-02-09T04:27:35.902Z",
    "type": "execution"
   },
   {
    "id": "e4ed722ab85b407d963938656f3f3238",
    "time": "2021-02-09T04:27:36.271Z",
    "type": "completion"
   },
   {
    "code": "trials = 10000\nsteps = 300\nprobR = 0.25 #Probability of a +1 (or right) step\nsamps = sampleTrajectories(trials, steps, prob=probR)",
    "id": "c6c2c3f41355440a8c288473860c15b5",
    "idx": 5,
    "time": "2021-02-09T04:28:00.126Z",
    "type": "execution"
   },
   {
    "id": "c6c2c3f41355440a8c288473860c15b5",
    "time": "2021-02-09T04:28:02.003Z",
    "type": "completion"
   },
   {
    "code": "trials = 100000\nsteps = 300\nprobR = 0.25 #Probability of a +1 (or right) step\nsamps = sampleTrajectories(trials, steps, prob=probR)",
    "id": "c6c2c3f41355440a8c288473860c15b5",
    "idx": 5,
    "time": "2021-02-09T04:28:15.593Z",
    "type": "execution"
   },
   {
    "code": "fig, ax = plt.subplots()\n\nnum_bins = 50\nn, bins, patches = ax.hist(samps, num_bins)\nx = np.arange(np.min(samps), np.max(samps), 2)\nx_range = np.max(samps) -np.min(samps)\n#ax.plot(x, (x_range/(2*num_bins))*trials*st.binom.pmf((x+steps)/2, steps, probR, loc=0), 'r-', label='Binomial p.d.f.')\nax.set_ylabel(\"Counts\")\nax.set_xlabel(\"Net Displacement\")\n#ax.legend()\nplt.show()\nplt.close()",
    "id": "e4ed722ab85b407d963938656f3f3238",
    "idx": 7,
    "time": "2021-02-09T04:28:20.444Z",
    "type": "execution"
   },
   {
    "id": "c6c2c3f41355440a8c288473860c15b5",
    "time": "2021-02-09T04:28:30.446Z",
    "type": "completion"
   },
   {
    "id": "e4ed722ab85b407d963938656f3f3238",
    "time": "2021-02-09T04:28:30.756Z",
    "type": "completion"
   },
   {
    "code": "trials = 100000\nsteps = 300\nprobR = 0.5 #Probability of a +1 (or right) step\nsamps = sampleTrajectories(trials, steps, prob=probR)",
    "id": "c6c2c3f41355440a8c288473860c15b5",
    "idx": 5,
    "time": "2021-02-09T04:29:15.747Z",
    "type": "execution"
   },
   {
    "code": "fig, ax = plt.subplots()\n\nnum_bins = 50\nn, bins, patches = ax.hist(samps, num_bins)\nx = np.arange(np.min(samps), np.max(samps), 2)\nx_range = np.max(samps) -np.min(samps)\n#ax.plot(x, (x_range/(2*num_bins))*trials*st.binom.pmf((x+steps)/2, steps, probR, loc=0), 'r-', label='Binomial p.d.f.')\nax.set_ylabel(\"Counts\")\nax.set_xlabel(\"Net Displacement\")\n#ax.legend()\nplt.show()\nplt.close()",
    "id": "e4ed722ab85b407d963938656f3f3238",
    "idx": 7,
    "time": "2021-02-09T04:29:24.604Z",
    "type": "execution"
   },
   {
    "id": "c6c2c3f41355440a8c288473860c15b5",
    "time": "2021-02-09T04:29:30.392Z",
    "type": "completion"
   },
   {
    "id": "e4ed722ab85b407d963938656f3f3238",
    "time": "2021-02-09T04:29:30.695Z",
    "type": "completion"
   },
   {
    "code": "#Function that samples M number of trajectories, with N number of steps per trial\n#Inputs: Number of trials, number of steps per trial\n#Outputs: List of locations (integers) where the random walker stops at the end of all N steps of each trial\ndef sampleTrajectories(num_trials, num_steps, prob=0.5):\n    vals = np.zeros(num_trials, dtype=float)\n    for i in range(num_trials):\n        vals[i] = sum(np.random.choice([-1,1], p=[1-prob, prob], size=num_steps))\n    return vals",
    "id": "8bafbfe49d044c62877a5ae7b9df7451",
    "idx": 4,
    "time": "2021-02-09T04:31:42.593Z",
    "type": "execution"
   },
   {
    "id": "8bafbfe49d044c62877a5ae7b9df7451",
    "time": "2021-02-09T04:31:42.665Z",
    "type": "completion"
   },
   {
    "code": "trials = 100000\nsteps = 300\nprobR = 0.5 #Probability of a +1 (or right) step\nsamps = sampleTrajectories(trials, steps, prob=probR)",
    "id": "c6c2c3f41355440a8c288473860c15b5",
    "idx": 5,
    "time": "2021-02-09T04:31:44.245Z",
    "type": "execution"
   },
   {
    "code": "fig, ax = plt.subplots()\n\nnum_bins = 50\nn, bins, patches = ax.hist(samps, num_bins)\nx = np.arange(np.min(samps), np.max(samps), 2)\nx_range = np.max(samps) -np.min(samps)\n#ax.plot(x, (x_range/(2*num_bins))*trials*st.binom.pmf((x+steps)/2, steps, probR, loc=0), 'r-', label='Binomial p.d.f.')\nax.set_ylabel(\"Counts\")\nax.set_xlabel(\"Net Displacement\")\n#ax.legend()\nplt.show()\nplt.close()",
    "id": "e4ed722ab85b407d963938656f3f3238",
    "idx": 7,
    "time": "2021-02-09T04:31:45.818Z",
    "type": "execution"
   },
   {
    "id": "c6c2c3f41355440a8c288473860c15b5",
    "time": "2021-02-09T04:31:59.096Z",
    "type": "completion"
   },
   {
    "id": "e4ed722ab85b407d963938656f3f3238",
    "time": "2021-02-09T04:31:59.410Z",
    "type": "completion"
   },
   {
    "code": "#Function that samples M number of trajectories, with N number of steps per trial\n#Inputs: Number of trials, number of steps per trial\n#Outputs: List of locations (integers) where the random walker stops at the end of all N steps of each trial\ndef sampleTrajectories(num_trials, num_steps, prob=0.5):\n    vals = np.zeros(num_trials, dtype=int)\n    for i in range(num_trials):\n        vals[i] = sum(np.random.choice([-1,1], p=[1-prob, prob], size=num_steps))\n    return vals",
    "id": "8bafbfe49d044c62877a5ae7b9df7451",
    "idx": 4,
    "time": "2021-02-09T04:32:30.995Z",
    "type": "execution"
   },
   {
    "id": "8bafbfe49d044c62877a5ae7b9df7451",
    "time": "2021-02-09T04:32:31.058Z",
    "type": "completion"
   },
   {
    "code": "trials = 100000\nsteps = 300\nprobR = 0.5 #Probability of a +1 (or right) step\nsamps = sampleTrajectories(trials, steps, prob=probR)",
    "id": "c6c2c3f41355440a8c288473860c15b5",
    "idx": 5,
    "time": "2021-02-09T04:32:32.063Z",
    "type": "execution"
   },
   {
    "code": "fig, ax = plt.subplots()\n\nnum_bins = 50\nn, bins, patches = ax.hist(samps, num_bins)\nx = np.arange(np.min(samps), np.max(samps), 2)\nx_range = np.max(samps) -np.min(samps)\n#ax.plot(x, (x_range/(2*num_bins))*trials*st.binom.pmf((x+steps)/2, steps, probR, loc=0), 'r-', label='Binomial p.d.f.')\nax.set_ylabel(\"Counts\")\nax.set_xlabel(\"Net Displacement\")\n#ax.legend()\nplt.show()\nplt.close()",
    "id": "e4ed722ab85b407d963938656f3f3238",
    "idx": 7,
    "time": "2021-02-09T04:32:34.803Z",
    "type": "execution"
   },
   {
    "id": "c6c2c3f41355440a8c288473860c15b5",
    "time": "2021-02-09T04:32:46.187Z",
    "type": "completion"
   },
   {
    "id": "e4ed722ab85b407d963938656f3f3238",
    "time": "2021-02-09T04:32:46.519Z",
    "type": "completion"
   },
   {
    "code": "fig, ax = plt.subplots()\n\nnum_bins = 20\nn, bins, patches = ax.hist(samps, num_bins)\nx = np.arange(np.min(samps), np.max(samps), 2)\nx_range = np.max(samps) -np.min(samps)\n#ax.plot(x, (x_range/(2*num_bins))*trials*st.binom.pmf((x+steps)/2, steps, probR, loc=0), 'r-', label='Binomial p.d.f.')\nax.set_ylabel(\"Counts\")\nax.set_xlabel(\"Net Displacement\")\n#ax.legend()\nplt.show()\nplt.close()",
    "id": "e4ed722ab85b407d963938656f3f3238",
    "idx": 7,
    "time": "2021-02-09T04:33:35.106Z",
    "type": "execution"
   },
   {
    "id": "e4ed722ab85b407d963938656f3f3238",
    "time": "2021-02-09T04:33:35.444Z",
    "type": "completion"
   },
   {
    "code": "trials = 1000\nsteps = 1000\nprobR = 0.5 #Probability of a +1 (or right) step\nsamps = sampleTrajectories(trials, steps, prob=probR)",
    "id": "c6c2c3f41355440a8c288473860c15b5",
    "idx": 5,
    "time": "2021-02-09T04:33:53.989Z",
    "type": "execution"
   },
   {
    "id": "c6c2c3f41355440a8c288473860c15b5",
    "time": "2021-02-09T04:33:54.384Z",
    "type": "completion"
   },
   {
    "code": "fig, ax = plt.subplots()\n\nnum_bins = 20\nn, bins, patches = ax.hist(samps, num_bins)\nx = np.arange(np.min(samps), np.max(samps), 2)\nx_range = np.max(samps) -np.min(samps)\n#ax.plot(x, (x_range/(2*num_bins))*trials*st.binom.pmf((x+steps)/2, steps, probR, loc=0), 'r-', label='Binomial p.d.f.')\nax.set_ylabel(\"Counts\")\nax.set_xlabel(\"Net Displacement\")\n#ax.legend()\nplt.show()\nplt.close()",
    "id": "e4ed722ab85b407d963938656f3f3238",
    "idx": 7,
    "time": "2021-02-09T04:33:57.044Z",
    "type": "execution"
   },
   {
    "id": "e4ed722ab85b407d963938656f3f3238",
    "time": "2021-02-09T04:33:57.442Z",
    "type": "completion"
   },
   {
    "code": "#Function that samples M number of trajectories, with N number of steps per trial\n#Inputs: Number of trials, number of steps per trial\n#Outputs: List of locations (integers) where the random walker stops at the end of all N steps of each trial\ndef sampleTrajectories(num_trials, num_steps, prob=0.5):\n    vals = np.zeros(num_trials, dtype=int)\n    for i in range(num_trials):\n        vals[i] = sum(np.random.choice([-1,1], p=[1-prob, prob], size=num_steps))\n    return vals",
    "id": "8bafbfe49d044c62877a5ae7b9df7451",
    "idx": 4,
    "time": "2021-02-09T04:34:07.839Z",
    "type": "execution"
   },
   {
    "code": "trials = 1000\nsteps = 1000\nprobR = 0.5 #Probability of a +1 (or right) step\nsamps = sampleTrajectories(trials, steps, prob=probR)",
    "id": "c6c2c3f41355440a8c288473860c15b5",
    "idx": 5,
    "time": "2021-02-09T04:34:08.450Z",
    "type": "execution"
   },
   {
    "code": "fig, ax = plt.subplots()\n\nnum_bins = 20\nn, bins, patches = ax.hist(samps, num_bins)\nx = np.arange(np.min(samps), np.max(samps), 2)\nx_range = np.max(samps) -np.min(samps)\n#ax.plot(x, (x_range/(2*num_bins))*trials*st.binom.pmf((x+steps)/2, steps, probR, loc=0), 'r-', label='Binomial p.d.f.')\nax.set_ylabel(\"Counts\")\nax.set_xlabel(\"Net Displacement\")\n#ax.legend()\nplt.show()\nplt.close()",
    "id": "e4ed722ab85b407d963938656f3f3238",
    "idx": 7,
    "time": "2021-02-09T04:34:10.788Z",
    "type": "execution"
   },
   {
    "id": "8bafbfe49d044c62877a5ae7b9df7451",
    "time": "2021-02-09T04:34:12.294Z",
    "type": "completion"
   },
   {
    "id": "c6c2c3f41355440a8c288473860c15b5",
    "time": "2021-02-09T04:34:12.296Z",
    "type": "completion"
   },
   {
    "id": "e4ed722ab85b407d963938656f3f3238",
    "time": "2021-02-09T04:34:12.839Z",
    "type": "completion"
   },
   {
    "code": "trials = 5000\nsteps = 1000\nprobR = 0.5 #Probability of a +1 (or right) step\nsamps = sampleTrajectories(trials, steps, prob=probR)",
    "id": "c6c2c3f41355440a8c288473860c15b5",
    "idx": 5,
    "time": "2021-02-09T04:34:24.655Z",
    "type": "execution"
   },
   {
    "id": "c6c2c3f41355440a8c288473860c15b5",
    "time": "2021-02-09T04:34:26.291Z",
    "type": "completion"
   },
   {
    "code": "fig, ax = plt.subplots()\n\nnum_bins = 20\nn, bins, patches = ax.hist(samps, num_bins)\nx = np.arange(np.min(samps), np.max(samps), 2)\nx_range = np.max(samps) -np.min(samps)\n#ax.plot(x, (x_range/(2*num_bins))*trials*st.binom.pmf((x+steps)/2, steps, probR, loc=0), 'r-', label='Binomial p.d.f.')\nax.set_ylabel(\"Counts\")\nax.set_xlabel(\"Net Displacement\")\n#ax.legend()\nplt.show()\nplt.close()",
    "id": "e4ed722ab85b407d963938656f3f3238",
    "idx": 7,
    "time": "2021-02-09T04:34:26.775Z",
    "type": "execution"
   },
   {
    "id": "e4ed722ab85b407d963938656f3f3238",
    "time": "2021-02-09T04:34:27.133Z",
    "type": "completion"
   },
   {
    "code": "#Function that samples M number of trajectories, with N number of steps per trial\n#Inputs: Number of trials, number of steps per trial\n#Outputs: List of locations (integers) where the random walker stops at the end of all N steps of each trial\ndef sampleTrajectories(num_trials, num_steps, prob=0.5):\n    vals = np.zeros(num_trials, dtype=int)\n    for i in range(num_trials):\n        vals[i] = sum(np.random.choice([-1,1], p=[1-prob, prob], size=num_steps))\n    return vals",
    "id": "8bafbfe49d044c62877a5ae7b9df7451",
    "idx": 4,
    "time": "2021-02-09T04:34:35.895Z",
    "type": "execution"
   },
   {
    "id": "8bafbfe49d044c62877a5ae7b9df7451",
    "time": "2021-02-09T04:34:35.957Z",
    "type": "completion"
   },
   {
    "code": "trials = 5000\nsteps = 1000\nprobR = 0.5 #Probability of a +1 (or right) step\nsamps = sampleTrajectories(trials, steps, prob=probR)",
    "id": "c6c2c3f41355440a8c288473860c15b5",
    "idx": 5,
    "time": "2021-02-09T04:34:36.470Z",
    "type": "execution"
   },
   {
    "id": "c6c2c3f41355440a8c288473860c15b5",
    "time": "2021-02-09T04:34:38.159Z",
    "type": "completion"
   },
   {
    "code": "fig, ax = plt.subplots()\n\nnum_bins = 20\nn, bins, patches = ax.hist(samps, num_bins)\nx = np.arange(np.min(samps), np.max(samps), 2)\nx_range = np.max(samps) -np.min(samps)\n#ax.plot(x, (x_range/(2*num_bins))*trials*st.binom.pmf((x+steps)/2, steps, probR, loc=0), 'r-', label='Binomial p.d.f.')\nax.set_ylabel(\"Counts\")\nax.set_xlabel(\"Net Displacement\")\n#ax.legend()\nplt.show()\nplt.close()",
    "id": "e4ed722ab85b407d963938656f3f3238",
    "idx": 7,
    "time": "2021-02-09T04:34:38.178Z",
    "type": "execution"
   },
   {
    "id": "e4ed722ab85b407d963938656f3f3238",
    "time": "2021-02-09T04:34:38.467Z",
    "type": "completion"
   },
   {
    "code": "fig, ax = plt.subplots()\n\nnum_bins = 50\nn, bins, patches = ax.hist(samps, num_bins)\nx = np.arange(np.min(samps), np.max(samps), 2)\nx_range = np.max(samps) -np.min(samps)\n#ax.plot(x, (x_range/(2*num_bins))*trials*st.binom.pmf((x+steps)/2, steps, probR, loc=0), 'r-', label='Binomial p.d.f.')\nax.set_ylabel(\"Counts\")\nax.set_xlabel(\"Net Displacement\")\n#ax.legend()\nplt.show()\nplt.close()",
    "id": "e4ed722ab85b407d963938656f3f3238",
    "idx": 7,
    "time": "2021-02-09T04:34:47.024Z",
    "type": "execution"
   },
   {
    "id": "e4ed722ab85b407d963938656f3f3238",
    "time": "2021-02-09T04:34:47.409Z",
    "type": "completion"
   },
   {
    "code": "fig, ax = plt.subplots()\n\nnum_bins = 50\nn, bins, patches = ax.hist(samps, num_bins)\nx = np.arange(np.min(samps), np.max(samps), 1)\nx_range = np.max(samps) -np.min(samps)\n#ax.plot(x, (x_range/(2*num_bins))*trials*st.binom.pmf((x+steps)/2, steps, probR, loc=0), 'r-', label='Binomial p.d.f.')\nax.set_ylabel(\"Counts\")\nax.set_xlabel(\"Net Displacement\")\n#ax.legend()\nplt.show()\nplt.close()",
    "id": "e4ed722ab85b407d963938656f3f3238",
    "idx": 7,
    "time": "2021-02-09T04:34:59.197Z",
    "type": "execution"
   },
   {
    "id": "e4ed722ab85b407d963938656f3f3238",
    "time": "2021-02-09T04:34:59.682Z",
    "type": "completion"
   },
   {
    "code": "fig, ax = plt.subplots()\n\nnum_bins = 50\nn, bins, patches = ax.hist(samps, num_bins)\nx = np.arange(np.min(samps), np.max(samps), 5)\nx_range = np.max(samps) -np.min(samps)\n#ax.plot(x, (x_range/(2*num_bins))*trials*st.binom.pmf((x+steps)/2, steps, probR, loc=0), 'r-', label='Binomial p.d.f.')\nax.set_ylabel(\"Counts\")\nax.set_xlabel(\"Net Displacement\")\n#ax.legend()\nplt.show()\nplt.close()",
    "id": "e4ed722ab85b407d963938656f3f3238",
    "idx": 7,
    "time": "2021-02-09T04:35:05.508Z",
    "type": "execution"
   },
   {
    "id": "e4ed722ab85b407d963938656f3f3238",
    "time": "2021-02-09T04:35:05.849Z",
    "type": "completion"
   },
   {
    "code": "fig, ax = plt.subplots()\n\nnum_bins = 50\nn, bins, patches = ax.hist(samps, num_bins)\nx = np.arange(np.min(samps), np.max(samps), 10)\nx_range = np.max(samps) -np.min(samps)\n#ax.plot(x, (x_range/(2*num_bins))*trials*st.binom.pmf((x+steps)/2, steps, probR, loc=0), 'r-', label='Binomial p.d.f.')\nax.set_ylabel(\"Counts\")\nax.set_xlabel(\"Net Displacement\")\n#ax.legend()\nplt.show()\nplt.close()",
    "id": "e4ed722ab85b407d963938656f3f3238",
    "idx": 7,
    "time": "2021-02-09T04:35:11.259Z",
    "type": "execution"
   },
   {
    "id": "e4ed722ab85b407d963938656f3f3238",
    "time": "2021-02-09T04:35:11.647Z",
    "type": "completion"
   },
   {
    "code": "fig, ax = plt.subplots()\n\nnum_bins = 50\nn, bins, patches = ax.hist(samps, num_bins)\nx = np.arange(np.min(samps), np.max(samps), 2)\nx_range = np.max(samps) -np.min(samps)\n#ax.plot(x, (x_range/(2*num_bins))*trials*st.binom.pmf((x+steps)/2, steps, probR, loc=0), 'r-', label='Binomial p.d.f.')\nax.set_ylabel(\"Counts\")\nax.set_xlabel(\"Net Displacement\")\n#ax.legend()\nplt.show()\nplt.close()",
    "id": "e4ed722ab85b407d963938656f3f3238",
    "idx": 7,
    "time": "2021-02-09T04:35:19.714Z",
    "type": "execution"
   },
   {
    "id": "e4ed722ab85b407d963938656f3f3238",
    "time": "2021-02-09T04:35:20.084Z",
    "type": "completion"
   },
   {
    "code": "trials = 100\nsteps = 10000\nprobR = 0.5 #Probability of a +1 (or right) step\nsamps = sampleTrajectories(trials, steps, prob=probR)",
    "id": "c6c2c3f41355440a8c288473860c15b5",
    "idx": 5,
    "time": "2021-02-09T04:36:29.914Z",
    "type": "execution"
   },
   {
    "id": "c6c2c3f41355440a8c288473860c15b5",
    "time": "2021-02-09T04:36:30.303Z",
    "type": "completion"
   },
   {
    "code": "fig, ax = plt.subplots()\n\nnum_bins = 50\nn, bins, patches = ax.hist(samps, num_bins)\nx = np.arange(np.min(samps), np.max(samps), 2)\nx_range = np.max(samps) -np.min(samps)\n#ax.plot(x, (x_range/(2*num_bins))*trials*st.binom.pmf((x+steps)/2, steps, probR, loc=0), 'r-', label='Binomial p.d.f.')\nax.set_ylabel(\"Counts\")\nax.set_xlabel(\"Net Displacement\")\n#ax.legend()\nplt.show()\nplt.close()",
    "id": "e4ed722ab85b407d963938656f3f3238",
    "idx": 7,
    "time": "2021-02-09T04:36:31.762Z",
    "type": "execution"
   },
   {
    "id": "e4ed722ab85b407d963938656f3f3238",
    "time": "2021-02-09T04:36:32.141Z",
    "type": "completion"
   },
   {
    "code": "trials = 10000\nsteps = 10000\nprobR = 0.5 #Probability of a +1 (or right) step\nsamps = sampleTrajectories(trials, steps, prob=probR)",
    "id": "c6c2c3f41355440a8c288473860c15b5",
    "idx": 5,
    "time": "2021-02-09T04:36:56.082Z",
    "type": "execution"
   },
   {
    "code": "fig, ax = plt.subplots()\n\nnum_bins = 50\nn, bins, patches = ax.hist(samps, num_bins)\nx = np.arange(np.min(samps), np.max(samps), 2)\nx_range = np.max(samps) -np.min(samps)\n#ax.plot(x, (x_range/(2*num_bins))*trials*st.binom.pmf((x+steps)/2, steps, probR, loc=0), 'r-', label='Binomial p.d.f.')\nax.set_ylabel(\"Counts\")\nax.set_xlabel(\"Net Displacement\")\n#ax.legend()\nplt.show()\nplt.close()",
    "id": "e4ed722ab85b407d963938656f3f3238",
    "idx": 7,
    "time": "2021-02-09T04:37:00.987Z",
    "type": "execution"
   },
   {
    "id": "c6c2c3f41355440a8c288473860c15b5",
    "time": "2021-02-09T04:37:20.363Z",
    "type": "completion"
   },
   {
    "id": "e4ed722ab85b407d963938656f3f3238",
    "time": "2021-02-09T04:37:20.671Z",
    "type": "completion"
   },
   {
    "code": "trials = 1000\nsteps = 10000\nprobR = 0.5 #Probability of a +1 (or right) step\nsamps = sampleTrajectories(trials, steps, prob=probR)",
    "id": "c6c2c3f41355440a8c288473860c15b5",
    "idx": 5,
    "time": "2021-02-09T04:37:40.188Z",
    "type": "execution"
   },
   {
    "id": "c6c2c3f41355440a8c288473860c15b5",
    "time": "2021-02-09T04:37:42.614Z",
    "type": "completion"
   },
   {
    "code": "#Function that samples M number of trajectories, with N number of steps per trial\n#Inputs: Number of trials, number of steps per trial\n#Outputs: List of locations (integers) where the random walker stops at the end of all N steps of each trial\ndef sampleTrajectories(num_trials, num_steps, prob=0.5):\n    vals = np.zeros(num_trials, dtype=int)\n    for i in range(num_trials):\n        vals[i] = sum(np.random.choice([-1,1], p=[1-prob, prob], size=num_steps))\n    return vals",
    "id": "8bafbfe49d044c62877a5ae7b9df7451",
    "idx": 4,
    "time": "2021-02-09T04:37:57.205Z",
    "type": "execution"
   },
   {
    "id": "8bafbfe49d044c62877a5ae7b9df7451",
    "time": "2021-02-09T04:37:57.273Z",
    "type": "completion"
   },
   {
    "code": "trials = 1000\nsteps = 10000\nprobR = 0.5 #Probability of a +1 (or right) step\nsamps = sampleTrajectories(trials, steps, prob=probR)",
    "id": "c6c2c3f41355440a8c288473860c15b5",
    "idx": 5,
    "time": "2021-02-09T04:37:57.941Z",
    "type": "execution"
   },
   {
    "id": "c6c2c3f41355440a8c288473860c15b5",
    "time": "2021-02-09T04:38:00.354Z",
    "type": "completion"
   },
   {
    "code": "fig, ax = plt.subplots()\n\nnum_bins = 50\nn, bins, patches = ax.hist(samps, num_bins)\nx = np.arange(np.min(samps), np.max(samps), 2)\nx_range = np.max(samps) -np.min(samps)\n#ax.plot(x, (x_range/(2*num_bins))*trials*st.binom.pmf((x+steps)/2, steps, probR, loc=0), 'r-', label='Binomial p.d.f.')\nax.set_ylabel(\"Counts\")\nax.set_xlabel(\"Net Displacement\")\n#ax.legend()\nplt.show()\nplt.close()",
    "id": "e4ed722ab85b407d963938656f3f3238",
    "idx": 7,
    "time": "2021-02-09T04:38:00.540Z",
    "type": "execution"
   },
   {
    "id": "e4ed722ab85b407d963938656f3f3238",
    "time": "2021-02-09T04:38:01.052Z",
    "type": "completion"
   },
   {
    "code": "trials = 1000\nsteps = 3000\nprobR = 0.5 #Probability of a +1 (or right) step\nsamps = sampleTrajectories(trials, steps, prob=probR)",
    "id": "c6c2c3f41355440a8c288473860c15b5",
    "idx": 5,
    "time": "2021-02-09T04:39:15.804Z",
    "type": "execution"
   },
   {
    "id": "c6c2c3f41355440a8c288473860c15b5",
    "time": "2021-02-09T04:39:16.705Z",
    "type": "completion"
   },
   {
    "code": "fig, ax = plt.subplots()\n\nnum_bins = 50\nn, bins, patches = ax.hist(samps, num_bins)\nx = np.arange(np.min(samps), np.max(samps), 2)\nx_range = np.max(samps) -np.min(samps)\n#ax.plot(x, (x_range/(2*num_bins))*trials*st.binom.pmf((x+steps)/2, steps, probR, loc=0), 'r-', label='Binomial p.d.f.')\nax.set_ylabel(\"Counts\")\nax.set_xlabel(\"Net Displacement\")\n#ax.legend()\nplt.show()\nplt.close()",
    "id": "e4ed722ab85b407d963938656f3f3238",
    "idx": 7,
    "time": "2021-02-09T04:39:17.799Z",
    "type": "execution"
   },
   {
    "id": "e4ed722ab85b407d963938656f3f3238",
    "time": "2021-02-09T04:39:18.156Z",
    "type": "completion"
   },
   {
    "code": "#Function that samples M number of trajectories, with N number of steps per trial\n#Inputs: Number of trials, number of steps per trial\n#Outputs: List of locations (integers) where the random walker stops at the end of all N steps of each trial\ndef sampleTrajectories(num_trials, num_steps, prob=0.5):\n    vals = np.zeros(num_trials, dtype=int)\n    for i in range(num_trials):\n        vals[i] = sum(np.random.choice([-1,1], p=[1-prob, prob], size=num_steps))\n    return vals",
    "id": "8bafbfe49d044c62877a5ae7b9df7451",
    "idx": 4,
    "time": "2021-02-09T04:39:25.314Z",
    "type": "execution"
   },
   {
    "id": "8bafbfe49d044c62877a5ae7b9df7451",
    "time": "2021-02-09T04:39:25.374Z",
    "type": "completion"
   },
   {
    "code": "trials = 1000\nsteps = 3000\nprobR = 0.5 #Probability of a +1 (or right) step\nsamps = sampleTrajectories(trials, steps, prob=probR)",
    "id": "c6c2c3f41355440a8c288473860c15b5",
    "idx": 5,
    "time": "2021-02-09T04:39:25.839Z",
    "type": "execution"
   },
   {
    "id": "c6c2c3f41355440a8c288473860c15b5",
    "time": "2021-02-09T04:39:26.718Z",
    "type": "completion"
   },
   {
    "code": "fig, ax = plt.subplots()\n\nnum_bins = 50\nn, bins, patches = ax.hist(samps, num_bins)\nx = np.arange(np.min(samps), np.max(samps), 2)\nx_range = np.max(samps) -np.min(samps)\n#ax.plot(x, (x_range/(2*num_bins))*trials*st.binom.pmf((x+steps)/2, steps, probR, loc=0), 'r-', label='Binomial p.d.f.')\nax.set_ylabel(\"Counts\")\nax.set_xlabel(\"Net Displacement\")\n#ax.legend()\nplt.show()\nplt.close()",
    "id": "e4ed722ab85b407d963938656f3f3238",
    "idx": 7,
    "time": "2021-02-09T04:39:27.752Z",
    "type": "execution"
   },
   {
    "id": "e4ed722ab85b407d963938656f3f3238",
    "time": "2021-02-09T04:39:28.113Z",
    "type": "completion"
   },
   {
    "code": "np.random.choice([-1,1], size=7)",
    "id": "be02592aae674a9e8b2ad1c7fb67571a",
    "idx": 2,
    "time": "2021-02-09T04:41:11.531Z",
    "type": "execution"
   },
   {
    "id": "be02592aae674a9e8b2ad1c7fb67571a",
    "time": "2021-02-09T04:41:11.631Z",
    "type": "completion"
   },
   {
    "code": "import numpy as np\nimport scipy.stats as st\nimport matplotlib.pyplot as plt",
    "id": "f7e5311ff87248e3a891b84c9742bab7",
    "idx": 0,
    "time": "2021-02-09T04:41:18.329Z",
    "type": "execution"
   },
   {
    "id": "f7e5311ff87248e3a891b84c9742bab7",
    "time": "2021-02-09T04:41:18.388Z",
    "type": "completion"
   },
   {
    "code": "np.random.choice([-1,1], size=7)",
    "id": "be02592aae674a9e8b2ad1c7fb67571a",
    "idx": 2,
    "time": "2021-02-09T04:41:19.939Z",
    "type": "execution"
   },
   {
    "id": "be02592aae674a9e8b2ad1c7fb67571a",
    "time": "2021-02-09T04:41:20.098Z",
    "type": "completion"
   },
   {
    "code": "#Function that samples M number of trajectories, with N number of steps per trial\n#Inputs: Number of trials, number of steps per trial\n#Outputs: List of locations (integers) where the random walker stops at the end of all N steps of each trial\ndef sampleTrajectories(num_trials, num_steps, prob=0.5):\n    vals = np.zeros(num_trials, dtype=int)\n    for i in range(num_trials):\n        vals[i] = sum(np.random.choice([-1,1], p=[1-prob, prob], size=num_steps))\n    return vals",
    "id": "8bafbfe49d044c62877a5ae7b9df7451",
    "idx": 4,
    "time": "2021-02-09T04:41:21.560Z",
    "type": "execution"
   },
   {
    "id": "8bafbfe49d044c62877a5ae7b9df7451",
    "time": "2021-02-09T04:41:21.617Z",
    "type": "completion"
   },
   {
    "code": "trials = 1000\nsteps = 3000\nprobR = 0.5 #Probability of a +1 (or right) step\nsamps = sampleTrajectories(trials, steps, prob=probR)",
    "id": "c6c2c3f41355440a8c288473860c15b5",
    "idx": 5,
    "time": "2021-02-09T04:41:22.438Z",
    "type": "execution"
   },
   {
    "id": "c6c2c3f41355440a8c288473860c15b5",
    "time": "2021-02-09T04:41:23.329Z",
    "type": "completion"
   },
   {
    "code": "fig, ax = plt.subplots()\n\nnum_bins = 50\nn, bins, patches = ax.hist(samps, num_bins)\nx = np.arange(np.min(samps), np.max(samps), 2)\nx_range = np.max(samps) -np.min(samps)\n#ax.plot(x, (x_range/(2*num_bins))*trials*st.binom.pmf((x+steps)/2, steps, probR, loc=0), 'r-', label='Binomial p.d.f.')\nax.set_ylabel(\"Counts\")\nax.set_xlabel(\"Net Displacement\")\n#ax.legend()\nplt.show()\nplt.close()",
    "id": "e4ed722ab85b407d963938656f3f3238",
    "idx": 7,
    "time": "2021-02-09T04:41:24.638Z",
    "type": "execution"
   },
   {
    "id": "e4ed722ab85b407d963938656f3f3238",
    "time": "2021-02-09T04:41:25.015Z",
    "type": "completion"
   },
   {
    "code": "trials = 1000\nsteps = 10000\nprobR = 0.5 #Probability of a +1 (or right) step\nsamps = sampleTrajectories(trials, steps, prob=probR)",
    "id": "c6c2c3f41355440a8c288473860c15b5",
    "idx": 5,
    "time": "2021-02-09T04:42:41.271Z",
    "type": "execution"
   },
   {
    "id": "c6c2c3f41355440a8c288473860c15b5",
    "time": "2021-02-09T04:42:43.977Z",
    "type": "completion"
   },
   {
    "code": "fig, ax = plt.subplots()\n\nnum_bins = 50\nn, bins, patches = ax.hist(samps, num_bins)\nx = np.arange(np.min(samps), np.max(samps), 2)\nx_range = np.max(samps) -np.min(samps)\n#ax.plot(x, (x_range/(2*num_bins))*trials*st.binom.pmf((x+steps)/2, steps, probR, loc=0), 'r-', label='Binomial p.d.f.')\nax.set_ylabel(\"Counts\")\nax.set_xlabel(\"Net Displacement\")\n#ax.legend()\nplt.show()\nplt.close()",
    "id": "e4ed722ab85b407d963938656f3f3238",
    "idx": 7,
    "time": "2021-02-09T04:42:45.702Z",
    "type": "execution"
   },
   {
    "id": "e4ed722ab85b407d963938656f3f3238",
    "time": "2021-02-09T04:42:46.054Z",
    "type": "completion"
   },
   {
    "code": "#Function that samples M number of trajectories, with N number of steps per trial\n#Inputs: Number of trials, number of steps per trial\n#Outputs: List of locations (integers) where the random walker stops at the end of all N steps of each trial\ndef sampleTrajectories(num_trials, num_steps, prob=0.5):\n    vals = np.zeros(num_trials, dtype=int)\n    for i in range(num_trials):\n        vals[i] = sum(np.random.choice([-1,1], p=[1-prob, prob], size=num_steps))\n    return vals",
    "id": "8bafbfe49d044c62877a5ae7b9df7451",
    "idx": 4,
    "time": "2021-02-09T04:42:53.064Z",
    "type": "execution"
   },
   {
    "id": "8bafbfe49d044c62877a5ae7b9df7451",
    "time": "2021-02-09T04:42:53.127Z",
    "type": "completion"
   },
   {
    "code": "trials = 1000\nsteps = 10000\nprobR = 0.5 #Probability of a +1 (or right) step\nsamps = sampleTrajectories(trials, steps, prob=probR)",
    "id": "c6c2c3f41355440a8c288473860c15b5",
    "idx": 5,
    "time": "2021-02-09T04:42:53.724Z",
    "type": "execution"
   },
   {
    "code": "fig, ax = plt.subplots()\n\nnum_bins = 50\nn, bins, patches = ax.hist(samps, num_bins)\nx = np.arange(np.min(samps), np.max(samps), 2)\nx_range = np.max(samps) -np.min(samps)\n#ax.plot(x, (x_range/(2*num_bins))*trials*st.binom.pmf((x+steps)/2, steps, probR, loc=0), 'r-', label='Binomial p.d.f.')\nax.set_ylabel(\"Counts\")\nax.set_xlabel(\"Net Displacement\")\n#ax.legend()\nplt.show()\nplt.close()",
    "id": "e4ed722ab85b407d963938656f3f3238",
    "idx": 7,
    "time": "2021-02-09T04:42:55.324Z",
    "type": "execution"
   },
   {
    "id": "c6c2c3f41355440a8c288473860c15b5",
    "time": "2021-02-09T04:42:56.321Z",
    "type": "completion"
   },
   {
    "id": "e4ed722ab85b407d963938656f3f3238",
    "time": "2021-02-09T04:42:56.604Z",
    "type": "completion"
   },
   {
    "code": "#Function that samples M number of trajectories, with N number of steps per trial\n#Inputs: Number of trials, number of steps per trial\n#Outputs: List of locations (integers) where the random walker stops at the end of all N steps of each trial\ndef sampleTrajectories(num_trials, num_steps, prob=0.5):\n    vals = np.zeros(num_trials, dtype=int)\n    for i in range(num_trials):\n        vals[i] = sum(np.random.choice([-1,1], p=[1-prob, prob], size=num_steps))\n    return vals",
    "id": "8bafbfe49d044c62877a5ae7b9df7451",
    "idx": 4,
    "time": "2021-02-09T04:43:07.944Z",
    "type": "execution"
   },
   {
    "id": "8bafbfe49d044c62877a5ae7b9df7451",
    "time": "2021-02-09T04:43:08.304Z",
    "type": "completion"
   },
   {
    "code": "trials = 1000\nsteps = 10000\nprobR = 0.5 #Probability of a +1 (or right) step\nsamps = sampleTrajectories(trials, steps, prob=probR)",
    "id": "c6c2c3f41355440a8c288473860c15b5",
    "idx": 5,
    "time": "2021-02-09T04:43:08.531Z",
    "type": "execution"
   },
   {
    "code": "fig, ax = plt.subplots()\n\nnum_bins = 50\nn, bins, patches = ax.hist(samps, num_bins)\nx = np.arange(np.min(samps), np.max(samps), 2)\nx_range = np.max(samps) -np.min(samps)\n#ax.plot(x, (x_range/(2*num_bins))*trials*st.binom.pmf((x+steps)/2, steps, probR, loc=0), 'r-', label='Binomial p.d.f.')\nax.set_ylabel(\"Counts\")\nax.set_xlabel(\"Net Displacement\")\n#ax.legend()\nplt.show()\nplt.close()",
    "id": "e4ed722ab85b407d963938656f3f3238",
    "idx": 7,
    "time": "2021-02-09T04:43:09.822Z",
    "type": "execution"
   },
   {
    "id": "c6c2c3f41355440a8c288473860c15b5",
    "time": "2021-02-09T04:43:11.334Z",
    "type": "completion"
   },
   {
    "id": "e4ed722ab85b407d963938656f3f3238",
    "time": "2021-02-09T04:43:11.638Z",
    "type": "completion"
   },
   {
    "code": "fig, ax = plt.subplots()\n\nnum_bins = 50\nn, bins, patches = ax.hist(samps, num_bins)\nx = np.arange(np.min(samps), np.max(samps), 2)\nx_range = np.max(samps) -np.min(samps)\nax.plot(x, (x_range/(2*num_bins))*trials*st.binom.pmf((x+steps)/2, steps, probR, loc=0), 'r-', label='Binomial p.d.f.')\nax.set_ylabel(\"Counts\")\nax.set_xlabel(\"Net Displacement\")\nax.legend()\nplt.show()\nplt.close()",
    "id": "7f7f2d167de740518e6dce59e5738787",
    "idx": 14,
    "time": "2021-02-09T04:53:06.644Z",
    "type": "execution"
   },
   {
    "id": "7f7f2d167de740518e6dce59e5738787",
    "time": "2021-02-09T04:53:07.101Z",
    "type": "completion"
   },
   {
    "code": "trials = 1000\nsteps = 10000\nprobR = 0.25 #Probability of a +1 (or right) step\nsamps = sampleTrajectories(trials, steps, prob=probR)",
    "id": "c6c2c3f41355440a8c288473860c15b5",
    "idx": 5,
    "time": "2021-02-09T04:53:24.666Z",
    "type": "execution"
   },
   {
    "code": "fig, ax = plt.subplots()\n\nnum_bins = 50\nn, bins, patches = ax.hist(samps, num_bins)\nx = np.arange(np.min(samps), np.max(samps), 2)\nx_range = np.max(samps) -np.min(samps)\n#ax.plot(x, (x_range/(2*num_bins))*trials*st.binom.pmf((x+steps)/2, steps, probR, loc=0), 'r-', label='Binomial p.d.f.')\nax.set_ylabel(\"Counts\")\nax.set_xlabel(\"Net Displacement\")\n#ax.legend()\nplt.show()\nplt.close()",
    "id": "e4ed722ab85b407d963938656f3f3238",
    "idx": 7,
    "time": "2021-02-09T04:53:26.169Z",
    "type": "execution"
   },
   {
    "id": "c6c2c3f41355440a8c288473860c15b5",
    "time": "2021-02-09T04:53:27.072Z",
    "type": "completion"
   },
   {
    "id": "e4ed722ab85b407d963938656f3f3238",
    "time": "2021-02-09T04:53:27.380Z",
    "type": "completion"
   },
   {
    "code": "print(np.mean(samps))\nprint(np.var(samps))",
    "id": "abc9e4886268418e8bf43fcf55ececf0",
    "idx": 9,
    "time": "2021-02-09T04:53:31.910Z",
    "type": "execution"
   },
   {
    "id": "abc9e4886268418e8bf43fcf55ececf0",
    "time": "2021-02-09T04:53:31.985Z",
    "type": "completion"
   },
   {
    "code": "fig, ax = plt.subplots()\n\nnum_bins = 50\nn, bins, patches = ax.hist(samps, num_bins)\nx = np.arange(np.min(samps), np.max(samps), 2)\nx_range = np.max(samps) -np.min(samps)\nax.plot(x, (x_range/(2*num_bins))*trials*st.binom.pmf((x+steps)/2, steps, probR, loc=0), 'r-', label='Binomial p.d.f.')\nax.set_ylabel(\"Counts\")\nax.set_xlabel(\"Net Displacement\")\nax.legend()\nplt.show()\nplt.close()",
    "id": "7f7f2d167de740518e6dce59e5738787",
    "idx": 14,
    "time": "2021-02-09T04:53:36.977Z",
    "type": "execution"
   },
   {
    "id": "7f7f2d167de740518e6dce59e5738787",
    "time": "2021-02-09T04:53:37.425Z",
    "type": "completion"
   },
   {
    "code": "np.random.choice([-1,1], size=7)",
    "id": "3597991278e645578ba09ba30c098776",
    "idx": 5,
    "time": "2021-02-09T20:10:24.703Z",
    "type": "execution"
   },
   {
    "id": "3597991278e645578ba09ba30c098776",
    "time": "2021-02-09T20:10:25.055Z",
    "type": "completion"
   },
   {
    "code": "import numpy as np\nimport scipy.stats as st\nimport matplotlib.pyplot as plt",
    "id": "bf6f0cfbb228466f8b153b6f36ba116e",
    "idx": 2,
    "time": "2021-02-09T20:10:32.896Z",
    "type": "execution"
   },
   {
    "id": "bf6f0cfbb228466f8b153b6f36ba116e",
    "time": "2021-02-09T20:10:34.084Z",
    "type": "completion"
   },
   {
    "code": "np.random.choice([-1,1], size=7)",
    "id": "3597991278e645578ba09ba30c098776",
    "idx": 5,
    "time": "2021-02-09T20:10:40.833Z",
    "type": "execution"
   },
   {
    "id": "3597991278e645578ba09ba30c098776",
    "time": "2021-02-09T20:10:40.902Z",
    "type": "completion"
   },
   {
    "code": "np.random.choice([-1,1], size=20)",
    "id": "3597991278e645578ba09ba30c098776",
    "idx": 5,
    "time": "2021-02-09T20:11:33.092Z",
    "type": "execution"
   },
   {
    "id": "3597991278e645578ba09ba30c098776",
    "time": "2021-02-09T20:11:33.172Z",
    "type": "completion"
   },
   {
    "code": "seq = np.random.choice([-1,1], size=20)\nprint(seq)",
    "id": "3597991278e645578ba09ba30c098776",
    "idx": 5,
    "time": "2021-02-09T20:14:33.755Z",
    "type": "execution"
   },
   {
    "id": "3597991278e645578ba09ba30c098776",
    "time": "2021-02-09T20:14:33.832Z",
    "type": "completion"
   },
   {
    "code": "seq = np.random.choice([-1,1], size=40)\nprint(seq)",
    "id": "3597991278e645578ba09ba30c098776",
    "idx": 5,
    "time": "2021-02-09T20:14:44.763Z",
    "type": "execution"
   },
   {
    "id": "3597991278e645578ba09ba30c098776",
    "time": "2021-02-09T20:14:45.120Z",
    "type": "completion"
   },
   {
    "code": "seq = np.random.choice([-1,1], size=30)\nprint(seq)",
    "id": "3597991278e645578ba09ba30c098776",
    "idx": 5,
    "time": "2021-02-09T20:14:50.908Z",
    "type": "execution"
   },
   {
    "id": "3597991278e645578ba09ba30c098776",
    "time": "2021-02-09T20:14:50.973Z",
    "type": "completion"
   },
   {
    "code": "seq = np.random.choice([-1,1], size=100)\nprint(seq)",
    "id": "3597991278e645578ba09ba30c098776",
    "idx": 5,
    "time": "2021-02-09T20:15:02.427Z",
    "type": "execution"
   },
   {
    "id": "3597991278e645578ba09ba30c098776",
    "time": "2021-02-09T20:15:02.490Z",
    "type": "completion"
   },
   {
    "code": "print(np.mean(seq))",
    "id": "2acdfc71184d401e8b81937a168f0322",
    "idx": 7,
    "time": "2021-02-09T20:15:15.825Z",
    "type": "execution"
   },
   {
    "id": "2acdfc71184d401e8b81937a168f0322",
    "time": "2021-02-09T20:15:15.883Z",
    "type": "completion"
   },
   {
    "code": "seq = np.random.choice([-1,1], p=[0.25, 0.75], size=100)\nprint(seq)",
    "id": "e91d91d25d4a48a5bf0c4247d3665718",
    "idx": 11,
    "time": "2021-02-09T20:24:26.632Z",
    "type": "execution"
   },
   {
    "id": "e91d91d25d4a48a5bf0c4247d3665718",
    "time": "2021-02-09T20:24:26.709Z",
    "type": "completion"
   },
   {
    "code": "seq = np.random.choice([-1,1], p=[0.25, 0.75], size=100)\nprint(seq)\nprint(np.mean(seq))",
    "id": "e91d91d25d4a48a5bf0c4247d3665718",
    "idx": 11,
    "time": "2021-02-09T20:24:58.629Z",
    "type": "execution"
   },
   {
    "code": "seq = np.random.choice([-1,1], p=[0.25, 0.75], size=100)\nprint(seq)\nprint(np.mean(seq))",
    "id": "e91d91d25d4a48a5bf0c4247d3665718",
    "idx": 11,
    "time": "2021-02-09T20:25:03.084Z",
    "type": "execution"
   },
   {
    "code": "seq = np.random.choice([-1,1], p=[0.25, 0.75], size=100)\nprint(seq)",
    "id": "e91d91d25d4a48a5bf0c4247d3665718",
    "idx": 11,
    "time": "2021-02-09T20:25:51.676Z",
    "type": "execution"
   },
   {
    "code": "seq = np.random.choice([-1,1], size=100)\nprint(seq)",
    "id": "3597991278e645578ba09ba30c098776",
    "idx": 5,
    "time": "2021-02-09T20:26:16.860Z",
    "type": "execution"
   },
   {
    "code": "seq = np.random.choice([-1,1], size=100)\nprint(seq)",
    "id": "3597991278e645578ba09ba30c098776",
    "idx": 5,
    "time": "2021-02-09T20:26:59.851Z",
    "type": "execution"
   },
   {
    "code": "seq = np.random.choice([-1,1], size=100)\nprint(seq)",
    "id": "3597991278e645578ba09ba30c098776",
    "idx": 5,
    "time": "2021-02-09T20:27:10.321Z",
    "type": "execution"
   },
   {
    "id": "e91d91d25d4a48a5bf0c4247d3665718",
    "time": "2021-02-09T20:27:27.231Z",
    "type": "completion"
   },
   {
    "id": "e91d91d25d4a48a5bf0c4247d3665718",
    "time": "2021-02-09T20:27:27.231Z",
    "type": "completion"
   },
   {
    "id": "e91d91d25d4a48a5bf0c4247d3665718",
    "time": "2021-02-09T20:27:27.231Z",
    "type": "completion"
   },
   {
    "id": "3597991278e645578ba09ba30c098776",
    "time": "2021-02-09T20:27:27.258Z",
    "type": "completion"
   },
   {
    "id": "3597991278e645578ba09ba30c098776",
    "time": "2021-02-09T20:27:27.259Z",
    "type": "completion"
   },
   {
    "id": "3597991278e645578ba09ba30c098776",
    "time": "2021-02-09T20:27:27.259Z",
    "type": "completion"
   },
   {
    "code": "seq = np.random.choice([-1,1], size=100)\nprint(seq)",
    "id": "3597991278e645578ba09ba30c098776",
    "idx": 5,
    "time": "2021-02-09T20:27:32.555Z",
    "type": "execution"
   },
   {
    "id": "3597991278e645578ba09ba30c098776",
    "time": "2021-02-09T20:27:32.620Z",
    "type": "completion"
   },
   {
    "code": "import numpy as np\nimport scipy.stats as st\nimport matplotlib.pyplot as plt",
    "id": "bf6f0cfbb228466f8b153b6f36ba116e",
    "idx": 2,
    "time": "2021-02-09T20:27:38.998Z",
    "type": "execution"
   },
   {
    "id": "bf6f0cfbb228466f8b153b6f36ba116e",
    "time": "2021-02-09T20:27:40.060Z",
    "type": "completion"
   },
   {
    "code": "seq = np.random.choice([-1,1], size=100)\nprint(seq)",
    "id": "3597991278e645578ba09ba30c098776",
    "idx": 5,
    "time": "2021-02-09T20:27:42.378Z",
    "type": "execution"
   },
   {
    "id": "3597991278e645578ba09ba30c098776",
    "time": "2021-02-09T20:27:42.442Z",
    "type": "completion"
   },
   {
    "code": "print(np.mean(seq))",
    "id": "2acdfc71184d401e8b81937a168f0322",
    "idx": 8,
    "time": "2021-02-09T20:27:46.036Z",
    "type": "execution"
   },
   {
    "id": "2acdfc71184d401e8b81937a168f0322",
    "time": "2021-02-09T20:27:46.099Z",
    "type": "completion"
   },
   {
    "code": "seq = np.random.choice([-1,1], p=[0.25, 0.75], size=100)\nprint(seq)\nprint(np.mean(seq))",
    "id": "e91d91d25d4a48a5bf0c4247d3665718",
    "idx": 11,
    "time": "2021-02-09T20:28:06.008Z",
    "type": "execution"
   },
   {
    "id": "e91d91d25d4a48a5bf0c4247d3665718",
    "time": "2021-02-09T20:28:06.072Z",
    "type": "completion"
   },
   {
    "code": "seq = np.random.choice([-1,1], p=[0.02, 0.98], size=100)\nprint(seq)\nprint(np.mean(seq))",
    "id": "e91d91d25d4a48a5bf0c4247d3665718",
    "idx": 11,
    "time": "2021-02-09T20:28:52.292Z",
    "type": "execution"
   },
   {
    "id": "e91d91d25d4a48a5bf0c4247d3665718",
    "time": "2021-02-09T20:28:52.360Z",
    "type": "completion"
   },
   {
    "code": "seq = np.random.choice([-1,1], p=[0.25, 0.75], size=100)\nprint(seq)\nprint(np.mean(seq))",
    "id": "e91d91d25d4a48a5bf0c4247d3665718",
    "idx": 11,
    "time": "2021-02-09T20:29:06.386Z",
    "type": "execution"
   },
   {
    "id": "e91d91d25d4a48a5bf0c4247d3665718",
    "time": "2021-02-09T20:29:06.485Z",
    "type": "completion"
   },
   {
    "code": "seq = np.random.choice([-1,1], p=[0.5, 0.5], size=100)\nprint(seq)\nprint(np.mean(seq))",
    "id": "e91d91d25d4a48a5bf0c4247d3665718",
    "idx": 11,
    "time": "2021-02-09T20:29:23.076Z",
    "type": "execution"
   },
   {
    "id": "e91d91d25d4a48a5bf0c4247d3665718",
    "time": "2021-02-09T20:29:23.141Z",
    "type": "completion"
   },
   {
    "code": "seq = np.random.choice([-1,1], p=[0.5, 0.5], size=100)\nprint(seq)\nprint(np.mean(seq))",
    "id": "e91d91d25d4a48a5bf0c4247d3665718",
    "idx": 11,
    "time": "2021-02-09T20:29:28.098Z",
    "type": "execution"
   },
   {
    "id": "e91d91d25d4a48a5bf0c4247d3665718",
    "time": "2021-02-09T20:29:28.164Z",
    "type": "completion"
   },
   {
    "code": "seq = np.random.choice([-1,1], p=[0.5, 0.5], size=100)\nprint(seq)\nprint(np.mean(seq))",
    "id": "e91d91d25d4a48a5bf0c4247d3665718",
    "idx": 11,
    "time": "2021-02-09T20:29:31.582Z",
    "type": "execution"
   },
   {
    "id": "e91d91d25d4a48a5bf0c4247d3665718",
    "time": "2021-02-09T20:29:31.644Z",
    "type": "completion"
   },
   {
    "code": "seq = np.random.choice([-1,1], size=1000)\nprint(seq)",
    "id": "3597991278e645578ba09ba30c098776",
    "idx": 5,
    "time": "2021-02-09T20:29:49.925Z",
    "type": "execution"
   },
   {
    "id": "3597991278e645578ba09ba30c098776",
    "time": "2021-02-09T20:29:49.990Z",
    "type": "completion"
   },
   {
    "code": "print(np.mean(seq))",
    "id": "2acdfc71184d401e8b81937a168f0322",
    "idx": 8,
    "time": "2021-02-09T20:29:57.091Z",
    "type": "execution"
   },
   {
    "id": "2acdfc71184d401e8b81937a168f0322",
    "time": "2021-02-09T20:29:57.158Z",
    "type": "completion"
   },
   {
    "code": "seq = np.random.choice([-1,1], size=1000)",
    "id": "3597991278e645578ba09ba30c098776",
    "idx": 5,
    "time": "2021-02-09T20:30:11.922Z",
    "type": "execution"
   },
   {
    "id": "3597991278e645578ba09ba30c098776",
    "time": "2021-02-09T20:30:11.982Z",
    "type": "completion"
   },
   {
    "code": "seq = np.random.choice([-1,1], size=1000)\nprint(np.mean(seq))",
    "id": "3597991278e645578ba09ba30c098776",
    "idx": 5,
    "time": "2021-02-09T20:31:52.438Z",
    "type": "execution"
   },
   {
    "id": "3597991278e645578ba09ba30c098776",
    "time": "2021-02-09T20:31:52.516Z",
    "type": "completion"
   },
   {
    "code": "seq = np.random.choice([-1,1], p=[0.75, 0.25], size=100)\nprint(seq)\nprint(np.mean(seq))",
    "id": "e91d91d25d4a48a5bf0c4247d3665718",
    "idx": 8,
    "time": "2021-02-09T20:33:56.401Z",
    "type": "execution"
   },
   {
    "id": "e91d91d25d4a48a5bf0c4247d3665718",
    "time": "2021-02-09T20:33:56.463Z",
    "type": "completion"
   },
   {
    "code": "seq = np.random.choice([-1,1], p=[0.75, 0.25], size=1000)\nprint(np.mean(seq))",
    "id": "e91d91d25d4a48a5bf0c4247d3665718",
    "idx": 8,
    "time": "2021-02-09T20:34:15.207Z",
    "type": "execution"
   },
   {
    "id": "e91d91d25d4a48a5bf0c4247d3665718",
    "time": "2021-02-09T20:34:15.267Z",
    "type": "completion"
   },
   {
    "code": "seq = np.random.choice([-1,1], p=[0.75, 0.25], size=1000)\nprint(np.mean(seq))",
    "id": "e91d91d25d4a48a5bf0c4247d3665718",
    "idx": 8,
    "time": "2021-02-09T20:34:21.389Z",
    "type": "execution"
   },
   {
    "id": "e91d91d25d4a48a5bf0c4247d3665718",
    "time": "2021-02-09T20:34:21.455Z",
    "type": "completion"
   },
   {
    "code": "seq = np.random.choice([-1,1], p=[0.75, 0.25], size=1000)\nprint(np.mean(seq))",
    "id": "e91d91d25d4a48a5bf0c4247d3665718",
    "idx": 8,
    "time": "2021-02-09T20:34:24.039Z",
    "type": "execution"
   },
   {
    "id": "e91d91d25d4a48a5bf0c4247d3665718",
    "time": "2021-02-09T20:34:24.100Z",
    "type": "completion"
   },
   {
    "code": "seq = np.random.choice([-1,1], p=[0.75, 0.25], size=1000)\nprint(np.mean(seq))",
    "id": "e91d91d25d4a48a5bf0c4247d3665718",
    "idx": 8,
    "time": "2021-02-09T20:34:26.773Z",
    "type": "execution"
   },
   {
    "id": "e91d91d25d4a48a5bf0c4247d3665718",
    "time": "2021-02-09T20:34:26.840Z",
    "type": "completion"
   },
   {
    "code": "seq = np.random.choice([-1,1], p=[0.75, 0.25], size=10000)\nprint(np.mean(seq))",
    "id": "e91d91d25d4a48a5bf0c4247d3665718",
    "idx": 8,
    "time": "2021-02-09T20:34:32.022Z",
    "type": "execution"
   },
   {
    "id": "e91d91d25d4a48a5bf0c4247d3665718",
    "time": "2021-02-09T20:34:32.097Z",
    "type": "completion"
   },
   {
    "code": "seq = np.random.choice([-1,1], size=10000)\nprint(np.mean(seq))",
    "id": "3597991278e645578ba09ba30c098776",
    "idx": 5,
    "time": "2021-02-09T20:34:39.174Z",
    "type": "execution"
   },
   {
    "id": "3597991278e645578ba09ba30c098776",
    "time": "2021-02-09T20:34:39.234Z",
    "type": "completion"
   },
   {
    "code": "seq = np.random.choice([-1,1], p=[0.75, 0.25], size=10000)\nprint(np.mean(seq))",
    "id": "e91d91d25d4a48a5bf0c4247d3665718",
    "idx": 8,
    "time": "2021-02-09T20:34:55.668Z",
    "type": "execution"
   },
   {
    "id": "e91d91d25d4a48a5bf0c4247d3665718",
    "time": "2021-02-09T20:34:55.737Z",
    "type": "completion"
   },
   {
    "code": "seq = np.random.choice([-1,1], size=10000)\nprint(np.mean(seq))\nprint(np.sum(seq))",
    "id": "3597991278e645578ba09ba30c098776",
    "idx": 5,
    "time": "2021-02-09T20:37:26.933Z",
    "type": "execution"
   },
   {
    "id": "3597991278e645578ba09ba30c098776",
    "time": "2021-02-09T20:37:27.010Z",
    "type": "completion"
   },
   {
    "code": "seq = np.random.choice([-1,1], size=10000)\nprint(np.sum(seq))\nprint(np.mean(seq))",
    "id": "3597991278e645578ba09ba30c098776",
    "idx": 5,
    "time": "2021-02-09T20:40:31.380Z",
    "type": "execution"
   },
   {
    "id": "3597991278e645578ba09ba30c098776",
    "time": "2021-02-09T20:40:31.452Z",
    "type": "completion"
   },
   {
    "code": "seq = np.random.choice([-1,1], p=[0.75, 0.25], size=10000)\nprint(np.sum(seq))\nprint(np.mean(seq))",
    "id": "e91d91d25d4a48a5bf0c4247d3665718",
    "idx": 8,
    "time": "2021-02-09T20:40:34.960Z",
    "type": "execution"
   },
   {
    "id": "e91d91d25d4a48a5bf0c4247d3665718",
    "time": "2021-02-09T20:40:35.035Z",
    "type": "completion"
   },
   {
    "code": "#Function that samples M number of trajectories, with N number of steps per trial\n#Inputs: Number of trials, number of steps per trial\n#Outputs: List of locations (integers) where the random walker stops at the end of all N steps of each trial\ndef sampleTrajectories(num_trials, num_steps, prob=0.5):\n    vals = np.zeros(num_trials, dtype=int)\n    for i in range(num_trials):\n        vals[i] = sum(np.random.choice([-1,1], p=[1-prob, prob], size=num_steps))\n    return vals",
    "id": "9b2041e073f2451d8e2ca1c4479820a6",
    "idx": 11,
    "time": "2021-02-09T21:00:40.251Z",
    "type": "execution"
   },
   {
    "id": "9b2041e073f2451d8e2ca1c4479820a6",
    "time": "2021-02-09T21:00:40.333Z",
    "type": "completion"
   },
   {
    "code": "trials = 1000\nsteps = 10000\nprobR = 0.25 #Probability of a +1 (or right) step\nsamps = sampleTrajectories(trials, steps, prob=probR)",
    "id": "6581fa834ff845bda2bd7b916b517e49",
    "idx": 13,
    "time": "2021-02-09T21:03:07.736Z",
    "type": "execution"
   },
   {
    "id": "6581fa834ff845bda2bd7b916b517e49",
    "time": "2021-02-09T21:03:12.427Z",
    "type": "completion"
   },
   {
    "code": "trials = 1000\nsteps = 10000\nprobR = 0.5 #Probability of a +1 (or right) step\nsamps = sampleTrajectories(trials, steps, prob=probR)",
    "id": "6581fa834ff845bda2bd7b916b517e49",
    "idx": 14,
    "time": "2021-02-09T21:11:37.320Z",
    "type": "execution"
   },
   {
    "code": "fig, ax = plt.subplots()\n\nnum_bins = 50\nn, bins, patches = ax.hist(samps, num_bins)\nx = np.arange(np.min(samps), np.max(samps), 2)\nx_range = np.max(samps) -np.min(samps)\n#ax.plot(x, (x_range/(2*num_bins))*trials*st.binom.pmf((x+steps)/2, steps, probR, loc=0), 'r-', label='Binomial p.d.f.')\nax.set_ylabel(\"Counts\")\nax.set_xlabel(\"Net Displacement\")\n#ax.legend()\nplt.show()\nplt.close()",
    "id": "4240e595fcc44400a4cca2bcf759a89c",
    "idx": 15,
    "time": "2021-02-09T21:11:38.981Z",
    "type": "execution"
   },
   {
    "id": "6581fa834ff845bda2bd7b916b517e49",
    "time": "2021-02-09T21:11:40.246Z",
    "type": "completion"
   },
   {
    "id": "4240e595fcc44400a4cca2bcf759a89c",
    "time": "2021-02-09T21:11:40.649Z",
    "type": "completion"
   },
   {
    "code": "print(np.mean(samps))\nprint(np.var(samps))",
    "id": "e04c94c9877b4a3ebdd567ff8fcd8d6b",
    "idx": 15,
    "time": "2021-02-09T21:14:55.675Z",
    "type": "execution"
   },
   {
    "id": "e04c94c9877b4a3ebdd567ff8fcd8d6b",
    "time": "2021-02-09T21:14:55.740Z",
    "type": "completion"
   },
   {
    "code": "sampleTrajectories(num_trials, num_steps, prob=0.5)",
    "id": "813be560dd3f4c65b2e58792c0badca2",
    "idx": 16,
    "time": "2021-02-09T21:14:57.888Z",
    "type": "execution"
   },
   {
    "id": "813be560dd3f4c65b2e58792c0badca2",
    "time": "2021-02-09T21:14:58.026Z",
    "type": "completion"
   },
   {
    "code": "print(np.mean(samps))\nprint(np.var(samps))",
    "id": "e04c94c9877b4a3ebdd567ff8fcd8d6b",
    "idx": 16,
    "time": "2021-02-09T21:18:05.161Z",
    "type": "execution"
   },
   {
    "id": "e04c94c9877b4a3ebdd567ff8fcd8d6b",
    "time": "2021-02-09T21:18:05.230Z",
    "type": "completion"
   },
   {
    "code": "fig, ax = plt.subplots()\n\nnum_bins = 50\nn, bins, patches = ax.hist(samps, num_bins)\nx = np.arange(np.min(samps), np.max(samps), 2)\nx_range = np.max(samps) -np.min(samps)\n#ax.plot(x, (x_range/(2*num_bins))*trials*st.binom.pmf((x+steps)/2, steps, probR, loc=0), 'r-', label='Binomial p.d.f.')\nax.set_ylabel(\"Counts\")\nax.set_xlabel(\"Net Displacement\")\n#ax.legend()\nplt.show()\nplt.close()",
    "id": "4240e595fcc44400a4cca2bcf759a89c",
    "idx": 17,
    "time": "2021-02-09T21:18:08.977Z",
    "type": "execution"
   },
   {
    "id": "4240e595fcc44400a4cca2bcf759a89c",
    "time": "2021-02-09T21:18:09.344Z",
    "type": "completion"
   },
   {
    "code": "trials = 1000\nsteps = 10000\nprobR = 0.5 #Probability of a +1 (or right) step\nsamps = sampleTrajectories(trials, steps, prob=probR)",
    "id": "6581fa834ff845bda2bd7b916b517e49",
    "idx": 14,
    "time": "2021-02-09T21:19:02.537Z",
    "type": "execution"
   },
   {
    "code": "print(np.mean(samps))\nprint(np.var(samps))",
    "id": "e04c94c9877b4a3ebdd567ff8fcd8d6b",
    "idx": 15,
    "time": "2021-02-09T21:19:03.395Z",
    "type": "execution"
   },
   {
    "code": "fig, ax = plt.subplots()\n\nnum_bins = 50\nn, bins, patches = ax.hist(samps, num_bins)\nx = np.arange(np.min(samps), np.max(samps), 2)\nx_range = np.max(samps) -np.min(samps)\n#ax.plot(x, (x_range/(2*num_bins))*trials*st.binom.pmf((x+steps)/2, steps, probR, loc=0), 'r-', label='Binomial p.d.f.')\nax.set_ylabel(\"Counts\")\nax.set_xlabel(\"Net Displacement\")\n#ax.legend()\nplt.show()\nplt.close()",
    "id": "4240e595fcc44400a4cca2bcf759a89c",
    "idx": 16,
    "time": "2021-02-09T21:19:04.995Z",
    "type": "execution"
   },
   {
    "id": "6581fa834ff845bda2bd7b916b517e49",
    "time": "2021-02-09T21:19:05.352Z",
    "type": "completion"
   },
   {
    "id": "e04c94c9877b4a3ebdd567ff8fcd8d6b",
    "time": "2021-02-09T21:19:05.366Z",
    "type": "completion"
   },
   {
    "id": "4240e595fcc44400a4cca2bcf759a89c",
    "time": "2021-02-09T21:19:05.710Z",
    "type": "completion"
   },
   {
    "code": "trials = 1000\nsteps = 10000\nprobR = 0.25 #Probability of a +1 (or right) step\nsamps = sampleTrajectories(trials, steps, prob=probR)",
    "id": "ced07cba0d884abc84a6b53db2735f42",
    "idx": 18,
    "time": "2021-02-09T21:25:44.272Z",
    "type": "execution"
   },
   {
    "id": "ced07cba0d884abc84a6b53db2735f42",
    "time": "2021-02-09T21:25:46.915Z",
    "type": "completion"
   },
   {
    "code": "fig, ax = plt.subplots()\n\nnum_bins = 50\nn, bins, patches = ax.hist(samps, num_bins)\nx = np.arange(np.min(samps), np.max(samps), 2)\nx_range = np.max(samps) -np.min(samps)\n#ax.plot(x, (x_range/(2*num_bins))*trials*st.binom.pmf((x+steps)/2, steps, probR, loc=0), 'r-', label='Binomial p.d.f.')\nax.set_ylabel(\"Counts\")\nax.set_xlabel(\"Net Displacement\")\n#ax.legend()\nplt.show()\nplt.close()",
    "id": "f75751c2f68540fb8c613a084305c573",
    "idx": 19,
    "time": "2021-02-09T21:25:48.212Z",
    "type": "execution"
   },
   {
    "id": "f75751c2f68540fb8c613a084305c573",
    "time": "2021-02-09T21:25:48.564Z",
    "type": "completion"
   },
   {
    "code": "fig, ax = plt.subplots()\n\nnum_bins = 50\nn, bins, patches = ax.hist(samps, num_bins)\nx = np.arange(np.min(samps), np.max(samps), 2)\nx_range = np.max(samps) -np.min(samps)\nax.set_ylabel(\"Counts\")\nax.set_xlabel(\"Net Displacement\")\nplt.show()\nplt.close()",
    "id": "4240e595fcc44400a4cca2bcf759a89c",
    "idx": 15,
    "time": "2021-02-09T21:26:51.971Z",
    "type": "execution"
   },
   {
    "id": "4240e595fcc44400a4cca2bcf759a89c",
    "time": "2021-02-09T21:26:52.568Z",
    "type": "completion"
   },
   {
    "code": "trials = 1000\nsteps = 10000\nprobR = 0.5 #Probability of a +1 (or right) step\nsamps = sampleTrajectories(trials, steps, prob=probR)",
    "id": "6581fa834ff845bda2bd7b916b517e49",
    "idx": 14,
    "time": "2021-02-09T21:27:21.137Z",
    "type": "execution"
   },
   {
    "id": "6581fa834ff845bda2bd7b916b517e49",
    "time": "2021-02-09T21:27:23.791Z",
    "type": "completion"
   },
   {
    "code": "fig, ax = plt.subplots()\n\nnum_bins = 50\nn, bins, patches = ax.hist(samps, num_bins)\nx = np.arange(np.min(samps), np.max(samps), 2)\nx_range = np.max(samps) -np.min(samps)\nax.set_ylabel(\"Counts\")\nax.set_xlabel(\"Net Displacement\")\nplt.show()\nplt.close()",
    "id": "4240e595fcc44400a4cca2bcf759a89c",
    "idx": 15,
    "time": "2021-02-09T21:27:23.854Z",
    "type": "execution"
   },
   {
    "id": "4240e595fcc44400a4cca2bcf759a89c",
    "time": "2021-02-09T21:27:24.417Z",
    "type": "completion"
   },
   {
    "code": "trials = 1000\nsteps = 10000\nprobR = 0.25 #Probability of a +1 (or right) step\nsamps = sampleTrajectories(trials, steps, prob=probR)",
    "id": "ced07cba0d884abc84a6b53db2735f42",
    "idx": 18,
    "time": "2021-02-09T21:27:30.004Z",
    "type": "execution"
   },
   {
    "code": "fig, ax = plt.subplots()\n\nnum_bins = 50\nn, bins, patches = ax.hist(samps, num_bins)\nx = np.arange(np.min(samps), np.max(samps), 2)\nx_range = np.max(samps) -np.min(samps)\nax.set_ylabel(\"Counts\")\nax.set_xlabel(\"Net Displacement\")\nplt.show()\nplt.close()",
    "id": "f75751c2f68540fb8c613a084305c573",
    "idx": 19,
    "time": "2021-02-09T21:27:31.245Z",
    "type": "execution"
   },
   {
    "id": "ced07cba0d884abc84a6b53db2735f42",
    "time": "2021-02-09T21:27:32.617Z",
    "type": "completion"
   },
   {
    "id": "f75751c2f68540fb8c613a084305c573",
    "time": "2021-02-09T21:27:32.955Z",
    "type": "completion"
   },
   {
    "code": "print(np.mean(samps))\nprint(np.var(samps))",
    "id": "db4fa23c982c41f8802a604d6f22d1a9",
    "idx": 16,
    "time": "2021-02-09T21:29:16.784Z",
    "type": "execution"
   },
   {
    "id": "db4fa23c982c41f8802a604d6f22d1a9",
    "time": "2021-02-09T21:29:16.857Z",
    "type": "completion"
   },
   {
    "code": "trials = 1000\nsteps = 10000\nprobR = 0.5 #Probability of a +1 (or right) step\nsamps = sampleTrajectories(trials, steps, prob=probR)",
    "id": "6581fa834ff845bda2bd7b916b517e49",
    "idx": 14,
    "time": "2021-02-09T21:29:33.623Z",
    "type": "execution"
   },
   {
    "code": "fig, ax = plt.subplots()\n\nnum_bins = 50\nn, bins, patches = ax.hist(samps, num_bins)\nx = np.arange(np.min(samps), np.max(samps), 2)\nx_range = np.max(samps) -np.min(samps)\nax.set_ylabel(\"Counts\")\nax.set_xlabel(\"Net Displacement\")\nplt.show()\nplt.close()",
    "id": "4240e595fcc44400a4cca2bcf759a89c",
    "idx": 15,
    "time": "2021-02-09T21:29:35.469Z",
    "type": "execution"
   },
   {
    "code": "print(np.mean(samps))\nprint(np.var(samps))",
    "id": "db4fa23c982c41f8802a604d6f22d1a9",
    "idx": 16,
    "time": "2021-02-09T21:29:36.430Z",
    "type": "execution"
   },
   {
    "id": "6581fa834ff845bda2bd7b916b517e49",
    "time": "2021-02-09T21:29:36.491Z",
    "type": "completion"
   },
   {
    "id": "4240e595fcc44400a4cca2bcf759a89c",
    "time": "2021-02-09T21:29:36.865Z",
    "type": "completion"
   },
   {
    "id": "db4fa23c982c41f8802a604d6f22d1a9",
    "time": "2021-02-09T21:29:36.902Z",
    "type": "completion"
   },
   {
    "code": "trials = 1000\nsteps = 10000\nprobR = 0.25 #Probability of a +1 (or right) step\nsamps = sampleTrajectories(trials, steps, prob=probR)",
    "id": "ced07cba0d884abc84a6b53db2735f42",
    "idx": 19,
    "time": "2021-02-09T21:30:25.405Z",
    "type": "execution"
   },
   {
    "code": "fig, ax = plt.subplots()\n\nnum_bins = 50\nn, bins, patches = ax.hist(samps, num_bins)\nx = np.arange(np.min(samps), np.max(samps), 2)\nx_range = np.max(samps) -np.min(samps)\nax.set_ylabel(\"Counts\")\nax.set_xlabel(\"Net Displacement\")\nplt.show()\nplt.close()",
    "id": "f75751c2f68540fb8c613a084305c573",
    "idx": 20,
    "time": "2021-02-09T21:30:27.909Z",
    "type": "execution"
   },
   {
    "id": "ced07cba0d884abc84a6b53db2735f42",
    "time": "2021-02-09T21:30:28.086Z",
    "type": "completion"
   },
   {
    "id": "f75751c2f68540fb8c613a084305c573",
    "time": "2021-02-09T21:30:28.423Z",
    "type": "completion"
   },
   {
    "code": "print(np.mean(samps))\nprint(np.var(samps))",
    "id": "51393f7a139543308cd8010ce390efc6",
    "idx": 21,
    "time": "2021-02-09T21:30:30.656Z",
    "type": "execution"
   },
   {
    "id": "51393f7a139543308cd8010ce390efc6",
    "time": "2021-02-09T21:30:30.727Z",
    "type": "completion"
   },
   {
    "code": "trials = 1000\nsteps = 10000\nprobR = 0.9 #Probability of a +1 (or right) step\nsamps = sampleTrajectories(trials, steps, prob=probR)",
    "id": "ced07cba0d884abc84a6b53db2735f42",
    "idx": 19,
    "time": "2021-02-09T21:30:49.933Z",
    "type": "execution"
   },
   {
    "code": "fig, ax = plt.subplots()\n\nnum_bins = 50\nn, bins, patches = ax.hist(samps, num_bins)\nx = np.arange(np.min(samps), np.max(samps), 2)\nx_range = np.max(samps) -np.min(samps)\nax.set_ylabel(\"Counts\")\nax.set_xlabel(\"Net Displacement\")\nplt.show()\nplt.close()",
    "id": "f75751c2f68540fb8c613a084305c573",
    "idx": 20,
    "time": "2021-02-09T21:30:50.970Z",
    "type": "execution"
   },
   {
    "id": "ced07cba0d884abc84a6b53db2735f42",
    "time": "2021-02-09T21:30:52.809Z",
    "type": "completion"
   },
   {
    "id": "f75751c2f68540fb8c613a084305c573",
    "time": "2021-02-09T21:30:53.211Z",
    "type": "completion"
   },
   {
    "code": "print(np.mean(samps))\nprint(np.var(samps))",
    "id": "51393f7a139543308cd8010ce390efc6",
    "idx": 21,
    "time": "2021-02-09T21:30:54.637Z",
    "type": "execution"
   },
   {
    "id": "51393f7a139543308cd8010ce390efc6",
    "time": "2021-02-09T21:30:54.711Z",
    "type": "completion"
   },
   {
    "code": "trials = 1000\nsteps = 10000\nprobR = 0.99 #Probability of a +1 (or right) step\nsamps = sampleTrajectories(trials, steps, prob=probR)",
    "id": "ced07cba0d884abc84a6b53db2735f42",
    "idx": 19,
    "time": "2021-02-09T21:31:10.120Z",
    "type": "execution"
   },
   {
    "code": "fig, ax = plt.subplots()\n\nnum_bins = 50\nn, bins, patches = ax.hist(samps, num_bins)\nx = np.arange(np.min(samps), np.max(samps), 2)\nx_range = np.max(samps) -np.min(samps)\nax.set_ylabel(\"Counts\")\nax.set_xlabel(\"Net Displacement\")\nplt.show()\nplt.close()",
    "id": "f75751c2f68540fb8c613a084305c573",
    "idx": 20,
    "time": "2021-02-09T21:31:11.774Z",
    "type": "execution"
   },
   {
    "id": "ced07cba0d884abc84a6b53db2735f42",
    "time": "2021-02-09T21:31:12.722Z",
    "type": "completion"
   },
   {
    "id": "f75751c2f68540fb8c613a084305c573",
    "time": "2021-02-09T21:31:13.065Z",
    "type": "completion"
   },
   {
    "code": "print(np.mean(samps))\nprint(np.var(samps))",
    "id": "51393f7a139543308cd8010ce390efc6",
    "idx": 21,
    "time": "2021-02-09T21:31:21.190Z",
    "type": "execution"
   },
   {
    "id": "51393f7a139543308cd8010ce390efc6",
    "time": "2021-02-09T21:31:21.256Z",
    "type": "completion"
   },
   {
    "code": "trials = 1000\nsteps = 10000\nprobR = 0.25 #Probability of a +1 (or right) step\nsamps = sampleTrajectories(trials, steps, prob=probR)",
    "id": "ced07cba0d884abc84a6b53db2735f42",
    "idx": 19,
    "time": "2021-02-09T21:31:33.267Z",
    "type": "execution"
   },
   {
    "code": "fig, ax = plt.subplots()\n\nnum_bins = 50\nn, bins, patches = ax.hist(samps, num_bins)\nx = np.arange(np.min(samps), np.max(samps), 2)\nx_range = np.max(samps) -np.min(samps)\nax.set_ylabel(\"Counts\")\nax.set_xlabel(\"Net Displacement\")\nplt.show()\nplt.close()",
    "id": "f75751c2f68540fb8c613a084305c573",
    "idx": 20,
    "time": "2021-02-09T21:31:34.836Z",
    "type": "execution"
   },
   {
    "id": "ced07cba0d884abc84a6b53db2735f42",
    "time": "2021-02-09T21:31:36.195Z",
    "type": "completion"
   },
   {
    "id": "f75751c2f68540fb8c613a084305c573",
    "time": "2021-02-09T21:31:36.539Z",
    "type": "completion"
   },
   {
    "code": "print(np.mean(samps))\nprint(np.var(samps))",
    "id": "51393f7a139543308cd8010ce390efc6",
    "idx": 21,
    "time": "2021-02-09T21:31:39.082Z",
    "type": "execution"
   },
   {
    "id": "51393f7a139543308cd8010ce390efc6",
    "time": "2021-02-09T21:31:39.142Z",
    "type": "completion"
   },
   {
    "code": "trials = 1000\nsteps = 10000\nprobR = 0.5 #Probability of a +1 (or right) step\nsamps = sampleTrajectories(trials, steps, prob=probR)",
    "id": "708e65b0480b4ec3853729d6a2745bfb",
    "idx": 26,
    "time": "2021-02-09T21:37:53.571Z",
    "type": "execution"
   },
   {
    "id": "708e65b0480b4ec3853729d6a2745bfb",
    "time": "2021-02-09T21:37:56.234Z",
    "type": "completion"
   },
   {
    "code": "fig, ax = plt.subplots()\n\nnum_bins = 50\nn, bins, patches = ax.hist(samps, num_bins)\nx = np.arange(np.min(samps), np.max(samps), 2)\nx_range = np.max(samps) -np.min(samps)\nax.plot(x, (x_range/(2*num_bins))*trials*st.binom.pmf((x+steps)/2, steps, probR, loc=0), 'r-', label='Binomial p.d.f.')\nax.set_ylabel(\"Counts\")\nax.set_xlabel(\"Net Displacement\")\nax.legend()\nplt.show()\nplt.close()",
    "id": "5ab133733459402c8a2e0ef3665c8ba5",
    "idx": 27,
    "time": "2021-02-09T21:38:11.742Z",
    "type": "execution"
   },
   {
    "id": "5ab133733459402c8a2e0ef3665c8ba5",
    "time": "2021-02-09T21:38:14.295Z",
    "type": "completion"
   },
   {
    "code": "fig, ax = plt.subplots()\n\nnum_bins = 50\nn, bins, patches = ax.hist(samps, num_bins)\nx = np.arange(np.min(samps), np.max(samps), 1)\nx_range = np.max(samps) -np.min(samps)\nax.plot(x, (x_range/(2*num_bins))*trials*st.binom.pmf((x+steps)/2, steps, probR, loc=0), 'r-', label='Binomial p.d.f.')\nax.set_ylabel(\"Counts\")\nax.set_xlabel(\"Net Displacement\")\nax.legend()\nplt.show()\nplt.close()",
    "id": "5ab133733459402c8a2e0ef3665c8ba5",
    "idx": 27,
    "time": "2021-02-09T21:49:32.327Z",
    "type": "execution"
   },
   {
    "id": "5ab133733459402c8a2e0ef3665c8ba5",
    "time": "2021-02-09T21:49:32.886Z",
    "type": "completion"
   },
   {
    "code": "fig, ax = plt.subplots()\n\nnum_bins = 50\nn, bins, patches = ax.hist(samps, num_bins)\nx = np.arange(np.min(samps), np.max(samps), 2)\nx_range = np.max(samps) -np.min(samps)\nax.plot(x, (x_range/(2*num_bins))*trials*st.binom.pmf((x+steps)/2, steps, probR, loc=0), 'r-', label='Binomial p.d.f.')\nax.set_ylabel(\"Counts\")\nax.set_xlabel(\"Net Displacement\")\nax.legend()\nplt.show()\nplt.close()",
    "id": "5ab133733459402c8a2e0ef3665c8ba5",
    "idx": 27,
    "time": "2021-02-09T21:49:42.337Z",
    "type": "execution"
   },
   {
    "id": "5ab133733459402c8a2e0ef3665c8ba5",
    "time": "2021-02-09T21:49:42.998Z",
    "type": "completion"
   },
   {
    "code": "fig, ax = plt.subplots()\n\nnum_bins = 50\nn, bins, patches = ax.hist(samps, num_bins)\nx = np.arange(np.min(samps), np.max(samps), 4)\nx_range = np.max(samps) -np.min(samps)\nax.plot(x, (x_range/(2*num_bins))*trials*st.binom.pmf((x+steps)/2, steps, probR, loc=0), 'r-', label='Binomial p.d.f.')\nax.set_ylabel(\"Counts\")\nax.set_xlabel(\"Net Displacement\")\nax.legend()\nplt.show()\nplt.close()",
    "id": "5ab133733459402c8a2e0ef3665c8ba5",
    "idx": 27,
    "time": "2021-02-09T21:49:48.719Z",
    "type": "execution"
   },
   {
    "id": "5ab133733459402c8a2e0ef3665c8ba5",
    "time": "2021-02-09T21:49:49.268Z",
    "type": "completion"
   },
   {
    "code": "fig, ax = plt.subplots()\n\nnum_bins = 50\nn, bins, patches = ax.hist(samps, num_bins)\nx = np.arange(np.min(samps), np.max(samps), 10)\nx_range = np.max(samps) -np.min(samps)\nax.plot(x, (x_range/(2*num_bins))*trials*st.binom.pmf((x+steps)/2, steps, probR, loc=0), 'r-', label='Binomial p.d.f.')\nax.set_ylabel(\"Counts\")\nax.set_xlabel(\"Net Displacement\")\nax.legend()\nplt.show()\nplt.close()",
    "id": "5ab133733459402c8a2e0ef3665c8ba5",
    "idx": 27,
    "time": "2021-02-09T21:49:54.180Z",
    "type": "execution"
   },
   {
    "id": "5ab133733459402c8a2e0ef3665c8ba5",
    "time": "2021-02-09T21:49:54.701Z",
    "type": "completion"
   },
   {
    "code": "fig, ax = plt.subplots()\n\nnum_bins = 50\nn, bins, patches = ax.hist(samps, num_bins)\nx = np.arange(np.min(samps), np.max(samps), 100)\nx_range = np.max(samps) -np.min(samps)\nax.plot(x, (x_range/(2*num_bins))*trials*st.binom.pmf((x+steps)/2, steps, probR, loc=0), 'r-', label='Binomial p.d.f.')\nax.set_ylabel(\"Counts\")\nax.set_xlabel(\"Net Displacement\")\nax.legend()\nplt.show()\nplt.close()",
    "id": "5ab133733459402c8a2e0ef3665c8ba5",
    "idx": 27,
    "time": "2021-02-09T21:49:59.117Z",
    "type": "execution"
   },
   {
    "id": "5ab133733459402c8a2e0ef3665c8ba5",
    "time": "2021-02-09T21:49:59.658Z",
    "type": "completion"
   },
   {
    "code": "fig, ax = plt.subplots()\n\nnum_bins = 50\nn, bins, patches = ax.hist(samps, num_bins)\nx = np.arange(np.min(samps), np.max(samps), 2)\nx_range = np.max(samps) -np.min(samps)\nax.plot(x, (x_range/(2*num_bins))*trials*st.binom.pmf((x+steps)/2, steps, probR, loc=0), 'r-', label='Binomial p.d.f.')\nax.set_ylabel(\"Counts\")\nax.set_xlabel(\"Net Displacement\")\nax.legend()\nplt.show()\nplt.close()",
    "id": "5ab133733459402c8a2e0ef3665c8ba5",
    "idx": 27,
    "time": "2021-02-09T21:50:08.520Z",
    "type": "execution"
   },
   {
    "id": "5ab133733459402c8a2e0ef3665c8ba5",
    "time": "2021-02-09T21:50:09.047Z",
    "type": "completion"
   },
   {
    "code": "#fig, ax = plt.subplots()\n\nnum_bins = 50\nn, bins, patches = ax.hist(samps, num_bins)\nx = np.arange(np.min(samps), np.max(samps), 2)\nx_range = np.max(samps) -np.min(samps)\nax.set_ylabel(\"Counts\")\nax.set_xlabel(\"Net Displacement\")\nplt.show()\nplt.close()",
    "id": "6f989f4a37b64a9086321de997d18729",
    "idx": 15,
    "time": "2021-02-09T21:55:37.635Z",
    "type": "execution"
   },
   {
    "id": "6f989f4a37b64a9086321de997d18729",
    "time": "2021-02-09T21:55:37.769Z",
    "type": "completion"
   },
   {
    "code": "fig, ax = plt.subplots()\n\nnum_bins = 50\nn, bins, patches = ax.hist(samps, num_bins)\nx = np.arange(np.min(samps), np.max(samps), 2)\nx_range = np.max(samps) -np.min(samps)\nax.set_ylabel(\"Counts\")\nax.set_xlabel(\"Net Displacement\")\nplt.show()\nplt.close()",
    "id": "6f989f4a37b64a9086321de997d18729",
    "idx": 15,
    "time": "2021-02-09T21:57:50.642Z",
    "type": "execution"
   },
   {
    "id": "6f989f4a37b64a9086321de997d18729",
    "time": "2021-02-09T21:57:51.231Z",
    "type": "completion"
   },
   {
    "code": "trials = 1000\nsteps = 10000\nprobR = 0.5 #Probability of a +1 (or right) step\nsamps = sampleTrajectories(trials, steps, prob=probR)",
    "id": "6581fa834ff845bda2bd7b916b517e49",
    "idx": 14,
    "time": "2021-02-09T22:00:14.192Z",
    "type": "execution"
   },
   {
    "code": "fig, ax = plt.subplots()\n\nnum_bins = 50\nn, bins, patches = ax.hist(samps, num_bins)\nx = np.arange(np.min(samps), np.max(samps), 2)\nx_range = np.max(samps) -np.min(samps)\nax.set_ylabel(\"Counts\")\nax.set_xlabel(\"Net Displacement\")\nplt.show()\nplt.close()",
    "id": "6f989f4a37b64a9086321de997d18729",
    "idx": 15,
    "time": "2021-02-09T22:00:15.375Z",
    "type": "execution"
   },
   {
    "id": "6581fa834ff845bda2bd7b916b517e49",
    "time": "2021-02-09T22:00:17.851Z",
    "type": "completion"
   },
   {
    "id": "6f989f4a37b64a9086321de997d18729",
    "time": "2021-02-09T22:00:18.567Z",
    "type": "completion"
   },
   {
    "code": "fig, ax = plt.subplots()\n\nnum_bins = 50\nn, bins, patches = ax.hist(samps, num_bins)\nx = np.arange(np.min(samps), np.max(samps), 2)\nx_range = np.max(samps) -np.min(samps)\nax.set_ylabel(\"Counts\")\nax.set_xlabel(\"Net Displacement\")\nplt.show()\nplt.close()",
    "id": "4240e595fcc44400a4cca2bcf759a89c",
    "idx": 17,
    "time": "2021-02-09T22:00:26.420Z",
    "type": "execution"
   },
   {
    "id": "4240e595fcc44400a4cca2bcf759a89c",
    "time": "2021-02-09T22:00:26.953Z",
    "type": "completion"
   },
   {
    "code": "#Solution\nseq = np.random.choice([-1,1], size=10000)\nprint(np.sum(seq))\nprint(np.mean(seq))",
    "id": "3597991278e645578ba09ba30c098776",
    "idx": 6,
    "time": "2021-02-10T01:18:18.499Z",
    "type": "execution"
   },
   {
    "id": "3597991278e645578ba09ba30c098776",
    "time": "2021-02-10T01:18:18.644Z",
    "type": "completion"
   },
   {
    "code": "import numpy as np\nimport scipy.stats as st\nimport matplotlib.pyplot as plt",
    "id": "bf6f0cfbb228466f8b153b6f36ba116e",
    "idx": 3,
    "time": "2021-02-10T01:18:25.814Z",
    "type": "execution"
   },
   {
    "id": "bf6f0cfbb228466f8b153b6f36ba116e",
    "time": "2021-02-10T01:18:26.832Z",
    "type": "completion"
   },
   {
    "code": "#Solution\nseq = np.random.choice([-1,1], size=10000)\nprint(np.sum(seq))\nprint(np.mean(seq))",
    "id": "3597991278e645578ba09ba30c098776",
    "idx": 6,
    "time": "2021-02-10T01:18:28.468Z",
    "type": "execution"
   },
   {
    "id": "3597991278e645578ba09ba30c098776",
    "time": "2021-02-10T01:18:30.535Z",
    "type": "completion"
   },
   {
    "code": "#c) Solution\n#Function that samples M number of trajectories, with N number of steps per trial\n#Inputs: Number of trials, number of steps per trial\n#Outputs: List of locations (integers) where the random walker stops at the end of all N steps of each trial\ndef sampleTrajectories(num_trials, num_steps, prob=0.5):\n    vals = np.zeros(num_trials, dtype=int)\n    for i in range(num_trials):\n        vals[i] = sum(np.random.choice([-1,1], p=[1-prob, prob], size=num_steps))\n    return vals",
    "id": "9b2041e073f2451d8e2ca1c4479820a6",
    "idx": 12,
    "time": "2021-02-10T01:33:55.924Z",
    "type": "execution"
   },
   {
    "id": "9b2041e073f2451d8e2ca1c4479820a6",
    "time": "2021-02-10T01:33:55.983Z",
    "type": "completion"
   },
   {
    "code": "#c) Solution",
    "id": "e612b77baa124c1483d8a019483e9c1e",
    "idx": 11,
    "time": "2021-02-10T01:34:17.985Z",
    "type": "execution"
   },
   {
    "id": "e612b77baa124c1483d8a019483e9c1e",
    "time": "2021-02-10T01:34:18.046Z",
    "type": "completion"
   },
   {
    "code": "#c) Solution\n#Function that samples M number of trajectories, with N number of steps per trial\n#Inputs: Number of trials, number of steps per trial\n#Outputs: List of locations (integers) where the random walker stops at the end of all N steps of each trial\ndef sampleTrajectories(num_trials, num_steps, prob=0.5):\n    vals = np.zeros(num_trials, dtype=int)\n    for i in range(num_trials):\n        vals[i] = sum(np.random.choice([-1,1], p=[1-prob, prob], size=num_steps))\n    return vals",
    "id": "9b2041e073f2451d8e2ca1c4479820a6",
    "idx": 12,
    "time": "2021-02-10T01:34:18.918Z",
    "type": "execution"
   },
   {
    "id": "9b2041e073f2451d8e2ca1c4479820a6",
    "time": "2021-02-10T01:34:18.977Z",
    "type": "completion"
   },
   {
    "code": "#c) Solution\n#Function that samples M number of trajectories, with N number of steps per trial\n#Inputs: Number of trials, number of steps per trial\n#Outputs: List of locations (integers) where the random walker stops at the end of all N steps of each trial\ndef Trajectories(num_trials, num_steps, prob=0.5):\n    vals = np.zeros(num_trials, dtype=int)\n    for i in range(num_trials):\n        vals[i] = sum(np.random.choice([-1,1], p=[1-prob, prob], size=num_steps))\n    return vals",
    "id": "9b2041e073f2451d8e2ca1c4479820a6",
    "idx": 12,
    "time": "2021-02-10T01:35:38.584Z",
    "type": "execution"
   },
   {
    "id": "9b2041e073f2451d8e2ca1c4479820a6",
    "time": "2021-02-10T01:35:38.680Z",
    "type": "completion"
   },
   {
    "code": "print(np.mean(samps))\nprint(np.var(samps))",
    "id": "db4fa23c982c41f8802a604d6f22d1a9",
    "idx": 19,
    "time": "2021-02-10T01:36:41.818Z",
    "type": "execution"
   },
   {
    "id": "db4fa23c982c41f8802a604d6f22d1a9",
    "time": "2021-02-10T01:36:41.952Z",
    "type": "completion"
   },
   {
    "code": "#d) Solution\ntrials = 1000\nsteps = 10000\nprobR = 0.5 #Probability of a +1 (or right) step\nsamps = Trajectories(trials, steps, prob=probR)",
    "id": "6581fa834ff845bda2bd7b916b517e49",
    "idx": 15,
    "time": "2021-02-10T01:36:49.076Z",
    "type": "execution"
   },
   {
    "code": "fig, ax = plt.subplots()\nnum_bins = 50\nn, bins, patches = ax.hist(samps, num_bins)\nx = np.arange(np.min(samps), np.max(samps), 2)\nx_range = np.max(samps) -np.min(samps)\nax.set_ylabel(\"Counts\")\nax.set_xlabel(\"Net Displacement\")\nplt.show()\nplt.close()",
    "id": "6f989f4a37b64a9086321de997d18729",
    "idx": 16,
    "time": "2021-02-10T01:36:50.112Z",
    "type": "execution"
   },
   {
    "id": "6581fa834ff845bda2bd7b916b517e49",
    "time": "2021-02-10T01:36:51.604Z",
    "type": "completion"
   },
   {
    "id": "6f989f4a37b64a9086321de997d18729",
    "time": "2021-02-10T01:36:51.954Z",
    "type": "completion"
   },
   {
    "code": "#e) Solution",
    "id": "396b58269ef04955b9fc7572439ac22e",
    "idx": 18,
    "time": "2021-02-10T01:37:42.104Z",
    "type": "execution"
   },
   {
    "id": "396b58269ef04955b9fc7572439ac22e",
    "time": "2021-02-10T01:37:42.167Z",
    "type": "completion"
   },
   {
    "code": "#e) Solution\nprint(np.mean(samps))\nprint(np.var(samps))",
    "id": "db4fa23c982c41f8802a604d6f22d1a9",
    "idx": 19,
    "time": "2021-02-10T01:37:43.097Z",
    "type": "execution"
   },
   {
    "id": "db4fa23c982c41f8802a604d6f22d1a9",
    "time": "2021-02-10T01:37:43.168Z",
    "type": "completion"
   },
   {
    "code": "#f) Solution\ntrials = 1000\nsteps = 10000\nprobR = 0.25 #Probability of a +1 (or right) step\nsamps = sampleTrajectories(trials, steps, prob=probR)",
    "id": "b6197f0fc1414250a410c675355afc36",
    "idx": 22,
    "time": "2021-02-10T01:38:55.463Z",
    "type": "execution"
   },
   {
    "code": "fig, ax = plt.subplots()\nnum_bins = 50\nn, bins, patches = ax.hist(samps, num_bins)\nx = np.arange(np.min(samps), np.max(samps), 2)\nx_range = np.max(samps) -np.min(samps)\nax.set_ylabel(\"Counts\")\nax.set_xlabel(\"Net Displacement\")\nplt.show()\nplt.close()",
    "id": "f75751c2f68540fb8c613a084305c573",
    "idx": 23,
    "time": "2021-02-10T01:38:56.965Z",
    "type": "execution"
   },
   {
    "id": "b6197f0fc1414250a410c675355afc36",
    "time": "2021-02-10T01:38:58.282Z",
    "type": "completion"
   },
   {
    "id": "f75751c2f68540fb8c613a084305c573",
    "time": "2021-02-10T01:38:58.620Z",
    "type": "completion"
   },
   {
    "code": "print(np.mean(samps))\nprint(np.var(samps))",
    "id": "51393f7a139543308cd8010ce390efc6",
    "idx": 24,
    "time": "2021-02-10T01:38:59.637Z",
    "type": "execution"
   },
   {
    "id": "51393f7a139543308cd8010ce390efc6",
    "time": "2021-02-10T01:38:59.697Z",
    "type": "completion"
   },
   {
    "code": "#a) Solution\nprint(\"hello world\")",
    "id": "75d649ec511f4b6d8a411c5b558473ad",
    "idx": 5,
    "time": "2021-02-12T00:14:31.492Z",
    "type": "execution"
   },
   {
    "code": "#b) Solution\nprint(2)",
    "id": "421eacb2442a473d9e2f3a7fb8de0756",
    "idx": 7,
    "time": "2021-02-14T18:05:15.341Z",
    "type": "execution"
   },
   {
    "id": "421eacb2442a473d9e2f3a7fb8de0756",
    "time": "2021-02-14T18:05:15.597Z",
    "type": "completion"
   }
  ],
  "kernelspec": {
   "display_name": "Python 3",
   "language": "python",
   "name": "python3"
  },
  "language_info": {
   "codemirror_mode": {
    "name": "ipython",
    "version": 3
   },
   "file_extension": ".py",
   "mimetype": "text/x-python",
   "name": "python",
   "nbconvert_exporter": "python",
   "pygments_lexer": "ipython3",
   "version": "3.8.5-final"
  }
 },
 "nbformat": 4,
 "nbformat_minor": 2
}