{
 "cells": [
  {
   "cell_type": "markdown",
   "metadata": {},
   "source": [
    "#### Physics 112: Section 1: Professor Holzapfel \n",
    "#### HW3, Computational problem 1 \n",
    "#### Biased Random Walk\n",
    "Copyright 2021 by the Regents of the University of California. All rights reserved.\n"
   ]
  },
  {
   "cell_type": "markdown",
   "metadata": {},
   "source": [
    "To gain some deeper understanding of the random walk in one dimendsion, particularly when the probability of steps in different directions is not equal, it is illuminating to simulate it."
   ]
  },
  {
   "cell_type": "markdown",
   "metadata": {},
   "source": [
    "Start by importing the necessary python numerical and statistics libraries:"
   ]
  },
  {
   "cell_type": "code",
   "execution_count": 12,
   "metadata": {},
   "outputs": [],
   "source": [
    "import numpy as np\n",
    "import scipy.stats as st\n",
    "import matplotlib.pyplot as plt\n"
   ]
  },
  {
   "cell_type": "markdown",
   "metadata": {},
   "source": [
    "We start by generating sequences of N steps, +1 or -1, for our random walker to take. Because we are trying to sample a probability distribution with discrete support {-1, 1}, one convenient implementation is to use the numpy random.choice() function. \n",
    "\n",
    "#### a) Use this function in the cell below to produce a list of  $N=10000$ steps of +1 or -1 with equal probability. This list details a specific trajectory of a random walker where the probability of steps to the left and right are equal. You do not need to print the sequence, however, you should determine the sum and mean. The sum of this sequence is the final displacement at the conclusion of the random walk of $N$ steps. Input your answer in the cell below."
   ]
  },
  {
   "cell_type": "code",
   "execution_count": 13,
   "metadata": {},
   "outputs": [
    {
     "output_type": "stream",
     "name": "stdout",
     "text": [
      "110 0.011\n"
     ]
    }
   ],
   "source": [
    "#a) Solution\n",
    "\n",
    "random = np.random.default_rng().choice\n",
    "N = 10000   # length of list\n",
    "L = []      # list to be generated \n",
    "choices = [-1,1]\n",
    "for i in range(N):\n",
    "    L.append(random(choices))\n",
    "\n",
    "print(sum(L), sum(L)/N)\n",
    "\n",
    "\n"
   ]
  },
  {
   "source": [
    "You will notice in the documentation for numpy.random.choice() that you have the ability to alter the probability of stepping +1 to be different from p=0.5. Changing this value from 0.5 is identical to the problem of the biased coin toss that you solved in HW1. Set the probability of step of $-1$ to $(1-p)$ and set of $+1$ to $p$.\n",
    "#### b) Produce another sequence of 10000 steps with $p=0.25$ and determine the sum and mean of the sequence.\n"
   ],
   "cell_type": "markdown",
   "metadata": {}
  },
  {
   "cell_type": "code",
   "execution_count": 14,
   "metadata": {},
   "outputs": [
    {
     "output_type": "stream",
     "name": "stdout",
     "text": [
      "-4972 -0.4972\n"
     ]
    }
   ],
   "source": [
    "#b) Solution\n",
    "p = .25\n",
    "probabilities =  [1-p, p]    # probabiliy for each item(-1,1)\n",
    "\n",
    "L_b = []\n",
    "\n",
    "for i in range(N):\n",
    "    L_b.append(random(choices, p = probabilities))\n",
    "\n",
    "print(sum(L_b), sum(L_b)/N)\n"
   ]
  },
  {
   "cell_type": "markdown",
   "metadata": {},
   "source": [
    "We are interested in the distribution of final displacements after different sequences of steps. To determine the distribution of net displacements after N steps, we repeatedly generate trajectories to find the frequency with which our random walker ends up at various displacements from the origin. \n",
    "\n",
    "#### c) Write a function Trajectories(M, N, p)  to repeat the generation of $M$ trajectories each with $N$ steps, where each step has a probability p of $+1$ and $(1-p)$ of $-1$. This function should output an array of M integers representing where the random walker ends up for each trial."
   ]
  },
  {
   "cell_type": "code",
   "execution_count": 15,
   "metadata": {},
   "outputs": [
    {
     "output_type": "stream",
     "name": "stdout",
     "text": [
      "10\n"
     ]
    }
   ],
   "source": [
    "#c) Solution\n",
    "\n",
    "\n",
    "\n",
    "def Trajectories(M, N, p):\n",
    "    # generate a total of M trajectories, with each having N steps, each step having probability [1-p,p]\n",
    "    # output: array of M integers with each representing the final location after N steps\n",
    "    ans = []\n",
    "    for i in range(M):\n",
    "        ans.append(\n",
    "            sum(random([-1,1], N, p=[1-p,p]))\n",
    "        )\n",
    "    return ans\n",
    "\n",
    "    \n",
    "\n",
    "\n",
    "print(len(Trajectories(10, 10000, 0.25)))\n",
    "\n",
    "\n",
    "\n",
    "\n",
    "\n",
    "# def gen(N, p):\n",
    "#         # generate an individual trajectory with the specified choices and probabilities for each choice\n",
    "#         L = []\n",
    "#         for i in range(N):\n",
    "#             L.append(random(choices, p = [1-p, p]))\n",
    "#         return L\n",
    "\n",
    "#     for i in range(M):\n",
    "#         arr.append(sum(gen(N,p)))\n",
    "#     return arr\n",
    "\n"
   ]
  },
  {
   "cell_type": "markdown",
   "metadata": {},
   "source": [
    "#### d) Generate $M=1000$ sequences of  $N=10000$ steps with $p=0.5$. Create a histogram of the final results. Use $\\sim 50$ bins for the histogram and scale the x axis to include the full range of results for the final trajectories. This histogram represents the relative probability of ending up at a given displacement after N steps."
   ]
  },
  {
   "cell_type": "code",
   "execution_count": 16,
   "metadata": {},
   "outputs": [
    {
     "output_type": "display_data",
     "data": {
      "text/plain": "<Figure size 432x288 with 1 Axes>",
      "image/svg+xml": "<?xml version=\"1.0\" encoding=\"utf-8\" standalone=\"no\"?>\n<!DOCTYPE svg PUBLIC \"-//W3C//DTD SVG 1.1//EN\"\n  \"http://www.w3.org/Graphics/SVG/1.1/DTD/svg11.dtd\">\n<!-- Created with matplotlib (https://matplotlib.org/) -->\n<svg height=\"248.518125pt\" version=\"1.1\" viewBox=\"0 0 368.925 248.518125\" width=\"368.925pt\" xmlns=\"http://www.w3.org/2000/svg\" xmlns:xlink=\"http://www.w3.org/1999/xlink\">\n <metadata>\n  <rdf:RDF xmlns:cc=\"http://creativecommons.org/ns#\" xmlns:dc=\"http://purl.org/dc/elements/1.1/\" xmlns:rdf=\"http://www.w3.org/1999/02/22-rdf-syntax-ns#\">\n   <cc:Work>\n    <dc:type rdf:resource=\"http://purl.org/dc/dcmitype/StillImage\"/>\n    <dc:date>2021-02-18T17:08:54.924041</dc:date>\n    <dc:format>image/svg+xml</dc:format>\n    <dc:creator>\n     <cc:Agent>\n      <dc:title>Matplotlib v3.3.2, https://matplotlib.org/</dc:title>\n     </cc:Agent>\n    </dc:creator>\n   </cc:Work>\n  </rdf:RDF>\n </metadata>\n <defs>\n  <style type=\"text/css\">*{stroke-linecap:butt;stroke-linejoin:round;}</style>\n </defs>\n <g id=\"figure_1\">\n  <g id=\"patch_1\">\n   <path d=\"M -0 248.518125 \nL 368.925 248.518125 \nL 368.925 0 \nL -0 0 \nz\n\" style=\"fill:none;\"/>\n  </g>\n  <g id=\"axes_1\">\n   <g id=\"patch_2\">\n    <path d=\"M 26.925 224.64 \nL 361.725 224.64 \nL 361.725 7.2 \nL 26.925 7.2 \nz\n\" style=\"fill:#ffffff;\"/>\n   </g>\n   <g id=\"patch_3\">\n    <path clip-path=\"url(#p719b3c8458)\" d=\"M 42.143182 224.64 \nL 48.230455 224.64 \nL 48.230455 221.130073 \nL 42.143182 221.130073 \nz\n\" style=\"fill:#1f77b4;\"/>\n   </g>\n   <g id=\"patch_4\">\n    <path clip-path=\"url(#p719b3c8458)\" d=\"M 48.230455 224.64 \nL 54.317727 224.64 \nL 54.317727 221.130073 \nL 48.230455 221.130073 \nz\n\" style=\"fill:#1f77b4;\"/>\n   </g>\n   <g id=\"patch_5\">\n    <path clip-path=\"url(#p719b3c8458)\" d=\"M 54.317727 224.64 \nL 60.405 224.64 \nL 60.405 224.64 \nL 54.317727 224.64 \nz\n\" style=\"fill:#1f77b4;\"/>\n   </g>\n   <g id=\"patch_6\">\n    <path clip-path=\"url(#p719b3c8458)\" d=\"M 60.405 224.64 \nL 66.492273 224.64 \nL 66.492273 217.620145 \nL 60.405 217.620145 \nz\n\" style=\"fill:#1f77b4;\"/>\n   </g>\n   <g id=\"patch_7\">\n    <path clip-path=\"url(#p719b3c8458)\" d=\"M 66.492273 224.64 \nL 72.579545 224.64 \nL 72.579545 224.64 \nL 66.492273 224.64 \nz\n\" style=\"fill:#1f77b4;\"/>\n   </g>\n   <g id=\"patch_8\">\n    <path clip-path=\"url(#p719b3c8458)\" d=\"M 72.579545 224.64 \nL 78.666818 224.64 \nL 78.666818 214.110218 \nL 72.579545 214.110218 \nz\n\" style=\"fill:#1f77b4;\"/>\n   </g>\n   <g id=\"patch_9\">\n    <path clip-path=\"url(#p719b3c8458)\" d=\"M 78.666818 224.64 \nL 84.754091 224.64 \nL 84.754091 224.64 \nL 78.666818 224.64 \nz\n\" style=\"fill:#1f77b4;\"/>\n   </g>\n   <g id=\"patch_10\">\n    <path clip-path=\"url(#p719b3c8458)\" d=\"M 84.754091 224.64 \nL 90.841364 224.64 \nL 90.841364 221.130073 \nL 84.754091 221.130073 \nz\n\" style=\"fill:#1f77b4;\"/>\n   </g>\n   <g id=\"patch_11\">\n    <path clip-path=\"url(#p719b3c8458)\" d=\"M 90.841364 224.64 \nL 96.928636 224.64 \nL 96.928636 203.580436 \nL 90.841364 203.580436 \nz\n\" style=\"fill:#1f77b4;\"/>\n   </g>\n   <g id=\"patch_12\">\n    <path clip-path=\"url(#p719b3c8458)\" d=\"M 96.928636 224.64 \nL 103.015909 224.64 \nL 103.015909 196.560581 \nL 96.928636 196.560581 \nz\n\" style=\"fill:#1f77b4;\"/>\n   </g>\n   <g id=\"patch_13\">\n    <path clip-path=\"url(#p719b3c8458)\" d=\"M 103.015909 224.64 \nL 109.103182 224.64 \nL 109.103182 182.520872 \nL 103.015909 182.520872 \nz\n\" style=\"fill:#1f77b4;\"/>\n   </g>\n   <g id=\"patch_14\">\n    <path clip-path=\"url(#p719b3c8458)\" d=\"M 109.103182 224.64 \nL 115.190455 224.64 \nL 115.190455 189.540726 \nL 109.103182 189.540726 \nz\n\" style=\"fill:#1f77b4;\"/>\n   </g>\n   <g id=\"patch_15\">\n    <path clip-path=\"url(#p719b3c8458)\" d=\"M 115.190455 224.64 \nL 121.277727 224.64 \nL 121.277727 179.010944 \nL 115.190455 179.010944 \nz\n\" style=\"fill:#1f77b4;\"/>\n   </g>\n   <g id=\"patch_16\">\n    <path clip-path=\"url(#p719b3c8458)\" d=\"M 121.277727 224.64 \nL 127.365 224.64 \nL 127.365 189.540726 \nL 121.277727 189.540726 \nz\n\" style=\"fill:#1f77b4;\"/>\n   </g>\n   <g id=\"patch_17\">\n    <path clip-path=\"url(#p719b3c8458)\" d=\"M 127.365 224.64 \nL 133.452273 224.64 \nL 133.452273 161.461308 \nL 127.365 161.461308 \nz\n\" style=\"fill:#1f77b4;\"/>\n   </g>\n   <g id=\"patch_18\">\n    <path clip-path=\"url(#p719b3c8458)\" d=\"M 133.452273 224.64 \nL 139.539545 224.64 \nL 139.539545 112.322324 \nL 133.452273 112.322324 \nz\n\" style=\"fill:#1f77b4;\"/>\n   </g>\n   <g id=\"patch_19\">\n    <path clip-path=\"url(#p719b3c8458)\" d=\"M 139.539545 224.64 \nL 145.626818 224.64 \nL 145.626818 105.30247 \nL 139.539545 105.30247 \nz\n\" style=\"fill:#1f77b4;\"/>\n   </g>\n   <g id=\"patch_20\">\n    <path clip-path=\"url(#p719b3c8458)\" d=\"M 145.626818 224.64 \nL 151.714091 224.64 \nL 151.714091 101.792542 \nL 145.626818 101.792542 \nz\n\" style=\"fill:#1f77b4;\"/>\n   </g>\n   <g id=\"patch_21\">\n    <path clip-path=\"url(#p719b3c8458)\" d=\"M 151.714091 224.64 \nL 157.801364 224.64 \nL 157.801364 140.401743 \nL 151.714091 140.401743 \nz\n\" style=\"fill:#1f77b4;\"/>\n   </g>\n   <g id=\"patch_22\">\n    <path clip-path=\"url(#p719b3c8458)\" d=\"M 157.801364 224.64 \nL 163.888636 224.64 \nL 163.888636 101.792542 \nL 157.801364 101.792542 \nz\n\" style=\"fill:#1f77b4;\"/>\n   </g>\n   <g id=\"patch_23\">\n    <path clip-path=\"url(#p719b3c8458)\" d=\"M 163.888636 224.64 \nL 169.975909 224.64 \nL 169.975909 56.163487 \nL 163.888636 56.163487 \nz\n\" style=\"fill:#1f77b4;\"/>\n   </g>\n   <g id=\"patch_24\">\n    <path clip-path=\"url(#p719b3c8458)\" d=\"M 169.975909 224.64 \nL 176.063182 224.64 \nL 176.063182 84.242906 \nL 169.975909 84.242906 \nz\n\" style=\"fill:#1f77b4;\"/>\n   </g>\n   <g id=\"patch_25\">\n    <path clip-path=\"url(#p719b3c8458)\" d=\"M 176.063182 224.64 \nL 182.150455 224.64 \nL 182.150455 66.693269 \nL 176.063182 66.693269 \nz\n\" style=\"fill:#1f77b4;\"/>\n   </g>\n   <g id=\"patch_26\">\n    <path clip-path=\"url(#p719b3c8458)\" d=\"M 182.150455 224.64 \nL 188.237727 224.64 \nL 188.237727 49.143632 \nL 182.150455 49.143632 \nz\n\" style=\"fill:#1f77b4;\"/>\n   </g>\n   <g id=\"patch_27\">\n    <path clip-path=\"url(#p719b3c8458)\" d=\"M 188.237727 224.64 \nL 194.325 224.64 \nL 194.325 38.61385 \nL 188.237727 38.61385 \nz\n\" style=\"fill:#1f77b4;\"/>\n   </g>\n   <g id=\"patch_28\">\n    <path clip-path=\"url(#p719b3c8458)\" d=\"M 194.325 224.64 \nL 200.412273 224.64 \nL 200.412273 38.61385 \nL 194.325 38.61385 \nz\n\" style=\"fill:#1f77b4;\"/>\n   </g>\n   <g id=\"patch_29\">\n    <path clip-path=\"url(#p719b3c8458)\" d=\"M 200.412273 224.64 \nL 206.499545 224.64 \nL 206.499545 45.633705 \nL 200.412273 45.633705 \nz\n\" style=\"fill:#1f77b4;\"/>\n   </g>\n   <g id=\"patch_30\">\n    <path clip-path=\"url(#p719b3c8458)\" d=\"M 206.499545 224.64 \nL 212.586818 224.64 \nL 212.586818 17.554286 \nL 206.499545 17.554286 \nz\n\" style=\"fill:#1f77b4;\"/>\n   </g>\n   <g id=\"patch_31\">\n    <path clip-path=\"url(#p719b3c8458)\" d=\"M 212.586818 224.64 \nL 218.674091 224.64 \nL 218.674091 49.143632 \nL 212.586818 49.143632 \nz\n\" style=\"fill:#1f77b4;\"/>\n   </g>\n   <g id=\"patch_32\">\n    <path clip-path=\"url(#p719b3c8458)\" d=\"M 218.674091 224.64 \nL 224.761364 224.64 \nL 224.761364 59.673414 \nL 218.674091 59.673414 \nz\n\" style=\"fill:#1f77b4;\"/>\n   </g>\n   <g id=\"patch_33\">\n    <path clip-path=\"url(#p719b3c8458)\" d=\"M 224.761364 224.64 \nL 230.848636 224.64 \nL 230.848636 91.26276 \nL 224.761364 91.26276 \nz\n\" style=\"fill:#1f77b4;\"/>\n   </g>\n   <g id=\"patch_34\">\n    <path clip-path=\"url(#p719b3c8458)\" d=\"M 230.848636 224.64 \nL 236.935909 224.64 \nL 236.935909 87.752833 \nL 230.848636 87.752833 \nz\n\" style=\"fill:#1f77b4;\"/>\n   </g>\n   <g id=\"patch_35\">\n    <path clip-path=\"url(#p719b3c8458)\" d=\"M 236.935909 224.64 \nL 243.023182 224.64 \nL 243.023182 101.792542 \nL 236.935909 101.792542 \nz\n\" style=\"fill:#1f77b4;\"/>\n   </g>\n   <g id=\"patch_36\">\n    <path clip-path=\"url(#p719b3c8458)\" d=\"M 243.023182 224.64 \nL 249.110455 224.64 \nL 249.110455 94.772688 \nL 243.023182 94.772688 \nz\n\" style=\"fill:#1f77b4;\"/>\n   </g>\n   <g id=\"patch_37\">\n    <path clip-path=\"url(#p719b3c8458)\" d=\"M 249.110455 224.64 \nL 255.197727 224.64 \nL 255.197727 161.461308 \nL 249.110455 161.461308 \nz\n\" style=\"fill:#1f77b4;\"/>\n   </g>\n   <g id=\"patch_38\">\n    <path clip-path=\"url(#p719b3c8458)\" d=\"M 255.197727 224.64 \nL 261.285 224.64 \nL 261.285 147.421598 \nL 255.197727 147.421598 \nz\n\" style=\"fill:#1f77b4;\"/>\n   </g>\n   <g id=\"patch_39\">\n    <path clip-path=\"url(#p719b3c8458)\" d=\"M 261.285 224.64 \nL 267.372273 224.64 \nL 267.372273 171.99109 \nL 261.285 171.99109 \nz\n\" style=\"fill:#1f77b4;\"/>\n   </g>\n   <g id=\"patch_40\">\n    <path clip-path=\"url(#p719b3c8458)\" d=\"M 267.372273 224.64 \nL 273.459545 224.64 \nL 273.459545 179.010944 \nL 267.372273 179.010944 \nz\n\" style=\"fill:#1f77b4;\"/>\n   </g>\n   <g id=\"patch_41\">\n    <path clip-path=\"url(#p719b3c8458)\" d=\"M 273.459545 224.64 \nL 279.546818 224.64 \nL 279.546818 182.520872 \nL 273.459545 182.520872 \nz\n\" style=\"fill:#1f77b4;\"/>\n   </g>\n   <g id=\"patch_42\">\n    <path clip-path=\"url(#p719b3c8458)\" d=\"M 279.546818 224.64 \nL 285.634091 224.64 \nL 285.634091 203.580436 \nL 279.546818 203.580436 \nz\n\" style=\"fill:#1f77b4;\"/>\n   </g>\n   <g id=\"patch_43\">\n    <path clip-path=\"url(#p719b3c8458)\" d=\"M 285.634091 224.64 \nL 291.721364 224.64 \nL 291.721364 210.600291 \nL 285.634091 210.600291 \nz\n\" style=\"fill:#1f77b4;\"/>\n   </g>\n   <g id=\"patch_44\">\n    <path clip-path=\"url(#p719b3c8458)\" d=\"M 291.721364 224.64 \nL 297.808636 224.64 \nL 297.808636 203.580436 \nL 291.721364 203.580436 \nz\n\" style=\"fill:#1f77b4;\"/>\n   </g>\n   <g id=\"patch_45\">\n    <path clip-path=\"url(#p719b3c8458)\" d=\"M 297.808636 224.64 \nL 303.895909 224.64 \nL 303.895909 221.130073 \nL 297.808636 221.130073 \nz\n\" style=\"fill:#1f77b4;\"/>\n   </g>\n   <g id=\"patch_46\">\n    <path clip-path=\"url(#p719b3c8458)\" d=\"M 303.895909 224.64 \nL 309.983182 224.64 \nL 309.983182 207.090363 \nL 303.895909 207.090363 \nz\n\" style=\"fill:#1f77b4;\"/>\n   </g>\n   <g id=\"patch_47\">\n    <path clip-path=\"url(#p719b3c8458)\" d=\"M 309.983182 224.64 \nL 316.070455 224.64 \nL 316.070455 221.130073 \nL 309.983182 221.130073 \nz\n\" style=\"fill:#1f77b4;\"/>\n   </g>\n   <g id=\"patch_48\">\n    <path clip-path=\"url(#p719b3c8458)\" d=\"M 316.070455 224.64 \nL 322.157727 224.64 \nL 322.157727 217.620145 \nL 316.070455 217.620145 \nz\n\" style=\"fill:#1f77b4;\"/>\n   </g>\n   <g id=\"patch_49\">\n    <path clip-path=\"url(#p719b3c8458)\" d=\"M 322.157727 224.64 \nL 328.245 224.64 \nL 328.245 214.110218 \nL 322.157727 214.110218 \nz\n\" style=\"fill:#1f77b4;\"/>\n   </g>\n   <g id=\"patch_50\">\n    <path clip-path=\"url(#p719b3c8458)\" d=\"M 328.245 224.64 \nL 334.332273 224.64 \nL 334.332273 224.64 \nL 328.245 224.64 \nz\n\" style=\"fill:#1f77b4;\"/>\n   </g>\n   <g id=\"patch_51\">\n    <path clip-path=\"url(#p719b3c8458)\" d=\"M 334.332273 224.64 \nL 340.419545 224.64 \nL 340.419545 221.130073 \nL 334.332273 221.130073 \nz\n\" style=\"fill:#1f77b4;\"/>\n   </g>\n   <g id=\"patch_52\">\n    <path clip-path=\"url(#p719b3c8458)\" d=\"M 340.419545 224.64 \nL 346.506818 224.64 \nL 346.506818 221.130073 \nL 340.419545 221.130073 \nz\n\" style=\"fill:#1f77b4;\"/>\n   </g>\n   <g id=\"matplotlib.axis_1\">\n    <g id=\"xtick_1\">\n     <g id=\"line2d_1\">\n      <defs>\n       <path d=\"M 0 0 \nL 0 3.5 \n\" id=\"mc5524a96d0\" style=\"stroke:#000000;stroke-width:0.8;\"/>\n      </defs>\n      <g>\n       <use style=\"stroke:#000000;stroke-width:0.8;\" x=\"60.099739\" xlink:href=\"#mc5524a96d0\" y=\"224.64\"/>\n      </g>\n     </g>\n     <g id=\"text_1\">\n      <!-- −300 -->\n      <g transform=\"translate(46.366145 239.238437)scale(0.1 -0.1)\">\n       <defs>\n        <path d=\"M 10.59375 35.5 \nL 73.1875 35.5 \nL 73.1875 27.203125 \nL 10.59375 27.203125 \nz\n\" id=\"DejaVuSans-8722\"/>\n        <path d=\"M 40.578125 39.3125 \nQ 47.65625 37.796875 51.625 33 \nQ 55.609375 28.21875 55.609375 21.1875 \nQ 55.609375 10.40625 48.1875 4.484375 \nQ 40.765625 -1.421875 27.09375 -1.421875 \nQ 22.515625 -1.421875 17.65625 -0.515625 \nQ 12.796875 0.390625 7.625 2.203125 \nL 7.625 11.71875 \nQ 11.71875 9.328125 16.59375 8.109375 \nQ 21.484375 6.890625 26.8125 6.890625 \nQ 36.078125 6.890625 40.9375 10.546875 \nQ 45.796875 14.203125 45.796875 21.1875 \nQ 45.796875 27.640625 41.28125 31.265625 \nQ 36.765625 34.90625 28.71875 34.90625 \nL 20.21875 34.90625 \nL 20.21875 43.015625 \nL 29.109375 43.015625 \nQ 36.375 43.015625 40.234375 45.921875 \nQ 44.09375 48.828125 44.09375 54.296875 \nQ 44.09375 59.90625 40.109375 62.90625 \nQ 36.140625 65.921875 28.71875 65.921875 \nQ 24.65625 65.921875 20.015625 65.03125 \nQ 15.375 64.15625 9.8125 62.3125 \nL 9.8125 71.09375 \nQ 15.4375 72.65625 20.34375 73.4375 \nQ 25.25 74.21875 29.59375 74.21875 \nQ 40.828125 74.21875 47.359375 69.109375 \nQ 53.90625 64.015625 53.90625 55.328125 \nQ 53.90625 49.265625 50.4375 45.09375 \nQ 46.96875 40.921875 40.578125 39.3125 \nz\n\" id=\"DejaVuSans-51\"/>\n        <path d=\"M 31.78125 66.40625 \nQ 24.171875 66.40625 20.328125 58.90625 \nQ 16.5 51.421875 16.5 36.375 \nQ 16.5 21.390625 20.328125 13.890625 \nQ 24.171875 6.390625 31.78125 6.390625 \nQ 39.453125 6.390625 43.28125 13.890625 \nQ 47.125 21.390625 47.125 36.375 \nQ 47.125 51.421875 43.28125 58.90625 \nQ 39.453125 66.40625 31.78125 66.40625 \nz\nM 31.78125 74.21875 \nQ 44.046875 74.21875 50.515625 64.515625 \nQ 56.984375 54.828125 56.984375 36.375 \nQ 56.984375 17.96875 50.515625 8.265625 \nQ 44.046875 -1.421875 31.78125 -1.421875 \nQ 19.53125 -1.421875 13.0625 8.265625 \nQ 6.59375 17.96875 6.59375 36.375 \nQ 6.59375 54.828125 13.0625 64.515625 \nQ 19.53125 74.21875 31.78125 74.21875 \nz\n\" id=\"DejaVuSans-48\"/>\n       </defs>\n       <use xlink:href=\"#DejaVuSans-8722\"/>\n       <use x=\"83.789062\" xlink:href=\"#DejaVuSans-51\"/>\n       <use x=\"147.412109\" xlink:href=\"#DejaVuSans-48\"/>\n       <use x=\"211.035156\" xlink:href=\"#DejaVuSans-48\"/>\n      </g>\n     </g>\n    </g>\n    <g id=\"xtick_2\">\n     <g id=\"line2d_2\">\n      <g>\n       <use style=\"stroke:#000000;stroke-width:0.8;\" x=\"104.99113\" xlink:href=\"#mc5524a96d0\" y=\"224.64\"/>\n      </g>\n     </g>\n     <g id=\"text_2\">\n      <!-- −200 -->\n      <g transform=\"translate(91.257537 239.238437)scale(0.1 -0.1)\">\n       <defs>\n        <path d=\"M 19.1875 8.296875 \nL 53.609375 8.296875 \nL 53.609375 0 \nL 7.328125 0 \nL 7.328125 8.296875 \nQ 12.9375 14.109375 22.625 23.890625 \nQ 32.328125 33.6875 34.8125 36.53125 \nQ 39.546875 41.84375 41.421875 45.53125 \nQ 43.3125 49.21875 43.3125 52.78125 \nQ 43.3125 58.59375 39.234375 62.25 \nQ 35.15625 65.921875 28.609375 65.921875 \nQ 23.96875 65.921875 18.8125 64.3125 \nQ 13.671875 62.703125 7.8125 59.421875 \nL 7.8125 69.390625 \nQ 13.765625 71.78125 18.9375 73 \nQ 24.125 74.21875 28.421875 74.21875 \nQ 39.75 74.21875 46.484375 68.546875 \nQ 53.21875 62.890625 53.21875 53.421875 \nQ 53.21875 48.921875 51.53125 44.890625 \nQ 49.859375 40.875 45.40625 35.40625 \nQ 44.1875 33.984375 37.640625 27.21875 \nQ 31.109375 20.453125 19.1875 8.296875 \nz\n\" id=\"DejaVuSans-50\"/>\n       </defs>\n       <use xlink:href=\"#DejaVuSans-8722\"/>\n       <use x=\"83.789062\" xlink:href=\"#DejaVuSans-50\"/>\n       <use x=\"147.412109\" xlink:href=\"#DejaVuSans-48\"/>\n       <use x=\"211.035156\" xlink:href=\"#DejaVuSans-48\"/>\n      </g>\n     </g>\n    </g>\n    <g id=\"xtick_3\">\n     <g id=\"line2d_3\">\n      <g>\n       <use style=\"stroke:#000000;stroke-width:0.8;\" x=\"149.882522\" xlink:href=\"#mc5524a96d0\" y=\"224.64\"/>\n      </g>\n     </g>\n     <g id=\"text_3\">\n      <!-- −100 -->\n      <g transform=\"translate(136.148928 239.238437)scale(0.1 -0.1)\">\n       <defs>\n        <path d=\"M 12.40625 8.296875 \nL 28.515625 8.296875 \nL 28.515625 63.921875 \nL 10.984375 60.40625 \nL 10.984375 69.390625 \nL 28.421875 72.90625 \nL 38.28125 72.90625 \nL 38.28125 8.296875 \nL 54.390625 8.296875 \nL 54.390625 0 \nL 12.40625 0 \nz\n\" id=\"DejaVuSans-49\"/>\n       </defs>\n       <use xlink:href=\"#DejaVuSans-8722\"/>\n       <use x=\"83.789062\" xlink:href=\"#DejaVuSans-49\"/>\n       <use x=\"147.412109\" xlink:href=\"#DejaVuSans-48\"/>\n       <use x=\"211.035156\" xlink:href=\"#DejaVuSans-48\"/>\n      </g>\n     </g>\n    </g>\n    <g id=\"xtick_4\">\n     <g id=\"line2d_4\">\n      <g>\n       <use style=\"stroke:#000000;stroke-width:0.8;\" x=\"194.773914\" xlink:href=\"#mc5524a96d0\" y=\"224.64\"/>\n      </g>\n     </g>\n     <g id=\"text_4\">\n      <!-- 0 -->\n      <g transform=\"translate(191.592664 239.238437)scale(0.1 -0.1)\">\n       <use xlink:href=\"#DejaVuSans-48\"/>\n      </g>\n     </g>\n    </g>\n    <g id=\"xtick_5\">\n     <g id=\"line2d_5\">\n      <g>\n       <use style=\"stroke:#000000;stroke-width:0.8;\" x=\"239.665306\" xlink:href=\"#mc5524a96d0\" y=\"224.64\"/>\n      </g>\n     </g>\n     <g id=\"text_5\">\n      <!-- 100 -->\n      <g transform=\"translate(230.121556 239.238437)scale(0.1 -0.1)\">\n       <use xlink:href=\"#DejaVuSans-49\"/>\n       <use x=\"63.623047\" xlink:href=\"#DejaVuSans-48\"/>\n       <use x=\"127.246094\" xlink:href=\"#DejaVuSans-48\"/>\n      </g>\n     </g>\n    </g>\n    <g id=\"xtick_6\">\n     <g id=\"line2d_6\">\n      <g>\n       <use style=\"stroke:#000000;stroke-width:0.8;\" x=\"284.556698\" xlink:href=\"#mc5524a96d0\" y=\"224.64\"/>\n      </g>\n     </g>\n     <g id=\"text_6\">\n      <!-- 200 -->\n      <g transform=\"translate(275.012948 239.238437)scale(0.1 -0.1)\">\n       <use xlink:href=\"#DejaVuSans-50\"/>\n       <use x=\"63.623047\" xlink:href=\"#DejaVuSans-48\"/>\n       <use x=\"127.246094\" xlink:href=\"#DejaVuSans-48\"/>\n      </g>\n     </g>\n    </g>\n    <g id=\"xtick_7\">\n     <g id=\"line2d_7\">\n      <g>\n       <use style=\"stroke:#000000;stroke-width:0.8;\" x=\"329.448089\" xlink:href=\"#mc5524a96d0\" y=\"224.64\"/>\n      </g>\n     </g>\n     <g id=\"text_7\">\n      <!-- 300 -->\n      <g transform=\"translate(319.904339 239.238437)scale(0.1 -0.1)\">\n       <use xlink:href=\"#DejaVuSans-51\"/>\n       <use x=\"63.623047\" xlink:href=\"#DejaVuSans-48\"/>\n       <use x=\"127.246094\" xlink:href=\"#DejaVuSans-48\"/>\n      </g>\n     </g>\n    </g>\n   </g>\n   <g id=\"matplotlib.axis_2\">\n    <g id=\"ytick_1\">\n     <g id=\"line2d_8\">\n      <defs>\n       <path d=\"M 0 0 \nL -3.5 0 \n\" id=\"ma73ea3c90f\" style=\"stroke:#000000;stroke-width:0.8;\"/>\n      </defs>\n      <g>\n       <use style=\"stroke:#000000;stroke-width:0.8;\" x=\"26.925\" xlink:href=\"#ma73ea3c90f\" y=\"224.64\"/>\n      </g>\n     </g>\n     <g id=\"text_8\">\n      <!-- 0 -->\n      <g transform=\"translate(13.5625 228.439219)scale(0.1 -0.1)\">\n       <use xlink:href=\"#DejaVuSans-48\"/>\n      </g>\n     </g>\n    </g>\n    <g id=\"ytick_2\">\n     <g id=\"line2d_9\">\n      <g>\n       <use style=\"stroke:#000000;stroke-width:0.8;\" x=\"26.925\" xlink:href=\"#ma73ea3c90f\" y=\"189.540726\"/>\n      </g>\n     </g>\n     <g id=\"text_9\">\n      <!-- 10 -->\n      <g transform=\"translate(7.2 193.339945)scale(0.1 -0.1)\">\n       <use xlink:href=\"#DejaVuSans-49\"/>\n       <use x=\"63.623047\" xlink:href=\"#DejaVuSans-48\"/>\n      </g>\n     </g>\n    </g>\n    <g id=\"ytick_3\">\n     <g id=\"line2d_10\">\n      <g>\n       <use style=\"stroke:#000000;stroke-width:0.8;\" x=\"26.925\" xlink:href=\"#ma73ea3c90f\" y=\"154.441453\"/>\n      </g>\n     </g>\n     <g id=\"text_10\">\n      <!-- 20 -->\n      <g transform=\"translate(7.2 158.240672)scale(0.1 -0.1)\">\n       <use xlink:href=\"#DejaVuSans-50\"/>\n       <use x=\"63.623047\" xlink:href=\"#DejaVuSans-48\"/>\n      </g>\n     </g>\n    </g>\n    <g id=\"ytick_4\">\n     <g id=\"line2d_11\">\n      <g>\n       <use style=\"stroke:#000000;stroke-width:0.8;\" x=\"26.925\" xlink:href=\"#ma73ea3c90f\" y=\"119.342179\"/>\n      </g>\n     </g>\n     <g id=\"text_11\">\n      <!-- 30 -->\n      <g transform=\"translate(7.2 123.141398)scale(0.1 -0.1)\">\n       <use xlink:href=\"#DejaVuSans-51\"/>\n       <use x=\"63.623047\" xlink:href=\"#DejaVuSans-48\"/>\n      </g>\n     </g>\n    </g>\n    <g id=\"ytick_5\">\n     <g id=\"line2d_12\">\n      <g>\n       <use style=\"stroke:#000000;stroke-width:0.8;\" x=\"26.925\" xlink:href=\"#ma73ea3c90f\" y=\"84.242906\"/>\n      </g>\n     </g>\n     <g id=\"text_12\">\n      <!-- 40 -->\n      <g transform=\"translate(7.2 88.042124)scale(0.1 -0.1)\">\n       <defs>\n        <path d=\"M 37.796875 64.3125 \nL 12.890625 25.390625 \nL 37.796875 25.390625 \nz\nM 35.203125 72.90625 \nL 47.609375 72.90625 \nL 47.609375 25.390625 \nL 58.015625 25.390625 \nL 58.015625 17.1875 \nL 47.609375 17.1875 \nL 47.609375 0 \nL 37.796875 0 \nL 37.796875 17.1875 \nL 4.890625 17.1875 \nL 4.890625 26.703125 \nz\n\" id=\"DejaVuSans-52\"/>\n       </defs>\n       <use xlink:href=\"#DejaVuSans-52\"/>\n       <use x=\"63.623047\" xlink:href=\"#DejaVuSans-48\"/>\n      </g>\n     </g>\n    </g>\n    <g id=\"ytick_6\">\n     <g id=\"line2d_13\">\n      <g>\n       <use style=\"stroke:#000000;stroke-width:0.8;\" x=\"26.925\" xlink:href=\"#ma73ea3c90f\" y=\"49.143632\"/>\n      </g>\n     </g>\n     <g id=\"text_13\">\n      <!-- 50 -->\n      <g transform=\"translate(7.2 52.942851)scale(0.1 -0.1)\">\n       <defs>\n        <path d=\"M 10.796875 72.90625 \nL 49.515625 72.90625 \nL 49.515625 64.59375 \nL 19.828125 64.59375 \nL 19.828125 46.734375 \nQ 21.96875 47.46875 24.109375 47.828125 \nQ 26.265625 48.1875 28.421875 48.1875 \nQ 40.625 48.1875 47.75 41.5 \nQ 54.890625 34.8125 54.890625 23.390625 \nQ 54.890625 11.625 47.5625 5.09375 \nQ 40.234375 -1.421875 26.90625 -1.421875 \nQ 22.3125 -1.421875 17.546875 -0.640625 \nQ 12.796875 0.140625 7.71875 1.703125 \nL 7.71875 11.625 \nQ 12.109375 9.234375 16.796875 8.0625 \nQ 21.484375 6.890625 26.703125 6.890625 \nQ 35.15625 6.890625 40.078125 11.328125 \nQ 45.015625 15.765625 45.015625 23.390625 \nQ 45.015625 31 40.078125 35.4375 \nQ 35.15625 39.890625 26.703125 39.890625 \nQ 22.75 39.890625 18.8125 39.015625 \nQ 14.890625 38.140625 10.796875 36.28125 \nz\n\" id=\"DejaVuSans-53\"/>\n       </defs>\n       <use xlink:href=\"#DejaVuSans-53\"/>\n       <use x=\"63.623047\" xlink:href=\"#DejaVuSans-48\"/>\n      </g>\n     </g>\n    </g>\n    <g id=\"ytick_7\">\n     <g id=\"line2d_14\">\n      <g>\n       <use style=\"stroke:#000000;stroke-width:0.8;\" x=\"26.925\" xlink:href=\"#ma73ea3c90f\" y=\"14.044358\"/>\n      </g>\n     </g>\n     <g id=\"text_14\">\n      <!-- 60 -->\n      <g transform=\"translate(7.2 17.843577)scale(0.1 -0.1)\">\n       <defs>\n        <path d=\"M 33.015625 40.375 \nQ 26.375 40.375 22.484375 35.828125 \nQ 18.609375 31.296875 18.609375 23.390625 \nQ 18.609375 15.53125 22.484375 10.953125 \nQ 26.375 6.390625 33.015625 6.390625 \nQ 39.65625 6.390625 43.53125 10.953125 \nQ 47.40625 15.53125 47.40625 23.390625 \nQ 47.40625 31.296875 43.53125 35.828125 \nQ 39.65625 40.375 33.015625 40.375 \nz\nM 52.59375 71.296875 \nL 52.59375 62.3125 \nQ 48.875 64.0625 45.09375 64.984375 \nQ 41.3125 65.921875 37.59375 65.921875 \nQ 27.828125 65.921875 22.671875 59.328125 \nQ 17.53125 52.734375 16.796875 39.40625 \nQ 19.671875 43.65625 24.015625 45.921875 \nQ 28.375 48.1875 33.59375 48.1875 \nQ 44.578125 48.1875 50.953125 41.515625 \nQ 57.328125 34.859375 57.328125 23.390625 \nQ 57.328125 12.15625 50.6875 5.359375 \nQ 44.046875 -1.421875 33.015625 -1.421875 \nQ 20.359375 -1.421875 13.671875 8.265625 \nQ 6.984375 17.96875 6.984375 36.375 \nQ 6.984375 53.65625 15.1875 63.9375 \nQ 23.390625 74.21875 37.203125 74.21875 \nQ 40.921875 74.21875 44.703125 73.484375 \nQ 48.484375 72.75 52.59375 71.296875 \nz\n\" id=\"DejaVuSans-54\"/>\n       </defs>\n       <use xlink:href=\"#DejaVuSans-54\"/>\n       <use x=\"63.623047\" xlink:href=\"#DejaVuSans-48\"/>\n      </g>\n     </g>\n    </g>\n   </g>\n   <g id=\"patch_53\">\n    <path d=\"M 26.925 224.64 \nL 26.925 7.2 \n\" style=\"fill:none;stroke:#000000;stroke-linecap:square;stroke-linejoin:miter;stroke-width:0.8;\"/>\n   </g>\n   <g id=\"patch_54\">\n    <path d=\"M 361.725 224.64 \nL 361.725 7.2 \n\" style=\"fill:none;stroke:#000000;stroke-linecap:square;stroke-linejoin:miter;stroke-width:0.8;\"/>\n   </g>\n   <g id=\"patch_55\">\n    <path d=\"M 26.925 224.64 \nL 361.725 224.64 \n\" style=\"fill:none;stroke:#000000;stroke-linecap:square;stroke-linejoin:miter;stroke-width:0.8;\"/>\n   </g>\n   <g id=\"patch_56\">\n    <path d=\"M 26.925 7.2 \nL 361.725 7.2 \n\" style=\"fill:none;stroke:#000000;stroke-linecap:square;stroke-linejoin:miter;stroke-width:0.8;\"/>\n   </g>\n  </g>\n </g>\n <defs>\n  <clipPath id=\"p719b3c8458\">\n   <rect height=\"217.44\" width=\"334.8\" x=\"26.925\" y=\"7.2\"/>\n  </clipPath>\n </defs>\n</svg>\n",
      "image/png": "[encoded data removed]"
     },
     "metadata": {
      "needs_background": "light"
     }
    },
    {
     "output_type": "stream",
     "name": "stdout",
     "text": [
      "1000\n"
     ]
    }
   ],
   "source": [
    "#d) Solution\n",
    "bin_count,M,N,p = 50,1000,10000,0.5\n",
    "trajectory_final_positions = np.array(Trajectories(M,N,p))\n",
    "\n",
    "plt.hist(trajectory_final_positions, bins = bin_count)\n",
    "plt.show()\n",
    "\n",
    "\n",
    "print(len(trajectory_final_positions))\n",
    "\n"
   ]
  },
  {
   "source": [
    "#### e) Compute the mean and variance of this distribution"
   ],
   "cell_type": "code",
   "metadata": {},
   "execution_count": null,
   "outputs": []
  },
  {
   "cell_type": "code",
   "execution_count": null,
   "metadata": {},
   "outputs": [],
   "source": [
    "#e) Solution"
   ]
  },
  {
   "cell_type": "code",
   "execution_count": 17,
   "metadata": {
    "scrolled": false
   },
   "outputs": [
    {
     "output_type": "stream",
     "name": "stdout",
     "text": [
      "1.206\n10523.389564\n"
     ]
    }
   ],
   "source": [
    "#e) Solution\n",
    "print(np.mean(trajectory_final_positions))\n",
    "print(np.var(trajectory_final_positions))"
   ]
  },
  {
   "cell_type": "markdown",
   "metadata": {},
   "source": [
    "#### f) Repeat the creation of the histogram of displacemnts and the calculation of the mean and variance for the case where $p=0.25$. Keep the number of trials $M=1000$ and number of steps $N=10000$."
   ]
  },
  {
   "cell_type": "code",
   "execution_count": 18,
   "metadata": {},
   "outputs": [
    {
     "output_type": "display_data",
     "data": {
      "text/plain": "<Figure size 432x288 with 1 Axes>",
      "image/svg+xml": "<?xml version=\"1.0\" encoding=\"utf-8\" standalone=\"no\"?>\n<!DOCTYPE svg PUBLIC \"-//W3C//DTD SVG 1.1//EN\"\n  \"http://www.w3.org/Graphics/SVG/1.1/DTD/svg11.dtd\">\n<!-- Created with matplotlib (https://matplotlib.org/) -->\n<svg height=\"248.518125pt\" version=\"1.1\" viewBox=\"0 0 375.333173 248.518125\" width=\"375.333173pt\" xmlns=\"http://www.w3.org/2000/svg\" xmlns:xlink=\"http://www.w3.org/1999/xlink\">\n <metadata>\n  <rdf:RDF xmlns:cc=\"http://creativecommons.org/ns#\" xmlns:dc=\"http://purl.org/dc/elements/1.1/\" xmlns:rdf=\"http://www.w3.org/1999/02/22-rdf-syntax-ns#\">\n   <cc:Work>\n    <dc:type rdf:resource=\"http://purl.org/dc/dcmitype/StillImage\"/>\n    <dc:date>2021-02-18T17:08:59.852090</dc:date>\n    <dc:format>image/svg+xml</dc:format>\n    <dc:creator>\n     <cc:Agent>\n      <dc:title>Matplotlib v3.3.2, https://matplotlib.org/</dc:title>\n     </cc:Agent>\n    </dc:creator>\n   </cc:Work>\n  </rdf:RDF>\n </metadata>\n <defs>\n  <style type=\"text/css\">*{stroke-linecap:butt;stroke-linejoin:round;}</style>\n </defs>\n <g id=\"figure_1\">\n  <g id=\"patch_1\">\n   <path d=\"M -0 248.518125 \nL 375.333173 248.518125 \nL 375.333173 0 \nL -0 0 \nz\n\" style=\"fill:none;\"/>\n  </g>\n  <g id=\"axes_1\">\n   <g id=\"patch_2\">\n    <path d=\"M 26.925 224.64 \nL 361.725 224.64 \nL 361.725 7.2 \nL 26.925 7.2 \nz\n\" style=\"fill:#ffffff;\"/>\n   </g>\n   <g id=\"patch_3\">\n    <path clip-path=\"url(#pd95eafe437)\" d=\"M 42.143182 224.64 \nL 48.230455 224.64 \nL 48.230455 221.878857 \nL 42.143182 221.878857 \nz\n\" style=\"fill:#1f77b4;\"/>\n   </g>\n   <g id=\"patch_4\">\n    <path clip-path=\"url(#pd95eafe437)\" d=\"M 48.230455 224.64 \nL 54.317727 224.64 \nL 54.317727 224.64 \nL 48.230455 224.64 \nz\n\" style=\"fill:#1f77b4;\"/>\n   </g>\n   <g id=\"patch_5\">\n    <path clip-path=\"url(#pd95eafe437)\" d=\"M 54.317727 224.64 \nL 60.405 224.64 \nL 60.405 224.64 \nL 54.317727 224.64 \nz\n\" style=\"fill:#1f77b4;\"/>\n   </g>\n   <g id=\"patch_6\">\n    <path clip-path=\"url(#pd95eafe437)\" d=\"M 60.405 224.64 \nL 66.492273 224.64 \nL 66.492273 224.64 \nL 60.405 224.64 \nz\n\" style=\"fill:#1f77b4;\"/>\n   </g>\n   <g id=\"patch_7\">\n    <path clip-path=\"url(#pd95eafe437)\" d=\"M 66.492273 224.64 \nL 72.579545 224.64 \nL 72.579545 221.878857 \nL 66.492273 221.878857 \nz\n\" style=\"fill:#1f77b4;\"/>\n   </g>\n   <g id=\"patch_8\">\n    <path clip-path=\"url(#pd95eafe437)\" d=\"M 72.579545 224.64 \nL 78.666818 224.64 \nL 78.666818 224.64 \nL 72.579545 224.64 \nz\n\" style=\"fill:#1f77b4;\"/>\n   </g>\n   <g id=\"patch_9\">\n    <path clip-path=\"url(#pd95eafe437)\" d=\"M 78.666818 224.64 \nL 84.754091 224.64 \nL 84.754091 224.64 \nL 78.666818 224.64 \nz\n\" style=\"fill:#1f77b4;\"/>\n   </g>\n   <g id=\"patch_10\">\n    <path clip-path=\"url(#pd95eafe437)\" d=\"M 84.754091 224.64 \nL 90.841364 224.64 \nL 90.841364 221.878857 \nL 84.754091 221.878857 \nz\n\" style=\"fill:#1f77b4;\"/>\n   </g>\n   <g id=\"patch_11\">\n    <path clip-path=\"url(#pd95eafe437)\" d=\"M 90.841364 224.64 \nL 96.928636 224.64 \nL 96.928636 219.117714 \nL 90.841364 219.117714 \nz\n\" style=\"fill:#1f77b4;\"/>\n   </g>\n   <g id=\"patch_12\">\n    <path clip-path=\"url(#pd95eafe437)\" d=\"M 96.928636 224.64 \nL 103.015909 224.64 \nL 103.015909 221.878857 \nL 96.928636 221.878857 \nz\n\" style=\"fill:#1f77b4;\"/>\n   </g>\n   <g id=\"patch_13\">\n    <path clip-path=\"url(#pd95eafe437)\" d=\"M 103.015909 224.64 \nL 109.103182 224.64 \nL 109.103182 224.64 \nL 103.015909 224.64 \nz\n\" style=\"fill:#1f77b4;\"/>\n   </g>\n   <g id=\"patch_14\">\n    <path clip-path=\"url(#pd95eafe437)\" d=\"M 109.103182 224.64 \nL 115.190455 224.64 \nL 115.190455 224.64 \nL 109.103182 224.64 \nz\n\" style=\"fill:#1f77b4;\"/>\n   </g>\n   <g id=\"patch_15\">\n    <path clip-path=\"url(#pd95eafe437)\" d=\"M 115.190455 224.64 \nL 121.277727 224.64 \nL 121.277727 216.356571 \nL 115.190455 216.356571 \nz\n\" style=\"fill:#1f77b4;\"/>\n   </g>\n   <g id=\"patch_16\">\n    <path clip-path=\"url(#pd95eafe437)\" d=\"M 121.277727 224.64 \nL 127.365 224.64 \nL 127.365 216.356571 \nL 121.277727 216.356571 \nz\n\" style=\"fill:#1f77b4;\"/>\n   </g>\n   <g id=\"patch_17\">\n    <path clip-path=\"url(#pd95eafe437)\" d=\"M 127.365 224.64 \nL 133.452273 224.64 \nL 133.452273 202.550857 \nL 127.365 202.550857 \nz\n\" style=\"fill:#1f77b4;\"/>\n   </g>\n   <g id=\"patch_18\">\n    <path clip-path=\"url(#pd95eafe437)\" d=\"M 133.452273 224.64 \nL 139.539545 224.64 \nL 139.539545 177.700571 \nL 133.452273 177.700571 \nz\n\" style=\"fill:#1f77b4;\"/>\n   </g>\n   <g id=\"patch_19\">\n    <path clip-path=\"url(#pd95eafe437)\" d=\"M 139.539545 224.64 \nL 145.626818 224.64 \nL 145.626818 174.939429 \nL 139.539545 174.939429 \nz\n\" style=\"fill:#1f77b4;\"/>\n   </g>\n   <g id=\"patch_20\">\n    <path clip-path=\"url(#pd95eafe437)\" d=\"M 145.626818 224.64 \nL 151.714091 224.64 \nL 151.714091 177.700571 \nL 145.626818 177.700571 \nz\n\" style=\"fill:#1f77b4;\"/>\n   </g>\n   <g id=\"patch_21\">\n    <path clip-path=\"url(#pd95eafe437)\" d=\"M 151.714091 224.64 \nL 157.801364 224.64 \nL 157.801364 180.461714 \nL 151.714091 180.461714 \nz\n\" style=\"fill:#1f77b4;\"/>\n   </g>\n   <g id=\"patch_22\">\n    <path clip-path=\"url(#pd95eafe437)\" d=\"M 157.801364 224.64 \nL 163.888636 224.64 \nL 163.888636 133.522286 \nL 157.801364 133.522286 \nz\n\" style=\"fill:#1f77b4;\"/>\n   </g>\n   <g id=\"patch_23\">\n    <path clip-path=\"url(#pd95eafe437)\" d=\"M 163.888636 224.64 \nL 169.975909 224.64 \nL 169.975909 128 \nL 163.888636 128 \nz\n\" style=\"fill:#1f77b4;\"/>\n   </g>\n   <g id=\"patch_24\">\n    <path clip-path=\"url(#pd95eafe437)\" d=\"M 169.975909 224.64 \nL 176.063182 224.64 \nL 176.063182 75.538286 \nL 169.975909 75.538286 \nz\n\" style=\"fill:#1f77b4;\"/>\n   </g>\n   <g id=\"patch_25\">\n    <path clip-path=\"url(#pd95eafe437)\" d=\"M 176.063182 224.64 \nL 182.150455 224.64 \nL 182.150455 100.388571 \nL 176.063182 100.388571 \nz\n\" style=\"fill:#1f77b4;\"/>\n   </g>\n   <g id=\"patch_26\">\n    <path clip-path=\"url(#pd95eafe437)\" d=\"M 182.150455 224.64 \nL 188.237727 224.64 \nL 188.237727 58.971429 \nL 182.150455 58.971429 \nz\n\" style=\"fill:#1f77b4;\"/>\n   </g>\n   <g id=\"patch_27\">\n    <path clip-path=\"url(#pd95eafe437)\" d=\"M 188.237727 224.64 \nL 194.325 224.64 \nL 194.325 67.254857 \nL 188.237727 67.254857 \nz\n\" style=\"fill:#1f77b4;\"/>\n   </g>\n   <g id=\"patch_28\">\n    <path clip-path=\"url(#pd95eafe437)\" d=\"M 194.325 224.64 \nL 200.412273 224.64 \nL 200.412273 103.149714 \nL 194.325 103.149714 \nz\n\" style=\"fill:#1f77b4;\"/>\n   </g>\n   <g id=\"patch_29\">\n    <path clip-path=\"url(#pd95eafe437)\" d=\"M 200.412273 224.64 \nL 206.499545 224.64 \nL 206.499545 58.971429 \nL 200.412273 58.971429 \nz\n\" style=\"fill:#1f77b4;\"/>\n   </g>\n   <g id=\"patch_30\">\n    <path clip-path=\"url(#pd95eafe437)\" d=\"M 206.499545 224.64 \nL 212.586818 224.64 \nL 212.586818 86.582857 \nL 206.499545 86.582857 \nz\n\" style=\"fill:#1f77b4;\"/>\n   </g>\n   <g id=\"patch_31\">\n    <path clip-path=\"url(#pd95eafe437)\" d=\"M 212.586818 224.64 \nL 218.674091 224.64 \nL 218.674091 17.554286 \nL 212.586818 17.554286 \nz\n\" style=\"fill:#1f77b4;\"/>\n   </g>\n   <g id=\"patch_32\">\n    <path clip-path=\"url(#pd95eafe437)\" d=\"M 218.674091 224.64 \nL 224.761364 224.64 \nL 224.761364 70.016 \nL 218.674091 70.016 \nz\n\" style=\"fill:#1f77b4;\"/>\n   </g>\n   <g id=\"patch_33\">\n    <path clip-path=\"url(#pd95eafe437)\" d=\"M 224.761364 224.64 \nL 230.848636 224.64 \nL 230.848636 97.627429 \nL 224.761364 97.627429 \nz\n\" style=\"fill:#1f77b4;\"/>\n   </g>\n   <g id=\"patch_34\">\n    <path clip-path=\"url(#pd95eafe437)\" d=\"M 230.848636 224.64 \nL 236.935909 224.64 \nL 236.935909 114.194286 \nL 230.848636 114.194286 \nz\n\" style=\"fill:#1f77b4;\"/>\n   </g>\n   <g id=\"patch_35\">\n    <path clip-path=\"url(#pd95eafe437)\" d=\"M 236.935909 224.64 \nL 243.023182 224.64 \nL 243.023182 103.149714 \nL 236.935909 103.149714 \nz\n\" style=\"fill:#1f77b4;\"/>\n   </g>\n   <g id=\"patch_36\">\n    <path clip-path=\"url(#pd95eafe437)\" d=\"M 243.023182 224.64 \nL 249.110455 224.64 \nL 249.110455 94.866286 \nL 243.023182 94.866286 \nz\n\" style=\"fill:#1f77b4;\"/>\n   </g>\n   <g id=\"patch_37\">\n    <path clip-path=\"url(#pd95eafe437)\" d=\"M 249.110455 224.64 \nL 255.197727 224.64 \nL 255.197727 122.477714 \nL 249.110455 122.477714 \nz\n\" style=\"fill:#1f77b4;\"/>\n   </g>\n   <g id=\"patch_38\">\n    <path clip-path=\"url(#pd95eafe437)\" d=\"M 255.197727 224.64 \nL 261.285 224.64 \nL 261.285 144.566857 \nL 255.197727 144.566857 \nz\n\" style=\"fill:#1f77b4;\"/>\n   </g>\n   <g id=\"patch_39\">\n    <path clip-path=\"url(#pd95eafe437)\" d=\"M 261.285 224.64 \nL 267.372273 224.64 \nL 267.372273 169.417143 \nL 261.285 169.417143 \nz\n\" style=\"fill:#1f77b4;\"/>\n   </g>\n   <g id=\"patch_40\">\n    <path clip-path=\"url(#pd95eafe437)\" d=\"M 267.372273 224.64 \nL 273.459545 224.64 \nL 273.459545 158.372571 \nL 267.372273 158.372571 \nz\n\" style=\"fill:#1f77b4;\"/>\n   </g>\n   <g id=\"patch_41\">\n    <path clip-path=\"url(#pd95eafe437)\" d=\"M 273.459545 224.64 \nL 279.546818 224.64 \nL 279.546818 197.028571 \nL 273.459545 197.028571 \nz\n\" style=\"fill:#1f77b4;\"/>\n   </g>\n   <g id=\"patch_42\">\n    <path clip-path=\"url(#pd95eafe437)\" d=\"M 279.546818 224.64 \nL 285.634091 224.64 \nL 285.634091 194.267429 \nL 279.546818 194.267429 \nz\n\" style=\"fill:#1f77b4;\"/>\n   </g>\n   <g id=\"patch_43\">\n    <path clip-path=\"url(#pd95eafe437)\" d=\"M 285.634091 224.64 \nL 291.721364 224.64 \nL 291.721364 191.506286 \nL 285.634091 191.506286 \nz\n\" style=\"fill:#1f77b4;\"/>\n   </g>\n   <g id=\"patch_44\">\n    <path clip-path=\"url(#pd95eafe437)\" d=\"M 291.721364 224.64 \nL 297.808636 224.64 \nL 297.808636 213.595429 \nL 291.721364 213.595429 \nz\n\" style=\"fill:#1f77b4;\"/>\n   </g>\n   <g id=\"patch_45\">\n    <path clip-path=\"url(#pd95eafe437)\" d=\"M 297.808636 224.64 \nL 303.895909 224.64 \nL 303.895909 210.834286 \nL 297.808636 210.834286 \nz\n\" style=\"fill:#1f77b4;\"/>\n   </g>\n   <g id=\"patch_46\">\n    <path clip-path=\"url(#pd95eafe437)\" d=\"M 303.895909 224.64 \nL 309.983182 224.64 \nL 309.983182 205.312 \nL 303.895909 205.312 \nz\n\" style=\"fill:#1f77b4;\"/>\n   </g>\n   <g id=\"patch_47\">\n    <path clip-path=\"url(#pd95eafe437)\" d=\"M 309.983182 224.64 \nL 316.070455 224.64 \nL 316.070455 219.117714 \nL 309.983182 219.117714 \nz\n\" style=\"fill:#1f77b4;\"/>\n   </g>\n   <g id=\"patch_48\">\n    <path clip-path=\"url(#pd95eafe437)\" d=\"M 316.070455 224.64 \nL 322.157727 224.64 \nL 322.157727 219.117714 \nL 316.070455 219.117714 \nz\n\" style=\"fill:#1f77b4;\"/>\n   </g>\n   <g id=\"patch_49\">\n    <path clip-path=\"url(#pd95eafe437)\" d=\"M 322.157727 224.64 \nL 328.245 224.64 \nL 328.245 224.64 \nL 322.157727 224.64 \nz\n\" style=\"fill:#1f77b4;\"/>\n   </g>\n   <g id=\"patch_50\">\n    <path clip-path=\"url(#pd95eafe437)\" d=\"M 328.245 224.64 \nL 334.332273 224.64 \nL 334.332273 221.878857 \nL 328.245 221.878857 \nz\n\" style=\"fill:#1f77b4;\"/>\n   </g>\n   <g id=\"patch_51\">\n    <path clip-path=\"url(#pd95eafe437)\" d=\"M 334.332273 224.64 \nL 340.419545 224.64 \nL 340.419545 221.878857 \nL 334.332273 221.878857 \nz\n\" style=\"fill:#1f77b4;\"/>\n   </g>\n   <g id=\"patch_52\">\n    <path clip-path=\"url(#pd95eafe437)\" d=\"M 340.419545 224.64 \nL 346.506818 224.64 \nL 346.506818 221.878857 \nL 340.419545 221.878857 \nz\n\" style=\"fill:#1f77b4;\"/>\n   </g>\n   <g id=\"matplotlib.axis_1\">\n    <g id=\"xtick_1\">\n     <g id=\"line2d_1\">\n      <defs>\n       <path d=\"M 0 0 \nL 0 3.5 \n\" id=\"m70db977aca\" style=\"stroke:#000000;stroke-width:0.8;\"/>\n      </defs>\n      <g>\n       <use style=\"stroke:#000000;stroke-width:0.8;\" x=\"68.527646\" xlink:href=\"#m70db977aca\" y=\"224.64\"/>\n      </g>\n     </g>\n     <g id=\"text_1\">\n      <!-- −5300 -->\n      <g transform=\"translate(51.612802 239.238437)scale(0.1 -0.1)\">\n       <defs>\n        <path d=\"M 10.59375 35.5 \nL 73.1875 35.5 \nL 73.1875 27.203125 \nL 10.59375 27.203125 \nz\n\" id=\"DejaVuSans-8722\"/>\n        <path d=\"M 10.796875 72.90625 \nL 49.515625 72.90625 \nL 49.515625 64.59375 \nL 19.828125 64.59375 \nL 19.828125 46.734375 \nQ 21.96875 47.46875 24.109375 47.828125 \nQ 26.265625 48.1875 28.421875 48.1875 \nQ 40.625 48.1875 47.75 41.5 \nQ 54.890625 34.8125 54.890625 23.390625 \nQ 54.890625 11.625 47.5625 5.09375 \nQ 40.234375 -1.421875 26.90625 -1.421875 \nQ 22.3125 -1.421875 17.546875 -0.640625 \nQ 12.796875 0.140625 7.71875 1.703125 \nL 7.71875 11.625 \nQ 12.109375 9.234375 16.796875 8.0625 \nQ 21.484375 6.890625 26.703125 6.890625 \nQ 35.15625 6.890625 40.078125 11.328125 \nQ 45.015625 15.765625 45.015625 23.390625 \nQ 45.015625 31 40.078125 35.4375 \nQ 35.15625 39.890625 26.703125 39.890625 \nQ 22.75 39.890625 18.8125 39.015625 \nQ 14.890625 38.140625 10.796875 36.28125 \nz\n\" id=\"DejaVuSans-53\"/>\n        <path d=\"M 40.578125 39.3125 \nQ 47.65625 37.796875 51.625 33 \nQ 55.609375 28.21875 55.609375 21.1875 \nQ 55.609375 10.40625 48.1875 4.484375 \nQ 40.765625 -1.421875 27.09375 -1.421875 \nQ 22.515625 -1.421875 17.65625 -0.515625 \nQ 12.796875 0.390625 7.625 2.203125 \nL 7.625 11.71875 \nQ 11.71875 9.328125 16.59375 8.109375 \nQ 21.484375 6.890625 26.8125 6.890625 \nQ 36.078125 6.890625 40.9375 10.546875 \nQ 45.796875 14.203125 45.796875 21.1875 \nQ 45.796875 27.640625 41.28125 31.265625 \nQ 36.765625 34.90625 28.71875 34.90625 \nL 20.21875 34.90625 \nL 20.21875 43.015625 \nL 29.109375 43.015625 \nQ 36.375 43.015625 40.234375 45.921875 \nQ 44.09375 48.828125 44.09375 54.296875 \nQ 44.09375 59.90625 40.109375 62.90625 \nQ 36.140625 65.921875 28.71875 65.921875 \nQ 24.65625 65.921875 20.015625 65.03125 \nQ 15.375 64.15625 9.8125 62.3125 \nL 9.8125 71.09375 \nQ 15.4375 72.65625 20.34375 73.4375 \nQ 25.25 74.21875 29.59375 74.21875 \nQ 40.828125 74.21875 47.359375 69.109375 \nQ 53.90625 64.015625 53.90625 55.328125 \nQ 53.90625 49.265625 50.4375 45.09375 \nQ 46.96875 40.921875 40.578125 39.3125 \nz\n\" id=\"DejaVuSans-51\"/>\n        <path d=\"M 31.78125 66.40625 \nQ 24.171875 66.40625 20.328125 58.90625 \nQ 16.5 51.421875 16.5 36.375 \nQ 16.5 21.390625 20.328125 13.890625 \nQ 24.171875 6.390625 31.78125 6.390625 \nQ 39.453125 6.390625 43.28125 13.890625 \nQ 47.125 21.390625 47.125 36.375 \nQ 47.125 51.421875 43.28125 58.90625 \nQ 39.453125 66.40625 31.78125 66.40625 \nz\nM 31.78125 74.21875 \nQ 44.046875 74.21875 50.515625 64.515625 \nQ 56.984375 54.828125 56.984375 36.375 \nQ 56.984375 17.96875 50.515625 8.265625 \nQ 44.046875 -1.421875 31.78125 -1.421875 \nQ 19.53125 -1.421875 13.0625 8.265625 \nQ 6.59375 17.96875 6.59375 36.375 \nQ 6.59375 54.828125 13.0625 64.515625 \nQ 19.53125 74.21875 31.78125 74.21875 \nz\n\" id=\"DejaVuSans-48\"/>\n       </defs>\n       <use xlink:href=\"#DejaVuSans-8722\"/>\n       <use x=\"83.789062\" xlink:href=\"#DejaVuSans-53\"/>\n       <use x=\"147.412109\" xlink:href=\"#DejaVuSans-51\"/>\n       <use x=\"211.035156\" xlink:href=\"#DejaVuSans-48\"/>\n       <use x=\"274.658203\" xlink:href=\"#DejaVuSans-48\"/>\n      </g>\n     </g>\n    </g>\n    <g id=\"xtick_2\">\n     <g id=\"line2d_2\">\n      <g>\n       <use style=\"stroke:#000000;stroke-width:0.8;\" x=\"115.64276\" xlink:href=\"#m70db977aca\" y=\"224.64\"/>\n      </g>\n     </g>\n     <g id=\"text_2\">\n      <!-- −5200 -->\n      <g transform=\"translate(98.727916 239.238437)scale(0.1 -0.1)\">\n       <defs>\n        <path d=\"M 19.1875 8.296875 \nL 53.609375 8.296875 \nL 53.609375 0 \nL 7.328125 0 \nL 7.328125 8.296875 \nQ 12.9375 14.109375 22.625 23.890625 \nQ 32.328125 33.6875 34.8125 36.53125 \nQ 39.546875 41.84375 41.421875 45.53125 \nQ 43.3125 49.21875 43.3125 52.78125 \nQ 43.3125 58.59375 39.234375 62.25 \nQ 35.15625 65.921875 28.609375 65.921875 \nQ 23.96875 65.921875 18.8125 64.3125 \nQ 13.671875 62.703125 7.8125 59.421875 \nL 7.8125 69.390625 \nQ 13.765625 71.78125 18.9375 73 \nQ 24.125 74.21875 28.421875 74.21875 \nQ 39.75 74.21875 46.484375 68.546875 \nQ 53.21875 62.890625 53.21875 53.421875 \nQ 53.21875 48.921875 51.53125 44.890625 \nQ 49.859375 40.875 45.40625 35.40625 \nQ 44.1875 33.984375 37.640625 27.21875 \nQ 31.109375 20.453125 19.1875 8.296875 \nz\n\" id=\"DejaVuSans-50\"/>\n       </defs>\n       <use xlink:href=\"#DejaVuSans-8722\"/>\n       <use x=\"83.789062\" xlink:href=\"#DejaVuSans-53\"/>\n       <use x=\"147.412109\" xlink:href=\"#DejaVuSans-50\"/>\n       <use x=\"211.035156\" xlink:href=\"#DejaVuSans-48\"/>\n       <use x=\"274.658203\" xlink:href=\"#DejaVuSans-48\"/>\n      </g>\n     </g>\n    </g>\n    <g id=\"xtick_3\">\n     <g id=\"line2d_3\">\n      <g>\n       <use style=\"stroke:#000000;stroke-width:0.8;\" x=\"162.757874\" xlink:href=\"#m70db977aca\" y=\"224.64\"/>\n      </g>\n     </g>\n     <g id=\"text_3\">\n      <!-- −5100 -->\n      <g transform=\"translate(145.84303 239.238437)scale(0.1 -0.1)\">\n       <defs>\n        <path d=\"M 12.40625 8.296875 \nL 28.515625 8.296875 \nL 28.515625 63.921875 \nL 10.984375 60.40625 \nL 10.984375 69.390625 \nL 28.421875 72.90625 \nL 38.28125 72.90625 \nL 38.28125 8.296875 \nL 54.390625 8.296875 \nL 54.390625 0 \nL 12.40625 0 \nz\n\" id=\"DejaVuSans-49\"/>\n       </defs>\n       <use xlink:href=\"#DejaVuSans-8722\"/>\n       <use x=\"83.789062\" xlink:href=\"#DejaVuSans-53\"/>\n       <use x=\"147.412109\" xlink:href=\"#DejaVuSans-49\"/>\n       <use x=\"211.035156\" xlink:href=\"#DejaVuSans-48\"/>\n       <use x=\"274.658203\" xlink:href=\"#DejaVuSans-48\"/>\n      </g>\n     </g>\n    </g>\n    <g id=\"xtick_4\">\n     <g id=\"line2d_4\">\n      <g>\n       <use style=\"stroke:#000000;stroke-width:0.8;\" x=\"209.872988\" xlink:href=\"#m70db977aca\" y=\"224.64\"/>\n      </g>\n     </g>\n     <g id=\"text_4\">\n      <!-- −5000 -->\n      <g transform=\"translate(192.958144 239.238437)scale(0.1 -0.1)\">\n       <use xlink:href=\"#DejaVuSans-8722\"/>\n       <use x=\"83.789062\" xlink:href=\"#DejaVuSans-53\"/>\n       <use x=\"147.412109\" xlink:href=\"#DejaVuSans-48\"/>\n       <use x=\"211.035156\" xlink:href=\"#DejaVuSans-48\"/>\n       <use x=\"274.658203\" xlink:href=\"#DejaVuSans-48\"/>\n      </g>\n     </g>\n    </g>\n    <g id=\"xtick_5\">\n     <g id=\"line2d_5\">\n      <g>\n       <use style=\"stroke:#000000;stroke-width:0.8;\" x=\"256.988102\" xlink:href=\"#m70db977aca\" y=\"224.64\"/>\n      </g>\n     </g>\n     <g id=\"text_5\">\n      <!-- −4900 -->\n      <g transform=\"translate(240.073258 239.238437)scale(0.1 -0.1)\">\n       <defs>\n        <path d=\"M 37.796875 64.3125 \nL 12.890625 25.390625 \nL 37.796875 25.390625 \nz\nM 35.203125 72.90625 \nL 47.609375 72.90625 \nL 47.609375 25.390625 \nL 58.015625 25.390625 \nL 58.015625 17.1875 \nL 47.609375 17.1875 \nL 47.609375 0 \nL 37.796875 0 \nL 37.796875 17.1875 \nL 4.890625 17.1875 \nL 4.890625 26.703125 \nz\n\" id=\"DejaVuSans-52\"/>\n        <path d=\"M 10.984375 1.515625 \nL 10.984375 10.5 \nQ 14.703125 8.734375 18.5 7.8125 \nQ 22.3125 6.890625 25.984375 6.890625 \nQ 35.75 6.890625 40.890625 13.453125 \nQ 46.046875 20.015625 46.78125 33.40625 \nQ 43.953125 29.203125 39.59375 26.953125 \nQ 35.25 24.703125 29.984375 24.703125 \nQ 19.046875 24.703125 12.671875 31.3125 \nQ 6.296875 37.9375 6.296875 49.421875 \nQ 6.296875 60.640625 12.9375 67.421875 \nQ 19.578125 74.21875 30.609375 74.21875 \nQ 43.265625 74.21875 49.921875 64.515625 \nQ 56.59375 54.828125 56.59375 36.375 \nQ 56.59375 19.140625 48.40625 8.859375 \nQ 40.234375 -1.421875 26.421875 -1.421875 \nQ 22.703125 -1.421875 18.890625 -0.6875 \nQ 15.09375 0.046875 10.984375 1.515625 \nz\nM 30.609375 32.421875 \nQ 37.25 32.421875 41.125 36.953125 \nQ 45.015625 41.5 45.015625 49.421875 \nQ 45.015625 57.28125 41.125 61.84375 \nQ 37.25 66.40625 30.609375 66.40625 \nQ 23.96875 66.40625 20.09375 61.84375 \nQ 16.21875 57.28125 16.21875 49.421875 \nQ 16.21875 41.5 20.09375 36.953125 \nQ 23.96875 32.421875 30.609375 32.421875 \nz\n\" id=\"DejaVuSans-57\"/>\n       </defs>\n       <use xlink:href=\"#DejaVuSans-8722\"/>\n       <use x=\"83.789062\" xlink:href=\"#DejaVuSans-52\"/>\n       <use x=\"147.412109\" xlink:href=\"#DejaVuSans-57\"/>\n       <use x=\"211.035156\" xlink:href=\"#DejaVuSans-48\"/>\n       <use x=\"274.658203\" xlink:href=\"#DejaVuSans-48\"/>\n      </g>\n     </g>\n    </g>\n    <g id=\"xtick_6\">\n     <g id=\"line2d_6\">\n      <g>\n       <use style=\"stroke:#000000;stroke-width:0.8;\" x=\"304.103216\" xlink:href=\"#m70db977aca\" y=\"224.64\"/>\n      </g>\n     </g>\n     <g id=\"text_6\">\n      <!-- −4800 -->\n      <g transform=\"translate(287.188372 239.238437)scale(0.1 -0.1)\">\n       <defs>\n        <path d=\"M 31.78125 34.625 \nQ 24.75 34.625 20.71875 30.859375 \nQ 16.703125 27.09375 16.703125 20.515625 \nQ 16.703125 13.921875 20.71875 10.15625 \nQ 24.75 6.390625 31.78125 6.390625 \nQ 38.8125 6.390625 42.859375 10.171875 \nQ 46.921875 13.96875 46.921875 20.515625 \nQ 46.921875 27.09375 42.890625 30.859375 \nQ 38.875 34.625 31.78125 34.625 \nz\nM 21.921875 38.8125 \nQ 15.578125 40.375 12.03125 44.71875 \nQ 8.5 49.078125 8.5 55.328125 \nQ 8.5 64.0625 14.71875 69.140625 \nQ 20.953125 74.21875 31.78125 74.21875 \nQ 42.671875 74.21875 48.875 69.140625 \nQ 55.078125 64.0625 55.078125 55.328125 \nQ 55.078125 49.078125 51.53125 44.71875 \nQ 48 40.375 41.703125 38.8125 \nQ 48.828125 37.15625 52.796875 32.3125 \nQ 56.78125 27.484375 56.78125 20.515625 \nQ 56.78125 9.90625 50.3125 4.234375 \nQ 43.84375 -1.421875 31.78125 -1.421875 \nQ 19.734375 -1.421875 13.25 4.234375 \nQ 6.78125 9.90625 6.78125 20.515625 \nQ 6.78125 27.484375 10.78125 32.3125 \nQ 14.796875 37.15625 21.921875 38.8125 \nz\nM 18.3125 54.390625 \nQ 18.3125 48.734375 21.84375 45.5625 \nQ 25.390625 42.390625 31.78125 42.390625 \nQ 38.140625 42.390625 41.71875 45.5625 \nQ 45.3125 48.734375 45.3125 54.390625 \nQ 45.3125 60.0625 41.71875 63.234375 \nQ 38.140625 66.40625 31.78125 66.40625 \nQ 25.390625 66.40625 21.84375 63.234375 \nQ 18.3125 60.0625 18.3125 54.390625 \nz\n\" id=\"DejaVuSans-56\"/>\n       </defs>\n       <use xlink:href=\"#DejaVuSans-8722\"/>\n       <use x=\"83.789062\" xlink:href=\"#DejaVuSans-52\"/>\n       <use x=\"147.412109\" xlink:href=\"#DejaVuSans-56\"/>\n       <use x=\"211.035156\" xlink:href=\"#DejaVuSans-48\"/>\n       <use x=\"274.658203\" xlink:href=\"#DejaVuSans-48\"/>\n      </g>\n     </g>\n    </g>\n    <g id=\"xtick_7\">\n     <g id=\"line2d_7\">\n      <g>\n       <use style=\"stroke:#000000;stroke-width:0.8;\" x=\"351.21833\" xlink:href=\"#m70db977aca\" y=\"224.64\"/>\n      </g>\n     </g>\n     <g id=\"text_7\">\n      <!-- −4700 -->\n      <g transform=\"translate(334.303486 239.238437)scale(0.1 -0.1)\">\n       <defs>\n        <path d=\"M 8.203125 72.90625 \nL 55.078125 72.90625 \nL 55.078125 68.703125 \nL 28.609375 0 \nL 18.3125 0 \nL 43.21875 64.59375 \nL 8.203125 64.59375 \nz\n\" id=\"DejaVuSans-55\"/>\n       </defs>\n       <use xlink:href=\"#DejaVuSans-8722\"/>\n       <use x=\"83.789062\" xlink:href=\"#DejaVuSans-52\"/>\n       <use x=\"147.412109\" xlink:href=\"#DejaVuSans-55\"/>\n       <use x=\"211.035156\" xlink:href=\"#DejaVuSans-48\"/>\n       <use x=\"274.658203\" xlink:href=\"#DejaVuSans-48\"/>\n      </g>\n     </g>\n    </g>\n   </g>\n   <g id=\"matplotlib.axis_2\">\n    <g id=\"ytick_1\">\n     <g id=\"line2d_8\">\n      <defs>\n       <path d=\"M 0 0 \nL -3.5 0 \n\" id=\"m9276381042\" style=\"stroke:#000000;stroke-width:0.8;\"/>\n      </defs>\n      <g>\n       <use style=\"stroke:#000000;stroke-width:0.8;\" x=\"26.925\" xlink:href=\"#m9276381042\" y=\"224.64\"/>\n      </g>\n     </g>\n     <g id=\"text_8\">\n      <!-- 0 -->\n      <g transform=\"translate(13.5625 228.439219)scale(0.1 -0.1)\">\n       <use xlink:href=\"#DejaVuSans-48\"/>\n      </g>\n     </g>\n    </g>\n    <g id=\"ytick_2\">\n     <g id=\"line2d_9\">\n      <g>\n       <use style=\"stroke:#000000;stroke-width:0.8;\" x=\"26.925\" xlink:href=\"#m9276381042\" y=\"197.028571\"/>\n      </g>\n     </g>\n     <g id=\"text_9\">\n      <!-- 10 -->\n      <g transform=\"translate(7.2 200.82779)scale(0.1 -0.1)\">\n       <use xlink:href=\"#DejaVuSans-49\"/>\n       <use x=\"63.623047\" xlink:href=\"#DejaVuSans-48\"/>\n      </g>\n     </g>\n    </g>\n    <g id=\"ytick_3\">\n     <g id=\"line2d_10\">\n      <g>\n       <use style=\"stroke:#000000;stroke-width:0.8;\" x=\"26.925\" xlink:href=\"#m9276381042\" y=\"169.417143\"/>\n      </g>\n     </g>\n     <g id=\"text_10\">\n      <!-- 20 -->\n      <g transform=\"translate(7.2 173.216362)scale(0.1 -0.1)\">\n       <use xlink:href=\"#DejaVuSans-50\"/>\n       <use x=\"63.623047\" xlink:href=\"#DejaVuSans-48\"/>\n      </g>\n     </g>\n    </g>\n    <g id=\"ytick_4\">\n     <g id=\"line2d_11\">\n      <g>\n       <use style=\"stroke:#000000;stroke-width:0.8;\" x=\"26.925\" xlink:href=\"#m9276381042\" y=\"141.805714\"/>\n      </g>\n     </g>\n     <g id=\"text_11\">\n      <!-- 30 -->\n      <g transform=\"translate(7.2 145.604933)scale(0.1 -0.1)\">\n       <use xlink:href=\"#DejaVuSans-51\"/>\n       <use x=\"63.623047\" xlink:href=\"#DejaVuSans-48\"/>\n      </g>\n     </g>\n    </g>\n    <g id=\"ytick_5\">\n     <g id=\"line2d_12\">\n      <g>\n       <use style=\"stroke:#000000;stroke-width:0.8;\" x=\"26.925\" xlink:href=\"#m9276381042\" y=\"114.194286\"/>\n      </g>\n     </g>\n     <g id=\"text_12\">\n      <!-- 40 -->\n      <g transform=\"translate(7.2 117.993504)scale(0.1 -0.1)\">\n       <use xlink:href=\"#DejaVuSans-52\"/>\n       <use x=\"63.623047\" xlink:href=\"#DejaVuSans-48\"/>\n      </g>\n     </g>\n    </g>\n    <g id=\"ytick_6\">\n     <g id=\"line2d_13\">\n      <g>\n       <use style=\"stroke:#000000;stroke-width:0.8;\" x=\"26.925\" xlink:href=\"#m9276381042\" y=\"86.582857\"/>\n      </g>\n     </g>\n     <g id=\"text_13\">\n      <!-- 50 -->\n      <g transform=\"translate(7.2 90.382076)scale(0.1 -0.1)\">\n       <use xlink:href=\"#DejaVuSans-53\"/>\n       <use x=\"63.623047\" xlink:href=\"#DejaVuSans-48\"/>\n      </g>\n     </g>\n    </g>\n    <g id=\"ytick_7\">\n     <g id=\"line2d_14\">\n      <g>\n       <use style=\"stroke:#000000;stroke-width:0.8;\" x=\"26.925\" xlink:href=\"#m9276381042\" y=\"58.971429\"/>\n      </g>\n     </g>\n     <g id=\"text_14\">\n      <!-- 60 -->\n      <g transform=\"translate(7.2 62.770647)scale(0.1 -0.1)\">\n       <defs>\n        <path d=\"M 33.015625 40.375 \nQ 26.375 40.375 22.484375 35.828125 \nQ 18.609375 31.296875 18.609375 23.390625 \nQ 18.609375 15.53125 22.484375 10.953125 \nQ 26.375 6.390625 33.015625 6.390625 \nQ 39.65625 6.390625 43.53125 10.953125 \nQ 47.40625 15.53125 47.40625 23.390625 \nQ 47.40625 31.296875 43.53125 35.828125 \nQ 39.65625 40.375 33.015625 40.375 \nz\nM 52.59375 71.296875 \nL 52.59375 62.3125 \nQ 48.875 64.0625 45.09375 64.984375 \nQ 41.3125 65.921875 37.59375 65.921875 \nQ 27.828125 65.921875 22.671875 59.328125 \nQ 17.53125 52.734375 16.796875 39.40625 \nQ 19.671875 43.65625 24.015625 45.921875 \nQ 28.375 48.1875 33.59375 48.1875 \nQ 44.578125 48.1875 50.953125 41.515625 \nQ 57.328125 34.859375 57.328125 23.390625 \nQ 57.328125 12.15625 50.6875 5.359375 \nQ 44.046875 -1.421875 33.015625 -1.421875 \nQ 20.359375 -1.421875 13.671875 8.265625 \nQ 6.984375 17.96875 6.984375 36.375 \nQ 6.984375 53.65625 15.1875 63.9375 \nQ 23.390625 74.21875 37.203125 74.21875 \nQ 40.921875 74.21875 44.703125 73.484375 \nQ 48.484375 72.75 52.59375 71.296875 \nz\n\" id=\"DejaVuSans-54\"/>\n       </defs>\n       <use xlink:href=\"#DejaVuSans-54\"/>\n       <use x=\"63.623047\" xlink:href=\"#DejaVuSans-48\"/>\n      </g>\n     </g>\n    </g>\n    <g id=\"ytick_8\">\n     <g id=\"line2d_15\">\n      <g>\n       <use style=\"stroke:#000000;stroke-width:0.8;\" x=\"26.925\" xlink:href=\"#m9276381042\" y=\"31.36\"/>\n      </g>\n     </g>\n     <g id=\"text_15\">\n      <!-- 70 -->\n      <g transform=\"translate(7.2 35.159219)scale(0.1 -0.1)\">\n       <use xlink:href=\"#DejaVuSans-55\"/>\n       <use x=\"63.623047\" xlink:href=\"#DejaVuSans-48\"/>\n      </g>\n     </g>\n    </g>\n   </g>\n   <g id=\"patch_53\">\n    <path d=\"M 26.925 224.64 \nL 26.925 7.2 \n\" style=\"fill:none;stroke:#000000;stroke-linecap:square;stroke-linejoin:miter;stroke-width:0.8;\"/>\n   </g>\n   <g id=\"patch_54\">\n    <path d=\"M 361.725 224.64 \nL 361.725 7.2 \n\" style=\"fill:none;stroke:#000000;stroke-linecap:square;stroke-linejoin:miter;stroke-width:0.8;\"/>\n   </g>\n   <g id=\"patch_55\">\n    <path d=\"M 26.925 224.64 \nL 361.725 224.64 \n\" style=\"fill:none;stroke:#000000;stroke-linecap:square;stroke-linejoin:miter;stroke-width:0.8;\"/>\n   </g>\n   <g id=\"patch_56\">\n    <path d=\"M 26.925 7.2 \nL 361.725 7.2 \n\" style=\"fill:none;stroke:#000000;stroke-linecap:square;stroke-linejoin:miter;stroke-width:0.8;\"/>\n   </g>\n  </g>\n </g>\n <defs>\n  <clipPath id=\"pd95eafe437\">\n   <rect height=\"217.44\" width=\"334.8\" x=\"26.925\" y=\"7.2\"/>\n  </clipPath>\n </defs>\n</svg>\n",
      "image/png": "[encoded data removed]"
     },
     "metadata": {
      "needs_background": "light"
     }
    },
    {
     "output_type": "stream",
     "name": "stdout",
     "text": [
      "-5000.386\n7445.591004000001\n"
     ]
    }
   ],
   "source": [
    "#f) Solution\n",
    "trajectory_final_positions = np.array(Trajectories(M,N,0.25))\n",
    "\n",
    "plt.hist(trajectory_final_positions, bins = bin_count, )\n",
    "plt.show()\n",
    "\n",
    "print(np.mean(trajectory_final_positions))\n",
    "print(np.var(trajectory_final_positions))\n",
    "\n"
   ]
  },
  {
   "cell_type": "markdown",
   "metadata": {},
   "source": [
    "Compare the mean and variance for different values of N and p. Your results should compare well with the analytical expressions found in your treatment of the biased coin toss in HW1, where $p$ is the probability of stepping in the $+1$ direction"
   ]
  },
  {
   "cell_type": "markdown",
   "metadata": {},
   "source": [
    "$$\\mathrm{Mean} = N(2p-1) \\qquad \\mathrm{Variance} = 4Np(1-p).$$"
   ]
  },
  {
   "cell_type": "markdown",
   "metadata": {},
   "source": [
    "Recall that the binomial distribution describing this problem is:\n",
    "$$P(N, r) = \\binom{N}{r} p^r (1-p)^{N-r},$$\n",
    "where $r$ is number of +1 steps in the trajectory. Rewrite this in terms of the net displacement $x = r - (N-r)$. We can then compare this analytical result to our numerical result by overplotting the binomial distribution with the results of our simulations."
   ]
  },
  {
   "cell_type": "markdown",
   "metadata": {},
   "source": [
    "#### g) Overplot the exact biased binomial distribution over the histogram of ending distances. The function scipy.stats.binom.pmf can be used to compute this directly. Explore values of $p = 0.25, 0.5, 0.75$ and show that the binomial distribution describes the data and that the measured mean and vairance agree with the expectations from the binomial distribution. Keep the number of trials $M=1000$ and number of steps $N=10000$."
   ]
  },
  {
   "cell_type": "code",
   "execution_count": 56,
   "metadata": {},
   "outputs": [
    {
     "output_type": "stream",
     "name": "stdout",
     "text": [
      "asserted: total probability:  1.0000000000000002\n[-296, -284, -270, -256, -256, -244, -244, -244, -230, -230, -230, -230, -216, -216, -216, -216, -216, -202, -202, -202, -202, -202, -202, -202, -190, -190, -190, -190, -190, -190, -190, -190, -190, -176, -176, -176, -176, -176, -176, -176, -176, -176, -176, -176, -162, -162, -162, -162, -162, -162, -162, -162, -162, -162, -162, -162, -162, -162, -148, -148, -148, -148, -148, -148, -148, -148, -148, -148, -148, -148, -148, -148, -148, -148, -148, -148, -136, -136, -136, -136, -136, -136, -136, -136, -136, -136, -136, -136, -136, -136, -136, -136, -136, -136, -136, -136, -136, -122, -122, -122, -122, -122, -122, -122, -122, -122, -122, -122, -122, -122, -122, -122, -122, -122, -122, -122, -122, -122, -122, -122, -122, -122, -122, -108, -108, -108, -108, -108, -108, -108, -108, -108, -108, -108, -108, -108, -108, -108, -108, -108, -108, -108, -108, -108, -108, -108, -108, -108, -108, -108, -108, -108, -108, -96, -96, -96, -96, -96, -96, -96, -96, -96, -96, -96, -96, -96, -96, -96, -96, -96, -96, -96, -96, -96, -96, -96, -96, -96, -96, -96, -96, -96, -96, -96, -96, -96, -96, -82, -82, -82, -82, -82, -82, -82, -82, -82, -82, -82, -82, -82, -82, -82, -82, -82, -82, -82, -82, -82, -82, -82, -82, -82, -82, -82, -82, -82, -82, -82, -82, -82, -82, -82, -82, -82, -82, -68, -68, -68, -68, -68, -68, -68, -68, -68, -68, -68, -68, -68, -68, -68, -68, -68, -68, -68, -68, -68, -68, -68, -68, -68, -68, -68, -68, -68, -68, -68, -68, -68, -68, -68, -68, -68, -68, -68, -68, -68, -68, -68, -54, -54, -54, -54, -54, -54, -54, -54, -54, -54, -54, -54, -54, -54, -54, -54, -54, -54, -54, -54, -54, -54, -54, -54, -54, -54, -54, -54, -54, -54, -54, -54, -54, -54, -54, -54, -54, -54, -54, -54, -54, -54, -54, -54, -54, -54, -42, -42, -42, -42, -42, -42, -42, -42, -42, -42, -42, -42, -42, -42, -42, -42, -42, -42, -42, -42, -42, -42, -42, -42, -42, -42, -42, -42, -42, -42, -42, -42, -42, -42, -42, -42, -42, -42, -42, -42, -42, -42, -42, -42, -42, -42, -42, -42, -42, -28, -28, -28, -28, -28, -28, -28, -28, -28, -28, -28, -28, -28, -28, -28, -28, -28, -28, -28, -28, -28, -28, -28, -28, -28, -28, -28, -28, -28, -28, -28, -28, -28, -28, -28, -28, -28, -28, -28, -28, -28, -28, -28, -28, -28, -28, -28, -28, -28, -28, -28, -28, -14, -14, -14, -14, -14, -14, -14, -14, -14, -14, -14, -14, -14, -14, -14, -14, -14, -14, -14, -14, -14, -14, -14, -14, -14, -14, -14, -14, -14, -14, -14, -14, -14, -14, -14, -14, -14, -14, -14, -14, -14, -14, -14, -14, -14, -14, -14, -14, -14, -14, -14, -14, -14, -2, -2, -2, -2, -2, -2, -2, -2, -2, -2, -2, -2, -2, -2, -2, -2, -2, -2, -2, -2, -2, -2, -2, -2, -2, -2, -2, -2, -2, -2, -2, -2, -2, -2, -2, -2, -2, -2, -2, -2, -2, -2, -2, -2, -2, -2, -2, -2, -2, -2, -2, -2, -2, -2, 12, 12, 12, 12, 12, 12, 12, 12, 12, 12, 12, 12, 12, 12, 12, 12, 12, 12, 12, 12, 12, 12, 12, 12, 12, 12, 12, 12, 12, 12, 12, 12, 12, 12, 12, 12, 12, 12, 12, 12, 12, 12, 12, 12, 12, 12, 12, 12, 12, 12, 12, 12, 12, 26, 26, 26, 26, 26, 26, 26, 26, 26, 26, 26, 26, 26, 26, 26, 26, 26, 26, 26, 26, 26, 26, 26, 26, 26, 26, 26, 26, 26, 26, 26, 26, 26, 26, 26, 26, 26, 26, 26, 26, 26, 26, 26, 26, 26, 26, 26, 26, 26, 26, 26, 26, 40, 40, 40, 40, 40, 40, 40, 40, 40, 40, 40, 40, 40, 40, 40, 40, 40, 40, 40, 40, 40, 40, 40, 40, 40, 40, 40, 40, 40, 40, 40, 40, 40, 40, 40, 40, 40, 40, 40, 40, 40, 40, 40, 40, 40, 40, 40, 40, 40, 40, 52, 52, 52, 52, 52, 52, 52, 52, 52, 52, 52, 52, 52, 52, 52, 52, 52, 52, 52, 52, 52, 52, 52, 52, 52, 52, 52, 52, 52, 52, 52, 52, 52, 52, 52, 52, 52, 52, 52, 52, 52, 52, 52, 52, 52, 52, 52, 66, 66, 66, 66, 66, 66, 66, 66, 66, 66, 66, 66, 66, 66, 66, 66, 66, 66, 66, 66, 66, 66, 66, 66, 66, 66, 66, 66, 66, 66, 66, 66, 66, 66, 66, 66, 66, 66, 66, 66, 66, 66, 66, 80, 80, 80, 80, 80, 80, 80, 80, 80, 80, 80, 80, 80, 80, 80, 80, 80, 80, 80, 80, 80, 80, 80, 80, 80, 80, 80, 80, 80, 80, 80, 80, 80, 80, 80, 80, 80, 80, 80, 92, 92, 92, 92, 92, 92, 92, 92, 92, 92, 92, 92, 92, 92, 92, 92, 92, 92, 92, 92, 92, 92, 92, 92, 92, 92, 92, 92, 92, 92, 92, 92, 92, 92, 92, 106, 106, 106, 106, 106, 106, 106, 106, 106, 106, 106, 106, 106, 106, 106, 106, 106, 106, 106, 106, 106, 106, 106, 106, 106, 106, 106, 106, 106, 106, 106, 120, 120, 120, 120, 120, 120, 120, 120, 120, 120, 120, 120, 120, 120, 120, 120, 120, 120, 120, 120, 120, 120, 120, 120, 120, 120, 134, 134, 134, 134, 134, 134, 134, 134, 134, 134, 134, 134, 134, 134, 134, 134, 134, 134, 134, 134, 134, 134, 146, 146, 146, 146, 146, 146, 146, 146, 146, 146, 146, 146, 146, 146, 146, 146, 146, 146, 160, 160, 160, 160, 160, 160, 160, 160, 160, 160, 160, 160, 160, 160, 160, 174, 174, 174, 174, 174, 174, 174, 174, 174, 174, 174, 174, 188, 188, 188, 188, 188, 188, 188, 188, 188, 200, 200, 200, 200, 200, 200, 200, 214, 214, 214, 214, 214, 228, 228, 228, 228, 240, 240, 240, 254, 254, 268, 282, 294]\nhello world\n"
     ]
    },
    {
     "output_type": "display_data",
     "data": {
      "text/plain": "<Figure size 432x288 with 1 Axes>",
      "image/svg+xml": "<?xml version=\"1.0\" encoding=\"utf-8\" standalone=\"no\"?>\n<!DOCTYPE svg PUBLIC \"-//W3C//DTD SVG 1.1//EN\"\n  \"http://www.w3.org/Graphics/SVG/1.1/DTD/svg11.dtd\">\n<!-- Created with matplotlib (https://matplotlib.org/) -->\n<svg height=\"248.518125pt\" version=\"1.1\" viewBox=\"0 0 368.925 248.518125\" width=\"368.925pt\" xmlns=\"http://www.w3.org/2000/svg\" xmlns:xlink=\"http://www.w3.org/1999/xlink\">\n <metadata>\n  <rdf:RDF xmlns:cc=\"http://creativecommons.org/ns#\" xmlns:dc=\"http://purl.org/dc/elements/1.1/\" xmlns:rdf=\"http://www.w3.org/1999/02/22-rdf-syntax-ns#\">\n   <cc:Work>\n    <dc:type rdf:resource=\"http://purl.org/dc/dcmitype/StillImage\"/>\n    <dc:date>2021-02-18T17:37:13.903428</dc:date>\n    <dc:format>image/svg+xml</dc:format>\n    <dc:creator>\n     <cc:Agent>\n      <dc:title>Matplotlib v3.3.2, https://matplotlib.org/</dc:title>\n     </cc:Agent>\n    </dc:creator>\n   </cc:Work>\n  </rdf:RDF>\n </metadata>\n <defs>\n  <style type=\"text/css\">*{stroke-linecap:butt;stroke-linejoin:round;}</style>\n </defs>\n <g id=\"figure_1\">\n  <g id=\"patch_1\">\n   <path d=\"M -0 248.518125 \nL 368.925 248.518125 \nL 368.925 0 \nL -0 0 \nz\n\" style=\"fill:none;\"/>\n  </g>\n  <g id=\"axes_1\">\n   <g id=\"patch_2\">\n    <path d=\"M 26.925 224.64 \nL 361.725 224.64 \nL 361.725 7.2 \nL 26.925 7.2 \nz\n\" style=\"fill:#ffffff;\"/>\n   </g>\n   <g id=\"patch_3\">\n    <path clip-path=\"url(#pbefc81a529)\" d=\"M 42.143182 224.64 \nL 48.230455 224.64 \nL 48.230455 218.268132 \nL 42.143182 218.268132 \nz\n\" style=\"fill:#1f77b4;opacity:0.5;\"/>\n   </g>\n   <g id=\"patch_4\">\n    <path clip-path=\"url(#pbefc81a529)\" d=\"M 48.230455 224.64 \nL 54.317727 224.64 \nL 54.317727 224.64 \nL 48.230455 224.64 \nz\n\" style=\"fill:#1f77b4;opacity:0.5;\"/>\n   </g>\n   <g id=\"patch_5\">\n    <path clip-path=\"url(#pbefc81a529)\" d=\"M 54.317727 224.64 \nL 60.405 224.64 \nL 60.405 224.64 \nL 54.317727 224.64 \nz\n\" style=\"fill:#1f77b4;opacity:0.5;\"/>\n   </g>\n   <g id=\"patch_6\">\n    <path clip-path=\"url(#pbefc81a529)\" d=\"M 60.405 224.64 \nL 66.492273 224.64 \nL 66.492273 224.64 \nL 60.405 224.64 \nz\n\" style=\"fill:#1f77b4;opacity:0.5;\"/>\n   </g>\n   <g id=\"patch_7\">\n    <path clip-path=\"url(#pbefc81a529)\" d=\"M 66.492273 224.64 \nL 72.579545 224.64 \nL 72.579545 224.64 \nL 66.492273 224.64 \nz\n\" style=\"fill:#1f77b4;opacity:0.5;\"/>\n   </g>\n   <g id=\"patch_8\">\n    <path clip-path=\"url(#pbefc81a529)\" d=\"M 72.579545 224.64 \nL 78.666818 224.64 \nL 78.666818 224.64 \nL 72.579545 224.64 \nz\n\" style=\"fill:#1f77b4;opacity:0.5;\"/>\n   </g>\n   <g id=\"patch_9\">\n    <path clip-path=\"url(#pbefc81a529)\" d=\"M 78.666818 224.64 \nL 84.754091 224.64 \nL 84.754091 215.082198 \nL 78.666818 215.082198 \nz\n\" style=\"fill:#1f77b4;opacity:0.5;\"/>\n   </g>\n   <g id=\"patch_10\">\n    <path clip-path=\"url(#pbefc81a529)\" d=\"M 84.754091 224.64 \nL 90.841364 224.64 \nL 90.841364 221.454066 \nL 84.754091 221.454066 \nz\n\" style=\"fill:#1f77b4;opacity:0.5;\"/>\n   </g>\n   <g id=\"patch_11\">\n    <path clip-path=\"url(#pbefc81a529)\" d=\"M 90.841364 224.64 \nL 96.928636 224.64 \nL 96.928636 205.524396 \nL 90.841364 205.524396 \nz\n\" style=\"fill:#1f77b4;opacity:0.5;\"/>\n   </g>\n   <g id=\"patch_12\">\n    <path clip-path=\"url(#pbefc81a529)\" d=\"M 96.928636 224.64 \nL 103.015909 224.64 \nL 103.015909 211.896264 \nL 96.928636 211.896264 \nz\n\" style=\"fill:#1f77b4;opacity:0.5;\"/>\n   </g>\n   <g id=\"patch_13\">\n    <path clip-path=\"url(#pbefc81a529)\" d=\"M 103.015909 224.64 \nL 109.103182 224.64 \nL 109.103182 208.71033 \nL 103.015909 208.71033 \nz\n\" style=\"fill:#1f77b4;opacity:0.5;\"/>\n   </g>\n   <g id=\"patch_14\">\n    <path clip-path=\"url(#pbefc81a529)\" d=\"M 109.103182 224.64 \nL 115.190455 224.64 \nL 115.190455 195.966593 \nL 109.103182 195.966593 \nz\n\" style=\"fill:#1f77b4;opacity:0.5;\"/>\n   </g>\n   <g id=\"patch_15\">\n    <path clip-path=\"url(#pbefc81a529)\" d=\"M 115.190455 224.64 \nL 121.277727 224.64 \nL 121.277727 189.594725 \nL 115.190455 189.594725 \nz\n\" style=\"fill:#1f77b4;opacity:0.5;\"/>\n   </g>\n   <g id=\"patch_16\">\n    <path clip-path=\"url(#pbefc81a529)\" d=\"M 121.277727 224.64 \nL 127.365 224.64 \nL 127.365 202.338462 \nL 121.277727 202.338462 \nz\n\" style=\"fill:#1f77b4;opacity:0.5;\"/>\n   </g>\n   <g id=\"patch_17\">\n    <path clip-path=\"url(#pbefc81a529)\" d=\"M 127.365 224.64 \nL 133.452273 224.64 \nL 133.452273 199.152527 \nL 127.365 199.152527 \nz\n\" style=\"fill:#1f77b4;opacity:0.5;\"/>\n   </g>\n   <g id=\"patch_18\">\n    <path clip-path=\"url(#pbefc81a529)\" d=\"M 133.452273 224.64 \nL 139.539545 224.64 \nL 139.539545 170.479121 \nL 133.452273 170.479121 \nz\n\" style=\"fill:#1f77b4;opacity:0.5;\"/>\n   </g>\n   <g id=\"patch_19\">\n    <path clip-path=\"url(#pbefc81a529)\" d=\"M 139.539545 224.64 \nL 145.626818 224.64 \nL 145.626818 154.549451 \nL 139.539545 154.549451 \nz\n\" style=\"fill:#1f77b4;opacity:0.5;\"/>\n   </g>\n   <g id=\"patch_20\">\n    <path clip-path=\"url(#pbefc81a529)\" d=\"M 145.626818 224.64 \nL 151.714091 224.64 \nL 151.714091 167.293187 \nL 145.626818 167.293187 \nz\n\" style=\"fill:#1f77b4;opacity:0.5;\"/>\n   </g>\n   <g id=\"patch_21\">\n    <path clip-path=\"url(#pbefc81a529)\" d=\"M 151.714091 224.64 \nL 157.801364 224.64 \nL 157.801364 144.991648 \nL 151.714091 144.991648 \nz\n\" style=\"fill:#1f77b4;opacity:0.5;\"/>\n   </g>\n   <g id=\"patch_22\">\n    <path clip-path=\"url(#pbefc81a529)\" d=\"M 157.801364 224.64 \nL 163.888636 224.64 \nL 163.888636 154.549451 \nL 157.801364 154.549451 \nz\n\" style=\"fill:#1f77b4;opacity:0.5;\"/>\n   </g>\n   <g id=\"patch_23\">\n    <path clip-path=\"url(#pbefc81a529)\" d=\"M 163.888636 224.64 \nL 169.975909 224.64 \nL 169.975909 154.549451 \nL 163.888636 154.549451 \nz\n\" style=\"fill:#1f77b4;opacity:0.5;\"/>\n   </g>\n   <g id=\"patch_24\">\n    <path clip-path=\"url(#pbefc81a529)\" d=\"M 169.975909 224.64 \nL 176.063182 224.64 \nL 176.063182 87.644835 \nL 169.975909 87.644835 \nz\n\" style=\"fill:#1f77b4;opacity:0.5;\"/>\n   </g>\n   <g id=\"patch_25\">\n    <path clip-path=\"url(#pbefc81a529)\" d=\"M 176.063182 224.64 \nL 182.150455 224.64 \nL 182.150455 71.715165 \nL 176.063182 71.715165 \nz\n\" style=\"fill:#1f77b4;opacity:0.5;\"/>\n   </g>\n   <g id=\"patch_26\">\n    <path clip-path=\"url(#pbefc81a529)\" d=\"M 182.150455 224.64 \nL 188.237727 224.64 \nL 188.237727 36.66989 \nL 182.150455 36.66989 \nz\n\" style=\"fill:#1f77b4;opacity:0.5;\"/>\n   </g>\n   <g id=\"patch_27\">\n    <path clip-path=\"url(#pbefc81a529)\" d=\"M 188.237727 224.64 \nL 194.325 224.64 \nL 194.325 81.272967 \nL 188.237727 81.272967 \nz\n\" style=\"fill:#1f77b4;opacity:0.5;\"/>\n   </g>\n   <g id=\"patch_28\">\n    <path clip-path=\"url(#pbefc81a529)\" d=\"M 194.325 224.64 \nL 200.412273 224.64 \nL 200.412273 68.529231 \nL 194.325 68.529231 \nz\n\" style=\"fill:#1f77b4;opacity:0.5;\"/>\n   </g>\n   <g id=\"patch_29\">\n    <path clip-path=\"url(#pbefc81a529)\" d=\"M 200.412273 224.64 \nL 206.499545 224.64 \nL 206.499545 49.413626 \nL 200.412273 49.413626 \nz\n\" style=\"fill:#1f77b4;opacity:0.5;\"/>\n   </g>\n   <g id=\"patch_30\">\n    <path clip-path=\"url(#pbefc81a529)\" d=\"M 206.499545 224.64 \nL 212.586818 224.64 \nL 212.586818 43.041758 \nL 206.499545 43.041758 \nz\n\" style=\"fill:#1f77b4;opacity:0.5;\"/>\n   </g>\n   <g id=\"patch_31\">\n    <path clip-path=\"url(#pbefc81a529)\" d=\"M 212.586818 224.64 \nL 218.674091 224.64 \nL 218.674091 103.574505 \nL 212.586818 103.574505 \nz\n\" style=\"fill:#1f77b4;opacity:0.5;\"/>\n   </g>\n   <g id=\"patch_32\">\n    <path clip-path=\"url(#pbefc81a529)\" d=\"M 218.674091 224.64 \nL 224.761364 224.64 \nL 224.761364 23.926154 \nL 218.674091 23.926154 \nz\n\" style=\"fill:#1f77b4;opacity:0.5;\"/>\n   </g>\n   <g id=\"patch_33\">\n    <path clip-path=\"url(#pbefc81a529)\" d=\"M 224.761364 224.64 \nL 230.848636 224.64 \nL 230.848636 97.202637 \nL 224.761364 97.202637 \nz\n\" style=\"fill:#1f77b4;opacity:0.5;\"/>\n   </g>\n   <g id=\"patch_34\">\n    <path clip-path=\"url(#pbefc81a529)\" d=\"M 230.848636 224.64 \nL 236.935909 224.64 \nL 236.935909 17.554286 \nL 230.848636 17.554286 \nz\n\" style=\"fill:#1f77b4;opacity:0.5;\"/>\n   </g>\n   <g id=\"patch_35\">\n    <path clip-path=\"url(#pbefc81a529)\" d=\"M 236.935909 224.64 \nL 243.023182 224.64 \nL 243.023182 100.388571 \nL 236.935909 100.388571 \nz\n\" style=\"fill:#1f77b4;opacity:0.5;\"/>\n   </g>\n   <g id=\"patch_36\">\n    <path clip-path=\"url(#pbefc81a529)\" d=\"M 243.023182 224.64 \nL 249.110455 224.64 \nL 249.110455 119.504176 \nL 243.023182 119.504176 \nz\n\" style=\"fill:#1f77b4;opacity:0.5;\"/>\n   </g>\n   <g id=\"patch_37\">\n    <path clip-path=\"url(#pbefc81a529)\" d=\"M 249.110455 224.64 \nL 255.197727 224.64 \nL 255.197727 97.202637 \nL 249.110455 97.202637 \nz\n\" style=\"fill:#1f77b4;opacity:0.5;\"/>\n   </g>\n   <g id=\"patch_38\">\n    <path clip-path=\"url(#pbefc81a529)\" d=\"M 255.197727 224.64 \nL 261.285 224.64 \nL 261.285 129.061978 \nL 255.197727 129.061978 \nz\n\" style=\"fill:#1f77b4;opacity:0.5;\"/>\n   </g>\n   <g id=\"patch_39\">\n    <path clip-path=\"url(#pbefc81a529)\" d=\"M 261.285 224.64 \nL 267.372273 224.64 \nL 267.372273 141.805714 \nL 261.285 141.805714 \nz\n\" style=\"fill:#1f77b4;opacity:0.5;\"/>\n   </g>\n   <g id=\"patch_40\">\n    <path clip-path=\"url(#pbefc81a529)\" d=\"M 267.372273 224.64 \nL 273.459545 224.64 \nL 273.459545 180.036923 \nL 267.372273 180.036923 \nz\n\" style=\"fill:#1f77b4;opacity:0.5;\"/>\n   </g>\n   <g id=\"patch_41\">\n    <path clip-path=\"url(#pbefc81a529)\" d=\"M 273.459545 224.64 \nL 279.546818 224.64 \nL 279.546818 151.363516 \nL 273.459545 151.363516 \nz\n\" style=\"fill:#1f77b4;opacity:0.5;\"/>\n   </g>\n   <g id=\"patch_42\">\n    <path clip-path=\"url(#pbefc81a529)\" d=\"M 279.546818 224.64 \nL 285.634091 224.64 \nL 285.634091 195.966593 \nL 279.546818 195.966593 \nz\n\" style=\"fill:#1f77b4;opacity:0.5;\"/>\n   </g>\n   <g id=\"patch_43\">\n    <path clip-path=\"url(#pbefc81a529)\" d=\"M 285.634091 224.64 \nL 291.721364 224.64 \nL 291.721364 199.152527 \nL 285.634091 199.152527 \nz\n\" style=\"fill:#1f77b4;opacity:0.5;\"/>\n   </g>\n   <g id=\"patch_44\">\n    <path clip-path=\"url(#pbefc81a529)\" d=\"M 291.721364 224.64 \nL 297.808636 224.64 \nL 297.808636 205.524396 \nL 291.721364 205.524396 \nz\n\" style=\"fill:#1f77b4;opacity:0.5;\"/>\n   </g>\n   <g id=\"patch_45\">\n    <path clip-path=\"url(#pbefc81a529)\" d=\"M 297.808636 224.64 \nL 303.895909 224.64 \nL 303.895909 195.966593 \nL 297.808636 195.966593 \nz\n\" style=\"fill:#1f77b4;opacity:0.5;\"/>\n   </g>\n   <g id=\"patch_46\">\n    <path clip-path=\"url(#pbefc81a529)\" d=\"M 303.895909 224.64 \nL 309.983182 224.64 \nL 309.983182 199.152527 \nL 303.895909 199.152527 \nz\n\" style=\"fill:#1f77b4;opacity:0.5;\"/>\n   </g>\n   <g id=\"patch_47\">\n    <path clip-path=\"url(#pbefc81a529)\" d=\"M 309.983182 224.64 \nL 316.070455 224.64 \nL 316.070455 215.082198 \nL 309.983182 215.082198 \nz\n\" style=\"fill:#1f77b4;opacity:0.5;\"/>\n   </g>\n   <g id=\"patch_48\">\n    <path clip-path=\"url(#pbefc81a529)\" d=\"M 316.070455 224.64 \nL 322.157727 224.64 \nL 322.157727 224.64 \nL 316.070455 224.64 \nz\n\" style=\"fill:#1f77b4;opacity:0.5;\"/>\n   </g>\n   <g id=\"patch_49\">\n    <path clip-path=\"url(#pbefc81a529)\" d=\"M 322.157727 224.64 \nL 328.245 224.64 \nL 328.245 211.896264 \nL 322.157727 211.896264 \nz\n\" style=\"fill:#1f77b4;opacity:0.5;\"/>\n   </g>\n   <g id=\"patch_50\">\n    <path clip-path=\"url(#pbefc81a529)\" d=\"M 328.245 224.64 \nL 334.332273 224.64 \nL 334.332273 221.454066 \nL 328.245 221.454066 \nz\n\" style=\"fill:#1f77b4;opacity:0.5;\"/>\n   </g>\n   <g id=\"patch_51\">\n    <path clip-path=\"url(#pbefc81a529)\" d=\"M 334.332273 224.64 \nL 340.419545 224.64 \nL 340.419545 224.64 \nL 334.332273 224.64 \nz\n\" style=\"fill:#1f77b4;opacity:0.5;\"/>\n   </g>\n   <g id=\"patch_52\">\n    <path clip-path=\"url(#pbefc81a529)\" d=\"M 340.419545 224.64 \nL 346.506818 224.64 \nL 346.506818 215.082198 \nL 340.419545 215.082198 \nz\n\" style=\"fill:#1f77b4;opacity:0.5;\"/>\n   </g>\n   <g id=\"patch_53\">\n    <path clip-path=\"url(#pbefc81a529)\" d=\"M 72.941883 224.64 \nL 78.286364 224.64 \nL 78.286364 221.454066 \nL 72.941883 221.454066 \nz\n\" style=\"fill:#ff7f0e;opacity:0.5;\"/>\n   </g>\n   <g id=\"patch_54\">\n    <path clip-path=\"url(#pbefc81a529)\" d=\"M 78.286364 224.64 \nL 83.630844 224.64 \nL 83.630844 221.454066 \nL 78.286364 221.454066 \nz\n\" style=\"fill:#ff7f0e;opacity:0.5;\"/>\n   </g>\n   <g id=\"patch_55\">\n    <path clip-path=\"url(#pbefc81a529)\" d=\"M 83.630844 224.64 \nL 88.975325 224.64 \nL 88.975325 221.454066 \nL 83.630844 221.454066 \nz\n\" style=\"fill:#ff7f0e;opacity:0.5;\"/>\n   </g>\n   <g id=\"patch_56\">\n    <path clip-path=\"url(#pbefc81a529)\" d=\"M 88.975325 224.64 \nL 94.319805 224.64 \nL 94.319805 218.268132 \nL 88.975325 218.268132 \nz\n\" style=\"fill:#ff7f0e;opacity:0.5;\"/>\n   </g>\n   <g id=\"patch_57\">\n    <path clip-path=\"url(#pbefc81a529)\" d=\"M 94.319805 224.64 \nL 99.664286 224.64 \nL 99.664286 215.082198 \nL 94.319805 215.082198 \nz\n\" style=\"fill:#ff7f0e;opacity:0.5;\"/>\n   </g>\n   <g id=\"patch_58\">\n    <path clip-path=\"url(#pbefc81a529)\" d=\"M 99.664286 224.64 \nL 105.008766 224.64 \nL 105.008766 211.896264 \nL 99.664286 211.896264 \nz\n\" style=\"fill:#ff7f0e;opacity:0.5;\"/>\n   </g>\n   <g id=\"patch_59\">\n    <path clip-path=\"url(#pbefc81a529)\" d=\"M 105.008766 224.64 \nL 110.353247 224.64 \nL 110.353247 208.71033 \nL 105.008766 208.71033 \nz\n\" style=\"fill:#ff7f0e;opacity:0.5;\"/>\n   </g>\n   <g id=\"patch_60\">\n    <path clip-path=\"url(#pbefc81a529)\" d=\"M 110.353247 224.64 \nL 115.697727 224.64 \nL 115.697727 202.338462 \nL 110.353247 202.338462 \nz\n\" style=\"fill:#ff7f0e;opacity:0.5;\"/>\n   </g>\n   <g id=\"patch_61\">\n    <path clip-path=\"url(#pbefc81a529)\" d=\"M 115.697727 224.64 \nL 121.042208 224.64 \nL 121.042208 195.966593 \nL 115.697727 195.966593 \nz\n\" style=\"fill:#ff7f0e;opacity:0.5;\"/>\n   </g>\n   <g id=\"patch_62\">\n    <path clip-path=\"url(#pbefc81a529)\" d=\"M 121.042208 224.64 \nL 126.386688 224.64 \nL 126.386688 224.64 \nL 121.042208 224.64 \nz\n\" style=\"fill:#ff7f0e;opacity:0.5;\"/>\n   </g>\n   <g id=\"patch_63\">\n    <path clip-path=\"url(#pbefc81a529)\" d=\"M 126.386688 224.64 \nL 131.731169 224.64 \nL 131.731169 189.594725 \nL 126.386688 189.594725 \nz\n\" style=\"fill:#ff7f0e;opacity:0.5;\"/>\n   </g>\n   <g id=\"patch_64\">\n    <path clip-path=\"url(#pbefc81a529)\" d=\"M 131.731169 224.64 \nL 137.075649 224.64 \nL 137.075649 180.036923 \nL 131.731169 180.036923 \nz\n\" style=\"fill:#ff7f0e;opacity:0.5;\"/>\n   </g>\n   <g id=\"patch_65\">\n    <path clip-path=\"url(#pbefc81a529)\" d=\"M 137.075649 224.64 \nL 142.42013 224.64 \nL 142.42013 167.293187 \nL 137.075649 167.293187 \nz\n\" style=\"fill:#ff7f0e;opacity:0.5;\"/>\n   </g>\n   <g id=\"patch_66\">\n    <path clip-path=\"url(#pbefc81a529)\" d=\"M 142.42013 224.64 \nL 147.76461 224.64 \nL 147.76461 157.735385 \nL 142.42013 157.735385 \nz\n\" style=\"fill:#ff7f0e;opacity:0.5;\"/>\n   </g>\n   <g id=\"patch_67\">\n    <path clip-path=\"url(#pbefc81a529)\" d=\"M 147.76461 224.64 \nL 153.109091 224.64 \nL 153.109091 141.805714 \nL 147.76461 141.805714 \nz\n\" style=\"fill:#ff7f0e;opacity:0.5;\"/>\n   </g>\n   <g id=\"patch_68\">\n    <path clip-path=\"url(#pbefc81a529)\" d=\"M 153.109091 224.64 \nL 158.453571 224.64 \nL 158.453571 129.061978 \nL 153.109091 129.061978 \nz\n\" style=\"fill:#ff7f0e;opacity:0.5;\"/>\n   </g>\n   <g id=\"patch_69\">\n    <path clip-path=\"url(#pbefc81a529)\" d=\"M 158.453571 224.64 \nL 163.798052 224.64 \nL 163.798052 116.318242 \nL 158.453571 116.318242 \nz\n\" style=\"fill:#ff7f0e;opacity:0.5;\"/>\n   </g>\n   <g id=\"patch_70\">\n    <path clip-path=\"url(#pbefc81a529)\" d=\"M 163.798052 224.64 \nL 169.142532 224.64 \nL 169.142532 224.64 \nL 163.798052 224.64 \nz\n\" style=\"fill:#ff7f0e;opacity:0.5;\"/>\n   </g>\n   <g id=\"patch_71\">\n    <path clip-path=\"url(#pbefc81a529)\" d=\"M 169.142532 224.64 \nL 174.487013 224.64 \nL 174.487013 103.574505 \nL 169.142532 103.574505 \nz\n\" style=\"fill:#ff7f0e;opacity:0.5;\"/>\n   </g>\n   <g id=\"patch_72\">\n    <path clip-path=\"url(#pbefc81a529)\" d=\"M 174.487013 224.64 \nL 179.831494 224.64 \nL 179.831494 87.644835 \nL 174.487013 87.644835 \nz\n\" style=\"fill:#ff7f0e;opacity:0.5;\"/>\n   </g>\n   <g id=\"patch_73\">\n    <path clip-path=\"url(#pbefc81a529)\" d=\"M 179.831494 224.64 \nL 185.175974 224.64 \nL 185.175974 78.087033 \nL 179.831494 78.087033 \nz\n\" style=\"fill:#ff7f0e;opacity:0.5;\"/>\n   </g>\n   <g id=\"patch_74\">\n    <path clip-path=\"url(#pbefc81a529)\" d=\"M 185.175974 224.64 \nL 190.520455 224.64 \nL 190.520455 68.529231 \nL 185.175974 68.529231 \nz\n\" style=\"fill:#ff7f0e;opacity:0.5;\"/>\n   </g>\n   <g id=\"patch_75\">\n    <path clip-path=\"url(#pbefc81a529)\" d=\"M 190.520455 224.64 \nL 195.864935 224.64 \nL 195.864935 58.971429 \nL 190.520455 58.971429 \nz\n\" style=\"fill:#ff7f0e;opacity:0.5;\"/>\n   </g>\n   <g id=\"patch_76\">\n    <path clip-path=\"url(#pbefc81a529)\" d=\"M 195.864935 224.64 \nL 201.209416 224.64 \nL 201.209416 55.785495 \nL 195.864935 55.785495 \nz\n\" style=\"fill:#ff7f0e;opacity:0.5;\"/>\n   </g>\n   <g id=\"patch_77\">\n    <path clip-path=\"url(#pbefc81a529)\" d=\"M 201.209416 224.64 \nL 206.553896 224.64 \nL 206.553896 52.59956 \nL 201.209416 52.59956 \nz\n\" style=\"fill:#ff7f0e;opacity:0.5;\"/>\n   </g>\n   <g id=\"patch_78\">\n    <path clip-path=\"url(#pbefc81a529)\" d=\"M 206.553896 224.64 \nL 211.898377 224.64 \nL 211.898377 224.64 \nL 206.553896 224.64 \nz\n\" style=\"fill:#ff7f0e;opacity:0.5;\"/>\n   </g>\n   <g id=\"patch_79\">\n    <path clip-path=\"url(#pbefc81a529)\" d=\"M 211.898377 224.64 \nL 217.242857 224.64 \nL 217.242857 55.785495 \nL 211.898377 55.785495 \nz\n\" style=\"fill:#ff7f0e;opacity:0.5;\"/>\n   </g>\n   <g id=\"patch_80\">\n    <path clip-path=\"url(#pbefc81a529)\" d=\"M 217.242857 224.64 \nL 222.587338 224.64 \nL 222.587338 58.971429 \nL 217.242857 58.971429 \nz\n\" style=\"fill:#ff7f0e;opacity:0.5;\"/>\n   </g>\n   <g id=\"patch_81\">\n    <path clip-path=\"url(#pbefc81a529)\" d=\"M 222.587338 224.64 \nL 227.931818 224.64 \nL 227.931818 65.343297 \nL 222.587338 65.343297 \nz\n\" style=\"fill:#ff7f0e;opacity:0.5;\"/>\n   </g>\n   <g id=\"patch_82\">\n    <path clip-path=\"url(#pbefc81a529)\" d=\"M 227.931818 224.64 \nL 233.276299 224.64 \nL 233.276299 74.901099 \nL 227.931818 74.901099 \nz\n\" style=\"fill:#ff7f0e;opacity:0.5;\"/>\n   </g>\n   <g id=\"patch_83\">\n    <path clip-path=\"url(#pbefc81a529)\" d=\"M 233.276299 224.64 \nL 238.620779 224.64 \nL 238.620779 87.644835 \nL 233.276299 87.644835 \nz\n\" style=\"fill:#ff7f0e;opacity:0.5;\"/>\n   </g>\n   <g id=\"patch_84\">\n    <path clip-path=\"url(#pbefc81a529)\" d=\"M 238.620779 224.64 \nL 243.96526 224.64 \nL 243.96526 100.388571 \nL 238.620779 100.388571 \nz\n\" style=\"fill:#ff7f0e;opacity:0.5;\"/>\n   </g>\n   <g id=\"patch_85\">\n    <path clip-path=\"url(#pbefc81a529)\" d=\"M 243.96526 224.64 \nL 249.30974 224.64 \nL 249.30974 113.132308 \nL 243.96526 113.132308 \nz\n\" style=\"fill:#ff7f0e;opacity:0.5;\"/>\n   </g>\n   <g id=\"patch_86\">\n    <path clip-path=\"url(#pbefc81a529)\" d=\"M 249.30974 224.64 \nL 254.654221 224.64 \nL 254.654221 224.64 \nL 249.30974 224.64 \nz\n\" style=\"fill:#ff7f0e;opacity:0.5;\"/>\n   </g>\n   <g id=\"patch_87\">\n    <path clip-path=\"url(#pbefc81a529)\" d=\"M 254.654221 224.64 \nL 259.998701 224.64 \nL 259.998701 125.876044 \nL 254.654221 125.876044 \nz\n\" style=\"fill:#ff7f0e;opacity:0.5;\"/>\n   </g>\n   <g id=\"patch_88\">\n    <path clip-path=\"url(#pbefc81a529)\" d=\"M 259.998701 224.64 \nL 265.343182 224.64 \nL 265.343182 141.805714 \nL 259.998701 141.805714 \nz\n\" style=\"fill:#ff7f0e;opacity:0.5;\"/>\n   </g>\n   <g id=\"patch_89\">\n    <path clip-path=\"url(#pbefc81a529)\" d=\"M 265.343182 224.64 \nL 270.687662 224.64 \nL 270.687662 154.549451 \nL 265.343182 154.549451 \nz\n\" style=\"fill:#ff7f0e;opacity:0.5;\"/>\n   </g>\n   <g id=\"patch_90\">\n    <path clip-path=\"url(#pbefc81a529)\" d=\"M 270.687662 224.64 \nL 276.032143 224.64 \nL 276.032143 167.293187 \nL 270.687662 167.293187 \nz\n\" style=\"fill:#ff7f0e;opacity:0.5;\"/>\n   </g>\n   <g id=\"patch_91\">\n    <path clip-path=\"url(#pbefc81a529)\" d=\"M 276.032143 224.64 \nL 281.376623 224.64 \nL 281.376623 176.850989 \nL 276.032143 176.850989 \nz\n\" style=\"fill:#ff7f0e;opacity:0.5;\"/>\n   </g>\n   <g id=\"patch_92\">\n    <path clip-path=\"url(#pbefc81a529)\" d=\"M 281.376623 224.64 \nL 286.721104 224.64 \nL 286.721104 186.408791 \nL 281.376623 186.408791 \nz\n\" style=\"fill:#ff7f0e;opacity:0.5;\"/>\n   </g>\n   <g id=\"patch_93\">\n    <path clip-path=\"url(#pbefc81a529)\" d=\"M 286.721104 224.64 \nL 292.065584 224.64 \nL 292.065584 224.64 \nL 286.721104 224.64 \nz\n\" style=\"fill:#ff7f0e;opacity:0.5;\"/>\n   </g>\n   <g id=\"patch_94\">\n    <path clip-path=\"url(#pbefc81a529)\" d=\"M 292.065584 224.64 \nL 297.410065 224.64 \nL 297.410065 195.966593 \nL 292.065584 195.966593 \nz\n\" style=\"fill:#ff7f0e;opacity:0.5;\"/>\n   </g>\n   <g id=\"patch_95\">\n    <path clip-path=\"url(#pbefc81a529)\" d=\"M 297.410065 224.64 \nL 302.754545 224.64 \nL 302.754545 202.338462 \nL 297.410065 202.338462 \nz\n\" style=\"fill:#ff7f0e;opacity:0.5;\"/>\n   </g>\n   <g id=\"patch_96\">\n    <path clip-path=\"url(#pbefc81a529)\" d=\"M 302.754545 224.64 \nL 308.099026 224.64 \nL 308.099026 208.71033 \nL 302.754545 208.71033 \nz\n\" style=\"fill:#ff7f0e;opacity:0.5;\"/>\n   </g>\n   <g id=\"patch_97\">\n    <path clip-path=\"url(#pbefc81a529)\" d=\"M 308.099026 224.64 \nL 313.443506 224.64 \nL 313.443506 211.896264 \nL 308.099026 211.896264 \nz\n\" style=\"fill:#ff7f0e;opacity:0.5;\"/>\n   </g>\n   <g id=\"patch_98\">\n    <path clip-path=\"url(#pbefc81a529)\" d=\"M 313.443506 224.64 \nL 318.787987 224.64 \nL 318.787987 215.082198 \nL 313.443506 215.082198 \nz\n\" style=\"fill:#ff7f0e;opacity:0.5;\"/>\n   </g>\n   <g id=\"patch_99\">\n    <path clip-path=\"url(#pbefc81a529)\" d=\"M 318.787987 224.64 \nL 324.132468 224.64 \nL 324.132468 218.268132 \nL 318.787987 218.268132 \nz\n\" style=\"fill:#ff7f0e;opacity:0.5;\"/>\n   </g>\n   <g id=\"patch_100\">\n    <path clip-path=\"url(#pbefc81a529)\" d=\"M 324.132468 224.64 \nL 329.476948 224.64 \nL 329.476948 221.454066 \nL 324.132468 221.454066 \nz\n\" style=\"fill:#ff7f0e;opacity:0.5;\"/>\n   </g>\n   <g id=\"patch_101\">\n    <path clip-path=\"url(#pbefc81a529)\" d=\"M 329.476948 224.64 \nL 334.821429 224.64 \nL 334.821429 221.454066 \nL 329.476948 221.454066 \nz\n\" style=\"fill:#ff7f0e;opacity:0.5;\"/>\n   </g>\n   <g id=\"patch_102\">\n    <path clip-path=\"url(#pbefc81a529)\" d=\"M 334.821429 224.64 \nL 340.165909 224.64 \nL 340.165909 221.454066 \nL 334.821429 221.454066 \nz\n\" style=\"fill:#ff7f0e;opacity:0.5;\"/>\n   </g>\n   <g id=\"matplotlib.axis_1\">\n    <g id=\"xtick_1\">\n     <g id=\"line2d_1\">\n      <defs>\n       <path d=\"M 0 0 \nL 0 3.5 \n\" id=\"mc4be641789\" style=\"stroke:#000000;stroke-width:0.8;\"/>\n      </defs>\n      <g>\n       <use style=\"stroke:#000000;stroke-width:0.8;\" x=\"71.130195\" xlink:href=\"#mc4be641789\" y=\"224.64\"/>\n      </g>\n     </g>\n     <g id=\"text_1\">\n      <!-- −300 -->\n      <g transform=\"translate(57.396601 239.238437)scale(0.1 -0.1)\">\n       <defs>\n        <path d=\"M 10.59375 35.5 \nL 73.1875 35.5 \nL 73.1875 27.203125 \nL 10.59375 27.203125 \nz\n\" id=\"DejaVuSans-8722\"/>\n        <path d=\"M 40.578125 39.3125 \nQ 47.65625 37.796875 51.625 33 \nQ 55.609375 28.21875 55.609375 21.1875 \nQ 55.609375 10.40625 48.1875 4.484375 \nQ 40.765625 -1.421875 27.09375 -1.421875 \nQ 22.515625 -1.421875 17.65625 -0.515625 \nQ 12.796875 0.390625 7.625 2.203125 \nL 7.625 11.71875 \nQ 11.71875 9.328125 16.59375 8.109375 \nQ 21.484375 6.890625 26.8125 6.890625 \nQ 36.078125 6.890625 40.9375 10.546875 \nQ 45.796875 14.203125 45.796875 21.1875 \nQ 45.796875 27.640625 41.28125 31.265625 \nQ 36.765625 34.90625 28.71875 34.90625 \nL 20.21875 34.90625 \nL 20.21875 43.015625 \nL 29.109375 43.015625 \nQ 36.375 43.015625 40.234375 45.921875 \nQ 44.09375 48.828125 44.09375 54.296875 \nQ 44.09375 59.90625 40.109375 62.90625 \nQ 36.140625 65.921875 28.71875 65.921875 \nQ 24.65625 65.921875 20.015625 65.03125 \nQ 15.375 64.15625 9.8125 62.3125 \nL 9.8125 71.09375 \nQ 15.4375 72.65625 20.34375 73.4375 \nQ 25.25 74.21875 29.59375 74.21875 \nQ 40.828125 74.21875 47.359375 69.109375 \nQ 53.90625 64.015625 53.90625 55.328125 \nQ 53.90625 49.265625 50.4375 45.09375 \nQ 46.96875 40.921875 40.578125 39.3125 \nz\n\" id=\"DejaVuSans-51\"/>\n        <path d=\"M 31.78125 66.40625 \nQ 24.171875 66.40625 20.328125 58.90625 \nQ 16.5 51.421875 16.5 36.375 \nQ 16.5 21.390625 20.328125 13.890625 \nQ 24.171875 6.390625 31.78125 6.390625 \nQ 39.453125 6.390625 43.28125 13.890625 \nQ 47.125 21.390625 47.125 36.375 \nQ 47.125 51.421875 43.28125 58.90625 \nQ 39.453125 66.40625 31.78125 66.40625 \nz\nM 31.78125 74.21875 \nQ 44.046875 74.21875 50.515625 64.515625 \nQ 56.984375 54.828125 56.984375 36.375 \nQ 56.984375 17.96875 50.515625 8.265625 \nQ 44.046875 -1.421875 31.78125 -1.421875 \nQ 19.53125 -1.421875 13.0625 8.265625 \nQ 6.59375 17.96875 6.59375 36.375 \nQ 6.59375 54.828125 13.0625 64.515625 \nQ 19.53125 74.21875 31.78125 74.21875 \nz\n\" id=\"DejaVuSans-48\"/>\n       </defs>\n       <use xlink:href=\"#DejaVuSans-8722\"/>\n       <use x=\"83.789062\" xlink:href=\"#DejaVuSans-51\"/>\n       <use x=\"147.412109\" xlink:href=\"#DejaVuSans-48\"/>\n       <use x=\"211.035156\" xlink:href=\"#DejaVuSans-48\"/>\n      </g>\n     </g>\n    </g>\n    <g id=\"xtick_2\">\n     <g id=\"line2d_2\">\n      <g>\n       <use style=\"stroke:#000000;stroke-width:0.8;\" x=\"116.422403\" xlink:href=\"#mc4be641789\" y=\"224.64\"/>\n      </g>\n     </g>\n     <g id=\"text_2\">\n      <!-- −200 -->\n      <g transform=\"translate(102.688809 239.238437)scale(0.1 -0.1)\">\n       <defs>\n        <path d=\"M 19.1875 8.296875 \nL 53.609375 8.296875 \nL 53.609375 0 \nL 7.328125 0 \nL 7.328125 8.296875 \nQ 12.9375 14.109375 22.625 23.890625 \nQ 32.328125 33.6875 34.8125 36.53125 \nQ 39.546875 41.84375 41.421875 45.53125 \nQ 43.3125 49.21875 43.3125 52.78125 \nQ 43.3125 58.59375 39.234375 62.25 \nQ 35.15625 65.921875 28.609375 65.921875 \nQ 23.96875 65.921875 18.8125 64.3125 \nQ 13.671875 62.703125 7.8125 59.421875 \nL 7.8125 69.390625 \nQ 13.765625 71.78125 18.9375 73 \nQ 24.125 74.21875 28.421875 74.21875 \nQ 39.75 74.21875 46.484375 68.546875 \nQ 53.21875 62.890625 53.21875 53.421875 \nQ 53.21875 48.921875 51.53125 44.890625 \nQ 49.859375 40.875 45.40625 35.40625 \nQ 44.1875 33.984375 37.640625 27.21875 \nQ 31.109375 20.453125 19.1875 8.296875 \nz\n\" id=\"DejaVuSans-50\"/>\n       </defs>\n       <use xlink:href=\"#DejaVuSans-8722\"/>\n       <use x=\"83.789062\" xlink:href=\"#DejaVuSans-50\"/>\n       <use x=\"147.412109\" xlink:href=\"#DejaVuSans-48\"/>\n       <use x=\"211.035156\" xlink:href=\"#DejaVuSans-48\"/>\n      </g>\n     </g>\n    </g>\n    <g id=\"xtick_3\">\n     <g id=\"line2d_3\">\n      <g>\n       <use style=\"stroke:#000000;stroke-width:0.8;\" x=\"161.71461\" xlink:href=\"#mc4be641789\" y=\"224.64\"/>\n      </g>\n     </g>\n     <g id=\"text_3\">\n      <!-- −100 -->\n      <g transform=\"translate(147.981017 239.238437)scale(0.1 -0.1)\">\n       <defs>\n        <path d=\"M 12.40625 8.296875 \nL 28.515625 8.296875 \nL 28.515625 63.921875 \nL 10.984375 60.40625 \nL 10.984375 69.390625 \nL 28.421875 72.90625 \nL 38.28125 72.90625 \nL 38.28125 8.296875 \nL 54.390625 8.296875 \nL 54.390625 0 \nL 12.40625 0 \nz\n\" id=\"DejaVuSans-49\"/>\n       </defs>\n       <use xlink:href=\"#DejaVuSans-8722\"/>\n       <use x=\"83.789062\" xlink:href=\"#DejaVuSans-49\"/>\n       <use x=\"147.412109\" xlink:href=\"#DejaVuSans-48\"/>\n       <use x=\"211.035156\" xlink:href=\"#DejaVuSans-48\"/>\n      </g>\n     </g>\n    </g>\n    <g id=\"xtick_4\">\n     <g id=\"line2d_4\">\n      <g>\n       <use style=\"stroke:#000000;stroke-width:0.8;\" x=\"207.006818\" xlink:href=\"#mc4be641789\" y=\"224.64\"/>\n      </g>\n     </g>\n     <g id=\"text_4\">\n      <!-- 0 -->\n      <g transform=\"translate(203.825568 239.238437)scale(0.1 -0.1)\">\n       <use xlink:href=\"#DejaVuSans-48\"/>\n      </g>\n     </g>\n    </g>\n    <g id=\"xtick_5\">\n     <g id=\"line2d_5\">\n      <g>\n       <use style=\"stroke:#000000;stroke-width:0.8;\" x=\"252.299026\" xlink:href=\"#mc4be641789\" y=\"224.64\"/>\n      </g>\n     </g>\n     <g id=\"text_5\">\n      <!-- 100 -->\n      <g transform=\"translate(242.755276 239.238437)scale(0.1 -0.1)\">\n       <use xlink:href=\"#DejaVuSans-49\"/>\n       <use x=\"63.623047\" xlink:href=\"#DejaVuSans-48\"/>\n       <use x=\"127.246094\" xlink:href=\"#DejaVuSans-48\"/>\n      </g>\n     </g>\n    </g>\n    <g id=\"xtick_6\">\n     <g id=\"line2d_6\">\n      <g>\n       <use style=\"stroke:#000000;stroke-width:0.8;\" x=\"297.591234\" xlink:href=\"#mc4be641789\" y=\"224.64\"/>\n      </g>\n     </g>\n     <g id=\"text_6\">\n      <!-- 200 -->\n      <g transform=\"translate(288.047484 239.238437)scale(0.1 -0.1)\">\n       <use xlink:href=\"#DejaVuSans-50\"/>\n       <use x=\"63.623047\" xlink:href=\"#DejaVuSans-48\"/>\n       <use x=\"127.246094\" xlink:href=\"#DejaVuSans-48\"/>\n      </g>\n     </g>\n    </g>\n    <g id=\"xtick_7\">\n     <g id=\"line2d_7\">\n      <g>\n       <use style=\"stroke:#000000;stroke-width:0.8;\" x=\"342.883442\" xlink:href=\"#mc4be641789\" y=\"224.64\"/>\n      </g>\n     </g>\n     <g id=\"text_7\">\n      <!-- 300 -->\n      <g transform=\"translate(333.339692 239.238437)scale(0.1 -0.1)\">\n       <use xlink:href=\"#DejaVuSans-51\"/>\n       <use x=\"63.623047\" xlink:href=\"#DejaVuSans-48\"/>\n       <use x=\"127.246094\" xlink:href=\"#DejaVuSans-48\"/>\n      </g>\n     </g>\n    </g>\n   </g>\n   <g id=\"matplotlib.axis_2\">\n    <g id=\"ytick_1\">\n     <g id=\"line2d_8\">\n      <defs>\n       <path d=\"M 0 0 \nL -3.5 0 \n\" id=\"m1316c20403\" style=\"stroke:#000000;stroke-width:0.8;\"/>\n      </defs>\n      <g>\n       <use style=\"stroke:#000000;stroke-width:0.8;\" x=\"26.925\" xlink:href=\"#m1316c20403\" y=\"224.64\"/>\n      </g>\n     </g>\n     <g id=\"text_8\">\n      <!-- 0 -->\n      <g transform=\"translate(13.5625 228.439219)scale(0.1 -0.1)\">\n       <use xlink:href=\"#DejaVuSans-48\"/>\n      </g>\n     </g>\n    </g>\n    <g id=\"ytick_2\">\n     <g id=\"line2d_9\">\n      <g>\n       <use style=\"stroke:#000000;stroke-width:0.8;\" x=\"26.925\" xlink:href=\"#m1316c20403\" y=\"192.780659\"/>\n      </g>\n     </g>\n     <g id=\"text_9\">\n      <!-- 10 -->\n      <g transform=\"translate(7.2 196.579878)scale(0.1 -0.1)\">\n       <use xlink:href=\"#DejaVuSans-49\"/>\n       <use x=\"63.623047\" xlink:href=\"#DejaVuSans-48\"/>\n      </g>\n     </g>\n    </g>\n    <g id=\"ytick_3\">\n     <g id=\"line2d_10\">\n      <g>\n       <use style=\"stroke:#000000;stroke-width:0.8;\" x=\"26.925\" xlink:href=\"#m1316c20403\" y=\"160.921319\"/>\n      </g>\n     </g>\n     <g id=\"text_10\">\n      <!-- 20 -->\n      <g transform=\"translate(7.2 164.720537)scale(0.1 -0.1)\">\n       <use xlink:href=\"#DejaVuSans-50\"/>\n       <use x=\"63.623047\" xlink:href=\"#DejaVuSans-48\"/>\n      </g>\n     </g>\n    </g>\n    <g id=\"ytick_4\">\n     <g id=\"line2d_11\">\n      <g>\n       <use style=\"stroke:#000000;stroke-width:0.8;\" x=\"26.925\" xlink:href=\"#m1316c20403\" y=\"129.061978\"/>\n      </g>\n     </g>\n     <g id=\"text_11\">\n      <!-- 30 -->\n      <g transform=\"translate(7.2 132.861197)scale(0.1 -0.1)\">\n       <use xlink:href=\"#DejaVuSans-51\"/>\n       <use x=\"63.623047\" xlink:href=\"#DejaVuSans-48\"/>\n      </g>\n     </g>\n    </g>\n    <g id=\"ytick_5\">\n     <g id=\"line2d_12\">\n      <g>\n       <use style=\"stroke:#000000;stroke-width:0.8;\" x=\"26.925\" xlink:href=\"#m1316c20403\" y=\"97.202637\"/>\n      </g>\n     </g>\n     <g id=\"text_12\">\n      <!-- 40 -->\n      <g transform=\"translate(7.2 101.001856)scale(0.1 -0.1)\">\n       <defs>\n        <path d=\"M 37.796875 64.3125 \nL 12.890625 25.390625 \nL 37.796875 25.390625 \nz\nM 35.203125 72.90625 \nL 47.609375 72.90625 \nL 47.609375 25.390625 \nL 58.015625 25.390625 \nL 58.015625 17.1875 \nL 47.609375 17.1875 \nL 47.609375 0 \nL 37.796875 0 \nL 37.796875 17.1875 \nL 4.890625 17.1875 \nL 4.890625 26.703125 \nz\n\" id=\"DejaVuSans-52\"/>\n       </defs>\n       <use xlink:href=\"#DejaVuSans-52\"/>\n       <use x=\"63.623047\" xlink:href=\"#DejaVuSans-48\"/>\n      </g>\n     </g>\n    </g>\n    <g id=\"ytick_6\">\n     <g id=\"line2d_13\">\n      <g>\n       <use style=\"stroke:#000000;stroke-width:0.8;\" x=\"26.925\" xlink:href=\"#m1316c20403\" y=\"65.343297\"/>\n      </g>\n     </g>\n     <g id=\"text_13\">\n      <!-- 50 -->\n      <g transform=\"translate(7.2 69.142515)scale(0.1 -0.1)\">\n       <defs>\n        <path d=\"M 10.796875 72.90625 \nL 49.515625 72.90625 \nL 49.515625 64.59375 \nL 19.828125 64.59375 \nL 19.828125 46.734375 \nQ 21.96875 47.46875 24.109375 47.828125 \nQ 26.265625 48.1875 28.421875 48.1875 \nQ 40.625 48.1875 47.75 41.5 \nQ 54.890625 34.8125 54.890625 23.390625 \nQ 54.890625 11.625 47.5625 5.09375 \nQ 40.234375 -1.421875 26.90625 -1.421875 \nQ 22.3125 -1.421875 17.546875 -0.640625 \nQ 12.796875 0.140625 7.71875 1.703125 \nL 7.71875 11.625 \nQ 12.109375 9.234375 16.796875 8.0625 \nQ 21.484375 6.890625 26.703125 6.890625 \nQ 35.15625 6.890625 40.078125 11.328125 \nQ 45.015625 15.765625 45.015625 23.390625 \nQ 45.015625 31 40.078125 35.4375 \nQ 35.15625 39.890625 26.703125 39.890625 \nQ 22.75 39.890625 18.8125 39.015625 \nQ 14.890625 38.140625 10.796875 36.28125 \nz\n\" id=\"DejaVuSans-53\"/>\n       </defs>\n       <use xlink:href=\"#DejaVuSans-53\"/>\n       <use x=\"63.623047\" xlink:href=\"#DejaVuSans-48\"/>\n      </g>\n     </g>\n    </g>\n    <g id=\"ytick_7\">\n     <g id=\"line2d_14\">\n      <g>\n       <use style=\"stroke:#000000;stroke-width:0.8;\" x=\"26.925\" xlink:href=\"#m1316c20403\" y=\"33.483956\"/>\n      </g>\n     </g>\n     <g id=\"text_14\">\n      <!-- 60 -->\n      <g transform=\"translate(7.2 37.283175)scale(0.1 -0.1)\">\n       <defs>\n        <path d=\"M 33.015625 40.375 \nQ 26.375 40.375 22.484375 35.828125 \nQ 18.609375 31.296875 18.609375 23.390625 \nQ 18.609375 15.53125 22.484375 10.953125 \nQ 26.375 6.390625 33.015625 6.390625 \nQ 39.65625 6.390625 43.53125 10.953125 \nQ 47.40625 15.53125 47.40625 23.390625 \nQ 47.40625 31.296875 43.53125 35.828125 \nQ 39.65625 40.375 33.015625 40.375 \nz\nM 52.59375 71.296875 \nL 52.59375 62.3125 \nQ 48.875 64.0625 45.09375 64.984375 \nQ 41.3125 65.921875 37.59375 65.921875 \nQ 27.828125 65.921875 22.671875 59.328125 \nQ 17.53125 52.734375 16.796875 39.40625 \nQ 19.671875 43.65625 24.015625 45.921875 \nQ 28.375 48.1875 33.59375 48.1875 \nQ 44.578125 48.1875 50.953125 41.515625 \nQ 57.328125 34.859375 57.328125 23.390625 \nQ 57.328125 12.15625 50.6875 5.359375 \nQ 44.046875 -1.421875 33.015625 -1.421875 \nQ 20.359375 -1.421875 13.671875 8.265625 \nQ 6.984375 17.96875 6.984375 36.375 \nQ 6.984375 53.65625 15.1875 63.9375 \nQ 23.390625 74.21875 37.203125 74.21875 \nQ 40.921875 74.21875 44.703125 73.484375 \nQ 48.484375 72.75 52.59375 71.296875 \nz\n\" id=\"DejaVuSans-54\"/>\n       </defs>\n       <use xlink:href=\"#DejaVuSans-54\"/>\n       <use x=\"63.623047\" xlink:href=\"#DejaVuSans-48\"/>\n      </g>\n     </g>\n    </g>\n   </g>\n   <g id=\"patch_103\">\n    <path d=\"M 26.925 224.64 \nL 26.925 7.2 \n\" style=\"fill:none;stroke:#000000;stroke-linecap:square;stroke-linejoin:miter;stroke-width:0.8;\"/>\n   </g>\n   <g id=\"patch_104\">\n    <path d=\"M 361.725 224.64 \nL 361.725 7.2 \n\" style=\"fill:none;stroke:#000000;stroke-linecap:square;stroke-linejoin:miter;stroke-width:0.8;\"/>\n   </g>\n   <g id=\"patch_105\">\n    <path d=\"M 26.925 224.64 \nL 361.725 224.64 \n\" style=\"fill:none;stroke:#000000;stroke-linecap:square;stroke-linejoin:miter;stroke-width:0.8;\"/>\n   </g>\n   <g id=\"patch_106\">\n    <path d=\"M 26.925 7.2 \nL 361.725 7.2 \n\" style=\"fill:none;stroke:#000000;stroke-linecap:square;stroke-linejoin:miter;stroke-width:0.8;\"/>\n   </g>\n   <g id=\"legend_1\">\n    <g id=\"patch_107\">\n     <path d=\"M 256.379688 44.55625 \nL 354.725 44.55625 \nQ 356.725 44.55625 356.725 42.55625 \nL 356.725 14.2 \nQ 356.725 12.2 354.725 12.2 \nL 256.379688 12.2 \nQ 254.379688 12.2 254.379688 14.2 \nL 254.379688 42.55625 \nQ 254.379688 44.55625 256.379688 44.55625 \nz\n\" style=\"fill:#ffffff;opacity:0.8;stroke:#cccccc;stroke-linejoin:miter;\"/>\n    </g>\n    <g id=\"patch_108\">\n     <path d=\"M 258.379688 23.798437 \nL 278.379688 23.798437 \nL 278.379688 16.798437 \nL 258.379688 16.798437 \nz\n\" style=\"fill:#1f77b4;opacity:0.5;\"/>\n    </g>\n    <g id=\"text_15\">\n     <!-- experimental -->\n     <g transform=\"translate(286.379688 23.798437)scale(0.1 -0.1)\">\n      <defs>\n       <path d=\"M 56.203125 29.59375 \nL 56.203125 25.203125 \nL 14.890625 25.203125 \nQ 15.484375 15.921875 20.484375 11.0625 \nQ 25.484375 6.203125 34.421875 6.203125 \nQ 39.59375 6.203125 44.453125 7.46875 \nQ 49.3125 8.734375 54.109375 11.28125 \nL 54.109375 2.78125 \nQ 49.265625 0.734375 44.1875 -0.34375 \nQ 39.109375 -1.421875 33.890625 -1.421875 \nQ 20.796875 -1.421875 13.15625 6.1875 \nQ 5.515625 13.8125 5.515625 26.8125 \nQ 5.515625 40.234375 12.765625 48.109375 \nQ 20.015625 56 32.328125 56 \nQ 43.359375 56 49.78125 48.890625 \nQ 56.203125 41.796875 56.203125 29.59375 \nz\nM 47.21875 32.234375 \nQ 47.125 39.59375 43.09375 43.984375 \nQ 39.0625 48.390625 32.421875 48.390625 \nQ 24.90625 48.390625 20.390625 44.140625 \nQ 15.875 39.890625 15.1875 32.171875 \nz\n\" id=\"DejaVuSans-101\"/>\n       <path d=\"M 54.890625 54.6875 \nL 35.109375 28.078125 \nL 55.90625 0 \nL 45.3125 0 \nL 29.390625 21.484375 \nL 13.484375 0 \nL 2.875 0 \nL 24.125 28.609375 \nL 4.6875 54.6875 \nL 15.28125 54.6875 \nL 29.78125 35.203125 \nL 44.28125 54.6875 \nz\n\" id=\"DejaVuSans-120\"/>\n       <path d=\"M 18.109375 8.203125 \nL 18.109375 -20.796875 \nL 9.078125 -20.796875 \nL 9.078125 54.6875 \nL 18.109375 54.6875 \nL 18.109375 46.390625 \nQ 20.953125 51.265625 25.265625 53.625 \nQ 29.59375 56 35.59375 56 \nQ 45.5625 56 51.78125 48.09375 \nQ 58.015625 40.1875 58.015625 27.296875 \nQ 58.015625 14.40625 51.78125 6.484375 \nQ 45.5625 -1.421875 35.59375 -1.421875 \nQ 29.59375 -1.421875 25.265625 0.953125 \nQ 20.953125 3.328125 18.109375 8.203125 \nz\nM 48.6875 27.296875 \nQ 48.6875 37.203125 44.609375 42.84375 \nQ 40.53125 48.484375 33.40625 48.484375 \nQ 26.265625 48.484375 22.1875 42.84375 \nQ 18.109375 37.203125 18.109375 27.296875 \nQ 18.109375 17.390625 22.1875 11.75 \nQ 26.265625 6.109375 33.40625 6.109375 \nQ 40.53125 6.109375 44.609375 11.75 \nQ 48.6875 17.390625 48.6875 27.296875 \nz\n\" id=\"DejaVuSans-112\"/>\n       <path d=\"M 41.109375 46.296875 \nQ 39.59375 47.171875 37.8125 47.578125 \nQ 36.03125 48 33.890625 48 \nQ 26.265625 48 22.1875 43.046875 \nQ 18.109375 38.09375 18.109375 28.8125 \nL 18.109375 0 \nL 9.078125 0 \nL 9.078125 54.6875 \nL 18.109375 54.6875 \nL 18.109375 46.1875 \nQ 20.953125 51.171875 25.484375 53.578125 \nQ 30.03125 56 36.53125 56 \nQ 37.453125 56 38.578125 55.875 \nQ 39.703125 55.765625 41.0625 55.515625 \nz\n\" id=\"DejaVuSans-114\"/>\n       <path d=\"M 9.421875 54.6875 \nL 18.40625 54.6875 \nL 18.40625 0 \nL 9.421875 0 \nz\nM 9.421875 75.984375 \nL 18.40625 75.984375 \nL 18.40625 64.59375 \nL 9.421875 64.59375 \nz\n\" id=\"DejaVuSans-105\"/>\n       <path d=\"M 52 44.1875 \nQ 55.375 50.25 60.0625 53.125 \nQ 64.75 56 71.09375 56 \nQ 79.640625 56 84.28125 50.015625 \nQ 88.921875 44.046875 88.921875 33.015625 \nL 88.921875 0 \nL 79.890625 0 \nL 79.890625 32.71875 \nQ 79.890625 40.578125 77.09375 44.375 \nQ 74.3125 48.1875 68.609375 48.1875 \nQ 61.625 48.1875 57.5625 43.546875 \nQ 53.515625 38.921875 53.515625 30.90625 \nL 53.515625 0 \nL 44.484375 0 \nL 44.484375 32.71875 \nQ 44.484375 40.625 41.703125 44.40625 \nQ 38.921875 48.1875 33.109375 48.1875 \nQ 26.21875 48.1875 22.15625 43.53125 \nQ 18.109375 38.875 18.109375 30.90625 \nL 18.109375 0 \nL 9.078125 0 \nL 9.078125 54.6875 \nL 18.109375 54.6875 \nL 18.109375 46.1875 \nQ 21.1875 51.21875 25.484375 53.609375 \nQ 29.78125 56 35.6875 56 \nQ 41.65625 56 45.828125 52.96875 \nQ 50 49.953125 52 44.1875 \nz\n\" id=\"DejaVuSans-109\"/>\n       <path d=\"M 54.890625 33.015625 \nL 54.890625 0 \nL 45.90625 0 \nL 45.90625 32.71875 \nQ 45.90625 40.484375 42.875 44.328125 \nQ 39.84375 48.1875 33.796875 48.1875 \nQ 26.515625 48.1875 22.3125 43.546875 \nQ 18.109375 38.921875 18.109375 30.90625 \nL 18.109375 0 \nL 9.078125 0 \nL 9.078125 54.6875 \nL 18.109375 54.6875 \nL 18.109375 46.1875 \nQ 21.34375 51.125 25.703125 53.5625 \nQ 30.078125 56 35.796875 56 \nQ 45.21875 56 50.046875 50.171875 \nQ 54.890625 44.34375 54.890625 33.015625 \nz\n\" id=\"DejaVuSans-110\"/>\n       <path d=\"M 18.3125 70.21875 \nL 18.3125 54.6875 \nL 36.8125 54.6875 \nL 36.8125 47.703125 \nL 18.3125 47.703125 \nL 18.3125 18.015625 \nQ 18.3125 11.328125 20.140625 9.421875 \nQ 21.96875 7.515625 27.59375 7.515625 \nL 36.8125 7.515625 \nL 36.8125 0 \nL 27.59375 0 \nQ 17.1875 0 13.234375 3.875 \nQ 9.28125 7.765625 9.28125 18.015625 \nL 9.28125 47.703125 \nL 2.6875 47.703125 \nL 2.6875 54.6875 \nL 9.28125 54.6875 \nL 9.28125 70.21875 \nz\n\" id=\"DejaVuSans-116\"/>\n       <path d=\"M 34.28125 27.484375 \nQ 23.390625 27.484375 19.1875 25 \nQ 14.984375 22.515625 14.984375 16.5 \nQ 14.984375 11.71875 18.140625 8.90625 \nQ 21.296875 6.109375 26.703125 6.109375 \nQ 34.1875 6.109375 38.703125 11.40625 \nQ 43.21875 16.703125 43.21875 25.484375 \nL 43.21875 27.484375 \nz\nM 52.203125 31.203125 \nL 52.203125 0 \nL 43.21875 0 \nL 43.21875 8.296875 \nQ 40.140625 3.328125 35.546875 0.953125 \nQ 30.953125 -1.421875 24.3125 -1.421875 \nQ 15.921875 -1.421875 10.953125 3.296875 \nQ 6 8.015625 6 15.921875 \nQ 6 25.140625 12.171875 29.828125 \nQ 18.359375 34.515625 30.609375 34.515625 \nL 43.21875 34.515625 \nL 43.21875 35.40625 \nQ 43.21875 41.609375 39.140625 45 \nQ 35.0625 48.390625 27.6875 48.390625 \nQ 23 48.390625 18.546875 47.265625 \nQ 14.109375 46.140625 10.015625 43.890625 \nL 10.015625 52.203125 \nQ 14.9375 54.109375 19.578125 55.046875 \nQ 24.21875 56 28.609375 56 \nQ 40.484375 56 46.34375 49.84375 \nQ 52.203125 43.703125 52.203125 31.203125 \nz\n\" id=\"DejaVuSans-97\"/>\n       <path d=\"M 9.421875 75.984375 \nL 18.40625 75.984375 \nL 18.40625 0 \nL 9.421875 0 \nz\n\" id=\"DejaVuSans-108\"/>\n      </defs>\n      <use xlink:href=\"#DejaVuSans-101\"/>\n      <use x=\"59.773438\" xlink:href=\"#DejaVuSans-120\"/>\n      <use x=\"118.953125\" xlink:href=\"#DejaVuSans-112\"/>\n      <use x=\"182.429688\" xlink:href=\"#DejaVuSans-101\"/>\n      <use x=\"243.953125\" xlink:href=\"#DejaVuSans-114\"/>\n      <use x=\"285.066406\" xlink:href=\"#DejaVuSans-105\"/>\n      <use x=\"312.849609\" xlink:href=\"#DejaVuSans-109\"/>\n      <use x=\"410.261719\" xlink:href=\"#DejaVuSans-101\"/>\n      <use x=\"471.785156\" xlink:href=\"#DejaVuSans-110\"/>\n      <use x=\"535.164062\" xlink:href=\"#DejaVuSans-116\"/>\n      <use x=\"574.373047\" xlink:href=\"#DejaVuSans-97\"/>\n      <use x=\"635.652344\" xlink:href=\"#DejaVuSans-108\"/>\n     </g>\n    </g>\n    <g id=\"patch_109\">\n     <path d=\"M 258.379688 38.476562 \nL 278.379688 38.476562 \nL 278.379688 31.476562 \nL 258.379688 31.476562 \nz\n\" style=\"fill:#ff7f0e;opacity:0.5;\"/>\n    </g>\n    <g id=\"text_16\">\n     <!-- theoretical -->\n     <g transform=\"translate(286.379688 38.476562)scale(0.1 -0.1)\">\n      <defs>\n       <path d=\"M 54.890625 33.015625 \nL 54.890625 0 \nL 45.90625 0 \nL 45.90625 32.71875 \nQ 45.90625 40.484375 42.875 44.328125 \nQ 39.84375 48.1875 33.796875 48.1875 \nQ 26.515625 48.1875 22.3125 43.546875 \nQ 18.109375 38.921875 18.109375 30.90625 \nL 18.109375 0 \nL 9.078125 0 \nL 9.078125 75.984375 \nL 18.109375 75.984375 \nL 18.109375 46.1875 \nQ 21.34375 51.125 25.703125 53.5625 \nQ 30.078125 56 35.796875 56 \nQ 45.21875 56 50.046875 50.171875 \nQ 54.890625 44.34375 54.890625 33.015625 \nz\n\" id=\"DejaVuSans-104\"/>\n       <path d=\"M 30.609375 48.390625 \nQ 23.390625 48.390625 19.1875 42.75 \nQ 14.984375 37.109375 14.984375 27.296875 \nQ 14.984375 17.484375 19.15625 11.84375 \nQ 23.34375 6.203125 30.609375 6.203125 \nQ 37.796875 6.203125 41.984375 11.859375 \nQ 46.1875 17.53125 46.1875 27.296875 \nQ 46.1875 37.015625 41.984375 42.703125 \nQ 37.796875 48.390625 30.609375 48.390625 \nz\nM 30.609375 56 \nQ 42.328125 56 49.015625 48.375 \nQ 55.71875 40.765625 55.71875 27.296875 \nQ 55.71875 13.875 49.015625 6.21875 \nQ 42.328125 -1.421875 30.609375 -1.421875 \nQ 18.84375 -1.421875 12.171875 6.21875 \nQ 5.515625 13.875 5.515625 27.296875 \nQ 5.515625 40.765625 12.171875 48.375 \nQ 18.84375 56 30.609375 56 \nz\n\" id=\"DejaVuSans-111\"/>\n       <path d=\"M 48.78125 52.59375 \nL 48.78125 44.1875 \nQ 44.96875 46.296875 41.140625 47.34375 \nQ 37.3125 48.390625 33.40625 48.390625 \nQ 24.65625 48.390625 19.8125 42.84375 \nQ 14.984375 37.3125 14.984375 27.296875 \nQ 14.984375 17.28125 19.8125 11.734375 \nQ 24.65625 6.203125 33.40625 6.203125 \nQ 37.3125 6.203125 41.140625 7.25 \nQ 44.96875 8.296875 48.78125 10.40625 \nL 48.78125 2.09375 \nQ 45.015625 0.34375 40.984375 -0.53125 \nQ 36.96875 -1.421875 32.421875 -1.421875 \nQ 20.0625 -1.421875 12.78125 6.34375 \nQ 5.515625 14.109375 5.515625 27.296875 \nQ 5.515625 40.671875 12.859375 48.328125 \nQ 20.21875 56 33.015625 56 \nQ 37.15625 56 41.109375 55.140625 \nQ 45.0625 54.296875 48.78125 52.59375 \nz\n\" id=\"DejaVuSans-99\"/>\n      </defs>\n      <use xlink:href=\"#DejaVuSans-116\"/>\n      <use x=\"39.208984\" xlink:href=\"#DejaVuSans-104\"/>\n      <use x=\"102.587891\" xlink:href=\"#DejaVuSans-101\"/>\n      <use x=\"164.111328\" xlink:href=\"#DejaVuSans-111\"/>\n      <use x=\"225.292969\" xlink:href=\"#DejaVuSans-114\"/>\n      <use x=\"264.15625\" xlink:href=\"#DejaVuSans-101\"/>\n      <use x=\"325.679688\" xlink:href=\"#DejaVuSans-116\"/>\n      <use x=\"364.888672\" xlink:href=\"#DejaVuSans-105\"/>\n      <use x=\"392.671875\" xlink:href=\"#DejaVuSans-99\"/>\n      <use x=\"447.652344\" xlink:href=\"#DejaVuSans-97\"/>\n      <use x=\"508.931641\" xlink:href=\"#DejaVuSans-108\"/>\n     </g>\n    </g>\n   </g>\n  </g>\n </g>\n <defs>\n  <clipPath id=\"pbefc81a529\">\n   <rect height=\"217.44\" width=\"334.8\" x=\"26.925\" y=\"7.2\"/>\n  </clipPath>\n </defs>\n</svg>\n",
      "image/png": "[encoded data removed]"
     },
     "metadata": {
      "needs_background": "light"
     }
    }
   ],
   "source": [
    "#g) Solution\n",
    "p = 0.5     # change this between 0.25, 0.5, 0.75\n",
    "assert M == 1000 and N == 10000\n",
    "\n",
    "def R(x):\n",
    "    # note that the returned value is ROUNDED to INTEGERS. Otherwise pmf function returns 0\n",
    "    return int(round(0.5 * (x+N)))\n",
    "\n",
    "def X(r):\n",
    "    # transform r back to x\n",
    "    return 2*r - N\n",
    "\n",
    "trajectory_final_positions = np.array(Trajectories(M,N,p))\n",
    "_min, _max = min(trajectory_final_positions), max(trajectory_final_positions)\n",
    "x = np.arange(_min, _max, step = (_max-_min)/bin_count)\n",
    "\n",
    "r_list = [R(i) for i in x]\n",
    "\n",
    "\n",
    "\n",
    "# print(r_list)\n",
    "\n",
    "\n",
    "\n",
    "\n",
    "\n",
    "\n",
    "theoretical_trajectory_final_positions = []\n",
    "\n",
    "\n",
    "def P(r):\n",
    "    # print(\"-----P is called.------ \")\n",
    "    # print(\"r and p are: \", r, p)\n",
    "    # print(\"------------------------\")\n",
    "    return st.binom.pmf(r, N, p)\n",
    "\n",
    "\n",
    "\n",
    "\n",
    "# print(\"testing ----\", r_list[1])\n",
    "# print(st.binom.pmf(4843.1, 10000, 0.5))\n",
    "\n",
    "# for each value of r, calculate the probability associated with it, then multiply that with the total number of trials to get the actual number of times that particular value of r value is met.  Push r this many times into theoretical_trajectory_final_positions list. This is analogous to the trajectory_final_positions list. \n",
    "\n",
    "\n",
    "\n",
    "#normalize\n",
    "_sum = sum(\n",
    "    [P(r) for r in r_list]\n",
    ")\n",
    "\n",
    "_normalized_probabilities = [P(r) / _sum for r in r_list]\n",
    "\n",
    "# print(_sum)\n",
    "\n",
    "# print(M * P(r_list[0]))\n",
    "\n",
    "assert abs(1-sum(_normalized_probabilities)) < 1/100\n",
    "print(\"asserted: total probability: \", sum(_normalized_probabilities))\n",
    "\n",
    "\n",
    "for r in r_list:\n",
    "    prob_r  = P(r) / _sum\n",
    "    # print(\"---probability:\", prob_r)\n",
    "    X_r = X(r)\n",
    "    append_how_many_times = int(round(M * prob_r))\n",
    "    \n",
    "    for i in range(append_how_many_times):\n",
    "        theoretical_trajectory_final_positions.append(X_r)\n",
    "\n",
    "\n",
    "\n",
    "print(theoretical_trajectory_final_positions)\n",
    "print(\"hello world\")\n",
    "\n",
    "# pyplot.hist(x, bins, alpha=0.5, label='x')\n",
    "# pyplot.hist(y, bins, alpha=0.5, label='y')\n",
    "\n",
    "plt.hist(trajectory_final_positions, bins = bin_count, alpha = 0.5, label = 'experimental')\n",
    "plt.hist(theoretical_trajectory_final_positions, bins = bin_count,alpha = 0.5,  label = 'theoretical')\n",
    "\n",
    "# pyplot.legend(loc='upper right')\n",
    "\n",
    "plt.legend(loc = 'upper right')\n",
    "plt.show()\n",
    "\n",
    "\n",
    "\n"
   ]
  },
  {
   "cell_type": "code",
   "execution_count": null,
   "metadata": {},
   "outputs": [],
   "source": []
  },
  {
   "cell_type": "code",
   "execution_count": null,
   "metadata": {},
   "outputs": [],
   "source": []
  }
 ],
 "metadata": {
  "anaconda-cloud": {},
  "history": [
   {
    "code": "trials = 10000\nsteps = 1000\nprobR = 0.25 #Probability of a +1 (or right) step\nsamps = sampleTrajectories(trials, steps, prob=probR)",
    "id": "ed1ea916255e450e89375eb40e312fe5",
    "idx": 5,
    "time": "2021-02-09T01:30:01.922Z",
    "type": "execution"
   },
   {
    "id": "ed1ea916255e450e89375eb40e312fe5",
    "time": "2021-02-09T01:30:02.065Z",
    "type": "completion"
   },
   {
    "code": "import numpy as np\nimport scipy.stats as st\nimport matplotlib.pyplot as plt",
    "id": "e74988113d194d328e5c2c538ffe9284",
    "idx": 0,
    "time": "2021-02-09T01:30:09.585Z",
    "type": "execution"
   },
   {
    "id": "e74988113d194d328e5c2c538ffe9284",
    "time": "2021-02-09T01:30:10.434Z",
    "type": "completion"
   },
   {
    "code": "np.random.choice([-1,1], size=7)",
    "id": "e3f92094badc4d81a7a03780c0686ba1",
    "idx": 2,
    "time": "2021-02-09T01:30:10.871Z",
    "type": "execution"
   },
   {
    "id": "e3f92094badc4d81a7a03780c0686ba1",
    "time": "2021-02-09T01:30:10.934Z",
    "type": "completion"
   },
   {
    "code": "#Function that samples M number of trajectories, with N number of steps per trial\n#Inputs: Number of trials, number of steps per trial\n#Outputs: List of locations (integers) where the random walker stops at the end of all N steps of each trial\ndef sampleTrajectories(num_trials, num_steps, prob=0.5):\n    vals = np.zeros(num_trials, dtype=int)\n    for i in range(num_trials):\n        vals[i] = sum(np.random.choice([-1,1], p=[1-prob, prob], size=num_steps))\n    return vals",
    "id": "35751fd4a6d94a28a045573580711d3c",
    "idx": 4,
    "time": "2021-02-09T01:30:12.581Z",
    "type": "execution"
   },
   {
    "id": "35751fd4a6d94a28a045573580711d3c",
    "time": "2021-02-09T01:30:12.638Z",
    "type": "completion"
   },
   {
    "code": "trials = 10000\nsteps = 1000\nprobR = 0.25 #Probability of a +1 (or right) step\nsamps = sampleTrajectories(trials, steps, prob=probR)",
    "id": "ed1ea916255e450e89375eb40e312fe5",
    "idx": 5,
    "time": "2021-02-09T01:30:13.542Z",
    "type": "execution"
   },
   {
    "id": "ed1ea916255e450e89375eb40e312fe5",
    "time": "2021-02-09T01:30:16.691Z",
    "type": "completion"
   },
   {
    "code": "print(np.mean(samps))\nprint(np.var(samps))",
    "id": "0a938262ef8945de87ba231a17544de2",
    "idx": 7,
    "time": "2021-02-09T01:30:25.440Z",
    "type": "execution"
   },
   {
    "id": "0a938262ef8945de87ba231a17544de2",
    "time": "2021-02-09T01:30:25.522Z",
    "type": "completion"
   },
   {
    "code": "test_N = [250, 500, 750, 1000, 1250, 1500]\nvarns = np.zeros(len(test_N))\nfor i in range(len(test_N)):\n    varns[i] = np.var(sampleTrajectories(trials, test_N[i]))",
    "id": "1df029d0b48845d7863c05accf839d60",
    "idx": 9,
    "time": "2021-02-09T01:30:36.551Z",
    "type": "execution"
   },
   {
    "code": "fig, ax = plt.subplots()\n\nax.plot(test_N, varns, 'ro', ms=8)\nax.set_ylabel(\"Variance\")\nax.set_xlabel(\"Steps\")\nplt.show()\nplt.close()",
    "id": "6c522274b1e740a183176a4cfb47f8a1",
    "idx": 10,
    "time": "2021-02-09T01:30:43.031Z",
    "type": "execution"
   },
   {
    "id": "1df029d0b48845d7863c05accf839d60",
    "time": "2021-02-09T01:30:53.488Z",
    "type": "completion"
   },
   {
    "id": "6c522274b1e740a183176a4cfb47f8a1",
    "time": "2021-02-09T01:30:53.727Z",
    "type": "completion"
   },
   {
    "code": "test_N = [250, 500, 750, 1000, 1250, 1500]\nvarns = np.zeros(len(test_N))\nfor i in range(len(test_N)):\n    varns[i] = np.var(sampleTrajectories(trials, test_N[i], probR))",
    "id": "1df029d0b48845d7863c05accf839d60",
    "idx": 9,
    "time": "2021-02-09T01:31:31.741Z",
    "type": "execution"
   },
   {
    "code": "fig, ax = plt.subplots()\n\nax.plot(test_N, varns, 'ro', ms=8)\nax.set_ylabel(\"Variance\")\nax.set_xlabel(\"Steps\")\nplt.show()\nplt.close()",
    "id": "6c522274b1e740a183176a4cfb47f8a1",
    "idx": 10,
    "time": "2021-02-09T01:31:37.291Z",
    "type": "execution"
   },
   {
    "id": "1df029d0b48845d7863c05accf839d60",
    "time": "2021-02-09T01:31:47.663Z",
    "type": "completion"
   },
   {
    "id": "6c522274b1e740a183176a4cfb47f8a1",
    "time": "2021-02-09T01:31:47.830Z",
    "type": "completion"
   },
   {
    "code": "coeffs = np.polyfit(test_N, varns, 1)\nfit = np.poly1d(coeffs)\nprint(fit)\n\nfig, ax = plt.subplots()\nax.plot(test_N, varns, 'ro', ms=8)\nax.plot(test_N, fit(test_N), 'b-')\nax.set_ylabel(\"Variance\")\nax.set_xlabel(\"Steps\")\nplt.show()\nplt.close()",
    "id": "4b1e2002b9e0492ca116cf7c3131d276",
    "idx": 12,
    "time": "2021-02-09T01:32:04.228Z",
    "type": "execution"
   },
   {
    "id": "4b1e2002b9e0492ca116cf7c3131d276",
    "time": "2021-02-09T01:32:04.524Z",
    "type": "completion"
   },
   {
    "code": "trials = 10000\nsteps = 1000\nprobR = 0.5 #Probability of a +1 (or right) step\nsamps = sampleTrajectories(trials, steps, prob=probR)",
    "id": "ed1ea916255e450e89375eb40e312fe5",
    "idx": 5,
    "time": "2021-02-09T01:33:44.529Z",
    "type": "execution"
   },
   {
    "code": "print(np.mean(samps))\nprint(np.var(samps))",
    "id": "0a938262ef8945de87ba231a17544de2",
    "idx": 7,
    "time": "2021-02-09T01:33:45.856Z",
    "type": "execution"
   },
   {
    "id": "ed1ea916255e450e89375eb40e312fe5",
    "time": "2021-02-09T01:33:48.272Z",
    "type": "completion"
   },
   {
    "id": "0a938262ef8945de87ba231a17544de2",
    "time": "2021-02-09T01:33:48.277Z",
    "type": "completion"
   },
   {
    "code": "print(np.mean(samps))\nprint(np.var(samps))",
    "id": "0a938262ef8945de87ba231a17544de2",
    "idx": 7,
    "time": "2021-02-09T01:34:02.244Z",
    "type": "execution"
   },
   {
    "id": "0a938262ef8945de87ba231a17544de2",
    "time": "2021-02-09T01:34:02.302Z",
    "type": "completion"
   },
   {
    "code": "trials = 10000\nsteps = 1000\nprobR = 0.5 #Probability of a +1 (or right) step\nsamps = sampleTrajectories(trials, steps, prob=probR)",
    "id": "ed1ea916255e450e89375eb40e312fe5",
    "idx": 5,
    "time": "2021-02-09T01:34:05.989Z",
    "type": "execution"
   },
   {
    "code": "print(np.mean(samps))\nprint(np.var(samps))",
    "id": "0a938262ef8945de87ba231a17544de2",
    "idx": 7,
    "time": "2021-02-09T01:34:07.520Z",
    "type": "execution"
   },
   {
    "id": "ed1ea916255e450e89375eb40e312fe5",
    "time": "2021-02-09T01:34:09.250Z",
    "type": "completion"
   },
   {
    "id": "0a938262ef8945de87ba231a17544de2",
    "time": "2021-02-09T01:34:09.267Z",
    "type": "completion"
   },
   {
    "code": "trials = 10000\nsteps = 1000\nprobR = 0.25 #Probability of a +1 (or right) step\nsamps = sampleTrajectories(trials, steps, prob=probR)",
    "id": "ed1ea916255e450e89375eb40e312fe5",
    "idx": 5,
    "time": "2021-02-09T01:34:29.778Z",
    "type": "execution"
   },
   {
    "code": "print(np.mean(samps))\nprint(np.var(samps))",
    "id": "0a938262ef8945de87ba231a17544de2",
    "idx": 7,
    "time": "2021-02-09T01:34:32.161Z",
    "type": "execution"
   },
   {
    "id": "ed1ea916255e450e89375eb40e312fe5",
    "time": "2021-02-09T01:34:32.870Z",
    "type": "completion"
   },
   {
    "id": "0a938262ef8945de87ba231a17544de2",
    "time": "2021-02-09T01:34:32.874Z",
    "type": "completion"
   },
   {
    "code": "test_N = [250, 500, 750, 1000, 1250, 1500]\nvarns = np.zeros(len(test_N))\nfor i in range(len(test_N)):\n    varns[i] = np.var(sampleTrajectories(trials, test_N[i], probR))",
    "id": "1df029d0b48845d7863c05accf839d60",
    "idx": 9,
    "time": "2021-02-09T01:34:40.554Z",
    "type": "execution"
   },
   {
    "code": "fig, ax = plt.subplots()\n\nax.plot(test_N, varns, 'ro', ms=8)\nax.set_ylabel(\"Variance\")\nax.set_xlabel(\"Steps\")\nplt.show()\nplt.close()",
    "id": "6c522274b1e740a183176a4cfb47f8a1",
    "idx": 10,
    "time": "2021-02-09T01:34:47.452Z",
    "type": "execution"
   },
   {
    "id": "1df029d0b48845d7863c05accf839d60",
    "time": "2021-02-09T01:34:57.553Z",
    "type": "completion"
   },
   {
    "id": "6c522274b1e740a183176a4cfb47f8a1",
    "time": "2021-02-09T01:34:57.714Z",
    "type": "completion"
   },
   {
    "code": "print(np.mean(samps))\nprint(np.var(samps))",
    "id": "0a938262ef8945de87ba231a17544de2",
    "idx": 7,
    "time": "2021-02-09T01:38:02.250Z",
    "type": "execution"
   },
   {
    "id": "0a938262ef8945de87ba231a17544de2",
    "time": "2021-02-09T01:38:02.309Z",
    "type": "completion"
   },
   {
    "code": "test_N = [250, 500, 750, 1000, 1250, 1500]\nvarns = np.zeros(len(test_N))\nfor i in range(len(test_N)):\n    varns[i] = np.var(sampleTrajectories(trials, test_N[i], probR))",
    "id": "1df029d0b48845d7863c05accf839d60",
    "idx": 9,
    "time": "2021-02-09T01:38:04.688Z",
    "type": "execution"
   },
   {
    "code": "fig, ax = plt.subplots()\n\nax.plot(test_N, varns, 'ro', ms=8)\nax.set_ylabel(\"Variance\")\nax.set_xlabel(\"Steps\")\nplt.show()\nplt.close()",
    "id": "6c522274b1e740a183176a4cfb47f8a1",
    "idx": 10,
    "time": "2021-02-09T01:38:07.400Z",
    "type": "execution"
   },
   {
    "id": "1df029d0b48845d7863c05accf839d60",
    "time": "2021-02-09T01:38:20.958Z",
    "type": "completion"
   },
   {
    "id": "6c522274b1e740a183176a4cfb47f8a1",
    "time": "2021-02-09T01:38:21.136Z",
    "type": "completion"
   },
   {
    "code": "coeffs = np.polyfit(test_N, varns, 1)\nfit = np.poly1d(coeffs)\nprint(fit)\n\nfig, ax = plt.subplots()\nax.plot(test_N, varns, 'ro', ms=8)\nax.plot(test_N, fit(test_N), 'b-')\nax.set_ylabel(\"Variance\")\nax.set_xlabel(\"Steps\")\nplt.show()\nplt.close()",
    "id": "4b1e2002b9e0492ca116cf7c3131d276",
    "idx": 12,
    "time": "2021-02-09T01:38:22.238Z",
    "type": "execution"
   },
   {
    "id": "4b1e2002b9e0492ca116cf7c3131d276",
    "time": "2021-02-09T01:38:22.508Z",
    "type": "completion"
   },
   {
    "code": "trials = 10000\nsteps = 1000\nprobR = 0.5 #Probability of a +1 (or right) step\nsamps = sampleTrajectories(trials, steps, prob=probR)",
    "id": "ed1ea916255e450e89375eb40e312fe5",
    "idx": 5,
    "time": "2021-02-09T01:38:56.292Z",
    "type": "execution"
   },
   {
    "code": "print(np.mean(samps))\nprint(np.var(samps))",
    "id": "0a938262ef8945de87ba231a17544de2",
    "idx": 7,
    "time": "2021-02-09T01:38:57.652Z",
    "type": "execution"
   },
   {
    "id": "ed1ea916255e450e89375eb40e312fe5",
    "time": "2021-02-09T01:38:59.685Z",
    "type": "completion"
   },
   {
    "id": "0a938262ef8945de87ba231a17544de2",
    "time": "2021-02-09T01:38:59.690Z",
    "type": "completion"
   },
   {
    "code": "test_N = [250, 500, 750, 1000, 1250, 1500]\nvarns = np.zeros(len(test_N))\nfor i in range(len(test_N)):\n    varns[i] = np.var(sampleTrajectories(trials, test_N[i], probR))",
    "id": "1df029d0b48845d7863c05accf839d60",
    "idx": 9,
    "time": "2021-02-09T01:39:03.684Z",
    "type": "execution"
   },
   {
    "code": "fig, ax = plt.subplots()\n\nax.plot(test_N, varns, 'ro', ms=8)\nax.set_ylabel(\"Variance\")\nax.set_xlabel(\"Steps\")\nplt.show()\nplt.close()",
    "id": "6c522274b1e740a183176a4cfb47f8a1",
    "idx": 10,
    "time": "2021-02-09T01:39:06.895Z",
    "type": "execution"
   },
   {
    "code": "coeffs = np.polyfit(test_N, varns, 1)\nfit = np.poly1d(coeffs)\nprint(fit)\n\nfig, ax = plt.subplots()\nax.plot(test_N, varns, 'ro', ms=8)\nax.plot(test_N, fit(test_N), 'b-')\nax.set_ylabel(\"Variance\")\nax.set_xlabel(\"Steps\")\nplt.show()\nplt.close()",
    "id": "4b1e2002b9e0492ca116cf7c3131d276",
    "idx": 12,
    "time": "2021-02-09T01:39:16.328Z",
    "type": "execution"
   },
   {
    "id": "1df029d0b48845d7863c05accf839d60",
    "time": "2021-02-09T01:39:20.190Z",
    "type": "completion"
   },
   {
    "id": "6c522274b1e740a183176a4cfb47f8a1",
    "time": "2021-02-09T01:39:20.372Z",
    "type": "completion"
   },
   {
    "id": "4b1e2002b9e0492ca116cf7c3131d276",
    "time": "2021-02-09T01:39:20.623Z",
    "type": "completion"
   },
   {
    "code": "#Function that samples M number of trajectories, stopping when a walker reaches a distance z away from the origin\n#Inputs: Number of trials, distance to the edge\n#Outputs: List of integers for the number of steps taken until reaching a distance z\ndef sampleEscapeTraj(trials, z):\n    escSteps = np.zeros(trials)\n    for i in range(trials):\n        stepNum = 0\n        curPos = 0\n        while abs(curPos)!=z:\n            curPos += np.random.choice([-1, 1])\n            stepNum += 1\n        escSteps[i] = stepNum\n    return escSteps",
    "id": "15ec0e12d37c4fd4853576687a4634d6",
    "idx": 19,
    "time": "2021-02-09T01:51:21.702Z",
    "type": "execution"
   },
   {
    "id": "15ec0e12d37c4fd4853576687a4634d6",
    "time": "2021-02-09T01:51:21.769Z",
    "type": "completion"
   },
   {
    "code": "trials = 1000\nz = 100\nescSamps = sampleEscapeTraj(trials, z)",
    "id": "aeae959941cb46f88eda981eecda3f8c",
    "idx": 20,
    "time": "2021-02-09T01:51:23.460Z",
    "type": "execution"
   },
   {
    "code": "fig, ax = plt.subplots()\n\nnum_bins = 30\nn, bins, patches = ax.hist(escSamps, num_bins)\nax.set_ylabel(\"Counts\")\nax.set_xlabel(\"Steps to $z$\")\nplt.show()\nplt.close()",
    "id": "3b825f4c6bc84ef881373ab7d428b1ef",
    "idx": 22,
    "time": "2021-02-09T01:51:30.970Z",
    "type": "execution"
   },
   {
    "code": "trials = 10\nz = 100\nescSamps = sampleEscapeTraj(trials, z)",
    "id": "aeae959941cb46f88eda981eecda3f8c",
    "idx": 20,
    "time": "2021-02-09T01:52:36.293Z",
    "type": "execution"
   },
   {
    "id": "3b825f4c6bc84ef881373ab7d428b1ef",
    "time": "2021-02-09T01:52:38.658Z",
    "type": "completion"
   },
   {
    "id": "aeae959941cb46f88eda981eecda3f8c",
    "time": "2021-02-09T01:52:39.560Z",
    "type": "completion"
   },
   {
    "id": "aeae959941cb46f88eda981eecda3f8c",
    "time": "2021-02-09T01:52:39.560Z",
    "type": "completion"
   },
   {
    "code": "fig, ax = plt.subplots()\n\nnum_bins = 30\nn, bins, patches = ax.hist(escSamps, num_bins)\nax.set_ylabel(\"Counts\")\nax.set_xlabel(\"Steps to $z$\")\nplt.show()\nplt.close()",
    "id": "3b825f4c6bc84ef881373ab7d428b1ef",
    "idx": 22,
    "time": "2021-02-09T01:52:59.832Z",
    "type": "execution"
   },
   {
    "id": "3b825f4c6bc84ef881373ab7d428b1ef",
    "time": "2021-02-09T01:53:00.150Z",
    "type": "completion"
   },
   {
    "code": "trials = 1000\nz = 100\nescSamps = sampleEscapeTraj(trials, z)",
    "id": "aeae959941cb46f88eda981eecda3f8c",
    "idx": 20,
    "time": "2021-02-09T01:53:12.336Z",
    "type": "execution"
   },
   {
    "code": "fig, ax = plt.subplots()\n\nnum_bins = 30\nn, bins, patches = ax.hist(escSamps, num_bins)\nax.set_ylabel(\"Counts\")\nax.set_xlabel(\"Steps to $z$\")\nplt.show()\nplt.close()",
    "id": "3b825f4c6bc84ef881373ab7d428b1ef",
    "idx": 22,
    "time": "2021-02-09T01:53:14.360Z",
    "type": "execution"
   },
   {
    "code": "fig, ax = plt.subplots()\n\nnum_bins = 30\nn, bins, patches = ax.hist(escSamps, num_bins)\nax.set_ylabel(\"Counts\")\nax.set_xlabel(\"Steps to $z$\")\nplt.show()\nplt.close()",
    "id": "3b825f4c6bc84ef881373ab7d428b1ef",
    "idx": 22,
    "time": "2021-02-09T01:54:13.290Z",
    "type": "execution"
   },
   {
    "id": "aeae959941cb46f88eda981eecda3f8c",
    "time": "2021-02-09T01:54:26.902Z",
    "type": "completion"
   },
   {
    "id": "3b825f4c6bc84ef881373ab7d428b1ef",
    "time": "2021-02-09T01:54:27.439Z",
    "type": "completion"
   },
   {
    "id": "3b825f4c6bc84ef881373ab7d428b1ef",
    "time": "2021-02-09T01:54:27.440Z",
    "type": "completion"
   },
   {
    "code": "trials = 100\nz = 100\nescSamps = sampleEscapeTraj(trials, z)",
    "id": "aeae959941cb46f88eda981eecda3f8c",
    "idx": 20,
    "time": "2021-02-09T01:57:01.564Z",
    "type": "execution"
   },
   {
    "code": "fig, ax = plt.subplots()\n\nnum_bins = 30\nn, bins, patches = ax.hist(escSamps, num_bins)\nax.set_ylabel(\"Counts\")\nax.set_xlabel(\"Steps to $z$\")\nplt.show()\nplt.close()",
    "id": "3b825f4c6bc84ef881373ab7d428b1ef",
    "idx": 22,
    "time": "2021-02-09T01:57:04.931Z",
    "type": "execution"
   },
   {
    "id": "aeae959941cb46f88eda981eecda3f8c",
    "time": "2021-02-09T01:57:09.777Z",
    "type": "completion"
   },
   {
    "id": "3b825f4c6bc84ef881373ab7d428b1ef",
    "time": "2021-02-09T01:57:10.034Z",
    "type": "completion"
   },
   {
    "code": "print(np.mean(escSamps))",
    "id": "baa5fd01ae63480f8a258a85ab03b3a6",
    "idx": 25,
    "time": "2021-02-09T02:03:58.605Z",
    "type": "execution"
   },
   {
    "id": "baa5fd01ae63480f8a258a85ab03b3a6",
    "time": "2021-02-09T02:03:58.684Z",
    "type": "completion"
   },
   {
    "code": "trials = 100\nz = 100\nescSamps = sampleEscapeTraj(trials, z)",
    "id": "aeae959941cb46f88eda981eecda3f8c",
    "idx": 20,
    "time": "2021-02-09T02:04:29.505Z",
    "type": "execution"
   },
   {
    "code": "fig, ax = plt.subplots()\n\nnum_bins = 30\nn, bins, patches = ax.hist(escSamps, num_bins)\nax.set_ylabel(\"Counts\")\nax.set_xlabel(\"Steps to $z$\")\nplt.show()\nplt.close()",
    "id": "3b825f4c6bc84ef881373ab7d428b1ef",
    "idx": 22,
    "time": "2021-02-09T02:04:31.033Z",
    "type": "execution"
   },
   {
    "code": "print(np.mean(escSamps))",
    "id": "baa5fd01ae63480f8a258a85ab03b3a6",
    "idx": 24,
    "time": "2021-02-09T02:04:35.360Z",
    "type": "execution"
   },
   {
    "id": "aeae959941cb46f88eda981eecda3f8c",
    "time": "2021-02-09T02:04:40.599Z",
    "type": "completion"
   },
   {
    "id": "3b825f4c6bc84ef881373ab7d428b1ef",
    "time": "2021-02-09T02:04:40.616Z",
    "type": "completion"
   },
   {
    "id": "baa5fd01ae63480f8a258a85ab03b3a6",
    "time": "2021-02-09T02:04:40.639Z",
    "type": "completion"
   },
   {
    "code": "#Function that samples M number of trajectories, stopping when a walker reaches a distance z away from the origin\n#Inputs: Number of trials, distance to the edge\n#Outputs: List of integers for the number of steps taken until reaching a distance z\ndef sampleEscapeTraj(trials, z):\n    escSteps = np.zeros(trials)\n    for i in range(trials):\n        stepNum = 0\n        curPos = 0\n        while abs(curPos)!=z:\n            curPos += np.random.choice([-1, 1])\n            stepNum += 1\n        escSteps[i] = stepNum\n    return escSteps",
    "id": "15ec0e12d37c4fd4853576687a4634d6",
    "idx": 19,
    "time": "2021-02-09T02:04:54.970Z",
    "type": "execution"
   },
   {
    "id": "15ec0e12d37c4fd4853576687a4634d6",
    "time": "2021-02-09T02:04:55.027Z",
    "type": "completion"
   },
   {
    "code": "trials = 100\nz = 100\nescSamps = sampleEscapeTraj(trials, z)",
    "id": "aeae959941cb46f88eda981eecda3f8c",
    "idx": 20,
    "time": "2021-02-09T02:04:55.648Z",
    "type": "execution"
   },
   {
    "code": "fig, ax = plt.subplots()\n\nnum_bins = 30\nn, bins, patches = ax.hist(escSamps, num_bins)\nax.set_ylabel(\"Counts\")\nax.set_xlabel(\"Steps to $z$\")\nplt.show()\nplt.close()",
    "id": "3b825f4c6bc84ef881373ab7d428b1ef",
    "idx": 22,
    "time": "2021-02-09T02:04:57.636Z",
    "type": "execution"
   },
   {
    "code": "print(np.mean(escSamps))",
    "id": "baa5fd01ae63480f8a258a85ab03b3a6",
    "idx": 24,
    "time": "2021-02-09T02:05:00.970Z",
    "type": "execution"
   },
   {
    "id": "aeae959941cb46f88eda981eecda3f8c",
    "time": "2021-02-09T02:05:02.664Z",
    "type": "completion"
   },
   {
    "id": "3b825f4c6bc84ef881373ab7d428b1ef",
    "time": "2021-02-09T02:05:02.984Z",
    "type": "completion"
   },
   {
    "id": "baa5fd01ae63480f8a258a85ab03b3a6",
    "time": "2021-02-09T02:05:02.989Z",
    "type": "completion"
   },
   {
    "code": "trials = 100\nz = 10\nescSamps = sampleEscapeTraj(trials, z)",
    "id": "aeae959941cb46f88eda981eecda3f8c",
    "idx": 20,
    "time": "2021-02-09T02:05:21.597Z",
    "type": "execution"
   },
   {
    "id": "aeae959941cb46f88eda981eecda3f8c",
    "time": "2021-02-09T02:05:21.736Z",
    "type": "completion"
   },
   {
    "code": "fig, ax = plt.subplots()\n\nnum_bins = 30\nn, bins, patches = ax.hist(escSamps, num_bins)\nax.set_ylabel(\"Counts\")\nax.set_xlabel(\"Steps to $z$\")\nplt.show()\nplt.close()",
    "id": "3b825f4c6bc84ef881373ab7d428b1ef",
    "idx": 22,
    "time": "2021-02-09T02:05:23.783Z",
    "type": "execution"
   },
   {
    "id": "3b825f4c6bc84ef881373ab7d428b1ef",
    "time": "2021-02-09T02:05:24.104Z",
    "type": "completion"
   },
   {
    "code": "print(np.mean(escSamps))",
    "id": "baa5fd01ae63480f8a258a85ab03b3a6",
    "idx": 24,
    "time": "2021-02-09T02:05:27.109Z",
    "type": "execution"
   },
   {
    "id": "baa5fd01ae63480f8a258a85ab03b3a6",
    "time": "2021-02-09T02:05:27.193Z",
    "type": "completion"
   },
   {
    "code": "trials = 100\nz = 200\nescSamps = sampleEscapeTraj(trials, z)",
    "id": "aeae959941cb46f88eda981eecda3f8c",
    "idx": 20,
    "time": "2021-02-09T02:06:07.793Z",
    "type": "execution"
   },
   {
    "code": "fig, ax = plt.subplots()\n\nnum_bins = 30\nn, bins, patches = ax.hist(escSamps, num_bins)\nax.set_ylabel(\"Counts\")\nax.set_xlabel(\"Steps to $z$\")\nplt.show()\nplt.close()",
    "id": "3b825f4c6bc84ef881373ab7d428b1ef",
    "idx": 22,
    "time": "2021-02-09T02:06:10.129Z",
    "type": "execution"
   },
   {
    "code": "print(np.mean(escSamps))",
    "id": "baa5fd01ae63480f8a258a85ab03b3a6",
    "idx": 24,
    "time": "2021-02-09T02:06:12.528Z",
    "type": "execution"
   },
   {
    "code": "test_z = [2, 4, 6, 8, 10, 12, 14, 16, 18, 20]\nmeanEsc = np.zeros(len(test_z))\nfor i in range(len(test_z)):\n    meanEsc[i] = np.mean(sampleEscapeTraj(trials, test_z[i]))",
    "id": "c92d1ee6507c4d8289dac35e4a0892bc",
    "idx": 26,
    "time": "2021-02-09T02:06:31.617Z",
    "type": "execution"
   },
   {
    "id": "aeae959941cb46f88eda981eecda3f8c",
    "time": "2021-02-09T02:06:35.859Z",
    "type": "completion"
   },
   {
    "id": "3b825f4c6bc84ef881373ab7d428b1ef",
    "time": "2021-02-09T02:06:36.131Z",
    "type": "completion"
   },
   {
    "id": "baa5fd01ae63480f8a258a85ab03b3a6",
    "time": "2021-02-09T02:06:36.173Z",
    "type": "completion"
   },
   {
    "id": "c92d1ee6507c4d8289dac35e4a0892bc",
    "time": "2021-02-09T02:06:37.283Z",
    "type": "completion"
   },
   {
    "code": "trials = 100\nz = 100\nescSamps = sampleEscapeTraj(trials, z)",
    "id": "aeae959941cb46f88eda981eecda3f8c",
    "idx": 20,
    "time": "2021-02-09T02:06:49.179Z",
    "type": "execution"
   },
   {
    "code": "fig, ax = plt.subplots()\n\nnum_bins = 30\nn, bins, patches = ax.hist(escSamps, num_bins)\nax.set_ylabel(\"Counts\")\nax.set_xlabel(\"Steps to $z$\")\nplt.show()\nplt.close()",
    "id": "3b825f4c6bc84ef881373ab7d428b1ef",
    "idx": 22,
    "time": "2021-02-09T02:06:54.323Z",
    "type": "execution"
   },
   {
    "code": "print(np.mean(escSamps))",
    "id": "baa5fd01ae63480f8a258a85ab03b3a6",
    "idx": 24,
    "time": "2021-02-09T02:06:56.754Z",
    "type": "execution"
   },
   {
    "id": "aeae959941cb46f88eda981eecda3f8c",
    "time": "2021-02-09T02:06:56.806Z",
    "type": "completion"
   },
   {
    "id": "3b825f4c6bc84ef881373ab7d428b1ef",
    "time": "2021-02-09T02:06:57.093Z",
    "type": "completion"
   },
   {
    "id": "baa5fd01ae63480f8a258a85ab03b3a6",
    "time": "2021-02-09T02:06:57.133Z",
    "type": "completion"
   },
   {
    "code": "trials = 1000\nz = 10\nescSamps = sampleEscapeTraj(trials, z)",
    "id": "aeae959941cb46f88eda981eecda3f8c",
    "idx": 20,
    "time": "2021-02-09T02:07:29.289Z",
    "type": "execution"
   },
   {
    "id": "aeae959941cb46f88eda981eecda3f8c",
    "time": "2021-02-09T02:07:30.070Z",
    "type": "completion"
   },
   {
    "code": "fig, ax = plt.subplots()\n\nnum_bins = 30\nn, bins, patches = ax.hist(escSamps, num_bins)\nax.set_ylabel(\"Counts\")\nax.set_xlabel(\"Steps to $z$\")\nplt.show()\nplt.close()",
    "id": "3b825f4c6bc84ef881373ab7d428b1ef",
    "idx": 22,
    "time": "2021-02-09T02:07:33.907Z",
    "type": "execution"
   },
   {
    "id": "3b825f4c6bc84ef881373ab7d428b1ef",
    "time": "2021-02-09T02:07:34.226Z",
    "type": "completion"
   },
   {
    "code": "trials = 5000\nz = 10\nescSamps = sampleEscapeTraj(trials, z)",
    "id": "aeae959941cb46f88eda981eecda3f8c",
    "idx": 20,
    "time": "2021-02-09T02:08:15.314Z",
    "type": "execution"
   },
   {
    "code": "fig, ax = plt.subplots()\n\nnum_bins = 30\nn, bins, patches = ax.hist(escSamps, num_bins)\nax.set_ylabel(\"Counts\")\nax.set_xlabel(\"Steps to $z$\")\nplt.show()\nplt.close()",
    "id": "3b825f4c6bc84ef881373ab7d428b1ef",
    "idx": 22,
    "time": "2021-02-09T02:08:17.515Z",
    "type": "execution"
   },
   {
    "id": "aeae959941cb46f88eda981eecda3f8c",
    "time": "2021-02-09T02:08:19.080Z",
    "type": "completion"
   },
   {
    "id": "3b825f4c6bc84ef881373ab7d428b1ef",
    "time": "2021-02-09T02:08:19.339Z",
    "type": "completion"
   },
   {
    "code": "print(np.mean(escSamps))",
    "id": "baa5fd01ae63480f8a258a85ab03b3a6",
    "idx": 24,
    "time": "2021-02-09T02:08:23.273Z",
    "type": "execution"
   },
   {
    "id": "baa5fd01ae63480f8a258a85ab03b3a6",
    "time": "2021-02-09T02:08:23.342Z",
    "type": "completion"
   },
   {
    "code": "#Function that samples M number of trajectories, stopping when a walker reaches a distance r away from the origin\n#Inputs: Number of trials, distance to the edge\n#Outputs: List of integers for the number of steps taken until reaching a distance r\n#In each time interval there is a random step of length $1/\\sqrt{3}$ \ndef sampleEscapeTraj(trials, z):\n    escSteps = np.zeros(trials)\n    for i in range(trials):\n        stepNum = 0\n        curPos = 0\n        while abs(curPos)!=z:\n            curPos += np.random.choice([-1, 1])\n            stepNum += 1\n        escSteps[i] = stepNum\n    return escSteps",
    "id": "47e5c7c23c6a438d9c20d1ff91ddf749",
    "idx": 31,
    "time": "2021-02-09T03:34:43.602Z",
    "type": "execution"
   },
   {
    "id": "47e5c7c23c6a438d9c20d1ff91ddf749",
    "time": "2021-02-09T03:34:43.711Z",
    "type": "completion"
   },
   {
    "code": "#Function that samples M number of trajectories, stopping when a walker reaches a distance r away from the origin\n#Inputs: Number of trials, distance to the edge\n#Outputs: List of integers for the number of steps taken until reaching a distance r\n#In each time interval there is a random step of length 1/sqrt(3) in x,y,and z. \ndef sampleEscapeTraj(trials, r):\n    rescSteps = np.zeros(trials)\n    for i in range(trials):\n        stepNum = 0\n        x = 0\n        y = 0 \n        z = 0\n        while (x**2+y**2+z**2 < r**2):\n            x += np.random.choice([-1, 1])/sqrt(3)\n            y += np.random.choice([-1, 1])/sqrt(3)\n            z += np.random.choice([-1, 1])/sqrt(3)\n            stepNum += 1\n        rescSteps[i] = stepNum\n    return rescSteps",
    "id": "47e5c7c23c6a438d9c20d1ff91ddf749",
    "idx": 31,
    "time": "2021-02-09T03:43:39.297Z",
    "type": "execution"
   },
   {
    "id": "47e5c7c23c6a438d9c20d1ff91ddf749",
    "time": "2021-02-09T03:43:39.374Z",
    "type": "completion"
   },
   {
    "code": "trials = 5000\nr = 10\nrescSamps = sampleEscapeTraj(trials, r)",
    "id": "d1ba13e6c95440088cb794bf560b6454",
    "idx": 32,
    "time": "2021-02-09T03:43:40.604Z",
    "type": "execution"
   },
   {
    "id": "d1ba13e6c95440088cb794bf560b6454",
    "time": "2021-02-09T03:43:40.746Z",
    "type": "completion"
   },
   {
    "code": "#Function that samples M number of trajectories, stopping when a walker reaches a distance r away from the origin\n#Inputs: Number of trials, distance to the edge\n#Outputs: List of integers for the number of steps taken until reaching a distance r\n#In each time interval there is a random step of length 1/sqrt(3) in x,y,and z. \ndef sampleEscapeTraj(trials, r):\n    rescSteps = np.zeros(trials)\n    for i in range(trials):\n        stepNum = 0\n        x = 0\n        y = 0 \n        z = 0\n        while (x**2+y**2+z**2 < r**2):\n            x += np.random.choice([-1, 1])/np.sqrt(3)\n            y += np.random.choice([-1, 1])/np.sqrt(3)\n            z += np.random.choice([-1, 1])/np.sqrt(3)\n            stepNum += 1\n        rescSteps[i] = stepNum\n    return rescSteps",
    "id": "47e5c7c23c6a438d9c20d1ff91ddf749",
    "idx": 31,
    "time": "2021-02-09T03:44:51.331Z",
    "type": "execution"
   },
   {
    "id": "47e5c7c23c6a438d9c20d1ff91ddf749",
    "time": "2021-02-09T03:44:51.404Z",
    "type": "completion"
   },
   {
    "code": "#Function that samples M number of trajectories, stopping when a walker reaches a distance r away from the origin\n#Inputs: Number of trials, distance to the edge\n#Outputs: List of integers for the number of steps taken until reaching a distance r\n#In each time interval there is a random step of length 1/sqrt(3) in x,y,and z. \ndef sampleEscapeTraj(trials, r):\n    rescSteps = np.zeros(trials)\n    for i in range(trials):\n        stepNum = 0\n        x = 0\n        y = 0 \n        z = 0\n        while (x**2+y**2+z**2 < r**2):\n            x += np.random.choice([-1, 1])/np.sqrt(3)\n            y += np.random.choice([-1, 1])/np.sqrt(3)\n            z += np.random.choice([-1, 1])/np.sqrt(3)\n            stepNum += 1\n        rescSteps[i] = stepNum\n    return rescSteps",
    "id": "47e5c7c23c6a438d9c20d1ff91ddf749",
    "idx": 31,
    "time": "2021-02-09T03:44:55.317Z",
    "type": "execution"
   },
   {
    "id": "47e5c7c23c6a438d9c20d1ff91ddf749",
    "time": "2021-02-09T03:44:55.376Z",
    "type": "completion"
   },
   {
    "code": "import numpy as np\nimport scipy.stats as st\nimport matplotlib.pyplot as plt",
    "id": "f7e5311ff87248e3a891b84c9742bab7",
    "idx": 0,
    "time": "2021-02-09T03:45:05.803Z",
    "type": "execution"
   },
   {
    "id": "f7e5311ff87248e3a891b84c9742bab7",
    "time": "2021-02-09T03:45:06.697Z",
    "type": "completion"
   },
   {
    "code": "#Function that samples M number of trajectories, stopping when a walker reaches a distance r away from the origin\n#Inputs: Number of trials, distance to the edge\n#Outputs: List of integers for the number of steps taken until reaching a distance r\n#In each time interval there is a random step of length 1/sqrt(3) in x,y,and z. \ndef sampleEscapeTraj(trials, r):\n    rescSteps = np.zeros(trials)\n    for i in range(trials):\n        stepNum = 0\n        x = 0\n        y = 0 \n        z = 0\n        while (x**2+y**2+z**2 < r**2):\n            x += np.random.choice([-1, 1])/np.sqrt(3)\n            y += np.random.choice([-1, 1])/np.sqrt(3)\n            z += np.random.choice([-1, 1])/np.sqrt(3)\n            stepNum += 1\n        rescSteps[i] = stepNum\n    return rescSteps",
    "id": "47e5c7c23c6a438d9c20d1ff91ddf749",
    "idx": 31,
    "time": "2021-02-09T03:45:12.894Z",
    "type": "execution"
   },
   {
    "id": "47e5c7c23c6a438d9c20d1ff91ddf749",
    "time": "2021-02-09T03:45:12.954Z",
    "type": "completion"
   },
   {
    "code": "#Function that samples M number of trajectories, stopping when a walker reaches a distance r away from the origin\n#Inputs: Number of trials, distance to the edge\n#Outputs: List of integers for the number of steps taken until reaching a distance r\n#In each time interval there is a random step of length 1/sqrt(3) in x,y,and z. \ndef sampleEscapeTraj(trials, r):\n    rescSteps = np.zeros(trials)\n    for i in range(trials):\n        stepNum = 0\n        x = 0\n        y = 0 \n        z = 0\n        while (x**2+y**2+z**2 < r**2):\n            x += np.random.choice([-1, 1])/np.sqrt(3)\n            y += np.random.choice([-1, 1])/np.sqrt(3)\n            z += np.random.choice([-1, 1])/np.sqrt(3)\n            stepNum += 1\n        rescSteps[i] = stepNum\n    return rescSteps",
    "id": "47e5c7c23c6a438d9c20d1ff91ddf749",
    "idx": 31,
    "time": "2021-02-09T03:45:22.125Z",
    "type": "execution"
   },
   {
    "id": "47e5c7c23c6a438d9c20d1ff91ddf749",
    "time": "2021-02-09T03:45:22.186Z",
    "type": "completion"
   },
   {
    "code": "trials = 5000\nr = 10\nrescSamps = sampleEscapeTraj(trials, r)",
    "id": "d1ba13e6c95440088cb794bf560b6454",
    "idx": 32,
    "time": "2021-02-09T03:45:23.443Z",
    "type": "execution"
   },
   {
    "code": "fig, ax = plt.subplots()\n\nnum_bins = 30\nn, bins, patches = ax.hist(rescSamps, num_bins)\nax.set_ylabel(\"Counts\")\nax.set_xlabel(\"Steps to $r$\")\nplt.show()\nplt.close()",
    "id": "402226077bb041b593a014d60ad09015",
    "idx": 33,
    "time": "2021-02-09T03:45:25.472Z",
    "type": "execution"
   },
   {
    "id": "d1ba13e6c95440088cb794bf560b6454",
    "time": "2021-02-09T03:45:45.783Z",
    "type": "completion"
   },
   {
    "id": "402226077bb041b593a014d60ad09015",
    "time": "2021-02-09T03:45:46.231Z",
    "type": "completion"
   },
   {
    "code": "print(np.mean(escSamps))",
    "id": "ae7484e2e2184d948918bd6a5b3918dd",
    "idx": 34,
    "time": "2021-02-09T03:45:56.995Z",
    "type": "execution"
   },
   {
    "id": "ae7484e2e2184d948918bd6a5b3918dd",
    "time": "2021-02-09T03:45:57.134Z",
    "type": "completion"
   },
   {
    "code": "print(np.mean(rescSamps))",
    "id": "ae7484e2e2184d948918bd6a5b3918dd",
    "idx": 34,
    "time": "2021-02-09T03:46:05.705Z",
    "type": "execution"
   },
   {
    "id": "ae7484e2e2184d948918bd6a5b3918dd",
    "time": "2021-02-09T03:46:05.775Z",
    "type": "completion"
   },
   {
    "code": "trials = 1000\nr = 10\nrescSamps = sampleEscapeTraj(trials, r)",
    "id": "d1ba13e6c95440088cb794bf560b6454",
    "idx": 32,
    "time": "2021-02-09T03:46:43.963Z",
    "type": "execution"
   },
   {
    "code": "fig, ax = plt.subplots()\n\nnum_bins = 30\nn, bins, patches = ax.hist(rescSamps, num_bins)\nax.set_ylabel(\"Counts\")\nax.set_xlabel(\"Steps to $r$\")\nplt.show()\nplt.close()",
    "id": "402226077bb041b593a014d60ad09015",
    "idx": 33,
    "time": "2021-02-09T03:46:46.561Z",
    "type": "execution"
   },
   {
    "id": "d1ba13e6c95440088cb794bf560b6454",
    "time": "2021-02-09T03:46:48.291Z",
    "type": "completion"
   },
   {
    "id": "402226077bb041b593a014d60ad09015",
    "time": "2021-02-09T03:46:48.554Z",
    "type": "completion"
   },
   {
    "code": "print(np.mean(rescSamps))",
    "id": "ae7484e2e2184d948918bd6a5b3918dd",
    "idx": 34,
    "time": "2021-02-09T03:46:49.679Z",
    "type": "execution"
   },
   {
    "id": "ae7484e2e2184d948918bd6a5b3918dd",
    "time": "2021-02-09T03:46:49.736Z",
    "type": "completion"
   },
   {
    "code": "trials = 1000\nr = 20\nrescSamps = sampleEscapeTraj(trials, r)",
    "id": "d1ba13e6c95440088cb794bf560b6454",
    "idx": 32,
    "time": "2021-02-09T03:47:05.309Z",
    "type": "execution"
   },
   {
    "code": "fig, ax = plt.subplots()\n\nnum_bins = 30\nn, bins, patches = ax.hist(rescSamps, num_bins)\nax.set_ylabel(\"Counts\")\nax.set_xlabel(\"Steps to $r$\")\nplt.show()\nplt.close()",
    "id": "402226077bb041b593a014d60ad09015",
    "idx": 33,
    "time": "2021-02-09T03:47:06.518Z",
    "type": "execution"
   },
   {
    "code": "print(np.mean(rescSamps))",
    "id": "ae7484e2e2184d948918bd6a5b3918dd",
    "idx": 34,
    "time": "2021-02-09T03:47:09.820Z",
    "type": "execution"
   },
   {
    "id": "d1ba13e6c95440088cb794bf560b6454",
    "time": "2021-02-09T03:47:24.527Z",
    "type": "completion"
   },
   {
    "id": "402226077bb041b593a014d60ad09015",
    "time": "2021-02-09T03:47:24.807Z",
    "type": "completion"
   },
   {
    "id": "ae7484e2e2184d948918bd6a5b3918dd",
    "time": "2021-02-09T03:47:24.837Z",
    "type": "completion"
   },
   {
    "code": "#Function that samples M number of trajectories, stopping when a walker reaches a distance r away from the origin\n#Inputs: Number of trials, distance to the edge\n#Outputs: List of integers for the number of steps taken until reaching a distance r\n#In each time interval there is a random step of length 1/sqrt(3) in x,y,and z. \ndef sampleEscapeTraj(trials, r):\n    rescSteps = np.zeros(trials)\n    for i in range(trials):\n        stepNum = 0\n        x = 0\n        y = 0 \n        z = 0\n        while ((x**2+y**2+z**2) < r**2):\n            x += np.random.choice([-1, 1])/np.sqrt(3)\n            y += np.random.choice([-1, 1])/np.sqrt(3)\n            z += np.random.choice([-1, 1])/np.sqrt(3)\n            stepNum += 1\n        rescSteps[i] = stepNum\n    return rescSteps",
    "id": "47e5c7c23c6a438d9c20d1ff91ddf749",
    "idx": 31,
    "time": "2021-02-09T03:48:32.701Z",
    "type": "execution"
   },
   {
    "id": "47e5c7c23c6a438d9c20d1ff91ddf749",
    "time": "2021-02-09T03:48:32.772Z",
    "type": "completion"
   },
   {
    "code": "trials = 1000\nr = 4\nrescSamps = sampleEscapeTraj(trials, r)",
    "id": "d1ba13e6c95440088cb794bf560b6454",
    "idx": 32,
    "time": "2021-02-09T03:48:33.607Z",
    "type": "execution"
   },
   {
    "id": "d1ba13e6c95440088cb794bf560b6454",
    "time": "2021-02-09T03:48:34.392Z",
    "type": "completion"
   },
   {
    "code": "fig, ax = plt.subplots()\n\nnum_bins = 30\nn, bins, patches = ax.hist(rescSamps, num_bins)\nax.set_ylabel(\"Counts\")\nax.set_xlabel(\"Steps to $r$\")\nplt.show()\nplt.close()",
    "id": "402226077bb041b593a014d60ad09015",
    "idx": 33,
    "time": "2021-02-09T03:48:35.926Z",
    "type": "execution"
   },
   {
    "id": "402226077bb041b593a014d60ad09015",
    "time": "2021-02-09T03:48:36.261Z",
    "type": "completion"
   },
   {
    "code": "print(np.mean(rescSamps))",
    "id": "ae7484e2e2184d948918bd6a5b3918dd",
    "idx": 34,
    "time": "2021-02-09T03:48:42.322Z",
    "type": "execution"
   },
   {
    "id": "ae7484e2e2184d948918bd6a5b3918dd",
    "time": "2021-02-09T03:48:43.158Z",
    "type": "completion"
   },
   {
    "code": "print(np.median(resecSamps))",
    "id": "4bc60c843f2d4b0a98d0875ccea38a94",
    "idx": 35,
    "time": "2021-02-09T03:49:46.793Z",
    "type": "execution"
   },
   {
    "id": "4bc60c843f2d4b0a98d0875ccea38a94",
    "time": "2021-02-09T03:49:46.863Z",
    "type": "completion"
   },
   {
    "code": "print(np.median(rescSamps))",
    "id": "4bc60c843f2d4b0a98d0875ccea38a94",
    "idx": 35,
    "time": "2021-02-09T03:50:02.676Z",
    "type": "execution"
   },
   {
    "id": "4bc60c843f2d4b0a98d0875ccea38a94",
    "time": "2021-02-09T03:50:02.736Z",
    "type": "completion"
   },
   {
    "code": "trials = 1000\nr = 10\nrescSamps = sampleEscapeTraj(trials, r)",
    "id": "d1ba13e6c95440088cb794bf560b6454",
    "idx": 32,
    "time": "2021-02-09T03:51:21.868Z",
    "type": "execution"
   },
   {
    "code": "fig, ax = plt.subplots()\n\nnum_bins = 30\nn, bins, patches = ax.hist(rescSamps, num_bins)\nax.set_ylabel(\"Counts\")\nax.set_xlabel(\"Steps to $r$\")\nplt.show()\nplt.close()",
    "id": "402226077bb041b593a014d60ad09015",
    "idx": 33,
    "time": "2021-02-09T03:51:23.719Z",
    "type": "execution"
   },
   {
    "code": "print(np.mean(rescSamps))",
    "id": "ae7484e2e2184d948918bd6a5b3918dd",
    "idx": 34,
    "time": "2021-02-09T03:51:24.902Z",
    "type": "execution"
   },
   {
    "code": "print(np.median(rescSamps))",
    "id": "4bc60c843f2d4b0a98d0875ccea38a94",
    "idx": 35,
    "time": "2021-02-09T03:51:25.746Z",
    "type": "execution"
   },
   {
    "id": "d1ba13e6c95440088cb794bf560b6454",
    "time": "2021-02-09T03:51:26.233Z",
    "type": "completion"
   },
   {
    "id": "402226077bb041b593a014d60ad09015",
    "time": "2021-02-09T03:51:26.506Z",
    "type": "completion"
   },
   {
    "id": "ae7484e2e2184d948918bd6a5b3918dd",
    "time": "2021-02-09T03:51:26.539Z",
    "type": "completion"
   },
   {
    "id": "4bc60c843f2d4b0a98d0875ccea38a94",
    "time": "2021-02-09T03:51:26.542Z",
    "type": "completion"
   },
   {
    "code": "print(np.mean(escSamps))\nprint(np.median(escSamps))",
    "id": "baa5fd01ae63480f8a258a85ab03b3a6",
    "idx": 24,
    "time": "2021-02-09T03:53:25.038Z",
    "type": "execution"
   },
   {
    "id": "baa5fd01ae63480f8a258a85ab03b3a6",
    "time": "2021-02-09T03:53:25.203Z",
    "type": "completion"
   },
   {
    "code": "#Function that samples M number of trajectories, stopping when a walker reaches a distance z away from the origin\n#Inputs: Number of trials, distance to the edge\n#Outputs: List of integers for the number of steps taken until reaching a distance z\ndef sampleEscapeTraj(trials, z):\n    escSteps = np.zeros(trials)\n    for i in range(trials):\n        stepNum = 0\n        curPos = 0\n        while abs(curPos)!=z:\n            curPos += np.random.choice([-1, 1])\n            stepNum += 1\n        escSteps[i] = stepNum\n    return escSteps",
    "id": "15ec0e12d37c4fd4853576687a4634d6",
    "idx": 19,
    "time": "2021-02-09T03:53:46.813Z",
    "type": "execution"
   },
   {
    "id": "15ec0e12d37c4fd4853576687a4634d6",
    "time": "2021-02-09T03:53:46.981Z",
    "type": "completion"
   },
   {
    "code": "trials = 5000\nz = 10\nescSamps = sampleEscapeTraj(trials, z)",
    "id": "aeae959941cb46f88eda981eecda3f8c",
    "idx": 20,
    "time": "2021-02-09T03:53:47.584Z",
    "type": "execution"
   },
   {
    "code": "fig, ax = plt.subplots()\n\nnum_bins = 30\nn, bins, patches = ax.hist(escSamps, num_bins)\nax.set_ylabel(\"Counts\")\nax.set_xlabel(\"Steps to $z$\")\nplt.show()\nplt.close()",
    "id": "3b825f4c6bc84ef881373ab7d428b1ef",
    "idx": 22,
    "time": "2021-02-09T03:53:50.192Z",
    "type": "execution"
   },
   {
    "id": "aeae959941cb46f88eda981eecda3f8c",
    "time": "2021-02-09T03:53:51.091Z",
    "type": "completion"
   },
   {
    "id": "3b825f4c6bc84ef881373ab7d428b1ef",
    "time": "2021-02-09T03:53:51.420Z",
    "type": "completion"
   },
   {
    "code": "print(np.mean(escSamps))\nprint(np.median(escSamps))",
    "id": "baa5fd01ae63480f8a258a85ab03b3a6",
    "idx": 24,
    "time": "2021-02-09T03:53:53.757Z",
    "type": "execution"
   },
   {
    "id": "baa5fd01ae63480f8a258a85ab03b3a6",
    "time": "2021-02-09T03:53:53.851Z",
    "type": "completion"
   },
   {
    "code": "fig, ax = plt.subplots()\n\nnum_bins = 50\nn, bins, patches = ax.hist(samps, num_bins)\nx = np.arange(np.min(samps), np.max(samps), 2)\nx_range = np.max(samps) -np.min(samps)\nax.plot(x, (x_range/(2*num_bins))*trials*st.binom.pmf((x+steps)/2, steps, probR, loc=0), 'r-', label='Binomial p.d.f.')\nax.set_ylabel(\"Counts\")\nax.set_xlabel(\"Net Displacement\")\nax.legend()\nplt.show()\nplt.close()",
    "id": "e4ed722ab85b407d963938656f3f3238",
    "idx": 9,
    "time": "2021-02-09T04:06:17.032Z",
    "type": "execution"
   },
   {
    "id": "e4ed722ab85b407d963938656f3f3238",
    "time": "2021-02-09T04:06:17.289Z",
    "type": "completion"
   },
   {
    "code": "print(np.mean(samps))\nprint(np.var(samps))",
    "id": "abc9e4886268418e8bf43fcf55ececf0",
    "idx": 10,
    "time": "2021-02-09T04:06:18.703Z",
    "type": "execution"
   },
   {
    "id": "abc9e4886268418e8bf43fcf55ececf0",
    "time": "2021-02-09T04:06:18.793Z",
    "type": "completion"
   },
   {
    "code": "trials = 10000\nsteps = 1000\nprobR = 0.5 #Probability of a +1 (or right) step\nsamps = sampleTrajectories(trials, steps, prob=probR)",
    "id": "c6c2c3f41355440a8c288473860c15b5",
    "idx": 5,
    "time": "2021-02-09T04:06:37.437Z",
    "type": "execution"
   },
   {
    "id": "c6c2c3f41355440a8c288473860c15b5",
    "time": "2021-02-09T04:06:37.504Z",
    "type": "completion"
   },
   {
    "code": "#Function that samples M number of trajectories, with N number of steps per trial\n#Inputs: Number of trials, number of steps per trial\n#Outputs: List of locations (integers) where the random walker stops at the end of all N steps of each trial\ndef sampleTrajectories(num_trials, num_steps, prob=0.5):\n    vals = np.zeros(num_trials, dtype=int)\n    for i in range(num_trials):\n        vals[i] = sum(np.random.choice([-1,1], p=[1-prob, prob], size=num_steps))\n    return vals",
    "id": "8bafbfe49d044c62877a5ae7b9df7451",
    "idx": 4,
    "time": "2021-02-09T04:06:47.863Z",
    "type": "execution"
   },
   {
    "id": "8bafbfe49d044c62877a5ae7b9df7451",
    "time": "2021-02-09T04:06:47.924Z",
    "type": "completion"
   },
   {
    "code": "trials = 10000\nsteps = 1000\nprobR = 0.5 #Probability of a +1 (or right) step\nsamps = sampleTrajectories(trials, steps, prob=probR)",
    "id": "c6c2c3f41355440a8c288473860c15b5",
    "idx": 5,
    "time": "2021-02-09T04:06:49.414Z",
    "type": "execution"
   },
   {
    "id": "c6c2c3f41355440a8c288473860c15b5",
    "time": "2021-02-09T04:06:52.958Z",
    "type": "completion"
   },
   {
    "code": "We can plot the resulting distribution of ending distances.",
    "id": "8361d3729801407db7ea928c041b179e",
    "idx": 8,
    "time": "2021-02-09T04:06:59.041Z",
    "type": "execution"
   },
   {
    "id": "8361d3729801407db7ea928c041b179e",
    "time": "2021-02-09T04:06:59.120Z",
    "type": "completion"
   },
   {
    "code": "fig, ax = plt.subplots()\n\nnum_bins = 50\nn, bins, patches = ax.hist(samps, num_bins)\nx = np.arange(np.min(samps), np.max(samps), 2)\nx_range = np.max(samps) -np.min(samps)\nax.plot(x, (x_range/(2*num_bins))*trials*st.binom.pmf((x+steps)/2, steps, probR, loc=0), 'r-', label='Binomial p.d.f.')\nax.set_ylabel(\"Counts\")\nax.set_xlabel(\"Net Displacement\")\nax.legend()\nplt.show()\nplt.close()",
    "id": "e4ed722ab85b407d963938656f3f3238",
    "idx": 9,
    "time": "2021-02-09T04:07:00.679Z",
    "type": "execution"
   },
   {
    "id": "e4ed722ab85b407d963938656f3f3238",
    "time": "2021-02-09T04:07:01.199Z",
    "type": "completion"
   },
   {
    "code": "trials = 10000\nsteps = 1000\nprobR = 0.25 #Probability of a +1 (or right) step\nsamps = sampleTrajectories(trials, steps, prob=probR)",
    "id": "c6c2c3f41355440a8c288473860c15b5",
    "idx": 5,
    "time": "2021-02-09T04:07:45.131Z",
    "type": "execution"
   },
   {
    "id": "c6c2c3f41355440a8c288473860c15b5",
    "time": "2021-02-09T04:07:48.867Z",
    "type": "completion"
   },
   {
    "code": "trials = 10000\nsteps = 1000\nprobR = 0.25 #Probability of a +1 (or right) step\nsamps = sampleTrajectories(trials, steps, prob=probR)",
    "id": "c6c2c3f41355440a8c288473860c15b5",
    "idx": 5,
    "time": "2021-02-09T04:07:54.100Z",
    "type": "execution"
   },
   {
    "code": "We can plot the resulting distribution of ending distances.",
    "id": "8361d3729801407db7ea928c041b179e",
    "idx": 8,
    "time": "2021-02-09T04:07:56.069Z",
    "type": "execution"
   },
   {
    "code": "fig, ax = plt.subplots()\n\nnum_bins = 50\nn, bins, patches = ax.hist(samps, num_bins)\nx = np.arange(np.min(samps), np.max(samps), 2)\nx_range = np.max(samps) -np.min(samps)\nax.plot(x, (x_range/(2*num_bins))*trials*st.binom.pmf((x+steps)/2, steps, probR, loc=0), 'r-', label='Binomial p.d.f.')\nax.set_ylabel(\"Counts\")\nax.set_xlabel(\"Net Displacement\")\nax.legend()\nplt.show()\nplt.close()",
    "id": "e4ed722ab85b407d963938656f3f3238",
    "idx": 9,
    "time": "2021-02-09T04:07:57.013Z",
    "type": "execution"
   },
   {
    "id": "c6c2c3f41355440a8c288473860c15b5",
    "time": "2021-02-09T04:07:57.349Z",
    "type": "completion"
   },
   {
    "id": "8361d3729801407db7ea928c041b179e",
    "time": "2021-02-09T04:07:57.355Z",
    "type": "completion"
   },
   {
    "id": "e4ed722ab85b407d963938656f3f3238",
    "time": "2021-02-09T04:07:57.357Z",
    "type": "completion"
   },
   {
    "code": "print(np.mean(samps))\nprint(np.var(samps))",
    "id": "abc9e4886268418e8bf43fcf55ececf0",
    "idx": 10,
    "time": "2021-02-09T04:08:06.923Z",
    "type": "execution"
   },
   {
    "id": "abc9e4886268418e8bf43fcf55ececf0",
    "time": "2021-02-09T04:08:06.994Z",
    "type": "completion"
   },
   {
    "code": "fig, ax = plt.subplots()\n\nnum_bins = 50\nn, bins, patches = ax.hist(samps, num_bins)\nx = np.arange(np.min(samps), np.max(samps), 2)\nx_range = np.max(samps) -np.min(samps)\nax.plot(x, (x_range/(2*num_bins))*trials*st.binom.pmf((x+steps)/2, steps, probR, loc=0), 'r-', label='Binomial p.d.f.')\nax.set_ylabel(\"Counts\")\nax.set_xlabel(\"Net Displacement\")\nax.legend()\nplt.show()\nplt.close()",
    "id": "e4ed722ab85b407d963938656f3f3238",
    "idx": 9,
    "time": "2021-02-09T04:08:17.719Z",
    "type": "execution"
   },
   {
    "id": "e4ed722ab85b407d963938656f3f3238",
    "time": "2021-02-09T04:08:18.190Z",
    "type": "completion"
   },
   {
    "code": "fig, ax = plt.subplots()\n\nnum_bins = 50\nn, bins, patches = ax.hist(samps, num_bins)\nx = np.arange(np.min(samps), np.max(samps), 2)\nx_range = np.max(samps) -np.min(samps)\n#ax.plot(x, (x_range/(2*num_bins))*trials*st.binom.pmf((x+steps)/2, steps, probR, loc=0), 'r-', label='Binomial p.d.f.')\nax.set_ylabel(\"Counts\")\nax.set_xlabel(\"Net Displacement\")\nax.legend()\nplt.show()\nplt.close()",
    "id": "e4ed722ab85b407d963938656f3f3238",
    "idx": 7,
    "time": "2021-02-09T04:23:41.372Z",
    "type": "execution"
   },
   {
    "id": "e4ed722ab85b407d963938656f3f3238",
    "time": "2021-02-09T04:23:41.776Z",
    "type": "completion"
   },
   {
    "code": "fig, ax = plt.subplots()\n\nnum_bins = 50\nn, bins, patches = ax.hist(samps, num_bins)\nx = np.arange(np.min(samps), np.max(samps), 2)\nx_range = np.max(samps) -np.min(samps)\n#ax.plot(x, (x_range/(2*num_bins))*trials*st.binom.pmf((x+steps)/2, steps, probR, loc=0), 'r-', label='Binomial p.d.f.')\nax.set_ylabel(\"Counts\")\nax.set_xlabel(\"Net Displacement\")\n#ax.legend()\nplt.show()\nplt.close()",
    "id": "e4ed722ab85b407d963938656f3f3238",
    "idx": 7,
    "time": "2021-02-09T04:24:23.258Z",
    "type": "execution"
   },
   {
    "id": "e4ed722ab85b407d963938656f3f3238",
    "time": "2021-02-09T04:24:23.619Z",
    "type": "completion"
   },
   {
    "code": "trials = 10000\nsteps = 100\nprobR = 0.25 #Probability of a +1 (or right) step\nsamps = sampleTrajectories(trials, steps, prob=probR)",
    "id": "c6c2c3f41355440a8c288473860c15b5",
    "idx": 5,
    "time": "2021-02-09T04:24:46.050Z",
    "type": "execution"
   },
   {
    "id": "c6c2c3f41355440a8c288473860c15b5",
    "time": "2021-02-09T04:24:47.000Z",
    "type": "completion"
   },
   {
    "code": "fig, ax = plt.subplots()\n\nnum_bins = 50\nn, bins, patches = ax.hist(samps, num_bins)\nx = np.arange(np.min(samps), np.max(samps), 2)\nx_range = np.max(samps) -np.min(samps)\n#ax.plot(x, (x_range/(2*num_bins))*trials*st.binom.pmf((x+steps)/2, steps, probR, loc=0), 'r-', label='Binomial p.d.f.')\nax.set_ylabel(\"Counts\")\nax.set_xlabel(\"Net Displacement\")\n#ax.legend()\nplt.show()\nplt.close()",
    "id": "e4ed722ab85b407d963938656f3f3238",
    "idx": 7,
    "time": "2021-02-09T04:24:49.400Z",
    "type": "execution"
   },
   {
    "id": "e4ed722ab85b407d963938656f3f3238",
    "time": "2021-02-09T04:24:49.769Z",
    "type": "completion"
   },
   {
    "code": "trials = 10000\nsteps = 1000\nprobR = 0.25 #Probability of a +1 (or right) step\nsamps = sampleTrajectories(trials, steps, prob=probR)",
    "id": "c6c2c3f41355440a8c288473860c15b5",
    "idx": 5,
    "time": "2021-02-09T04:25:07.802Z",
    "type": "execution"
   },
   {
    "code": "fig, ax = plt.subplots()\n\nnum_bins = 50\nn, bins, patches = ax.hist(samps, num_bins)\nx = np.arange(np.min(samps), np.max(samps), 2)\nx_range = np.max(samps) -np.min(samps)\n#ax.plot(x, (x_range/(2*num_bins))*trials*st.binom.pmf((x+steps)/2, steps, probR, loc=0), 'r-', label='Binomial p.d.f.')\nax.set_ylabel(\"Counts\")\nax.set_xlabel(\"Net Displacement\")\n#ax.legend()\nplt.show()\nplt.close()",
    "id": "e4ed722ab85b407d963938656f3f3238",
    "idx": 7,
    "time": "2021-02-09T04:25:10.650Z",
    "type": "execution"
   },
   {
    "id": "c6c2c3f41355440a8c288473860c15b5",
    "time": "2021-02-09T04:25:11.093Z",
    "type": "completion"
   },
   {
    "id": "e4ed722ab85b407d963938656f3f3238",
    "time": "2021-02-09T04:25:11.419Z",
    "type": "completion"
   },
   {
    "code": "print(np.mean(samps))\nprint(np.var(samps))",
    "id": "abc9e4886268418e8bf43fcf55ececf0",
    "idx": 9,
    "time": "2021-02-09T04:25:14.753Z",
    "type": "execution"
   },
   {
    "id": "abc9e4886268418e8bf43fcf55ececf0",
    "time": "2021-02-09T04:25:14.848Z",
    "type": "completion"
   },
   {
    "code": "#Function that samples M number of trajectories, with N number of steps per trial\n#Inputs: Number of trials, number of steps per trial\n#Outputs: List of locations (integers) where the random walker stops at the end of all N steps of each trial\ndef sampleTrajectories(num_trials, num_steps, prob=0.5):\n    vals = np.zeros(num_trials, dtype=int)\n    for i in range(num_trials):\n        vals[i] = sum(np.random.choice([-1,1], p=[1-prob, prob], size=num_steps))\n    return vals",
    "id": "8bafbfe49d044c62877a5ae7b9df7451",
    "idx": 4,
    "time": "2021-02-09T04:25:32.330Z",
    "type": "execution"
   },
   {
    "id": "8bafbfe49d044c62877a5ae7b9df7451",
    "time": "2021-02-09T04:25:32.414Z",
    "type": "completion"
   },
   {
    "code": "trials = 10000\nsteps = 1000\nprobR = 0.25 #Probability of a +1 (or right) step\nsamps = sampleTrajectories(trials, steps, prob=probR)",
    "id": "c6c2c3f41355440a8c288473860c15b5",
    "idx": 5,
    "time": "2021-02-09T04:25:32.977Z",
    "type": "execution"
   },
   {
    "code": "fig, ax = plt.subplots()\n\nnum_bins = 50\nn, bins, patches = ax.hist(samps, num_bins)\nx = np.arange(np.min(samps), np.max(samps), 2)\nx_range = np.max(samps) -np.min(samps)\n#ax.plot(x, (x_range/(2*num_bins))*trials*st.binom.pmf((x+steps)/2, steps, probR, loc=0), 'r-', label='Binomial p.d.f.')\nax.set_ylabel(\"Counts\")\nax.set_xlabel(\"Net Displacement\")\n#ax.legend()\nplt.show()\nplt.close()",
    "id": "e4ed722ab85b407d963938656f3f3238",
    "idx": 7,
    "time": "2021-02-09T04:25:34.521Z",
    "type": "execution"
   },
   {
    "id": "c6c2c3f41355440a8c288473860c15b5",
    "time": "2021-02-09T04:25:36.608Z",
    "type": "completion"
   },
   {
    "id": "e4ed722ab85b407d963938656f3f3238",
    "time": "2021-02-09T04:25:37.002Z",
    "type": "completion"
   },
   {
    "code": "#Function that samples M number of trajectories, with N number of steps per trial\n#Inputs: Number of trials, number of steps per trial\n#Outputs: List of locations (integers) where the random walker stops at the end of all N steps of each trial\ndef sampleTrajectories(num_trials, num_steps, prob=0.5):\n    vals = np.zeros(num_trials, dtype=int)\n    for i in range(num_trials):\n        vals[i] = sum(np.random.choice([-1,1], p=[1-prob, prob], size=num_steps))\n    return vals",
    "id": "8bafbfe49d044c62877a5ae7b9df7451",
    "idx": 4,
    "time": "2021-02-09T04:25:48.607Z",
    "type": "execution"
   },
   {
    "id": "8bafbfe49d044c62877a5ae7b9df7451",
    "time": "2021-02-09T04:25:48.667Z",
    "type": "completion"
   },
   {
    "code": "trials = 10000\nsteps = 1000\nprobR = 0.25 #Probability of a +1 (or right) step\nsamps = sampleTrajectories(trials, steps, prob=probR)",
    "id": "c6c2c3f41355440a8c288473860c15b5",
    "idx": 5,
    "time": "2021-02-09T04:25:49.393Z",
    "type": "execution"
   },
   {
    "code": "fig, ax = plt.subplots()\n\nnum_bins = 50\nn, bins, patches = ax.hist(samps, num_bins)\nx = np.arange(np.min(samps), np.max(samps), 2)\nx_range = np.max(samps) -np.min(samps)\n#ax.plot(x, (x_range/(2*num_bins))*trials*st.binom.pmf((x+steps)/2, steps, probR, loc=0), 'r-', label='Binomial p.d.f.')\nax.set_ylabel(\"Counts\")\nax.set_xlabel(\"Net Displacement\")\n#ax.legend()\nplt.show()\nplt.close()",
    "id": "e4ed722ab85b407d963938656f3f3238",
    "idx": 7,
    "time": "2021-02-09T04:25:51.407Z",
    "type": "execution"
   },
   {
    "id": "c6c2c3f41355440a8c288473860c15b5",
    "time": "2021-02-09T04:25:54.771Z",
    "type": "completion"
   },
   {
    "id": "e4ed722ab85b407d963938656f3f3238",
    "time": "2021-02-09T04:25:54.777Z",
    "type": "completion"
   },
   {
    "code": "trials = 10000\nsteps = 100\nprobR = 0.25 #Probability of a +1 (or right) step\nsamps = sampleTrajectories(trials, steps, prob=probR)",
    "id": "c6c2c3f41355440a8c288473860c15b5",
    "idx": 5,
    "time": "2021-02-09T04:26:29.183Z",
    "type": "execution"
   },
   {
    "id": "c6c2c3f41355440a8c288473860c15b5",
    "time": "2021-02-09T04:26:30.230Z",
    "type": "completion"
   },
   {
    "code": "fig, ax = plt.subplots()\n\nnum_bins = 50\nn, bins, patches = ax.hist(samps, num_bins)\nx = np.arange(np.min(samps), np.max(samps), 2)\nx_range = np.max(samps) -np.min(samps)\n#ax.plot(x, (x_range/(2*num_bins))*trials*st.binom.pmf((x+steps)/2, steps, probR, loc=0), 'r-', label='Binomial p.d.f.')\nax.set_ylabel(\"Counts\")\nax.set_xlabel(\"Net Displacement\")\n#ax.legend()\nplt.show()\nplt.close()",
    "id": "e4ed722ab85b407d963938656f3f3238",
    "idx": 7,
    "time": "2021-02-09T04:26:31.683Z",
    "type": "execution"
   },
   {
    "id": "e4ed722ab85b407d963938656f3f3238",
    "time": "2021-02-09T04:26:32.043Z",
    "type": "completion"
   },
   {
    "code": "fig, ax = plt.subplots()\n\nnum_bins = 50\nn, bins, patches = ax.hist(samps, num_bins)\nx = np.arange(np.min(samps), np.max(samps), 4)\nx_range = np.max(samps) -np.min(samps)\n#ax.plot(x, (x_range/(2*num_bins))*trials*st.binom.pmf((x+steps)/2, steps, probR, loc=0), 'r-', label='Binomial p.d.f.')\nax.set_ylabel(\"Counts\")\nax.set_xlabel(\"Net Displacement\")\n#ax.legend()\nplt.show()\nplt.close()",
    "id": "e4ed722ab85b407d963938656f3f3238",
    "idx": 7,
    "time": "2021-02-09T04:26:48.289Z",
    "type": "execution"
   },
   {
    "id": "e4ed722ab85b407d963938656f3f3238",
    "time": "2021-02-09T04:26:48.643Z",
    "type": "completion"
   },
   {
    "code": "fig, ax = plt.subplots()\n\nnum_bins = 50\nn, bins, patches = ax.hist(samps, num_bins)\nx = np.arange(np.min(samps), np.max(samps), 6)\nx_range = np.max(samps) -np.min(samps)\n#ax.plot(x, (x_range/(2*num_bins))*trials*st.binom.pmf((x+steps)/2, steps, probR, loc=0), 'r-', label='Binomial p.d.f.')\nax.set_ylabel(\"Counts\")\nax.set_xlabel(\"Net Displacement\")\n#ax.legend()\nplt.show()\nplt.close()",
    "id": "e4ed722ab85b407d963938656f3f3238",
    "idx": 7,
    "time": "2021-02-09T04:27:02.016Z",
    "type": "execution"
   },
   {
    "id": "e4ed722ab85b407d963938656f3f3238",
    "time": "2021-02-09T04:27:02.382Z",
    "type": "completion"
   },
   {
    "code": "fig, ax = plt.subplots()\n\nnum_bins = 20\nn, bins, patches = ax.hist(samps, num_bins)\nx = np.arange(np.min(samps), np.max(samps), 2)\nx_range = np.max(samps) -np.min(samps)\n#ax.plot(x, (x_range/(2*num_bins))*trials*st.binom.pmf((x+steps)/2, steps, probR, loc=0), 'r-', label='Binomial p.d.f.')\nax.set_ylabel(\"Counts\")\nax.set_xlabel(\"Net Displacement\")\n#ax.legend()\nplt.show()\nplt.close()",
    "id": "e4ed722ab85b407d963938656f3f3238",
    "idx": 7,
    "time": "2021-02-09T04:27:17.060Z",
    "type": "execution"
   },
   {
    "id": "e4ed722ab85b407d963938656f3f3238",
    "time": "2021-02-09T04:27:17.374Z",
    "type": "completion"
   },
   {
    "code": "fig, ax = plt.subplots()\n\nnum_bins = 50\nn, bins, patches = ax.hist(samps, num_bins)\nx = np.arange(np.min(samps), np.max(samps), 2)\nx_range = np.max(samps) -np.min(samps)\n#ax.plot(x, (x_range/(2*num_bins))*trials*st.binom.pmf((x+steps)/2, steps, probR, loc=0), 'r-', label='Binomial p.d.f.')\nax.set_ylabel(\"Counts\")\nax.set_xlabel(\"Net Displacement\")\n#ax.legend()\nplt.show()\nplt.close()",
    "id": "e4ed722ab85b407d963938656f3f3238",
    "idx": 7,
    "time": "2021-02-09T04:27:35.902Z",
    "type": "execution"
   },
   {
    "id": "e4ed722ab85b407d963938656f3f3238",
    "time": "2021-02-09T04:27:36.271Z",
    "type": "completion"
   },
   {
    "code": "trials = 10000\nsteps = 300\nprobR = 0.25 #Probability of a +1 (or right) step\nsamps = sampleTrajectories(trials, steps, prob=probR)",
    "id": "c6c2c3f41355440a8c288473860c15b5",
    "idx": 5,
    "time": "2021-02-09T04:28:00.126Z",
    "type": "execution"
   },
   {
    "id": "c6c2c3f41355440a8c288473860c15b5",
    "time": "2021-02-09T04:28:02.003Z",
    "type": "completion"
   },
   {
    "code": "trials = 100000\nsteps = 300\nprobR = 0.25 #Probability of a +1 (or right) step\nsamps = sampleTrajectories(trials, steps, prob=probR)",
    "id": "c6c2c3f41355440a8c288473860c15b5",
    "idx": 5,
    "time": "2021-02-09T04:28:15.593Z",
    "type": "execution"
   },
   {
    "code": "fig, ax = plt.subplots()\n\nnum_bins = 50\nn, bins, patches = ax.hist(samps, num_bins)\nx = np.arange(np.min(samps), np.max(samps), 2)\nx_range = np.max(samps) -np.min(samps)\n#ax.plot(x, (x_range/(2*num_bins))*trials*st.binom.pmf((x+steps)/2, steps, probR, loc=0), 'r-', label='Binomial p.d.f.')\nax.set_ylabel(\"Counts\")\nax.set_xlabel(\"Net Displacement\")\n#ax.legend()\nplt.show()\nplt.close()",
    "id": "e4ed722ab85b407d963938656f3f3238",
    "idx": 7,
    "time": "2021-02-09T04:28:20.444Z",
    "type": "execution"
   },
   {
    "id": "c6c2c3f41355440a8c288473860c15b5",
    "time": "2021-02-09T04:28:30.446Z",
    "type": "completion"
   },
   {
    "id": "e4ed722ab85b407d963938656f3f3238",
    "time": "2021-02-09T04:28:30.756Z",
    "type": "completion"
   },
   {
    "code": "trials = 100000\nsteps = 300\nprobR = 0.5 #Probability of a +1 (or right) step\nsamps = sampleTrajectories(trials, steps, prob=probR)",
    "id": "c6c2c3f41355440a8c288473860c15b5",
    "idx": 5,
    "time": "2021-02-09T04:29:15.747Z",
    "type": "execution"
   },
   {
    "code": "fig, ax = plt.subplots()\n\nnum_bins = 50\nn, bins, patches = ax.hist(samps, num_bins)\nx = np.arange(np.min(samps), np.max(samps), 2)\nx_range = np.max(samps) -np.min(samps)\n#ax.plot(x, (x_range/(2*num_bins))*trials*st.binom.pmf((x+steps)/2, steps, probR, loc=0), 'r-', label='Binomial p.d.f.')\nax.set_ylabel(\"Counts\")\nax.set_xlabel(\"Net Displacement\")\n#ax.legend()\nplt.show()\nplt.close()",
    "id": "e4ed722ab85b407d963938656f3f3238",
    "idx": 7,
    "time": "2021-02-09T04:29:24.604Z",
    "type": "execution"
   },
   {
    "id": "c6c2c3f41355440a8c288473860c15b5",
    "time": "2021-02-09T04:29:30.392Z",
    "type": "completion"
   },
   {
    "id": "e4ed722ab85b407d963938656f3f3238",
    "time": "2021-02-09T04:29:30.695Z",
    "type": "completion"
   },
   {
    "code": "#Function that samples M number of trajectories, with N number of steps per trial\n#Inputs: Number of trials, number of steps per trial\n#Outputs: List of locations (integers) where the random walker stops at the end of all N steps of each trial\ndef sampleTrajectories(num_trials, num_steps, prob=0.5):\n    vals = np.zeros(num_trials, dtype=float)\n    for i in range(num_trials):\n        vals[i] = sum(np.random.choice([-1,1], p=[1-prob, prob], size=num_steps))\n    return vals",
    "id": "8bafbfe49d044c62877a5ae7b9df7451",
    "idx": 4,
    "time": "2021-02-09T04:31:42.593Z",
    "type": "execution"
   },
   {
    "id": "8bafbfe49d044c62877a5ae7b9df7451",
    "time": "2021-02-09T04:31:42.665Z",
    "type": "completion"
   },
   {
    "code": "trials = 100000\nsteps = 300\nprobR = 0.5 #Probability of a +1 (or right) step\nsamps = sampleTrajectories(trials, steps, prob=probR)",
    "id": "c6c2c3f41355440a8c288473860c15b5",
    "idx": 5,
    "time": "2021-02-09T04:31:44.245Z",
    "type": "execution"
   },
   {
    "code": "fig, ax = plt.subplots()\n\nnum_bins = 50\nn, bins, patches = ax.hist(samps, num_bins)\nx = np.arange(np.min(samps), np.max(samps), 2)\nx_range = np.max(samps) -np.min(samps)\n#ax.plot(x, (x_range/(2*num_bins))*trials*st.binom.pmf((x+steps)/2, steps, probR, loc=0), 'r-', label='Binomial p.d.f.')\nax.set_ylabel(\"Counts\")\nax.set_xlabel(\"Net Displacement\")\n#ax.legend()\nplt.show()\nplt.close()",
    "id": "e4ed722ab85b407d963938656f3f3238",
    "idx": 7,
    "time": "2021-02-09T04:31:45.818Z",
    "type": "execution"
   },
   {
    "id": "c6c2c3f41355440a8c288473860c15b5",
    "time": "2021-02-09T04:31:59.096Z",
    "type": "completion"
   },
   {
    "id": "e4ed722ab85b407d963938656f3f3238",
    "time": "2021-02-09T04:31:59.410Z",
    "type": "completion"
   },
   {
    "code": "#Function that samples M number of trajectories, with N number of steps per trial\n#Inputs: Number of trials, number of steps per trial\n#Outputs: List of locations (integers) where the random walker stops at the end of all N steps of each trial\ndef sampleTrajectories(num_trials, num_steps, prob=0.5):\n    vals = np.zeros(num_trials, dtype=int)\n    for i in range(num_trials):\n        vals[i] = sum(np.random.choice([-1,1], p=[1-prob, prob], size=num_steps))\n    return vals",
    "id": "8bafbfe49d044c62877a5ae7b9df7451",
    "idx": 4,
    "time": "2021-02-09T04:32:30.995Z",
    "type": "execution"
   },
   {
    "id": "8bafbfe49d044c62877a5ae7b9df7451",
    "time": "2021-02-09T04:32:31.058Z",
    "type": "completion"
   },
   {
    "code": "trials = 100000\nsteps = 300\nprobR = 0.5 #Probability of a +1 (or right) step\nsamps = sampleTrajectories(trials, steps, prob=probR)",
    "id": "c6c2c3f41355440a8c288473860c15b5",
    "idx": 5,
    "time": "2021-02-09T04:32:32.063Z",
    "type": "execution"
   },
   {
    "code": "fig, ax = plt.subplots()\n\nnum_bins = 50\nn, bins, patches = ax.hist(samps, num_bins)\nx = np.arange(np.min(samps), np.max(samps), 2)\nx_range = np.max(samps) -np.min(samps)\n#ax.plot(x, (x_range/(2*num_bins))*trials*st.binom.pmf((x+steps)/2, steps, probR, loc=0), 'r-', label='Binomial p.d.f.')\nax.set_ylabel(\"Counts\")\nax.set_xlabel(\"Net Displacement\")\n#ax.legend()\nplt.show()\nplt.close()",
    "id": "e4ed722ab85b407d963938656f3f3238",
    "idx": 7,
    "time": "2021-02-09T04:32:34.803Z",
    "type": "execution"
   },
   {
    "id": "c6c2c3f41355440a8c288473860c15b5",
    "time": "2021-02-09T04:32:46.187Z",
    "type": "completion"
   },
   {
    "id": "e4ed722ab85b407d963938656f3f3238",
    "time": "2021-02-09T04:32:46.519Z",
    "type": "completion"
   },
   {
    "code": "fig, ax = plt.subplots()\n\nnum_bins = 20\nn, bins, patches = ax.hist(samps, num_bins)\nx = np.arange(np.min(samps), np.max(samps), 2)\nx_range = np.max(samps) -np.min(samps)\n#ax.plot(x, (x_range/(2*num_bins))*trials*st.binom.pmf((x+steps)/2, steps, probR, loc=0), 'r-', label='Binomial p.d.f.')\nax.set_ylabel(\"Counts\")\nax.set_xlabel(\"Net Displacement\")\n#ax.legend()\nplt.show()\nplt.close()",
    "id": "e4ed722ab85b407d963938656f3f3238",
    "idx": 7,
    "time": "2021-02-09T04:33:35.106Z",
    "type": "execution"
   },
   {
    "id": "e4ed722ab85b407d963938656f3f3238",
    "time": "2021-02-09T04:33:35.444Z",
    "type": "completion"
   },
   {
    "code": "trials = 1000\nsteps = 1000\nprobR = 0.5 #Probability of a +1 (or right) step\nsamps = sampleTrajectories(trials, steps, prob=probR)",
    "id": "c6c2c3f41355440a8c288473860c15b5",
    "idx": 5,
    "time": "2021-02-09T04:33:53.989Z",
    "type": "execution"
   },
   {
    "id": "c6c2c3f41355440a8c288473860c15b5",
    "time": "2021-02-09T04:33:54.384Z",
    "type": "completion"
   },
   {
    "code": "fig, ax = plt.subplots()\n\nnum_bins = 20\nn, bins, patches = ax.hist(samps, num_bins)\nx = np.arange(np.min(samps), np.max(samps), 2)\nx_range = np.max(samps) -np.min(samps)\n#ax.plot(x, (x_range/(2*num_bins))*trials*st.binom.pmf((x+steps)/2, steps, probR, loc=0), 'r-', label='Binomial p.d.f.')\nax.set_ylabel(\"Counts\")\nax.set_xlabel(\"Net Displacement\")\n#ax.legend()\nplt.show()\nplt.close()",
    "id": "e4ed722ab85b407d963938656f3f3238",
    "idx": 7,
    "time": "2021-02-09T04:33:57.044Z",
    "type": "execution"
   },
   {
    "id": "e4ed722ab85b407d963938656f3f3238",
    "time": "2021-02-09T04:33:57.442Z",
    "type": "completion"
   },
   {
    "code": "#Function that samples M number of trajectories, with N number of steps per trial\n#Inputs: Number of trials, number of steps per trial\n#Outputs: List of locations (integers) where the random walker stops at the end of all N steps of each trial\ndef sampleTrajectories(num_trials, num_steps, prob=0.5):\n    vals = np.zeros(num_trials, dtype=int)\n    for i in range(num_trials):\n        vals[i] = sum(np.random.choice([-1,1], p=[1-prob, prob], size=num_steps))\n    return vals",
    "id": "8bafbfe49d044c62877a5ae7b9df7451",
    "idx": 4,
    "time": "2021-02-09T04:34:07.839Z",
    "type": "execution"
   },
   {
    "code": "trials = 1000\nsteps = 1000\nprobR = 0.5 #Probability of a +1 (or right) step\nsamps = sampleTrajectories(trials, steps, prob=probR)",
    "id": "c6c2c3f41355440a8c288473860c15b5",
    "idx": 5,
    "time": "2021-02-09T04:34:08.450Z",
    "type": "execution"
   },
   {
    "code": "fig, ax = plt.subplots()\n\nnum_bins = 20\nn, bins, patches = ax.hist(samps, num_bins)\nx = np.arange(np.min(samps), np.max(samps), 2)\nx_range = np.max(samps) -np.min(samps)\n#ax.plot(x, (x_range/(2*num_bins))*trials*st.binom.pmf((x+steps)/2, steps, probR, loc=0), 'r-', label='Binomial p.d.f.')\nax.set_ylabel(\"Counts\")\nax.set_xlabel(\"Net Displacement\")\n#ax.legend()\nplt.show()\nplt.close()",
    "id": "e4ed722ab85b407d963938656f3f3238",
    "idx": 7,
    "time": "2021-02-09T04:34:10.788Z",
    "type": "execution"
   },
   {
    "id": "8bafbfe49d044c62877a5ae7b9df7451",
    "time": "2021-02-09T04:34:12.294Z",
    "type": "completion"
   },
   {
    "id": "c6c2c3f41355440a8c288473860c15b5",
    "time": "2021-02-09T04:34:12.296Z",
    "type": "completion"
   },
   {
    "id": "e4ed722ab85b407d963938656f3f3238",
    "time": "2021-02-09T04:34:12.839Z",
    "type": "completion"
   },
   {
    "code": "trials = 5000\nsteps = 1000\nprobR = 0.5 #Probability of a +1 (or right) step\nsamps = sampleTrajectories(trials, steps, prob=probR)",
    "id": "c6c2c3f41355440a8c288473860c15b5",
    "idx": 5,
    "time": "2021-02-09T04:34:24.655Z",
    "type": "execution"
   },
   {
    "id": "c6c2c3f41355440a8c288473860c15b5",
    "time": "2021-02-09T04:34:26.291Z",
    "type": "completion"
   },
   {
    "code": "fig, ax = plt.subplots()\n\nnum_bins = 20\nn, bins, patches = ax.hist(samps, num_bins)\nx = np.arange(np.min(samps), np.max(samps), 2)\nx_range = np.max(samps) -np.min(samps)\n#ax.plot(x, (x_range/(2*num_bins))*trials*st.binom.pmf((x+steps)/2, steps, probR, loc=0), 'r-', label='Binomial p.d.f.')\nax.set_ylabel(\"Counts\")\nax.set_xlabel(\"Net Displacement\")\n#ax.legend()\nplt.show()\nplt.close()",
    "id": "e4ed722ab85b407d963938656f3f3238",
    "idx": 7,
    "time": "2021-02-09T04:34:26.775Z",
    "type": "execution"
   },
   {
    "id": "e4ed722ab85b407d963938656f3f3238",
    "time": "2021-02-09T04:34:27.133Z",
    "type": "completion"
   },
   {
    "code": "#Function that samples M number of trajectories, with N number of steps per trial\n#Inputs: Number of trials, number of steps per trial\n#Outputs: List of locations (integers) where the random walker stops at the end of all N steps of each trial\ndef sampleTrajectories(num_trials, num_steps, prob=0.5):\n    vals = np.zeros(num_trials, dtype=int)\n    for i in range(num_trials):\n        vals[i] = sum(np.random.choice([-1,1], p=[1-prob, prob], size=num_steps))\n    return vals",
    "id": "8bafbfe49d044c62877a5ae7b9df7451",
    "idx": 4,
    "time": "2021-02-09T04:34:35.895Z",
    "type": "execution"
   },
   {
    "id": "8bafbfe49d044c62877a5ae7b9df7451",
    "time": "2021-02-09T04:34:35.957Z",
    "type": "completion"
   },
   {
    "code": "trials = 5000\nsteps = 1000\nprobR = 0.5 #Probability of a +1 (or right) step\nsamps = sampleTrajectories(trials, steps, prob=probR)",
    "id": "c6c2c3f41355440a8c288473860c15b5",
    "idx": 5,
    "time": "2021-02-09T04:34:36.470Z",
    "type": "execution"
   },
   {
    "id": "c6c2c3f41355440a8c288473860c15b5",
    "time": "2021-02-09T04:34:38.159Z",
    "type": "completion"
   },
   {
    "code": "fig, ax = plt.subplots()\n\nnum_bins = 20\nn, bins, patches = ax.hist(samps, num_bins)\nx = np.arange(np.min(samps), np.max(samps), 2)\nx_range = np.max(samps) -np.min(samps)\n#ax.plot(x, (x_range/(2*num_bins))*trials*st.binom.pmf((x+steps)/2, steps, probR, loc=0), 'r-', label='Binomial p.d.f.')\nax.set_ylabel(\"Counts\")\nax.set_xlabel(\"Net Displacement\")\n#ax.legend()\nplt.show()\nplt.close()",
    "id": "e4ed722ab85b407d963938656f3f3238",
    "idx": 7,
    "time": "2021-02-09T04:34:38.178Z",
    "type": "execution"
   },
   {
    "id": "e4ed722ab85b407d963938656f3f3238",
    "time": "2021-02-09T04:34:38.467Z",
    "type": "completion"
   },
   {
    "code": "fig, ax = plt.subplots()\n\nnum_bins = 50\nn, bins, patches = ax.hist(samps, num_bins)\nx = np.arange(np.min(samps), np.max(samps), 2)\nx_range = np.max(samps) -np.min(samps)\n#ax.plot(x, (x_range/(2*num_bins))*trials*st.binom.pmf((x+steps)/2, steps, probR, loc=0), 'r-', label='Binomial p.d.f.')\nax.set_ylabel(\"Counts\")\nax.set_xlabel(\"Net Displacement\")\n#ax.legend()\nplt.show()\nplt.close()",
    "id": "e4ed722ab85b407d963938656f3f3238",
    "idx": 7,
    "time": "2021-02-09T04:34:47.024Z",
    "type": "execution"
   },
   {
    "id": "e4ed722ab85b407d963938656f3f3238",
    "time": "2021-02-09T04:34:47.409Z",
    "type": "completion"
   },
   {
    "code": "fig, ax = plt.subplots()\n\nnum_bins = 50\nn, bins, patches = ax.hist(samps, num_bins)\nx = np.arange(np.min(samps), np.max(samps), 1)\nx_range = np.max(samps) -np.min(samps)\n#ax.plot(x, (x_range/(2*num_bins))*trials*st.binom.pmf((x+steps)/2, steps, probR, loc=0), 'r-', label='Binomial p.d.f.')\nax.set_ylabel(\"Counts\")\nax.set_xlabel(\"Net Displacement\")\n#ax.legend()\nplt.show()\nplt.close()",
    "id": "e4ed722ab85b407d963938656f3f3238",
    "idx": 7,
    "time": "2021-02-09T04:34:59.197Z",
    "type": "execution"
   },
   {
    "id": "e4ed722ab85b407d963938656f3f3238",
    "time": "2021-02-09T04:34:59.682Z",
    "type": "completion"
   },
   {
    "code": "fig, ax = plt.subplots()\n\nnum_bins = 50\nn, bins, patches = ax.hist(samps, num_bins)\nx = np.arange(np.min(samps), np.max(samps), 5)\nx_range = np.max(samps) -np.min(samps)\n#ax.plot(x, (x_range/(2*num_bins))*trials*st.binom.pmf((x+steps)/2, steps, probR, loc=0), 'r-', label='Binomial p.d.f.')\nax.set_ylabel(\"Counts\")\nax.set_xlabel(\"Net Displacement\")\n#ax.legend()\nplt.show()\nplt.close()",
    "id": "e4ed722ab85b407d963938656f3f3238",
    "idx": 7,
    "time": "2021-02-09T04:35:05.508Z",
    "type": "execution"
   },
   {
    "id": "e4ed722ab85b407d963938656f3f3238",
    "time": "2021-02-09T04:35:05.849Z",
    "type": "completion"
   },
   {
    "code": "fig, ax = plt.subplots()\n\nnum_bins = 50\nn, bins, patches = ax.hist(samps, num_bins)\nx = np.arange(np.min(samps), np.max(samps), 10)\nx_range = np.max(samps) -np.min(samps)\n#ax.plot(x, (x_range/(2*num_bins))*trials*st.binom.pmf((x+steps)/2, steps, probR, loc=0), 'r-', label='Binomial p.d.f.')\nax.set_ylabel(\"Counts\")\nax.set_xlabel(\"Net Displacement\")\n#ax.legend()\nplt.show()\nplt.close()",
    "id": "e4ed722ab85b407d963938656f3f3238",
    "idx": 7,
    "time": "2021-02-09T04:35:11.259Z",
    "type": "execution"
   },
   {
    "id": "e4ed722ab85b407d963938656f3f3238",
    "time": "2021-02-09T04:35:11.647Z",
    "type": "completion"
   },
   {
    "code": "fig, ax = plt.subplots()\n\nnum_bins = 50\nn, bins, patches = ax.hist(samps, num_bins)\nx = np.arange(np.min(samps), np.max(samps), 2)\nx_range = np.max(samps) -np.min(samps)\n#ax.plot(x, (x_range/(2*num_bins))*trials*st.binom.pmf((x+steps)/2, steps, probR, loc=0), 'r-', label='Binomial p.d.f.')\nax.set_ylabel(\"Counts\")\nax.set_xlabel(\"Net Displacement\")\n#ax.legend()\nplt.show()\nplt.close()",
    "id": "e4ed722ab85b407d963938656f3f3238",
    "idx": 7,
    "time": "2021-02-09T04:35:19.714Z",
    "type": "execution"
   },
   {
    "id": "e4ed722ab85b407d963938656f3f3238",
    "time": "2021-02-09T04:35:20.084Z",
    "type": "completion"
   },
   {
    "code": "trials = 100\nsteps = 10000\nprobR = 0.5 #Probability of a +1 (or right) step\nsamps = sampleTrajectories(trials, steps, prob=probR)",
    "id": "c6c2c3f41355440a8c288473860c15b5",
    "idx": 5,
    "time": "2021-02-09T04:36:29.914Z",
    "type": "execution"
   },
   {
    "id": "c6c2c3f41355440a8c288473860c15b5",
    "time": "2021-02-09T04:36:30.303Z",
    "type": "completion"
   },
   {
    "code": "fig, ax = plt.subplots()\n\nnum_bins = 50\nn, bins, patches = ax.hist(samps, num_bins)\nx = np.arange(np.min(samps), np.max(samps), 2)\nx_range = np.max(samps) -np.min(samps)\n#ax.plot(x, (x_range/(2*num_bins))*trials*st.binom.pmf((x+steps)/2, steps, probR, loc=0), 'r-', label='Binomial p.d.f.')\nax.set_ylabel(\"Counts\")\nax.set_xlabel(\"Net Displacement\")\n#ax.legend()\nplt.show()\nplt.close()",
    "id": "e4ed722ab85b407d963938656f3f3238",
    "idx": 7,
    "time": "2021-02-09T04:36:31.762Z",
    "type": "execution"
   },
   {
    "id": "e4ed722ab85b407d963938656f3f3238",
    "time": "2021-02-09T04:36:32.141Z",
    "type": "completion"
   },
   {
    "code": "trials = 10000\nsteps = 10000\nprobR = 0.5 #Probability of a +1 (or right) step\nsamps = sampleTrajectories(trials, steps, prob=probR)",
    "id": "c6c2c3f41355440a8c288473860c15b5",
    "idx": 5,
    "time": "2021-02-09T04:36:56.082Z",
    "type": "execution"
   },
   {
    "code": "fig, ax = plt.subplots()\n\nnum_bins = 50\nn, bins, patches = ax.hist(samps, num_bins)\nx = np.arange(np.min(samps), np.max(samps), 2)\nx_range = np.max(samps) -np.min(samps)\n#ax.plot(x, (x_range/(2*num_bins))*trials*st.binom.pmf((x+steps)/2, steps, probR, loc=0), 'r-', label='Binomial p.d.f.')\nax.set_ylabel(\"Counts\")\nax.set_xlabel(\"Net Displacement\")\n#ax.legend()\nplt.show()\nplt.close()",
    "id": "e4ed722ab85b407d963938656f3f3238",
    "idx": 7,
    "time": "2021-02-09T04:37:00.987Z",
    "type": "execution"
   },
   {
    "id": "c6c2c3f41355440a8c288473860c15b5",
    "time": "2021-02-09T04:37:20.363Z",
    "type": "completion"
   },
   {
    "id": "e4ed722ab85b407d963938656f3f3238",
    "time": "2021-02-09T04:37:20.671Z",
    "type": "completion"
   },
   {
    "code": "trials = 1000\nsteps = 10000\nprobR = 0.5 #Probability of a +1 (or right) step\nsamps = sampleTrajectories(trials, steps, prob=probR)",
    "id": "c6c2c3f41355440a8c288473860c15b5",
    "idx": 5,
    "time": "2021-02-09T04:37:40.188Z",
    "type": "execution"
   },
   {
    "id": "c6c2c3f41355440a8c288473860c15b5",
    "time": "2021-02-09T04:37:42.614Z",
    "type": "completion"
   },
   {
    "code": "#Function that samples M number of trajectories, with N number of steps per trial\n#Inputs: Number of trials, number of steps per trial\n#Outputs: List of locations (integers) where the random walker stops at the end of all N steps of each trial\ndef sampleTrajectories(num_trials, num_steps, prob=0.5):\n    vals = np.zeros(num_trials, dtype=int)\n    for i in range(num_trials):\n        vals[i] = sum(np.random.choice([-1,1], p=[1-prob, prob], size=num_steps))\n    return vals",
    "id": "8bafbfe49d044c62877a5ae7b9df7451",
    "idx": 4,
    "time": "2021-02-09T04:37:57.205Z",
    "type": "execution"
   },
   {
    "id": "8bafbfe49d044c62877a5ae7b9df7451",
    "time": "2021-02-09T04:37:57.273Z",
    "type": "completion"
   },
   {
    "code": "trials = 1000\nsteps = 10000\nprobR = 0.5 #Probability of a +1 (or right) step\nsamps = sampleTrajectories(trials, steps, prob=probR)",
    "id": "c6c2c3f41355440a8c288473860c15b5",
    "idx": 5,
    "time": "2021-02-09T04:37:57.941Z",
    "type": "execution"
   },
   {
    "id": "c6c2c3f41355440a8c288473860c15b5",
    "time": "2021-02-09T04:38:00.354Z",
    "type": "completion"
   },
   {
    "code": "fig, ax = plt.subplots()\n\nnum_bins = 50\nn, bins, patches = ax.hist(samps, num_bins)\nx = np.arange(np.min(samps), np.max(samps), 2)\nx_range = np.max(samps) -np.min(samps)\n#ax.plot(x, (x_range/(2*num_bins))*trials*st.binom.pmf((x+steps)/2, steps, probR, loc=0), 'r-', label='Binomial p.d.f.')\nax.set_ylabel(\"Counts\")\nax.set_xlabel(\"Net Displacement\")\n#ax.legend()\nplt.show()\nplt.close()",
    "id": "e4ed722ab85b407d963938656f3f3238",
    "idx": 7,
    "time": "2021-02-09T04:38:00.540Z",
    "type": "execution"
   },
   {
    "id": "e4ed722ab85b407d963938656f3f3238",
    "time": "2021-02-09T04:38:01.052Z",
    "type": "completion"
   },
   {
    "code": "trials = 1000\nsteps = 3000\nprobR = 0.5 #Probability of a +1 (or right) step\nsamps = sampleTrajectories(trials, steps, prob=probR)",
    "id": "c6c2c3f41355440a8c288473860c15b5",
    "idx": 5,
    "time": "2021-02-09T04:39:15.804Z",
    "type": "execution"
   },
   {
    "id": "c6c2c3f41355440a8c288473860c15b5",
    "time": "2021-02-09T04:39:16.705Z",
    "type": "completion"
   },
   {
    "code": "fig, ax = plt.subplots()\n\nnum_bins = 50\nn, bins, patches = ax.hist(samps, num_bins)\nx = np.arange(np.min(samps), np.max(samps), 2)\nx_range = np.max(samps) -np.min(samps)\n#ax.plot(x, (x_range/(2*num_bins))*trials*st.binom.pmf((x+steps)/2, steps, probR, loc=0), 'r-', label='Binomial p.d.f.')\nax.set_ylabel(\"Counts\")\nax.set_xlabel(\"Net Displacement\")\n#ax.legend()\nplt.show()\nplt.close()",
    "id": "e4ed722ab85b407d963938656f3f3238",
    "idx": 7,
    "time": "2021-02-09T04:39:17.799Z",
    "type": "execution"
   },
   {
    "id": "e4ed722ab85b407d963938656f3f3238",
    "time": "2021-02-09T04:39:18.156Z",
    "type": "completion"
   },
   {
    "code": "#Function that samples M number of trajectories, with N number of steps per trial\n#Inputs: Number of trials, number of steps per trial\n#Outputs: List of locations (integers) where the random walker stops at the end of all N steps of each trial\ndef sampleTrajectories(num_trials, num_steps, prob=0.5):\n    vals = np.zeros(num_trials, dtype=int)\n    for i in range(num_trials):\n        vals[i] = sum(np.random.choice([-1,1], p=[1-prob, prob], size=num_steps))\n    return vals",
    "id": "8bafbfe49d044c62877a5ae7b9df7451",
    "idx": 4,
    "time": "2021-02-09T04:39:25.314Z",
    "type": "execution"
   },
   {
    "id": "8bafbfe49d044c62877a5ae7b9df7451",
    "time": "2021-02-09T04:39:25.374Z",
    "type": "completion"
   },
   {
    "code": "trials = 1000\nsteps = 3000\nprobR = 0.5 #Probability of a +1 (or right) step\nsamps = sampleTrajectories(trials, steps, prob=probR)",
    "id": "c6c2c3f41355440a8c288473860c15b5",
    "idx": 5,
    "time": "2021-02-09T04:39:25.839Z",
    "type": "execution"
   },
   {
    "id": "c6c2c3f41355440a8c288473860c15b5",
    "time": "2021-02-09T04:39:26.718Z",
    "type": "completion"
   },
   {
    "code": "fig, ax = plt.subplots()\n\nnum_bins = 50\nn, bins, patches = ax.hist(samps, num_bins)\nx = np.arange(np.min(samps), np.max(samps), 2)\nx_range = np.max(samps) -np.min(samps)\n#ax.plot(x, (x_range/(2*num_bins))*trials*st.binom.pmf((x+steps)/2, steps, probR, loc=0), 'r-', label='Binomial p.d.f.')\nax.set_ylabel(\"Counts\")\nax.set_xlabel(\"Net Displacement\")\n#ax.legend()\nplt.show()\nplt.close()",
    "id": "e4ed722ab85b407d963938656f3f3238",
    "idx": 7,
    "time": "2021-02-09T04:39:27.752Z",
    "type": "execution"
   },
   {
    "id": "e4ed722ab85b407d963938656f3f3238",
    "time": "2021-02-09T04:39:28.113Z",
    "type": "completion"
   },
   {
    "code": "np.random.choice([-1,1], size=7)",
    "id": "be02592aae674a9e8b2ad1c7fb67571a",
    "idx": 2,
    "time": "2021-02-09T04:41:11.531Z",
    "type": "execution"
   },
   {
    "id": "be02592aae674a9e8b2ad1c7fb67571a",
    "time": "2021-02-09T04:41:11.631Z",
    "type": "completion"
   },
   {
    "code": "import numpy as np\nimport scipy.stats as st\nimport matplotlib.pyplot as plt",
    "id": "f7e5311ff87248e3a891b84c9742bab7",
    "idx": 0,
    "time": "2021-02-09T04:41:18.329Z",
    "type": "execution"
   },
   {
    "id": "f7e5311ff87248e3a891b84c9742bab7",
    "time": "2021-02-09T04:41:18.388Z",
    "type": "completion"
   },
   {
    "code": "np.random.choice([-1,1], size=7)",
    "id": "be02592aae674a9e8b2ad1c7fb67571a",
    "idx": 2,
    "time": "2021-02-09T04:41:19.939Z",
    "type": "execution"
   },
   {
    "id": "be02592aae674a9e8b2ad1c7fb67571a",
    "time": "2021-02-09T04:41:20.098Z",
    "type": "completion"
   },
   {
    "code": "#Function that samples M number of trajectories, with N number of steps per trial\n#Inputs: Number of trials, number of steps per trial\n#Outputs: List of locations (integers) where the random walker stops at the end of all N steps of each trial\ndef sampleTrajectories(num_trials, num_steps, prob=0.5):\n    vals = np.zeros(num_trials, dtype=int)\n    for i in range(num_trials):\n        vals[i] = sum(np.random.choice([-1,1], p=[1-prob, prob], size=num_steps))\n    return vals",
    "id": "8bafbfe49d044c62877a5ae7b9df7451",
    "idx": 4,
    "time": "2021-02-09T04:41:21.560Z",
    "type": "execution"
   },
   {
    "id": "8bafbfe49d044c62877a5ae7b9df7451",
    "time": "2021-02-09T04:41:21.617Z",
    "type": "completion"
   },
   {
    "code": "trials = 1000\nsteps = 3000\nprobR = 0.5 #Probability of a +1 (or right) step\nsamps = sampleTrajectories(trials, steps, prob=probR)",
    "id": "c6c2c3f41355440a8c288473860c15b5",
    "idx": 5,
    "time": "2021-02-09T04:41:22.438Z",
    "type": "execution"
   },
   {
    "id": "c6c2c3f41355440a8c288473860c15b5",
    "time": "2021-02-09T04:41:23.329Z",
    "type": "completion"
   },
   {
    "code": "fig, ax = plt.subplots()\n\nnum_bins = 50\nn, bins, patches = ax.hist(samps, num_bins)\nx = np.arange(np.min(samps), np.max(samps), 2)\nx_range = np.max(samps) -np.min(samps)\n#ax.plot(x, (x_range/(2*num_bins))*trials*st.binom.pmf((x+steps)/2, steps, probR, loc=0), 'r-', label='Binomial p.d.f.')\nax.set_ylabel(\"Counts\")\nax.set_xlabel(\"Net Displacement\")\n#ax.legend()\nplt.show()\nplt.close()",
    "id": "e4ed722ab85b407d963938656f3f3238",
    "idx": 7,
    "time": "2021-02-09T04:41:24.638Z",
    "type": "execution"
   },
   {
    "id": "e4ed722ab85b407d963938656f3f3238",
    "time": "2021-02-09T04:41:25.015Z",
    "type": "completion"
   },
   {
    "code": "trials = 1000\nsteps = 10000\nprobR = 0.5 #Probability of a +1 (or right) step\nsamps = sampleTrajectories(trials, steps, prob=probR)",
    "id": "c6c2c3f41355440a8c288473860c15b5",
    "idx": 5,
    "time": "2021-02-09T04:42:41.271Z",
    "type": "execution"
   },
   {
    "id": "c6c2c3f41355440a8c288473860c15b5",
    "time": "2021-02-09T04:42:43.977Z",
    "type": "completion"
   },
   {
    "code": "fig, ax = plt.subplots()\n\nnum_bins = 50\nn, bins, patches = ax.hist(samps, num_bins)\nx = np.arange(np.min(samps), np.max(samps), 2)\nx_range = np.max(samps) -np.min(samps)\n#ax.plot(x, (x_range/(2*num_bins))*trials*st.binom.pmf((x+steps)/2, steps, probR, loc=0), 'r-', label='Binomial p.d.f.')\nax.set_ylabel(\"Counts\")\nax.set_xlabel(\"Net Displacement\")\n#ax.legend()\nplt.show()\nplt.close()",
    "id": "e4ed722ab85b407d963938656f3f3238",
    "idx": 7,
    "time": "2021-02-09T04:42:45.702Z",
    "type": "execution"
   },
   {
    "id": "e4ed722ab85b407d963938656f3f3238",
    "time": "2021-02-09T04:42:46.054Z",
    "type": "completion"
   },
   {
    "code": "#Function that samples M number of trajectories, with N number of steps per trial\n#Inputs: Number of trials, number of steps per trial\n#Outputs: List of locations (integers) where the random walker stops at the end of all N steps of each trial\ndef sampleTrajectories(num_trials, num_steps, prob=0.5):\n    vals = np.zeros(num_trials, dtype=int)\n    for i in range(num_trials):\n        vals[i] = sum(np.random.choice([-1,1], p=[1-prob, prob], size=num_steps))\n    return vals",
    "id": "8bafbfe49d044c62877a5ae7b9df7451",
    "idx": 4,
    "time": "2021-02-09T04:42:53.064Z",
    "type": "execution"
   },
   {
    "id": "8bafbfe49d044c62877a5ae7b9df7451",
    "time": "2021-02-09T04:42:53.127Z",
    "type": "completion"
   },
   {
    "code": "trials = 1000\nsteps = 10000\nprobR = 0.5 #Probability of a +1 (or right) step\nsamps = sampleTrajectories(trials, steps, prob=probR)",
    "id": "c6c2c3f41355440a8c288473860c15b5",
    "idx": 5,
    "time": "2021-02-09T04:42:53.724Z",
    "type": "execution"
   },
   {
    "code": "fig, ax = plt.subplots()\n\nnum_bins = 50\nn, bins, patches = ax.hist(samps, num_bins)\nx = np.arange(np.min(samps), np.max(samps), 2)\nx_range = np.max(samps) -np.min(samps)\n#ax.plot(x, (x_range/(2*num_bins))*trials*st.binom.pmf((x+steps)/2, steps, probR, loc=0), 'r-', label='Binomial p.d.f.')\nax.set_ylabel(\"Counts\")\nax.set_xlabel(\"Net Displacement\")\n#ax.legend()\nplt.show()\nplt.close()",
    "id": "e4ed722ab85b407d963938656f3f3238",
    "idx": 7,
    "time": "2021-02-09T04:42:55.324Z",
    "type": "execution"
   },
   {
    "id": "c6c2c3f41355440a8c288473860c15b5",
    "time": "2021-02-09T04:42:56.321Z",
    "type": "completion"
   },
   {
    "id": "e4ed722ab85b407d963938656f3f3238",
    "time": "2021-02-09T04:42:56.604Z",
    "type": "completion"
   },
   {
    "code": "#Function that samples M number of trajectories, with N number of steps per trial\n#Inputs: Number of trials, number of steps per trial\n#Outputs: List of locations (integers) where the random walker stops at the end of all N steps of each trial\ndef sampleTrajectories(num_trials, num_steps, prob=0.5):\n    vals = np.zeros(num_trials, dtype=int)\n    for i in range(num_trials):\n        vals[i] = sum(np.random.choice([-1,1], p=[1-prob, prob], size=num_steps))\n    return vals",
    "id": "8bafbfe49d044c62877a5ae7b9df7451",
    "idx": 4,
    "time": "2021-02-09T04:43:07.944Z",
    "type": "execution"
   },
   {
    "id": "8bafbfe49d044c62877a5ae7b9df7451",
    "time": "2021-02-09T04:43:08.304Z",
    "type": "completion"
   },
   {
    "code": "trials = 1000\nsteps = 10000\nprobR = 0.5 #Probability of a +1 (or right) step\nsamps = sampleTrajectories(trials, steps, prob=probR)",
    "id": "c6c2c3f41355440a8c288473860c15b5",
    "idx": 5,
    "time": "2021-02-09T04:43:08.531Z",
    "type": "execution"
   },
   {
    "code": "fig, ax = plt.subplots()\n\nnum_bins = 50\nn, bins, patches = ax.hist(samps, num_bins)\nx = np.arange(np.min(samps), np.max(samps), 2)\nx_range = np.max(samps) -np.min(samps)\n#ax.plot(x, (x_range/(2*num_bins))*trials*st.binom.pmf((x+steps)/2, steps, probR, loc=0), 'r-', label='Binomial p.d.f.')\nax.set_ylabel(\"Counts\")\nax.set_xlabel(\"Net Displacement\")\n#ax.legend()\nplt.show()\nplt.close()",
    "id": "e4ed722ab85b407d963938656f3f3238",
    "idx": 7,
    "time": "2021-02-09T04:43:09.822Z",
    "type": "execution"
   },
   {
    "id": "c6c2c3f41355440a8c288473860c15b5",
    "time": "2021-02-09T04:43:11.334Z",
    "type": "completion"
   },
   {
    "id": "e4ed722ab85b407d963938656f3f3238",
    "time": "2021-02-09T04:43:11.638Z",
    "type": "completion"
   },
   {
    "code": "fig, ax = plt.subplots()\n\nnum_bins = 50\nn, bins, patches = ax.hist(samps, num_bins)\nx = np.arange(np.min(samps), np.max(samps), 2)\nx_range = np.max(samps) -np.min(samps)\nax.plot(x, (x_range/(2*num_bins))*trials*st.binom.pmf((x+steps)/2, steps, probR, loc=0), 'r-', label='Binomial p.d.f.')\nax.set_ylabel(\"Counts\")\nax.set_xlabel(\"Net Displacement\")\nax.legend()\nplt.show()\nplt.close()",
    "id": "7f7f2d167de740518e6dce59e5738787",
    "idx": 14,
    "time": "2021-02-09T04:53:06.644Z",
    "type": "execution"
   },
   {
    "id": "7f7f2d167de740518e6dce59e5738787",
    "time": "2021-02-09T04:53:07.101Z",
    "type": "completion"
   },
   {
    "code": "trials = 1000\nsteps = 10000\nprobR = 0.25 #Probability of a +1 (or right) step\nsamps = sampleTrajectories(trials, steps, prob=probR)",
    "id": "c6c2c3f41355440a8c288473860c15b5",
    "idx": 5,
    "time": "2021-02-09T04:53:24.666Z",
    "type": "execution"
   },
   {
    "code": "fig, ax = plt.subplots()\n\nnum_bins = 50\nn, bins, patches = ax.hist(samps, num_bins)\nx = np.arange(np.min(samps), np.max(samps), 2)\nx_range = np.max(samps) -np.min(samps)\n#ax.plot(x, (x_range/(2*num_bins))*trials*st.binom.pmf((x+steps)/2, steps, probR, loc=0), 'r-', label='Binomial p.d.f.')\nax.set_ylabel(\"Counts\")\nax.set_xlabel(\"Net Displacement\")\n#ax.legend()\nplt.show()\nplt.close()",
    "id": "e4ed722ab85b407d963938656f3f3238",
    "idx": 7,
    "time": "2021-02-09T04:53:26.169Z",
    "type": "execution"
   },
   {
    "id": "c6c2c3f41355440a8c288473860c15b5",
    "time": "2021-02-09T04:53:27.072Z",
    "type": "completion"
   },
   {
    "id": "e4ed722ab85b407d963938656f3f3238",
    "time": "2021-02-09T04:53:27.380Z",
    "type": "completion"
   },
   {
    "code": "print(np.mean(samps))\nprint(np.var(samps))",
    "id": "abc9e4886268418e8bf43fcf55ececf0",
    "idx": 9,
    "time": "2021-02-09T04:53:31.910Z",
    "type": "execution"
   },
   {
    "id": "abc9e4886268418e8bf43fcf55ececf0",
    "time": "2021-02-09T04:53:31.985Z",
    "type": "completion"
   },
   {
    "code": "fig, ax = plt.subplots()\n\nnum_bins = 50\nn, bins, patches = ax.hist(samps, num_bins)\nx = np.arange(np.min(samps), np.max(samps), 2)\nx_range = np.max(samps) -np.min(samps)\nax.plot(x, (x_range/(2*num_bins))*trials*st.binom.pmf((x+steps)/2, steps, probR, loc=0), 'r-', label='Binomial p.d.f.')\nax.set_ylabel(\"Counts\")\nax.set_xlabel(\"Net Displacement\")\nax.legend()\nplt.show()\nplt.close()",
    "id": "7f7f2d167de740518e6dce59e5738787",
    "idx": 14,
    "time": "2021-02-09T04:53:36.977Z",
    "type": "execution"
   },
   {
    "id": "7f7f2d167de740518e6dce59e5738787",
    "time": "2021-02-09T04:53:37.425Z",
    "type": "completion"
   },
   {
    "code": "np.random.choice([-1,1], size=7)",
    "id": "3597991278e645578ba09ba30c098776",
    "idx": 5,
    "time": "2021-02-09T20:10:24.703Z",
    "type": "execution"
   },
   {
    "id": "3597991278e645578ba09ba30c098776",
    "time": "2021-02-09T20:10:25.055Z",
    "type": "completion"
   },
   {
    "code": "import numpy as np\nimport scipy.stats as st\nimport matplotlib.pyplot as plt",
    "id": "bf6f0cfbb228466f8b153b6f36ba116e",
    "idx": 2,
    "time": "2021-02-09T20:10:32.896Z",
    "type": "execution"
   },
   {
    "id": "bf6f0cfbb228466f8b153b6f36ba116e",
    "time": "2021-02-09T20:10:34.084Z",
    "type": "completion"
   },
   {
    "code": "np.random.choice([-1,1], size=7)",
    "id": "3597991278e645578ba09ba30c098776",
    "idx": 5,
    "time": "2021-02-09T20:10:40.833Z",
    "type": "execution"
   },
   {
    "id": "3597991278e645578ba09ba30c098776",
    "time": "2021-02-09T20:10:40.902Z",
    "type": "completion"
   },
   {
    "code": "np.random.choice([-1,1], size=20)",
    "id": "3597991278e645578ba09ba30c098776",
    "idx": 5,
    "time": "2021-02-09T20:11:33.092Z",
    "type": "execution"
   },
   {
    "id": "3597991278e645578ba09ba30c098776",
    "time": "2021-02-09T20:11:33.172Z",
    "type": "completion"
   },
   {
    "code": "seq = np.random.choice([-1,1], size=20)\nprint(seq)",
    "id": "3597991278e645578ba09ba30c098776",
    "idx": 5,
    "time": "2021-02-09T20:14:33.755Z",
    "type": "execution"
   },
   {
    "id": "3597991278e645578ba09ba30c098776",
    "time": "2021-02-09T20:14:33.832Z",
    "type": "completion"
   },
   {
    "code": "seq = np.random.choice([-1,1], size=40)\nprint(seq)",
    "id": "3597991278e645578ba09ba30c098776",
    "idx": 5,
    "time": "2021-02-09T20:14:44.763Z",
    "type": "execution"
   },
   {
    "id": "3597991278e645578ba09ba30c098776",
    "time": "2021-02-09T20:14:45.120Z",
    "type": "completion"
   },
   {
    "code": "seq = np.random.choice([-1,1], size=30)\nprint(seq)",
    "id": "3597991278e645578ba09ba30c098776",
    "idx": 5,
    "time": "2021-02-09T20:14:50.908Z",
    "type": "execution"
   },
   {
    "id": "3597991278e645578ba09ba30c098776",
    "time": "2021-02-09T20:14:50.973Z",
    "type": "completion"
   },
   {
    "code": "seq = np.random.choice([-1,1], size=100)\nprint(seq)",
    "id": "3597991278e645578ba09ba30c098776",
    "idx": 5,
    "time": "2021-02-09T20:15:02.427Z",
    "type": "execution"
   },
   {
    "id": "3597991278e645578ba09ba30c098776",
    "time": "2021-02-09T20:15:02.490Z",
    "type": "completion"
   },
   {
    "code": "print(np.mean(seq))",
    "id": "2acdfc71184d401e8b81937a168f0322",
    "idx": 7,
    "time": "2021-02-09T20:15:15.825Z",
    "type": "execution"
   },
   {
    "id": "2acdfc71184d401e8b81937a168f0322",
    "time": "2021-02-09T20:15:15.883Z",
    "type": "completion"
   },
   {
    "code": "seq = np.random.choice([-1,1], p=[0.25, 0.75], size=100)\nprint(seq)",
    "id": "e91d91d25d4a48a5bf0c4247d3665718",
    "idx": 11,
    "time": "2021-02-09T20:24:26.632Z",
    "type": "execution"
   },
   {
    "id": "e91d91d25d4a48a5bf0c4247d3665718",
    "time": "2021-02-09T20:24:26.709Z",
    "type": "completion"
   },
   {
    "code": "seq = np.random.choice([-1,1], p=[0.25, 0.75], size=100)\nprint(seq)\nprint(np.mean(seq))",
    "id": "e91d91d25d4a48a5bf0c4247d3665718",
    "idx": 11,
    "time": "2021-02-09T20:24:58.629Z",
    "type": "execution"
   },
   {
    "code": "seq = np.random.choice([-1,1], p=[0.25, 0.75], size=100)\nprint(seq)\nprint(np.mean(seq))",
    "id": "e91d91d25d4a48a5bf0c4247d3665718",
    "idx": 11,
    "time": "2021-02-09T20:25:03.084Z",
    "type": "execution"
   },
   {
    "code": "seq = np.random.choice([-1,1], p=[0.25, 0.75], size=100)\nprint(seq)",
    "id": "e91d91d25d4a48a5bf0c4247d3665718",
    "idx": 11,
    "time": "2021-02-09T20:25:51.676Z",
    "type": "execution"
   },
   {
    "code": "seq = np.random.choice([-1,1], size=100)\nprint(seq)",
    "id": "3597991278e645578ba09ba30c098776",
    "idx": 5,
    "time": "2021-02-09T20:26:16.860Z",
    "type": "execution"
   },
   {
    "code": "seq = np.random.choice([-1,1], size=100)\nprint(seq)",
    "id": "3597991278e645578ba09ba30c098776",
    "idx": 5,
    "time": "2021-02-09T20:26:59.851Z",
    "type": "execution"
   },
   {
    "code": "seq = np.random.choice([-1,1], size=100)\nprint(seq)",
    "id": "3597991278e645578ba09ba30c098776",
    "idx": 5,
    "time": "2021-02-09T20:27:10.321Z",
    "type": "execution"
   },
   {
    "id": "e91d91d25d4a48a5bf0c4247d3665718",
    "time": "2021-02-09T20:27:27.231Z",
    "type": "completion"
   },
   {
    "id": "e91d91d25d4a48a5bf0c4247d3665718",
    "time": "2021-02-09T20:27:27.231Z",
    "type": "completion"
   },
   {
    "id": "e91d91d25d4a48a5bf0c4247d3665718",
    "time": "2021-02-09T20:27:27.231Z",
    "type": "completion"
   },
   {
    "id": "3597991278e645578ba09ba30c098776",
    "time": "2021-02-09T20:27:27.258Z",
    "type": "completion"
   },
   {
    "id": "3597991278e645578ba09ba30c098776",
    "time": "2021-02-09T20:27:27.259Z",
    "type": "completion"
   },
   {
    "id": "3597991278e645578ba09ba30c098776",
    "time": "2021-02-09T20:27:27.259Z",
    "type": "completion"
   },
   {
    "code": "seq = np.random.choice([-1,1], size=100)\nprint(seq)",
    "id": "3597991278e645578ba09ba30c098776",
    "idx": 5,
    "time": "2021-02-09T20:27:32.555Z",
    "type": "execution"
   },
   {
    "id": "3597991278e645578ba09ba30c098776",
    "time": "2021-02-09T20:27:32.620Z",
    "type": "completion"
   },
   {
    "code": "import numpy as np\nimport scipy.stats as st\nimport matplotlib.pyplot as plt",
    "id": "bf6f0cfbb228466f8b153b6f36ba116e",
    "idx": 2,
    "time": "2021-02-09T20:27:38.998Z",
    "type": "execution"
   },
   {
    "id": "bf6f0cfbb228466f8b153b6f36ba116e",
    "time": "2021-02-09T20:27:40.060Z",
    "type": "completion"
   },
   {
    "code": "seq = np.random.choice([-1,1], size=100)\nprint(seq)",
    "id": "3597991278e645578ba09ba30c098776",
    "idx": 5,
    "time": "2021-02-09T20:27:42.378Z",
    "type": "execution"
   },
   {
    "id": "3597991278e645578ba09ba30c098776",
    "time": "2021-02-09T20:27:42.442Z",
    "type": "completion"
   },
   {
    "code": "print(np.mean(seq))",
    "id": "2acdfc71184d401e8b81937a168f0322",
    "idx": 8,
    "time": "2021-02-09T20:27:46.036Z",
    "type": "execution"
   },
   {
    "id": "2acdfc71184d401e8b81937a168f0322",
    "time": "2021-02-09T20:27:46.099Z",
    "type": "completion"
   },
   {
    "code": "seq = np.random.choice([-1,1], p=[0.25, 0.75], size=100)\nprint(seq)\nprint(np.mean(seq))",
    "id": "e91d91d25d4a48a5bf0c4247d3665718",
    "idx": 11,
    "time": "2021-02-09T20:28:06.008Z",
    "type": "execution"
   },
   {
    "id": "e91d91d25d4a48a5bf0c4247d3665718",
    "time": "2021-02-09T20:28:06.072Z",
    "type": "completion"
   },
   {
    "code": "seq = np.random.choice([-1,1], p=[0.02, 0.98], size=100)\nprint(seq)\nprint(np.mean(seq))",
    "id": "e91d91d25d4a48a5bf0c4247d3665718",
    "idx": 11,
    "time": "2021-02-09T20:28:52.292Z",
    "type": "execution"
   },
   {
    "id": "e91d91d25d4a48a5bf0c4247d3665718",
    "time": "2021-02-09T20:28:52.360Z",
    "type": "completion"
   },
   {
    "code": "seq = np.random.choice([-1,1], p=[0.25, 0.75], size=100)\nprint(seq)\nprint(np.mean(seq))",
    "id": "e91d91d25d4a48a5bf0c4247d3665718",
    "idx": 11,
    "time": "2021-02-09T20:29:06.386Z",
    "type": "execution"
   },
   {
    "id": "e91d91d25d4a48a5bf0c4247d3665718",
    "time": "2021-02-09T20:29:06.485Z",
    "type": "completion"
   },
   {
    "code": "seq = np.random.choice([-1,1], p=[0.5, 0.5], size=100)\nprint(seq)\nprint(np.mean(seq))",
    "id": "e91d91d25d4a48a5bf0c4247d3665718",
    "idx": 11,
    "time": "2021-02-09T20:29:23.076Z",
    "type": "execution"
   },
   {
    "id": "e91d91d25d4a48a5bf0c4247d3665718",
    "time": "2021-02-09T20:29:23.141Z",
    "type": "completion"
   },
   {
    "code": "seq = np.random.choice([-1,1], p=[0.5, 0.5], size=100)\nprint(seq)\nprint(np.mean(seq))",
    "id": "e91d91d25d4a48a5bf0c4247d3665718",
    "idx": 11,
    "time": "2021-02-09T20:29:28.098Z",
    "type": "execution"
   },
   {
    "id": "e91d91d25d4a48a5bf0c4247d3665718",
    "time": "2021-02-09T20:29:28.164Z",
    "type": "completion"
   },
   {
    "code": "seq = np.random.choice([-1,1], p=[0.5, 0.5], size=100)\nprint(seq)\nprint(np.mean(seq))",
    "id": "e91d91d25d4a48a5bf0c4247d3665718",
    "idx": 11,
    "time": "2021-02-09T20:29:31.582Z",
    "type": "execution"
   },
   {
    "id": "e91d91d25d4a48a5bf0c4247d3665718",
    "time": "2021-02-09T20:29:31.644Z",
    "type": "completion"
   },
   {
    "code": "seq = np.random.choice([-1,1], size=1000)\nprint(seq)",
    "id": "3597991278e645578ba09ba30c098776",
    "idx": 5,
    "time": "2021-02-09T20:29:49.925Z",
    "type": "execution"
   },
   {
    "id": "3597991278e645578ba09ba30c098776",
    "time": "2021-02-09T20:29:49.990Z",
    "type": "completion"
   },
   {
    "code": "print(np.mean(seq))",
    "id": "2acdfc71184d401e8b81937a168f0322",
    "idx": 8,
    "time": "2021-02-09T20:29:57.091Z",
    "type": "execution"
   },
   {
    "id": "2acdfc71184d401e8b81937a168f0322",
    "time": "2021-02-09T20:29:57.158Z",
    "type": "completion"
   },
   {
    "code": "seq = np.random.choice([-1,1], size=1000)",
    "id": "3597991278e645578ba09ba30c098776",
    "idx": 5,
    "time": "2021-02-09T20:30:11.922Z",
    "type": "execution"
   },
   {
    "id": "3597991278e645578ba09ba30c098776",
    "time": "2021-02-09T20:30:11.982Z",
    "type": "completion"
   },
   {
    "code": "seq = np.random.choice([-1,1], size=1000)\nprint(np.mean(seq))",
    "id": "3597991278e645578ba09ba30c098776",
    "idx": 5,
    "time": "2021-02-09T20:31:52.438Z",
    "type": "execution"
   },
   {
    "id": "3597991278e645578ba09ba30c098776",
    "time": "2021-02-09T20:31:52.516Z",
    "type": "completion"
   },
   {
    "code": "seq = np.random.choice([-1,1], p=[0.75, 0.25], size=100)\nprint(seq)\nprint(np.mean(seq))",
    "id": "e91d91d25d4a48a5bf0c4247d3665718",
    "idx": 8,
    "time": "2021-02-09T20:33:56.401Z",
    "type": "execution"
   },
   {
    "id": "e91d91d25d4a48a5bf0c4247d3665718",
    "time": "2021-02-09T20:33:56.463Z",
    "type": "completion"
   },
   {
    "code": "seq = np.random.choice([-1,1], p=[0.75, 0.25], size=1000)\nprint(np.mean(seq))",
    "id": "e91d91d25d4a48a5bf0c4247d3665718",
    "idx": 8,
    "time": "2021-02-09T20:34:15.207Z",
    "type": "execution"
   },
   {
    "id": "e91d91d25d4a48a5bf0c4247d3665718",
    "time": "2021-02-09T20:34:15.267Z",
    "type": "completion"
   },
   {
    "code": "seq = np.random.choice([-1,1], p=[0.75, 0.25], size=1000)\nprint(np.mean(seq))",
    "id": "e91d91d25d4a48a5bf0c4247d3665718",
    "idx": 8,
    "time": "2021-02-09T20:34:21.389Z",
    "type": "execution"
   },
   {
    "id": "e91d91d25d4a48a5bf0c4247d3665718",
    "time": "2021-02-09T20:34:21.455Z",
    "type": "completion"
   },
   {
    "code": "seq = np.random.choice([-1,1], p=[0.75, 0.25], size=1000)\nprint(np.mean(seq))",
    "id": "e91d91d25d4a48a5bf0c4247d3665718",
    "idx": 8,
    "time": "2021-02-09T20:34:24.039Z",
    "type": "execution"
   },
   {
    "id": "e91d91d25d4a48a5bf0c4247d3665718",
    "time": "2021-02-09T20:34:24.100Z",
    "type": "completion"
   },
   {
    "code": "seq = np.random.choice([-1,1], p=[0.75, 0.25], size=1000)\nprint(np.mean(seq))",
    "id": "e91d91d25d4a48a5bf0c4247d3665718",
    "idx": 8,
    "time": "2021-02-09T20:34:26.773Z",
    "type": "execution"
   },
   {
    "id": "e91d91d25d4a48a5bf0c4247d3665718",
    "time": "2021-02-09T20:34:26.840Z",
    "type": "completion"
   },
   {
    "code": "seq = np.random.choice([-1,1], p=[0.75, 0.25], size=10000)\nprint(np.mean(seq))",
    "id": "e91d91d25d4a48a5bf0c4247d3665718",
    "idx": 8,
    "time": "2021-02-09T20:34:32.022Z",
    "type": "execution"
   },
   {
    "id": "e91d91d25d4a48a5bf0c4247d3665718",
    "time": "2021-02-09T20:34:32.097Z",
    "type": "completion"
   },
   {
    "code": "seq = np.random.choice([-1,1], size=10000)\nprint(np.mean(seq))",
    "id": "3597991278e645578ba09ba30c098776",
    "idx": 5,
    "time": "2021-02-09T20:34:39.174Z",
    "type": "execution"
   },
   {
    "id": "3597991278e645578ba09ba30c098776",
    "time": "2021-02-09T20:34:39.234Z",
    "type": "completion"
   },
   {
    "code": "seq = np.random.choice([-1,1], p=[0.75, 0.25], size=10000)\nprint(np.mean(seq))",
    "id": "e91d91d25d4a48a5bf0c4247d3665718",
    "idx": 8,
    "time": "2021-02-09T20:34:55.668Z",
    "type": "execution"
   },
   {
    "id": "e91d91d25d4a48a5bf0c4247d3665718",
    "time": "2021-02-09T20:34:55.737Z",
    "type": "completion"
   },
   {
    "code": "seq = np.random.choice([-1,1], size=10000)\nprint(np.mean(seq))\nprint(np.sum(seq))",
    "id": "3597991278e645578ba09ba30c098776",
    "idx": 5,
    "time": "2021-02-09T20:37:26.933Z",
    "type": "execution"
   },
   {
    "id": "3597991278e645578ba09ba30c098776",
    "time": "2021-02-09T20:37:27.010Z",
    "type": "completion"
   },
   {
    "code": "seq = np.random.choice([-1,1], size=10000)\nprint(np.sum(seq))\nprint(np.mean(seq))",
    "id": "3597991278e645578ba09ba30c098776",
    "idx": 5,
    "time": "2021-02-09T20:40:31.380Z",
    "type": "execution"
   },
   {
    "id": "3597991278e645578ba09ba30c098776",
    "time": "2021-02-09T20:40:31.452Z",
    "type": "completion"
   },
   {
    "code": "seq = np.random.choice([-1,1], p=[0.75, 0.25], size=10000)\nprint(np.sum(seq))\nprint(np.mean(seq))",
    "id": "e91d91d25d4a48a5bf0c4247d3665718",
    "idx": 8,
    "time": "2021-02-09T20:40:34.960Z",
    "type": "execution"
   },
   {
    "id": "e91d91d25d4a48a5bf0c4247d3665718",
    "time": "2021-02-09T20:40:35.035Z",
    "type": "completion"
   },
   {
    "code": "#Function that samples M number of trajectories, with N number of steps per trial\n#Inputs: Number of trials, number of steps per trial\n#Outputs: List of locations (integers) where the random walker stops at the end of all N steps of each trial\ndef sampleTrajectories(num_trials, num_steps, prob=0.5):\n    vals = np.zeros(num_trials, dtype=int)\n    for i in range(num_trials):\n        vals[i] = sum(np.random.choice([-1,1], p=[1-prob, prob], size=num_steps))\n    return vals",
    "id": "9b2041e073f2451d8e2ca1c4479820a6",
    "idx": 11,
    "time": "2021-02-09T21:00:40.251Z",
    "type": "execution"
   },
   {
    "id": "9b2041e073f2451d8e2ca1c4479820a6",
    "time": "2021-02-09T21:00:40.333Z",
    "type": "completion"
   },
   {
    "code": "trials = 1000\nsteps = 10000\nprobR = 0.25 #Probability of a +1 (or right) step\nsamps = sampleTrajectories(trials, steps, prob=probR)",
    "id": "6581fa834ff845bda2bd7b916b517e49",
    "idx": 13,
    "time": "2021-02-09T21:03:07.736Z",
    "type": "execution"
   },
   {
    "id": "6581fa834ff845bda2bd7b916b517e49",
    "time": "2021-02-09T21:03:12.427Z",
    "type": "completion"
   },
   {
    "code": "trials = 1000\nsteps = 10000\nprobR = 0.5 #Probability of a +1 (or right) step\nsamps = sampleTrajectories(trials, steps, prob=probR)",
    "id": "6581fa834ff845bda2bd7b916b517e49",
    "idx": 14,
    "time": "2021-02-09T21:11:37.320Z",
    "type": "execution"
   },
   {
    "code": "fig, ax = plt.subplots()\n\nnum_bins = 50\nn, bins, patches = ax.hist(samps, num_bins)\nx = np.arange(np.min(samps), np.max(samps), 2)\nx_range = np.max(samps) -np.min(samps)\n#ax.plot(x, (x_range/(2*num_bins))*trials*st.binom.pmf((x+steps)/2, steps, probR, loc=0), 'r-', label='Binomial p.d.f.')\nax.set_ylabel(\"Counts\")\nax.set_xlabel(\"Net Displacement\")\n#ax.legend()\nplt.show()\nplt.close()",
    "id": "4240e595fcc44400a4cca2bcf759a89c",
    "idx": 15,
    "time": "2021-02-09T21:11:38.981Z",
    "type": "execution"
   },
   {
    "id": "6581fa834ff845bda2bd7b916b517e49",
    "time": "2021-02-09T21:11:40.246Z",
    "type": "completion"
   },
   {
    "id": "4240e595fcc44400a4cca2bcf759a89c",
    "time": "2021-02-09T21:11:40.649Z",
    "type": "completion"
   },
   {
    "code": "print(np.mean(samps))\nprint(np.var(samps))",
    "id": "e04c94c9877b4a3ebdd567ff8fcd8d6b",
    "idx": 15,
    "time": "2021-02-09T21:14:55.675Z",
    "type": "execution"
   },
   {
    "id": "e04c94c9877b4a3ebdd567ff8fcd8d6b",
    "time": "2021-02-09T21:14:55.740Z",
    "type": "completion"
   },
   {
    "code": "sampleTrajectories(num_trials, num_steps, prob=0.5)",
    "id": "813be560dd3f4c65b2e58792c0badca2",
    "idx": 16,
    "time": "2021-02-09T21:14:57.888Z",
    "type": "execution"
   },
   {
    "id": "813be560dd3f4c65b2e58792c0badca2",
    "time": "2021-02-09T21:14:58.026Z",
    "type": "completion"
   },
   {
    "code": "print(np.mean(samps))\nprint(np.var(samps))",
    "id": "e04c94c9877b4a3ebdd567ff8fcd8d6b",
    "idx": 16,
    "time": "2021-02-09T21:18:05.161Z",
    "type": "execution"
   },
   {
    "id": "e04c94c9877b4a3ebdd567ff8fcd8d6b",
    "time": "2021-02-09T21:18:05.230Z",
    "type": "completion"
   },
   {
    "code": "fig, ax = plt.subplots()\n\nnum_bins = 50\nn, bins, patches = ax.hist(samps, num_bins)\nx = np.arange(np.min(samps), np.max(samps), 2)\nx_range = np.max(samps) -np.min(samps)\n#ax.plot(x, (x_range/(2*num_bins))*trials*st.binom.pmf((x+steps)/2, steps, probR, loc=0), 'r-', label='Binomial p.d.f.')\nax.set_ylabel(\"Counts\")\nax.set_xlabel(\"Net Displacement\")\n#ax.legend()\nplt.show()\nplt.close()",
    "id": "4240e595fcc44400a4cca2bcf759a89c",
    "idx": 17,
    "time": "2021-02-09T21:18:08.977Z",
    "type": "execution"
   },
   {
    "id": "4240e595fcc44400a4cca2bcf759a89c",
    "time": "2021-02-09T21:18:09.344Z",
    "type": "completion"
   },
   {
    "code": "trials = 1000\nsteps = 10000\nprobR = 0.5 #Probability of a +1 (or right) step\nsamps = sampleTrajectories(trials, steps, prob=probR)",
    "id": "6581fa834ff845bda2bd7b916b517e49",
    "idx": 14,
    "time": "2021-02-09T21:19:02.537Z",
    "type": "execution"
   },
   {
    "code": "print(np.mean(samps))\nprint(np.var(samps))",
    "id": "e04c94c9877b4a3ebdd567ff8fcd8d6b",
    "idx": 15,
    "time": "2021-02-09T21:19:03.395Z",
    "type": "execution"
   },
   {
    "code": "fig, ax = plt.subplots()\n\nnum_bins = 50\nn, bins, patches = ax.hist(samps, num_bins)\nx = np.arange(np.min(samps), np.max(samps), 2)\nx_range = np.max(samps) -np.min(samps)\n#ax.plot(x, (x_range/(2*num_bins))*trials*st.binom.pmf((x+steps)/2, steps, probR, loc=0), 'r-', label='Binomial p.d.f.')\nax.set_ylabel(\"Counts\")\nax.set_xlabel(\"Net Displacement\")\n#ax.legend()\nplt.show()\nplt.close()",
    "id": "4240e595fcc44400a4cca2bcf759a89c",
    "idx": 16,
    "time": "2021-02-09T21:19:04.995Z",
    "type": "execution"
   },
   {
    "id": "6581fa834ff845bda2bd7b916b517e49",
    "time": "2021-02-09T21:19:05.352Z",
    "type": "completion"
   },
   {
    "id": "e04c94c9877b4a3ebdd567ff8fcd8d6b",
    "time": "2021-02-09T21:19:05.366Z",
    "type": "completion"
   },
   {
    "id": "4240e595fcc44400a4cca2bcf759a89c",
    "time": "2021-02-09T21:19:05.710Z",
    "type": "completion"
   },
   {
    "code": "trials = 1000\nsteps = 10000\nprobR = 0.25 #Probability of a +1 (or right) step\nsamps = sampleTrajectories(trials, steps, prob=probR)",
    "id": "ced07cba0d884abc84a6b53db2735f42",
    "idx": 18,
    "time": "2021-02-09T21:25:44.272Z",
    "type": "execution"
   },
   {
    "id": "ced07cba0d884abc84a6b53db2735f42",
    "time": "2021-02-09T21:25:46.915Z",
    "type": "completion"
   },
   {
    "code": "fig, ax = plt.subplots()\n\nnum_bins = 50\nn, bins, patches = ax.hist(samps, num_bins)\nx = np.arange(np.min(samps), np.max(samps), 2)\nx_range = np.max(samps) -np.min(samps)\n#ax.plot(x, (x_range/(2*num_bins))*trials*st.binom.pmf((x+steps)/2, steps, probR, loc=0), 'r-', label='Binomial p.d.f.')\nax.set_ylabel(\"Counts\")\nax.set_xlabel(\"Net Displacement\")\n#ax.legend()\nplt.show()\nplt.close()",
    "id": "f75751c2f68540fb8c613a084305c573",
    "idx": 19,
    "time": "2021-02-09T21:25:48.212Z",
    "type": "execution"
   },
   {
    "id": "f75751c2f68540fb8c613a084305c573",
    "time": "2021-02-09T21:25:48.564Z",
    "type": "completion"
   },
   {
    "code": "fig, ax = plt.subplots()\n\nnum_bins = 50\nn, bins, patches = ax.hist(samps, num_bins)\nx = np.arange(np.min(samps), np.max(samps), 2)\nx_range = np.max(samps) -np.min(samps)\nax.set_ylabel(\"Counts\")\nax.set_xlabel(\"Net Displacement\")\nplt.show()\nplt.close()",
    "id": "4240e595fcc44400a4cca2bcf759a89c",
    "idx": 15,
    "time": "2021-02-09T21:26:51.971Z",
    "type": "execution"
   },
   {
    "id": "4240e595fcc44400a4cca2bcf759a89c",
    "time": "2021-02-09T21:26:52.568Z",
    "type": "completion"
   },
   {
    "code": "trials = 1000\nsteps = 10000\nprobR = 0.5 #Probability of a +1 (or right) step\nsamps = sampleTrajectories(trials, steps, prob=probR)",
    "id": "6581fa834ff845bda2bd7b916b517e49",
    "idx": 14,
    "time": "2021-02-09T21:27:21.137Z",
    "type": "execution"
   },
   {
    "id": "6581fa834ff845bda2bd7b916b517e49",
    "time": "2021-02-09T21:27:23.791Z",
    "type": "completion"
   },
   {
    "code": "fig, ax = plt.subplots()\n\nnum_bins = 50\nn, bins, patches = ax.hist(samps, num_bins)\nx = np.arange(np.min(samps), np.max(samps), 2)\nx_range = np.max(samps) -np.min(samps)\nax.set_ylabel(\"Counts\")\nax.set_xlabel(\"Net Displacement\")\nplt.show()\nplt.close()",
    "id": "4240e595fcc44400a4cca2bcf759a89c",
    "idx": 15,
    "time": "2021-02-09T21:27:23.854Z",
    "type": "execution"
   },
   {
    "id": "4240e595fcc44400a4cca2bcf759a89c",
    "time": "2021-02-09T21:27:24.417Z",
    "type": "completion"
   },
   {
    "code": "trials = 1000\nsteps = 10000\nprobR = 0.25 #Probability of a +1 (or right) step\nsamps = sampleTrajectories(trials, steps, prob=probR)",
    "id": "ced07cba0d884abc84a6b53db2735f42",
    "idx": 18,
    "time": "2021-02-09T21:27:30.004Z",
    "type": "execution"
   },
   {
    "code": "fig, ax = plt.subplots()\n\nnum_bins = 50\nn, bins, patches = ax.hist(samps, num_bins)\nx = np.arange(np.min(samps), np.max(samps), 2)\nx_range = np.max(samps) -np.min(samps)\nax.set_ylabel(\"Counts\")\nax.set_xlabel(\"Net Displacement\")\nplt.show()\nplt.close()",
    "id": "f75751c2f68540fb8c613a084305c573",
    "idx": 19,
    "time": "2021-02-09T21:27:31.245Z",
    "type": "execution"
   },
   {
    "id": "ced07cba0d884abc84a6b53db2735f42",
    "time": "2021-02-09T21:27:32.617Z",
    "type": "completion"
   },
   {
    "id": "f75751c2f68540fb8c613a084305c573",
    "time": "2021-02-09T21:27:32.955Z",
    "type": "completion"
   },
   {
    "code": "print(np.mean(samps))\nprint(np.var(samps))",
    "id": "db4fa23c982c41f8802a604d6f22d1a9",
    "idx": 16,
    "time": "2021-02-09T21:29:16.784Z",
    "type": "execution"
   },
   {
    "id": "db4fa23c982c41f8802a604d6f22d1a9",
    "time": "2021-02-09T21:29:16.857Z",
    "type": "completion"
   },
   {
    "code": "trials = 1000\nsteps = 10000\nprobR = 0.5 #Probability of a +1 (or right) step\nsamps = sampleTrajectories(trials, steps, prob=probR)",
    "id": "6581fa834ff845bda2bd7b916b517e49",
    "idx": 14,
    "time": "2021-02-09T21:29:33.623Z",
    "type": "execution"
   },
   {
    "code": "fig, ax = plt.subplots()\n\nnum_bins = 50\nn, bins, patches = ax.hist(samps, num_bins)\nx = np.arange(np.min(samps), np.max(samps), 2)\nx_range = np.max(samps) -np.min(samps)\nax.set_ylabel(\"Counts\")\nax.set_xlabel(\"Net Displacement\")\nplt.show()\nplt.close()",
    "id": "4240e595fcc44400a4cca2bcf759a89c",
    "idx": 15,
    "time": "2021-02-09T21:29:35.469Z",
    "type": "execution"
   },
   {
    "code": "print(np.mean(samps))\nprint(np.var(samps))",
    "id": "db4fa23c982c41f8802a604d6f22d1a9",
    "idx": 16,
    "time": "2021-02-09T21:29:36.430Z",
    "type": "execution"
   },
   {
    "id": "6581fa834ff845bda2bd7b916b517e49",
    "time": "2021-02-09T21:29:36.491Z",
    "type": "completion"
   },
   {
    "id": "4240e595fcc44400a4cca2bcf759a89c",
    "time": "2021-02-09T21:29:36.865Z",
    "type": "completion"
   },
   {
    "id": "db4fa23c982c41f8802a604d6f22d1a9",
    "time": "2021-02-09T21:29:36.902Z",
    "type": "completion"
   },
   {
    "code": "trials = 1000\nsteps = 10000\nprobR = 0.25 #Probability of a +1 (or right) step\nsamps = sampleTrajectories(trials, steps, prob=probR)",
    "id": "ced07cba0d884abc84a6b53db2735f42",
    "idx": 19,
    "time": "2021-02-09T21:30:25.405Z",
    "type": "execution"
   },
   {
    "code": "fig, ax = plt.subplots()\n\nnum_bins = 50\nn, bins, patches = ax.hist(samps, num_bins)\nx = np.arange(np.min(samps), np.max(samps), 2)\nx_range = np.max(samps) -np.min(samps)\nax.set_ylabel(\"Counts\")\nax.set_xlabel(\"Net Displacement\")\nplt.show()\nplt.close()",
    "id": "f75751c2f68540fb8c613a084305c573",
    "idx": 20,
    "time": "2021-02-09T21:30:27.909Z",
    "type": "execution"
   },
   {
    "id": "ced07cba0d884abc84a6b53db2735f42",
    "time": "2021-02-09T21:30:28.086Z",
    "type": "completion"
   },
   {
    "id": "f75751c2f68540fb8c613a084305c573",
    "time": "2021-02-09T21:30:28.423Z",
    "type": "completion"
   },
   {
    "code": "print(np.mean(samps))\nprint(np.var(samps))",
    "id": "51393f7a139543308cd8010ce390efc6",
    "idx": 21,
    "time": "2021-02-09T21:30:30.656Z",
    "type": "execution"
   },
   {
    "id": "51393f7a139543308cd8010ce390efc6",
    "time": "2021-02-09T21:30:30.727Z",
    "type": "completion"
   },
   {
    "code": "trials = 1000\nsteps = 10000\nprobR = 0.9 #Probability of a +1 (or right) step\nsamps = sampleTrajectories(trials, steps, prob=probR)",
    "id": "ced07cba0d884abc84a6b53db2735f42",
    "idx": 19,
    "time": "2021-02-09T21:30:49.933Z",
    "type": "execution"
   },
   {
    "code": "fig, ax = plt.subplots()\n\nnum_bins = 50\nn, bins, patches = ax.hist(samps, num_bins)\nx = np.arange(np.min(samps), np.max(samps), 2)\nx_range = np.max(samps) -np.min(samps)\nax.set_ylabel(\"Counts\")\nax.set_xlabel(\"Net Displacement\")\nplt.show()\nplt.close()",
    "id": "f75751c2f68540fb8c613a084305c573",
    "idx": 20,
    "time": "2021-02-09T21:30:50.970Z",
    "type": "execution"
   },
   {
    "id": "ced07cba0d884abc84a6b53db2735f42",
    "time": "2021-02-09T21:30:52.809Z",
    "type": "completion"
   },
   {
    "id": "f75751c2f68540fb8c613a084305c573",
    "time": "2021-02-09T21:30:53.211Z",
    "type": "completion"
   },
   {
    "code": "print(np.mean(samps))\nprint(np.var(samps))",
    "id": "51393f7a139543308cd8010ce390efc6",
    "idx": 21,
    "time": "2021-02-09T21:30:54.637Z",
    "type": "execution"
   },
   {
    "id": "51393f7a139543308cd8010ce390efc6",
    "time": "2021-02-09T21:30:54.711Z",
    "type": "completion"
   },
   {
    "code": "trials = 1000\nsteps = 10000\nprobR = 0.99 #Probability of a +1 (or right) step\nsamps = sampleTrajectories(trials, steps, prob=probR)",
    "id": "ced07cba0d884abc84a6b53db2735f42",
    "idx": 19,
    "time": "2021-02-09T21:31:10.120Z",
    "type": "execution"
   },
   {
    "code": "fig, ax = plt.subplots()\n\nnum_bins = 50\nn, bins, patches = ax.hist(samps, num_bins)\nx = np.arange(np.min(samps), np.max(samps), 2)\nx_range = np.max(samps) -np.min(samps)\nax.set_ylabel(\"Counts\")\nax.set_xlabel(\"Net Displacement\")\nplt.show()\nplt.close()",
    "id": "f75751c2f68540fb8c613a084305c573",
    "idx": 20,
    "time": "2021-02-09T21:31:11.774Z",
    "type": "execution"
   },
   {
    "id": "ced07cba0d884abc84a6b53db2735f42",
    "time": "2021-02-09T21:31:12.722Z",
    "type": "completion"
   },
   {
    "id": "f75751c2f68540fb8c613a084305c573",
    "time": "2021-02-09T21:31:13.065Z",
    "type": "completion"
   },
   {
    "code": "print(np.mean(samps))\nprint(np.var(samps))",
    "id": "51393f7a139543308cd8010ce390efc6",
    "idx": 21,
    "time": "2021-02-09T21:31:21.190Z",
    "type": "execution"
   },
   {
    "id": "51393f7a139543308cd8010ce390efc6",
    "time": "2021-02-09T21:31:21.256Z",
    "type": "completion"
   },
   {
    "code": "trials = 1000\nsteps = 10000\nprobR = 0.25 #Probability of a +1 (or right) step\nsamps = sampleTrajectories(trials, steps, prob=probR)",
    "id": "ced07cba0d884abc84a6b53db2735f42",
    "idx": 19,
    "time": "2021-02-09T21:31:33.267Z",
    "type": "execution"
   },
   {
    "code": "fig, ax = plt.subplots()\n\nnum_bins = 50\nn, bins, patches = ax.hist(samps, num_bins)\nx = np.arange(np.min(samps), np.max(samps), 2)\nx_range = np.max(samps) -np.min(samps)\nax.set_ylabel(\"Counts\")\nax.set_xlabel(\"Net Displacement\")\nplt.show()\nplt.close()",
    "id": "f75751c2f68540fb8c613a084305c573",
    "idx": 20,
    "time": "2021-02-09T21:31:34.836Z",
    "type": "execution"
   },
   {
    "id": "ced07cba0d884abc84a6b53db2735f42",
    "time": "2021-02-09T21:31:36.195Z",
    "type": "completion"
   },
   {
    "id": "f75751c2f68540fb8c613a084305c573",
    "time": "2021-02-09T21:31:36.539Z",
    "type": "completion"
   },
   {
    "code": "print(np.mean(samps))\nprint(np.var(samps))",
    "id": "51393f7a139543308cd8010ce390efc6",
    "idx": 21,
    "time": "2021-02-09T21:31:39.082Z",
    "type": "execution"
   },
   {
    "id": "51393f7a139543308cd8010ce390efc6",
    "time": "2021-02-09T21:31:39.142Z",
    "type": "completion"
   },
   {
    "code": "trials = 1000\nsteps = 10000\nprobR = 0.5 #Probability of a +1 (or right) step\nsamps = sampleTrajectories(trials, steps, prob=probR)",
    "id": "708e65b0480b4ec3853729d6a2745bfb",
    "idx": 26,
    "time": "2021-02-09T21:37:53.571Z",
    "type": "execution"
   },
   {
    "id": "708e65b0480b4ec3853729d6a2745bfb",
    "time": "2021-02-09T21:37:56.234Z",
    "type": "completion"
   },
   {
    "code": "fig, ax = plt.subplots()\n\nnum_bins = 50\nn, bins, patches = ax.hist(samps, num_bins)\nx = np.arange(np.min(samps), np.max(samps), 2)\nx_range = np.max(samps) -np.min(samps)\nax.plot(x, (x_range/(2*num_bins))*trials*st.binom.pmf((x+steps)/2, steps, probR, loc=0), 'r-', label='Binomial p.d.f.')\nax.set_ylabel(\"Counts\")\nax.set_xlabel(\"Net Displacement\")\nax.legend()\nplt.show()\nplt.close()",
    "id": "5ab133733459402c8a2e0ef3665c8ba5",
    "idx": 27,
    "time": "2021-02-09T21:38:11.742Z",
    "type": "execution"
   },
   {
    "id": "5ab133733459402c8a2e0ef3665c8ba5",
    "time": "2021-02-09T21:38:14.295Z",
    "type": "completion"
   },
   {
    "code": "fig, ax = plt.subplots()\n\nnum_bins = 50\nn, bins, patches = ax.hist(samps, num_bins)\nx = np.arange(np.min(samps), np.max(samps), 1)\nx_range = np.max(samps) -np.min(samps)\nax.plot(x, (x_range/(2*num_bins))*trials*st.binom.pmf((x+steps)/2, steps, probR, loc=0), 'r-', label='Binomial p.d.f.')\nax.set_ylabel(\"Counts\")\nax.set_xlabel(\"Net Displacement\")\nax.legend()\nplt.show()\nplt.close()",
    "id": "5ab133733459402c8a2e0ef3665c8ba5",
    "idx": 27,
    "time": "2021-02-09T21:49:32.327Z",
    "type": "execution"
   },
   {
    "id": "5ab133733459402c8a2e0ef3665c8ba5",
    "time": "2021-02-09T21:49:32.886Z",
    "type": "completion"
   },
   {
    "code": "fig, ax = plt.subplots()\n\nnum_bins = 50\nn, bins, patches = ax.hist(samps, num_bins)\nx = np.arange(np.min(samps), np.max(samps), 2)\nx_range = np.max(samps) -np.min(samps)\nax.plot(x, (x_range/(2*num_bins))*trials*st.binom.pmf((x+steps)/2, steps, probR, loc=0), 'r-', label='Binomial p.d.f.')\nax.set_ylabel(\"Counts\")\nax.set_xlabel(\"Net Displacement\")\nax.legend()\nplt.show()\nplt.close()",
    "id": "5ab133733459402c8a2e0ef3665c8ba5",
    "idx": 27,
    "time": "2021-02-09T21:49:42.337Z",
    "type": "execution"
   },
   {
    "id": "5ab133733459402c8a2e0ef3665c8ba5",
    "time": "2021-02-09T21:49:42.998Z",
    "type": "completion"
   },
   {
    "code": "fig, ax = plt.subplots()\n\nnum_bins = 50\nn, bins, patches = ax.hist(samps, num_bins)\nx = np.arange(np.min(samps), np.max(samps), 4)\nx_range = np.max(samps) -np.min(samps)\nax.plot(x, (x_range/(2*num_bins))*trials*st.binom.pmf((x+steps)/2, steps, probR, loc=0), 'r-', label='Binomial p.d.f.')\nax.set_ylabel(\"Counts\")\nax.set_xlabel(\"Net Displacement\")\nax.legend()\nplt.show()\nplt.close()",
    "id": "5ab133733459402c8a2e0ef3665c8ba5",
    "idx": 27,
    "time": "2021-02-09T21:49:48.719Z",
    "type": "execution"
   },
   {
    "id": "5ab133733459402c8a2e0ef3665c8ba5",
    "time": "2021-02-09T21:49:49.268Z",
    "type": "completion"
   },
   {
    "code": "fig, ax = plt.subplots()\n\nnum_bins = 50\nn, bins, patches = ax.hist(samps, num_bins)\nx = np.arange(np.min(samps), np.max(samps), 10)\nx_range = np.max(samps) -np.min(samps)\nax.plot(x, (x_range/(2*num_bins))*trials*st.binom.pmf((x+steps)/2, steps, probR, loc=0), 'r-', label='Binomial p.d.f.')\nax.set_ylabel(\"Counts\")\nax.set_xlabel(\"Net Displacement\")\nax.legend()\nplt.show()\nplt.close()",
    "id": "5ab133733459402c8a2e0ef3665c8ba5",
    "idx": 27,
    "time": "2021-02-09T21:49:54.180Z",
    "type": "execution"
   },
   {
    "id": "5ab133733459402c8a2e0ef3665c8ba5",
    "time": "2021-02-09T21:49:54.701Z",
    "type": "completion"
   },
   {
    "code": "fig, ax = plt.subplots()\n\nnum_bins = 50\nn, bins, patches = ax.hist(samps, num_bins)\nx = np.arange(np.min(samps), np.max(samps), 100)\nx_range = np.max(samps) -np.min(samps)\nax.plot(x, (x_range/(2*num_bins))*trials*st.binom.pmf((x+steps)/2, steps, probR, loc=0), 'r-', label='Binomial p.d.f.')\nax.set_ylabel(\"Counts\")\nax.set_xlabel(\"Net Displacement\")\nax.legend()\nplt.show()\nplt.close()",
    "id": "5ab133733459402c8a2e0ef3665c8ba5",
    "idx": 27,
    "time": "2021-02-09T21:49:59.117Z",
    "type": "execution"
   },
   {
    "id": "5ab133733459402c8a2e0ef3665c8ba5",
    "time": "2021-02-09T21:49:59.658Z",
    "type": "completion"
   },
   {
    "code": "fig, ax = plt.subplots()\n\nnum_bins = 50\nn, bins, patches = ax.hist(samps, num_bins)\nx = np.arange(np.min(samps), np.max(samps), 2)\nx_range = np.max(samps) -np.min(samps)\nax.plot(x, (x_range/(2*num_bins))*trials*st.binom.pmf((x+steps)/2, steps, probR, loc=0), 'r-', label='Binomial p.d.f.')\nax.set_ylabel(\"Counts\")\nax.set_xlabel(\"Net Displacement\")\nax.legend()\nplt.show()\nplt.close()",
    "id": "5ab133733459402c8a2e0ef3665c8ba5",
    "idx": 27,
    "time": "2021-02-09T21:50:08.520Z",
    "type": "execution"
   },
   {
    "id": "5ab133733459402c8a2e0ef3665c8ba5",
    "time": "2021-02-09T21:50:09.047Z",
    "type": "completion"
   },
   {
    "code": "#fig, ax = plt.subplots()\n\nnum_bins = 50\nn, bins, patches = ax.hist(samps, num_bins)\nx = np.arange(np.min(samps), np.max(samps), 2)\nx_range = np.max(samps) -np.min(samps)\nax.set_ylabel(\"Counts\")\nax.set_xlabel(\"Net Displacement\")\nplt.show()\nplt.close()",
    "id": "6f989f4a37b64a9086321de997d18729",
    "idx": 15,
    "time": "2021-02-09T21:55:37.635Z",
    "type": "execution"
   },
   {
    "id": "6f989f4a37b64a9086321de997d18729",
    "time": "2021-02-09T21:55:37.769Z",
    "type": "completion"
   },
   {
    "code": "fig, ax = plt.subplots()\n\nnum_bins = 50\nn, bins, patches = ax.hist(samps, num_bins)\nx = np.arange(np.min(samps), np.max(samps), 2)\nx_range = np.max(samps) -np.min(samps)\nax.set_ylabel(\"Counts\")\nax.set_xlabel(\"Net Displacement\")\nplt.show()\nplt.close()",
    "id": "6f989f4a37b64a9086321de997d18729",
    "idx": 15,
    "time": "2021-02-09T21:57:50.642Z",
    "type": "execution"
   },
   {
    "id": "6f989f4a37b64a9086321de997d18729",
    "time": "2021-02-09T21:57:51.231Z",
    "type": "completion"
   },
   {
    "code": "trials = 1000\nsteps = 10000\nprobR = 0.5 #Probability of a +1 (or right) step\nsamps = sampleTrajectories(trials, steps, prob=probR)",
    "id": "6581fa834ff845bda2bd7b916b517e49",
    "idx": 14,
    "time": "2021-02-09T22:00:14.192Z",
    "type": "execution"
   },
   {
    "code": "fig, ax = plt.subplots()\n\nnum_bins = 50\nn, bins, patches = ax.hist(samps, num_bins)\nx = np.arange(np.min(samps), np.max(samps), 2)\nx_range = np.max(samps) -np.min(samps)\nax.set_ylabel(\"Counts\")\nax.set_xlabel(\"Net Displacement\")\nplt.show()\nplt.close()",
    "id": "6f989f4a37b64a9086321de997d18729",
    "idx": 15,
    "time": "2021-02-09T22:00:15.375Z",
    "type": "execution"
   },
   {
    "id": "6581fa834ff845bda2bd7b916b517e49",
    "time": "2021-02-09T22:00:17.851Z",
    "type": "completion"
   },
   {
    "id": "6f989f4a37b64a9086321de997d18729",
    "time": "2021-02-09T22:00:18.567Z",
    "type": "completion"
   },
   {
    "code": "fig, ax = plt.subplots()\n\nnum_bins = 50\nn, bins, patches = ax.hist(samps, num_bins)\nx = np.arange(np.min(samps), np.max(samps), 2)\nx_range = np.max(samps) -np.min(samps)\nax.set_ylabel(\"Counts\")\nax.set_xlabel(\"Net Displacement\")\nplt.show()\nplt.close()",
    "id": "4240e595fcc44400a4cca2bcf759a89c",
    "idx": 17,
    "time": "2021-02-09T22:00:26.420Z",
    "type": "execution"
   },
   {
    "id": "4240e595fcc44400a4cca2bcf759a89c",
    "time": "2021-02-09T22:00:26.953Z",
    "type": "completion"
   },
   {
    "code": "#Solution\nseq = np.random.choice([-1,1], size=10000)\nprint(np.sum(seq))\nprint(np.mean(seq))",
    "id": "3597991278e645578ba09ba30c098776",
    "idx": 6,
    "time": "2021-02-10T01:18:18.499Z",
    "type": "execution"
   },
   {
    "id": "3597991278e645578ba09ba30c098776",
    "time": "2021-02-10T01:18:18.644Z",
    "type": "completion"
   },
   {
    "code": "import numpy as np\nimport scipy.stats as st\nimport matplotlib.pyplot as plt",
    "id": "bf6f0cfbb228466f8b153b6f36ba116e",
    "idx": 3,
    "time": "2021-02-10T01:18:25.814Z",
    "type": "execution"
   },
   {
    "id": "bf6f0cfbb228466f8b153b6f36ba116e",
    "time": "2021-02-10T01:18:26.832Z",
    "type": "completion"
   },
   {
    "code": "#Solution\nseq = np.random.choice([-1,1], size=10000)\nprint(np.sum(seq))\nprint(np.mean(seq))",
    "id": "3597991278e645578ba09ba30c098776",
    "idx": 6,
    "time": "2021-02-10T01:18:28.468Z",
    "type": "execution"
   },
   {
    "id": "3597991278e645578ba09ba30c098776",
    "time": "2021-02-10T01:18:30.535Z",
    "type": "completion"
   },
   {
    "code": "#c) Solution\n#Function that samples M number of trajectories, with N number of steps per trial\n#Inputs: Number of trials, number of steps per trial\n#Outputs: List of locations (integers) where the random walker stops at the end of all N steps of each trial\ndef sampleTrajectories(num_trials, num_steps, prob=0.5):\n    vals = np.zeros(num_trials, dtype=int)\n    for i in range(num_trials):\n        vals[i] = sum(np.random.choice([-1,1], p=[1-prob, prob], size=num_steps))\n    return vals",
    "id": "9b2041e073f2451d8e2ca1c4479820a6",
    "idx": 12,
    "time": "2021-02-10T01:33:55.924Z",
    "type": "execution"
   },
   {
    "id": "9b2041e073f2451d8e2ca1c4479820a6",
    "time": "2021-02-10T01:33:55.983Z",
    "type": "completion"
   },
   {
    "code": "#c) Solution",
    "id": "e612b77baa124c1483d8a019483e9c1e",
    "idx": 11,
    "time": "2021-02-10T01:34:17.985Z",
    "type": "execution"
   },
   {
    "id": "e612b77baa124c1483d8a019483e9c1e",
    "time": "2021-02-10T01:34:18.046Z",
    "type": "completion"
   },
   {
    "code": "#c) Solution\n#Function that samples M number of trajectories, with N number of steps per trial\n#Inputs: Number of trials, number of steps per trial\n#Outputs: List of locations (integers) where the random walker stops at the end of all N steps of each trial\ndef sampleTrajectories(num_trials, num_steps, prob=0.5):\n    vals = np.zeros(num_trials, dtype=int)\n    for i in range(num_trials):\n        vals[i] = sum(np.random.choice([-1,1], p=[1-prob, prob], size=num_steps))\n    return vals",
    "id": "9b2041e073f2451d8e2ca1c4479820a6",
    "idx": 12,
    "time": "2021-02-10T01:34:18.918Z",
    "type": "execution"
   },
   {
    "id": "9b2041e073f2451d8e2ca1c4479820a6",
    "time": "2021-02-10T01:34:18.977Z",
    "type": "completion"
   },
   {
    "code": "#c) Solution\n#Function that samples M number of trajectories, with N number of steps per trial\n#Inputs: Number of trials, number of steps per trial\n#Outputs: List of locations (integers) where the random walker stops at the end of all N steps of each trial\ndef Trajectories(num_trials, num_steps, prob=0.5):\n    vals = np.zeros(num_trials, dtype=int)\n    for i in range(num_trials):\n        vals[i] = sum(np.random.choice([-1,1], p=[1-prob, prob], size=num_steps))\n    return vals",
    "id": "9b2041e073f2451d8e2ca1c4479820a6",
    "idx": 12,
    "time": "2021-02-10T01:35:38.584Z",
    "type": "execution"
   },
   {
    "id": "9b2041e073f2451d8e2ca1c4479820a6",
    "time": "2021-02-10T01:35:38.680Z",
    "type": "completion"
   },
   {
    "code": "print(np.mean(samps))\nprint(np.var(samps))",
    "id": "db4fa23c982c41f8802a604d6f22d1a9",
    "idx": 19,
    "time": "2021-02-10T01:36:41.818Z",
    "type": "execution"
   },
   {
    "id": "db4fa23c982c41f8802a604d6f22d1a9",
    "time": "2021-02-10T01:36:41.952Z",
    "type": "completion"
   },
   {
    "code": "#d) Solution\ntrials = 1000\nsteps = 10000\nprobR = 0.5 #Probability of a +1 (or right) step\nsamps = Trajectories(trials, steps, prob=probR)",
    "id": "6581fa834ff845bda2bd7b916b517e49",
    "idx": 15,
    "time": "2021-02-10T01:36:49.076Z",
    "type": "execution"
   },
   {
    "code": "fig, ax = plt.subplots()\nnum_bins = 50\nn, bins, patches = ax.hist(samps, num_bins)\nx = np.arange(np.min(samps), np.max(samps), 2)\nx_range = np.max(samps) -np.min(samps)\nax.set_ylabel(\"Counts\")\nax.set_xlabel(\"Net Displacement\")\nplt.show()\nplt.close()",
    "id": "6f989f4a37b64a9086321de997d18729",
    "idx": 16,
    "time": "2021-02-10T01:36:50.112Z",
    "type": "execution"
   },
   {
    "id": "6581fa834ff845bda2bd7b916b517e49",
    "time": "2021-02-10T01:36:51.604Z",
    "type": "completion"
   },
   {
    "id": "6f989f4a37b64a9086321de997d18729",
    "time": "2021-02-10T01:36:51.954Z",
    "type": "completion"
   },
   {
    "code": "#e) Solution",
    "id": "396b58269ef04955b9fc7572439ac22e",
    "idx": 18,
    "time": "2021-02-10T01:37:42.104Z",
    "type": "execution"
   },
   {
    "id": "396b58269ef04955b9fc7572439ac22e",
    "time": "2021-02-10T01:37:42.167Z",
    "type": "completion"
   },
   {
    "code": "#e) Solution\nprint(np.mean(samps))\nprint(np.var(samps))",
    "id": "db4fa23c982c41f8802a604d6f22d1a9",
    "idx": 19,
    "time": "2021-02-10T01:37:43.097Z",
    "type": "execution"
   },
   {
    "id": "db4fa23c982c41f8802a604d6f22d1a9",
    "time": "2021-02-10T01:37:43.168Z",
    "type": "completion"
   },
   {
    "code": "#f) Solution\ntrials = 1000\nsteps = 10000\nprobR = 0.25 #Probability of a +1 (or right) step\nsamps = sampleTrajectories(trials, steps, prob=probR)",
    "id": "b6197f0fc1414250a410c675355afc36",
    "idx": 22,
    "time": "2021-02-10T01:38:55.463Z",
    "type": "execution"
   },
   {
    "code": "fig, ax = plt.subplots()\nnum_bins = 50\nn, bins, patches = ax.hist(samps, num_bins)\nx = np.arange(np.min(samps), np.max(samps), 2)\nx_range = np.max(samps) -np.min(samps)\nax.set_ylabel(\"Counts\")\nax.set_xlabel(\"Net Displacement\")\nplt.show()\nplt.close()",
    "id": "f75751c2f68540fb8c613a084305c573",
    "idx": 23,
    "time": "2021-02-10T01:38:56.965Z",
    "type": "execution"
   },
   {
    "id": "b6197f0fc1414250a410c675355afc36",
    "time": "2021-02-10T01:38:58.282Z",
    "type": "completion"
   },
   {
    "id": "f75751c2f68540fb8c613a084305c573",
    "time": "2021-02-10T01:38:58.620Z",
    "type": "completion"
   },
   {
    "code": "print(np.mean(samps))\nprint(np.var(samps))",
    "id": "51393f7a139543308cd8010ce390efc6",
    "idx": 24,
    "time": "2021-02-10T01:38:59.637Z",
    "type": "execution"
   },
   {
    "id": "51393f7a139543308cd8010ce390efc6",
    "time": "2021-02-10T01:38:59.697Z",
    "type": "completion"
   },
   {
    "code": "#a) Solution\nprint(\"hello world\")",
    "id": "75d649ec511f4b6d8a411c5b558473ad",
    "idx": 5,
    "time": "2021-02-12T00:14:31.492Z",
    "type": "execution"
   },
   {
    "code": "#b) Solution\nprint(2)",
    "id": "421eacb2442a473d9e2f3a7fb8de0756",
    "idx": 7,
    "time": "2021-02-14T18:05:15.341Z",
    "type": "execution"
   },
   {
    "id": "421eacb2442a473d9e2f3a7fb8de0756",
    "time": "2021-02-14T18:05:15.597Z",
    "type": "completion"
   }
  ],
  "kernelspec": {
   "display_name": "Python 3",
   "language": "python",
   "name": "python3"
  },
  "language_info": {
   "codemirror_mode": {
    "name": "ipython",
    "version": 3
   },
   "file_extension": ".py",
   "mimetype": "text/x-python",
   "name": "python",
   "nbconvert_exporter": "python",
   "pygments_lexer": "ipython3",
   "version": "3.8.5-final"
  }
 },
 "nbformat": 4,
 "nbformat_minor": 2
}